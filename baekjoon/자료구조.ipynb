{
 "cells": [
  {
   "cell_type": "markdown",
   "metadata": {},
   "source": [
    "## 기본 자료구조 - 기초 문제풀이"
   ]
  },
  {
   "cell_type": "markdown",
   "metadata": {},
   "source": [
    "문제 제목: 음계\n",
    "\n",
    "문제 난이도: 하\n",
    "\n",
    "문제유형: 배열, 구현\n",
    "\n",
    "https://www.acmicpc.net/problem/2920"
   ]
  },
  {
   "cell_type": "code",
   "execution_count": 1,
   "metadata": {},
   "outputs": [
    {
     "name": "stdout",
     "output_type": "stream",
     "text": [
      "1 2 3 4 5 6 7 8\n",
      "ascending\n"
     ]
    }
   ],
   "source": [
    "#내 풀이\n",
    "data = list(map(int, input().split(\" \")))\n",
    "ascending_data = sorted(data)\n",
    "descending_data = sorted(data, reverse = True)\n",
    "if data == ascending_data:\n",
    "    print(\"ascending\")\n",
    "elif data == descending_data:\n",
    "    print(\"descending\")\n",
    "else:\n",
    "    print(\"mixed\")"
   ]
  },
  {
   "cell_type": "code",
   "execution_count": null,
   "metadata": {},
   "outputs": [],
   "source": [
    "#강사 풀이\n",
    "a = list(map(int, input().split(\" \")))\n",
    "\n",
    "ascending = True\n",
    "descending = True\n",
    "\n",
    "for i in range(1,8):\n",
    "    if a[i] > a[i-1]:\n",
    "        descending = False\n",
    "    elif a[i] < a[i-1]:\n",
    "        ascending = False\n",
    "\n",
    "if ascending:\n",
    "    print(\"ascending\")\n",
    "elif descending:\n",
    "    print(\"descending\")\n",
    "else:\n",
    "    print(\"mixed\")"
   ]
  },
  {
   "cell_type": "markdown",
   "metadata": {},
   "source": [
    "문제 제목: 블랙잭\n",
    "\n",
    "문제 난이도: 하\n",
    "\n",
    "문제유형: 배열, 완전탐색\n",
    "\n",
    "https://www.acmicpc.net/problem/2798"
   ]
  },
  {
   "cell_type": "code",
   "execution_count": 2,
   "metadata": {},
   "outputs": [
    {
     "name": "stdout",
     "output_type": "stream",
     "text": [
      "5 21\n",
      "5 6 7 8 9\n",
      "21\n"
     ]
    }
   ],
   "source": [
    "#내 풀이\n",
    "import itertools\n",
    "\n",
    "n,m = list(map(int, input().split(\" \")))\n",
    "data = list(map(int, input().split(\" \")))\n",
    "comb = list(itertools.combinations(data, 3))\n",
    "comb = sorted([sum(i) for i in comb])\n",
    "\n",
    "result = []\n",
    "for item in comb:\n",
    "    if item <= m :\n",
    "        result.append(item)\n",
    "\n",
    "print(max(result))"
   ]
  },
  {
   "cell_type": "code",
   "execution_count": null,
   "metadata": {},
   "outputs": [],
   "source": [
    "#강사 풀이\n",
    "n,m = list(map(int, input().split(\" \")))\n",
    "data = list(map(int, input().split(\" \")))\n",
    "\n",
    "result = 0\n",
    "for i in range(len(data)):\n",
    "    for j in range(i+1,len(data)):\n",
    "        for k in range(j+1, len(data)):\n",
    "            sum_value = data[i] + data[j] + data[k]\n",
    "            if sum_value <= m:\n",
    "                result = max(result, sum_value)\n",
    "print(result)"
   ]
  },
  {
   "cell_type": "markdown",
   "metadata": {},
   "source": [
    "## 기본 자료구조 - 핵심 유형 문제풀이"
   ]
  },
  {
   "cell_type": "markdown",
   "metadata": {},
   "source": [
    "문제 제목: 스택 수열\n",
    "\n",
    "문제 난이도: 하\n",
    "\n",
    "문제유형: 스택, 그리디\n",
    "\n",
    "https://www.acmicpc.net/problem/1874"
   ]
  },
  {
   "cell_type": "code",
   "execution_count": null,
   "metadata": {},
   "outputs": [],
   "source": [
    "#강사 풀이\n",
    "n = int(input())\n",
    "\n",
    "count = 1\n",
    "stack = []\n",
    "result = []\n",
    "\n",
    "for i in range(1, n+1):\n",
    "    data = int(input())\n",
    "    while count <= data:\n",
    "        stack.append(count)\n",
    "        result.append(\"+\")\n",
    "        count += 1\n",
    "    if stack[-1] == data:\n",
    "        stack.pop()\n",
    "        result.append('-')\n",
    "    else:\n",
    "        print(\"No\")\n",
    "        exit(0)\n",
    "        \n",
    "print('\\n'.join(result))"
   ]
  },
  {
   "cell_type": "markdown",
   "metadata": {},
   "source": [
    "문제 제목: 프린터 큐\n",
    "\n",
    "문제 난이도: 하\n",
    "\n",
    "문제유형: 큐, 구현, 그리디\n",
    "\n",
    "https://www.acmicpc.net/problem/1966"
   ]
  },
  {
   "cell_type": "code",
   "execution_count": null,
   "metadata": {},
   "outputs": [],
   "source": [
    "# 내 풀이\n",
    "test_case = int(input())\n",
    "for i in range(test_case):\n",
    "    n,m = list(map(int,input().split(' ')))\n",
    "    data = list(map(int,input().split(' ')))\n",
    "    index = [i for i in range(len(data))]\n",
    "    data = list(zip(data,index))\n",
    "    count = 0\n",
    "    to_pop = data[m]\n",
    "\n",
    "    while data:\n",
    "        check = data[0][0]\n",
    "        if check == max(data)[0]:\n",
    "            popped = data.pop(0)\n",
    "            count += 1\n",
    "            if popped == to_pop:\n",
    "                print(count)\n",
    "                break\n",
    "        else:\n",
    "            popped = data.pop(0)\n",
    "            data.append(popped)\n"
   ]
  },
  {
   "cell_type": "code",
   "execution_count": null,
   "metadata": {},
   "outputs": [],
   "source": [
    "# 강사 풀이\n",
    "\n",
    "test_case = int(input())\n",
    "for _ in range(test_case):\n",
    "    n,m = list(map(int, input().split(' ')))\n",
    "    queue = list(map(int, input().split(' ')))\n",
    "    queue = [(i,idx) for idx, i in enumerate(queue)]\n",
    "    \n",
    "    count = 0\n",
    "    while True:\n",
    "        if queue[0][0] == max(queue, key=lambda x: x[0])[0]:\n",
    "            count+=1\n",
    "            if queue[0][1] == m:\n",
    "                print(count)\n",
    "                break\n",
    "            else:\n",
    "                queue.pop(0)\n",
    "        else:\n",
    "            queue.append(queue.pop(0))"
   ]
  },
  {
   "cell_type": "markdown",
   "metadata": {},
   "source": [
    "문제 제목: 키로거\n",
    "\n",
    "문제 난이도: 중\n",
    "\n",
    "문제유형: 스택, 구현, 그리디\n",
    "\n",
    "https://www.acmicpc.net/problem/5397"
   ]
  },
  {
   "cell_type": "code",
   "execution_count": null,
   "metadata": {},
   "outputs": [],
   "source": [
    "#강사 풀이\n",
    "\n",
    "test_case = int(input())\n",
    "for _ in range(test_case):\n",
    "    left_stack = []\n",
    "    right_stack = []\n",
    "    data = input()\n",
    "    for i in data:\n",
    "        if i == '-':\n",
    "            if left_stack:\n",
    "                left_stack.pop()\n",
    "        elif i == '<':\n",
    "            if left_stack:\n",
    "                right_stack.append(left_stack.pop())\n",
    "        elif i == '>':\n",
    "            if right_stack:\n",
    "                left_stack.append(right_stack.pop())\n",
    "        else:\n",
    "            left_stack.append(i)\n",
    "    left_stack.extend(reversed(right_stack))\n",
    "    print(''.join(left_stack))"
   ]
  },
  {
   "cell_type": "markdown",
   "metadata": {},
   "source": [
    "## 고급 자료구조 - 핵심 유형 문제풀이"
   ]
  },
  {
   "cell_type": "markdown",
   "metadata": {},
   "source": [
    "문제 제목: SHA 256\n",
    "\n",
    "문제 난이도: 하\n",
    "\n",
    "문제유형: 해시, 구현\n",
    "\n",
    "https://www.acmicpc.net/problem/10930"
   ]
  },
  {
   "cell_type": "code",
   "execution_count": null,
   "metadata": {},
   "outputs": [],
   "source": [
    "#내 풀이\n",
    "import hashlib\n",
    "s = str(input())\n",
    "result = hashlib.sha256(s.encode())\n",
    "print(result.hexdigest())"
   ]
  },
  {
   "cell_type": "code",
   "execution_count": null,
   "metadata": {},
   "outputs": [],
   "source": [
    "#강사 풀이\n",
    "import hashlib\n",
    "input_data = input()\n",
    "encoded_data = input_data.encode()\n",
    "result = hashlib.sha256(encoded_data).hexdigest()\n",
    "print(result)"
   ]
  },
  {
   "cell_type": "markdown",
   "metadata": {},
   "source": [
    "문제 제목: 수 찾기\n",
    "\n",
    "문제 난이도: 하\n",
    "\n",
    "문제유형: 해시, 배열, 구현\n",
    "\n",
    "https://www.acmicpc.net/problem/1920"
   ]
  },
  {
   "cell_type": "code",
   "execution_count": null,
   "metadata": {},
   "outputs": [],
   "source": [
    "#내 풀이\n",
    "# 시간이 초과됨\n",
    "n = int(input())\n",
    "n_list = list(map(int, input().split(\" \")))\n",
    "n_list.sort()\n",
    "m = int(input())\n",
    "m_list = list(map(int, input().split(\" \")))\n",
    "\n",
    "def binary_search(data, search):\n",
    "    if len(data) == 1 and search == data[0]:\n",
    "        return 1\n",
    "    if len(data) == 1 and search != data[0]:\n",
    "        return 0\n",
    "    if len(data) == 0:\n",
    "        return 0\n",
    "    \n",
    "    medium = len(data) // 2\n",
    "    if search == data[medium]:\n",
    "        return 1\n",
    "    else:\n",
    "        if search > data[medium]:\n",
    "            return binary_search(data[medium+1:], search)\n",
    "        else:\n",
    "            return binary_search(data[:medium], search)\n",
    "\n",
    "for i in m_list:\n",
    "    print(binary_search(n_list,i))"
   ]
  },
  {
   "cell_type": "code",
   "execution_count": null,
   "metadata": {},
   "outputs": [],
   "source": [
    "#강사 풀이\n",
    "# set으로 바꾸면, 원소들이 중복되지 않고 한번씩 들어감. hash를 기본적으로 따름\n",
    "# 어떤 원소가 포함되어 있는지 확인하면 매우 빠르게 여부를 알려줌\n",
    "n = int(input())\n",
    "n_list = set(map(int, input().split(\" \")))\n",
    "m = int(input())\n",
    "m_list = list(map(int, input().split(\" \")))\n",
    "\n",
    "for i in m_list:\n",
    "    if i not in n_list:\n",
    "        print(0)\n",
    "    else:\n",
    "        print(1)"
   ]
  },
  {
   "cell_type": "markdown",
   "metadata": {},
   "source": [
    "문제 제목: 친구네트워크\n",
    "\n",
    "문제 난이도: 중\n",
    "\n",
    "문제유형: 해시, 집합, 그래프\n",
    "\n",
    "https://www.acmicpc.net/problem/4195"
   ]
  },
  {
   "cell_type": "code",
   "execution_count": null,
   "metadata": {},
   "outputs": [],
   "source": [
    "# 내풀이 - 시간초과\n",
    "test_case = int(input())\n",
    "for _ in range(test_case):\n",
    "    n = int(input())\n",
    "    first_data = list(map(str, input().split(\" \")))\n",
    "    print(len(first_data))\n",
    "    for i in range(n-1):\n",
    "        data = list(map(str, input().split(\" \")))\n",
    "        if set(first_data) & set(data):\n",
    "            merged = list(set(first_data + data))\n",
    "            print(len(merged))\n",
    "        else:\n",
    "            merged = list(set(first_data + data))\n",
    "            print(len(first_data))\n",
    "        first_data = merged"
   ]
  },
  {
   "cell_type": "code",
   "execution_count": null,
   "metadata": {},
   "outputs": [],
   "source": [
    "#강사 풀이 - 아... 어렵다 ㅠ Union Find 알고리즘\n",
    "def find(x):\n",
    "    if x == parent[x]:\n",
    "        return x\n",
    "    else:\n",
    "        p = find(parent[x])\n",
    "        parent[x] = p\n",
    "        return parent[x]\n",
    "\n",
    "def union(x, y):\n",
    "    x = find(x)\n",
    "    y = find(y)\n",
    "    \n",
    "    if x != y:\n",
    "        parent[y] = x\n",
    "        number[x] += number[y]\n",
    "\n",
    "        \n",
    "test_case = int(input())\n",
    "for _ in range(test_case):\n",
    "    parent = dict()\n",
    "    number = dict()\n",
    "    \n",
    "    n = int(input())\n",
    "    for _ in range(n):\n",
    "        x, y = input().split(' ')\n",
    "        if x not in parent:\n",
    "            parent[x] = x\n",
    "            number[x] = 1\n",
    "        if y not in parent:\n",
    "            parent[y] = y\n",
    "            number[y] = 1\n",
    "    \n",
    "        union(x,y)\n",
    "        print(parent)\n",
    "        print(number[find(x)])"
   ]
  }
 ],
 "metadata": {
  "kernelspec": {
   "display_name": "Python 3",
   "language": "python",
   "name": "python3"
  },
  "language_info": {
   "codemirror_mode": {
    "name": "ipython",
    "version": 3
   },
   "file_extension": ".py",
   "mimetype": "text/x-python",
   "name": "python",
   "nbconvert_exporter": "python",
   "pygments_lexer": "ipython3",
   "version": "3.7.4"
  }
 },
 "nbformat": 4,
 "nbformat_minor": 2
}
