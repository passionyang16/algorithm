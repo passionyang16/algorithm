{
 "cells": [
  {
   "cell_type": "markdown",
   "metadata": {},
   "source": [
    "## 동적 프로그래밍 - 기초 문제풀이"
   ]
  },
  {
   "cell_type": "markdown",
   "metadata": {},
   "source": [
    "문제 제목: 01타일\n",
    "\n",
    "문제 난이도: 하\n",
    "\n",
    "문제유형: 동적프로그래밍\n",
    "    \n",
    "https://www.acmicpc.net/problem/1904"
   ]
  },
  {
   "cell_type": "markdown",
   "metadata": {},
   "source": [
    "동적 프로그래밍 - 한 번 계산한 값은 다시 구현하지 않는다\n",
    "\n",
    "점화식(인접한 항들 사이의 관계식)을 세워야 함\n",
    "\n",
    "d[i]= '수열의 길이가 i일 때의 경우의 수' \n",
    "\n",
    "d[i] = d[i-1] + d[i-2]\n"
   ]
  },
  {
   "cell_type": "code",
   "execution_count": null,
   "metadata": {},
   "outputs": [],
   "source": [
    "#내 풀이 -- 모르겠다..\n",
    "import itertools\n",
    "data = ['00','1','1']\n",
    "nPr = itertools.permutations(data, len(data))\n",
    "print(set(nPr))"
   ]
  },
  {
   "cell_type": "code",
   "execution_count": null,
   "metadata": {},
   "outputs": [],
   "source": [
    "#강사 풀이 - 피보나치랑 동일\n",
    "n = int(input())\n",
    "dp = [0] * 1000001\n",
    "dp[1] = 1\n",
    "dp[2] = 2\n",
    "\n",
    "for i in range(3, n+1):\n",
    "    dp[i] = (dp[i-2] + dp[i-1]) % 15746\n",
    "\n",
    "print(dp[n])"
   ]
  },
  {
   "cell_type": "markdown",
   "metadata": {},
   "source": [
    "문제 제목: 평범한 배낭\n",
    "\n",
    "문제 난이도: 하\n",
    "\n",
    "문제유형: 동적프로그래밍\n",
    "    \n",
    "https://www.acmicpc.net/problem/12865"
   ]
  },
  {
   "cell_type": "markdown",
   "metadata": {},
   "source": [
    "knapsack problem\n",
    "\n",
    "복잡도 O(NK)\n",
    "\n",
    "모든 무게에 대하여 최대가치를 저장하기\n",
    "\n",
    "D[i][j] = 배낭에 넣은 물품의 무게 합이 j일 때 얻을 수 있는 최대 가치\n"
   ]
  },
  {
   "cell_type": "code",
   "execution_count": null,
   "metadata": {},
   "outputs": [],
   "source": [
    "#강사 풀이\n",
    "n, k = map(int,input().split(' '))\n",
    "#2차원 배열 만들기\n",
    "dp = [[0] * (k+1) for _ in range(n+1)]\n",
    "for i in range(1, n+1):\n",
    "    weight, value = map(int,input().split(' '))\n",
    "    for j in range(1, k+1):\n",
    "        #현재 무게가 들어오는 무게보다 작은 경우\n",
    "        if j < weight:\n",
    "            dp[i][j] = dp[i-1][j]\n",
    "        #현재 무게가 들어오는 무게보다 같거나 큰 경우\n",
    "        else:\n",
    "            #이전 행에 있는 값과, ((현재 무게 - 들어오는 무게)의 가치) + 현재 무게 가치\n",
    "            dp[i][j] = max(dp[i-1][j], dp[i-1][j-weight] + value)\n",
    "\n",
    "print(dp[n][k])"
   ]
  },
  {
   "cell_type": "markdown",
   "metadata": {},
   "source": [
    "문제 제목: 가장 긴 증가하는 부분 수열\n",
    "\n",
    "문제 난이도: 하\n",
    "\n",
    "문제유형: 동적프로그래밍, LIS\n",
    "    \n",
    "https://www.acmicpc.net/problem/11053"
   ]
  },
  {
   "cell_type": "code",
   "execution_count": null,
   "metadata": {},
   "outputs": [],
   "source": [
    "#내 풀이 - 왜 에러냐\n",
    "\n",
    "n = int(input())\n",
    "array = list(map(int, input().split()))\n",
    "\n",
    "\n",
    "result = []\n",
    "for i in range(len(array)):\n",
    "    value = array[i]\n",
    "    count = 1\n",
    "    for j in range(i, len(array)):\n",
    "        if value < array[j]:\n",
    "            value = array[j]\n",
    "            count += 1\n",
    "        else:\n",
    "            continue\n",
    "    result.append(count)\n",
    "\n",
    "print(max(result))"
   ]
  },
  {
   "cell_type": "markdown",
   "metadata": {},
   "source": [
    "D[i] = array[i]를 마지막 원소로 가지는 부분 수열의 최대 길이"
   ]
  },
  {
   "cell_type": "code",
   "execution_count": null,
   "metadata": {},
   "outputs": [],
   "source": [
    "#강사 풀이\n",
    "n = int(input())\n",
    "array = list(map(int, input().split()))\n",
    "dp = [1]*n\n",
    "\n",
    "for i in range(1,n):\n",
    "    for j in range(0,i):\n",
    "        if array[j] < array[i]:\n",
    "            dp[i] = max(dp[i], dp[j] + 1)\n",
    "\n",
    "print(max(dp))"
   ]
  },
  {
   "cell_type": "markdown",
   "metadata": {},
   "source": [
    "## 동적 프로그래밍 - 핵심 유형 문제풀이"
   ]
  },
  {
   "cell_type": "markdown",
   "metadata": {},
   "source": [
    "문제 제목: LCS\n",
    "\n",
    "문제 난이도: 하\n",
    "\n",
    "문제유형: 동적프로그래밍, LCS\n",
    "    \n",
    "https://www.acmicpc.net/problem/9251"
   ]
  },
  {
   "cell_type": "markdown",
   "metadata": {},
   "source": [
    "D[i][j] = D[i-1][j-1] +1 if X[i] = Y[j]\n",
    "        = max(D[i][j-1],D[i-1][j]) if X[i] != Y[j]"
   ]
  },
  {
   "cell_type": "code",
   "execution_count": null,
   "metadata": {},
   "outputs": [],
   "source": [
    "#강사 풀이... (나 못품.. ㅠ)\n",
    "x = input()\n",
    "y = input()\n",
    "dp = [[0] * (len(y)+1) for _ in range(len(x)+1)]\n",
    "for i in range(1, len(x)+1):\n",
    "    for j in range(1, len(y)+1):\n",
    "        if x[i-1] == y[j-1]:\n",
    "            dp[i][j] = dp[i-1][j-1] +1\n",
    "        else:\n",
    "            dp[i][j] = max(dp[i][j-1], dp[i-1][j])\n",
    "\n",
    "print(dp[len(x)][len(y)])"
   ]
  },
  {
   "cell_type": "markdown",
   "metadata": {},
   "source": [
    "문제 제목: 기타리스트\n",
    "\n",
    "문제 난이도: 중\n",
    "\n",
    "문제유형: 동적프로그래밍\n",
    "    \n",
    "https://www.acmicpc.net/problem/1495"
   ]
  },
  {
   "cell_type": "markdown",
   "metadata": {},
   "source": [
    "핵심: 모든 볼륨에 대하여 연주 가능 여부를 계산하기\n",
    "\n",
    "d[i][j+1] = i번째 노래일때 j 크기의 볼륨으로 연주 가능한지 여부\n",
    "\n",
    "d[i][j-V[i]] = True if D[i-1][j] = True\n",
    "\n",
    "d[i][j+V[i]] = True if D[i-1][j] = True"
   ]
  },
  {
   "cell_type": "code",
   "execution_count": null,
   "metadata": {},
   "outputs": [],
   "source": [
    "n, s, m = map(int, input().split())\n",
    "array = list(map(int, input().split()))\n",
    "\n",
    "dp = [[0] * (m+1) for _ in range(n+1)]\n",
    "dp[0][s] = 1\n",
    "\n",
    "for i in range(1, n+1):\n",
    "    for j in range(m+1):\n",
    "        if dp[i-1][j] == 0:\n",
    "            continue\n",
    "        if j - array[i-1] >= 0:\n",
    "            dp[i][j-array[i-1]] = 1\n",
    "        if j + array[i-1] <= m:\n",
    "            dp[i][j+array[i-1]] = 1\n",
    "\n",
    "result = -1\n",
    "for i in range(m,-1,-1):\n",
    "    if dp[n][i] == 1:\n",
    "        result = i\n",
    "        break\n",
    "\n",
    "print(result)"
   ]
  },
  {
   "cell_type": "markdown",
   "metadata": {},
   "source": [
    "문제 제목: 가장 높은 탑 쌓기\n",
    "\n",
    "문제 난이도: 상\n",
    "\n",
    "문제유형: 동적프로그래밍, LIS\n",
    "    \n",
    "https://www.acmicpc.net/problem/2655"
   ]
  },
  {
   "cell_type": "markdown",
   "metadata": {},
   "source": [
    "가장 먼저 벽돌을 무게 기준으로 정렬합니다.\n",
    "\n",
    "D[i] = 인덱스가 i인 벽돌을 가장 아래에 두었을 때의 최대 높이\n",
    "\n",
    "각 벽돌에 대해서 확인하여 D[i]를 갱신합니다\n",
    "\n",
    "모든 0 <= j < i 에 대해서, D[i] = max(D[i], D[j]+height[i]) if area[i] > area[j]"
   ]
  },
  {
   "cell_type": "code",
   "execution_count": null,
   "metadata": {},
   "outputs": [],
   "source": [
    "#강사 풀이 -- 이건 그래도 할만..ㅠ\n",
    "n = int(input())\n",
    "array = []\n",
    "\n",
    "array.append((0,0,0,0))\n",
    "for i in range(1, n+1):\n",
    "    area, height, weight = map(int, input().split())\n",
    "    array.append((i, area, height, weight))\n",
    "\n",
    "array.sort(key=lambda data:data[3])\n",
    "\n",
    "dp = [0] * (n+1)\n",
    "\n",
    "for i in range(1, n+1):\n",
    "    for j in range(0,i):\n",
    "        #1이 area 이기 때문에 벽돌의 area가 크면\n",
    "        if array[i][1] > array[j][1]:\n",
    "            #2는 height이기 때문에 큰 값을 더한다\n",
    "            dp[i] = max(dp[i], dp[j] + array[i][2])\n",
    "\n",
    "max_value = max(dp)\n",
    "index = n\n",
    "result = []\n",
    "while index != 0:\n",
    "    if max_value == dp[index]:\n",
    "        #0은 index이기 때문에 가장 큰 것부터 뽑는다\n",
    "        result.append(array[index][0])\n",
    "        max_value -= array[index][2]\n",
    "    index -= 1\n",
    "\n",
    "result.reverse()\n",
    "print(len(result))\n",
    "[print(i) for i in result]"
   ]
  }
 ],
 "metadata": {
  "kernelspec": {
   "display_name": "Python 3",
   "language": "python",
   "name": "python3"
  },
  "language_info": {
   "codemirror_mode": {
    "name": "ipython",
    "version": 3
   },
   "file_extension": ".py",
   "mimetype": "text/x-python",
   "name": "python",
   "nbconvert_exporter": "python",
   "pygments_lexer": "ipython3",
   "version": "3.7.4"
  }
 },
 "nbformat": 4,
 "nbformat_minor": 2
}
