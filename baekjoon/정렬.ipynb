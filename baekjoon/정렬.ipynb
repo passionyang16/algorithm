{
 "cells": [
  {
   "cell_type": "markdown",
   "metadata": {},
   "source": [
    "## 기본 정렬 알고리즘 - 기초 문제풀이"
   ]
  },
  {
   "cell_type": "markdown",
   "metadata": {},
   "source": [
    "문제 제목: 수 정렬하기\n",
    "\n",
    "문제 난이도: 하\n",
    "\n",
    "문제유형: 정렬\n",
    "\n",
    "https://www.acmicpc.net/problem/2750"
   ]
  },
  {
   "cell_type": "code",
   "execution_count": null,
   "metadata": {},
   "outputs": [],
   "source": [
    "#내 풀이 - 여기서 sort는 selection sort랑 동일\n",
    "result = [] \n",
    "test_case = int(input())\n",
    "for _ in range(test_case):\n",
    "    n = int(input())\n",
    "    result.append(n)\n",
    "\n",
    "result.sort()\n",
    "\n",
    "for i in result:\n",
    "    print(i)"
   ]
  },
  {
   "cell_type": "code",
   "execution_count": null,
   "metadata": {},
   "outputs": [],
   "source": [
    "#강사 풀이\n",
    "n = int(input())\n",
    "array = [] \n",
    "for _ in range(n):\n",
    "    array.append(int(input()))\n",
    "\n",
    "for i in range(n):\n",
    "    min_index = i\n",
    "    for j in range(i+1, n):\n",
    "        if array[min_index] > array[j]:\n",
    "            min_index = j\n",
    "    array[i], array[min_index] = array[min_index], array[i]\n",
    "\n",
    "for i in array:\n",
    "    print(i)\n",
    "        "
   ]
  },
  {
   "cell_type": "markdown",
   "metadata": {},
   "source": [
    "문제 제목: 소트 인사이드\n",
    "\n",
    "문제 난이도: 하\n",
    "\n",
    "문제유형: 정렬, 배열\n",
    "\n",
    "https://www.acmicpc.net/problem/1427"
   ]
  },
  {
   "cell_type": "code",
   "execution_count": null,
   "metadata": {},
   "outputs": [],
   "source": [
    "#내 풀이\n",
    "n = input()\n",
    "result = sorted(n, reverse=True)\n",
    "print(int(''.join(result)))"
   ]
  },
  {
   "cell_type": "code",
   "execution_count": null,
   "metadata": {},
   "outputs": [],
   "source": [
    "#강사 풀이\n",
    "array = input()\n",
    "for i in range(9,-1,-1):\n",
    "    for j in array:\n",
    "        if int(j) == i:\n",
    "            print(i, end='')\n",
    "    "
   ]
  },
  {
   "cell_type": "markdown",
   "metadata": {},
   "source": [
    "## 기본 정렬 알고리즘 - 핵심 유형 문제풀이"
   ]
  },
  {
   "cell_type": "markdown",
   "metadata": {},
   "source": [
    "문제 제목: 나이순 정렬\n",
    "\n",
    "문제 난이도: 하\n",
    "\n",
    "문제유형: 정렬\n",
    "\n",
    "https://www.acmicpc.net/problem/10814"
   ]
  },
  {
   "cell_type": "code",
   "execution_count": null,
   "metadata": {},
   "outputs": [],
   "source": [
    "# 내 풀이 - 왜 틀렸을까 ㅠㅠ\n",
    "test_case = int(input())\n",
    "my_dict = {}\n",
    "for _ in range(test_case):\n",
    "    n, m = input().split(' ')\n",
    "    if my_dict.get(n) is None:\n",
    "        my_dict[n] = []\n",
    "    my_dict[n].append(m)\n",
    "\n",
    "my_dict = sorted(my_dict.items())\n",
    "\n",
    "for key, item in my_dict:\n",
    "    if len(item) == 1:\n",
    "        print(key, item[0])\n",
    "    else:\n",
    "        for i in item:\n",
    "            print(key, i)"
   ]
  },
  {
   "cell_type": "code",
   "execution_count": null,
   "metadata": {},
   "outputs": [],
   "source": [
    "# 강사 풀이 - 튜플 형식인 경우는 매우 stable 함\n",
    "n = int(input())\n",
    "array = []\n",
    "\n",
    "for _ in range(n):\n",
    "    input_data = input().split(\" \")\n",
    "    array.append([int(input_data[0]),input_data[1]])\n",
    "\n",
    "array = sorted(array, key=lambda x:x[0])\n",
    "\n",
    "for i in array:\n",
    "    print(i[0],i[1])"
   ]
  },
  {
   "cell_type": "markdown",
   "metadata": {},
   "source": [
    "문제 제목: 좌표 정렬하기\n",
    "\n",
    "문제 난이도: 하\n",
    "\n",
    "문제유형: 정렬\n",
    "\n",
    "https://www.acmicpc.net/problem/11650"
   ]
  },
  {
   "cell_type": "code",
   "execution_count": null,
   "metadata": {},
   "outputs": [],
   "source": [
    "# 내 풀이 - 파이썬 기본 정렬 라이브러리는 그대로 함 앞에서부터 뒤까지\n",
    "n = int(input())\n",
    "array = []\n",
    "\n",
    "for _ in range(n):\n",
    "    input_data = input().split(\" \")\n",
    "    array.append([int(input_data[0]),int(input_data[1])])\n",
    "\n",
    "array = sorted(array)\n",
    "\n",
    "for i in array:\n",
    "    print(i[0],i[1])"
   ]
  },
  {
   "cell_type": "code",
   "execution_count": null,
   "metadata": {},
   "outputs": [],
   "source": [
    "# 강사 풀이 - 좀 더 간단함\n",
    "n = int(input())\n",
    "array = []\n",
    "\n",
    "for _ in range(n):\n",
    "    x, y = map(int, input().split(\" \"))\n",
    "    array.append((x, y))\n",
    "\n",
    "array = sorted(array)\n",
    "\n",
    "for i in array:\n",
    "    print(i[0],i[1])"
   ]
  },
  {
   "cell_type": "markdown",
   "metadata": {},
   "source": [
    "문제 제목: 수 정렬하기 3\n",
    "\n",
    "문제 난이도: 하\n",
    "\n",
    "문제유형: 정렬\n",
    "\n",
    "https://www.acmicpc.net/problem/10989"
   ]
  },
  {
   "cell_type": "code",
   "execution_count": null,
   "metadata": {},
   "outputs": [],
   "source": [
    "# 강사 풀이 Counting Sort\n",
    "# 내 풀이는 이 개념을 모르기 때문에 생략\n",
    "import sys\n",
    "n = int(sys.stdin.readline())\n",
    "array = [0] * 10001\n",
    "\n",
    "for i in range(n):\n",
    "    data = int(sys.stdin.readline())\n",
    "    array[data] +=1\n",
    "\n",
    "for i in range(10001):\n",
    "    if array[i] != 0:\n",
    "        for j in range(array[i]):\n",
    "            print(i)\n",
    "            "
   ]
  },
  {
   "cell_type": "markdown",
   "metadata": {},
   "source": [
    "## 재귀호출 - 핵심 유형 문제풀이"
   ]
  },
  {
   "cell_type": "markdown",
   "metadata": {},
   "source": [
    "문제 제목: 피보나치 수\n",
    "\n",
    "문제 난이도: 하\n",
    "\n",
    "문제유형: 재귀 함수\n",
    "\n",
    "https://www.acmicpc.net/problem/2747"
   ]
  },
  {
   "cell_type": "code",
   "execution_count": null,
   "metadata": {},
   "outputs": [],
   "source": [
    "# 내풀이 - 시간 초과\n",
    "def fibonacci(n):\n",
    "    if n == 0:\n",
    "        return 0\n",
    "    if n == 1:\n",
    "        return 1\n",
    "    return fibonacci(n-1) + fibonacci(n-2)\n",
    "print(fibonacci(int(input())))"
   ]
  },
  {
   "cell_type": "code",
   "execution_count": null,
   "metadata": {},
   "outputs": [],
   "source": [
    "# 내 풀이 - 동적 계획법\n",
    "def fibo_dp(num):\n",
    "    cache = [ 0 for index in range(num + 1)]\n",
    "    cache[0] = 0\n",
    "    cache[1] = 1\n",
    "    \n",
    "    for index in range(2, num + 1):\n",
    "        cache[index] = cache[index - 1] + cache[index - 2]\n",
    "    return cache[num]\n",
    "\n",
    "print(fibo_dp(int(input())))"
   ]
  },
  {
   "cell_type": "code",
   "execution_count": null,
   "metadata": {},
   "outputs": [],
   "source": [
    "# 강사 풀이\n",
    "n = int(input())\n",
    "\n",
    "a,b = 0,1\n",
    "while n>0:\n",
    "    a, b = b, a+b\n",
    "    n -=1\n",
    "\n",
    "print(a)\n"
   ]
  },
  {
   "cell_type": "markdown",
   "metadata": {},
   "source": [
    "문제 제목: Z\n",
    "\n",
    "문제 난이도: 중\n",
    "\n",
    "문제유형: 재귀 함수\n",
    "\n",
    "https://www.acmicpc.net/problem/1074"
   ]
  },
  {
   "cell_type": "code",
   "execution_count": null,
   "metadata": {},
   "outputs": [],
   "source": [
    "#내 풀이 -- 개 똥...\n",
    "def move_inside(array):\n",
    "    array[1] += 1\n",
    "    array[2] += 1\n",
    "    array[1] -= 1\n",
    "    array[0] += 1\n",
    "    array[2] += 1\n",
    "    array[1] += 1\n",
    "    array[2] += 1\n",
    "    \n",
    "    return array\n",
    "\n",
    "def move_right(array):\n",
    "    array[1] += 1\n",
    "    array[0] -= 1\n",
    "    array[2] += 1\n",
    "    move_inside(array)\n",
    "    \n",
    "    return array\n",
    "\n",
    "def move_diag(array):\n",
    "    array[0] += 1\n",
    "    array[1] = 0\n",
    "    array[2] += 1\n",
    "    move_inside(array)\n",
    "    \n",
    "    return array\n",
    "\n",
    "true_n = 2\n",
    "true_row = 2**2\n",
    "true_col = 2**2\n",
    "array = [0,0,0]\n",
    "move_inside(array)\n",
    "print(array)\n",
    "move_right(array)\n",
    "print(array)\n",
    "move_diag(array)\n",
    "print(array)\n",
    "move_right(array)\n",
    "print(array)\n"
   ]
  },
  {
   "cell_type": "code",
   "execution_count": null,
   "metadata": {},
   "outputs": [],
   "source": [
    "#강사 풀이... -- 와 대단... 하...\n",
    "def solve(n, x, y):\n",
    "    global result\n",
    "    if n == 2:\n",
    "        if x == X and y == Y:\n",
    "            print(result)\n",
    "            return\n",
    "        result += 1\n",
    "        \n",
    "        if x == X and y+1 == Y:\n",
    "            print(result)\n",
    "            return\n",
    "        result += 1\n",
    "        \n",
    "        if x+1 == X and y == Y:\n",
    "            print(result)\n",
    "            return\n",
    "        result += 1\n",
    "        \n",
    "        if x+1 == X and y+1 == Y:\n",
    "            print(result)\n",
    "            return\n",
    "        result += 1\n",
    "        return\n",
    "    solve(n/2,x,y)\n",
    "    solve(n/2,x,y+n/2)\n",
    "    solve(n/2,x+n/2,y)\n",
    "    solve(n/2,x+n/2,y+n/2)"
   ]
  },
  {
   "cell_type": "code",
   "execution_count": null,
   "metadata": {},
   "outputs": [],
   "source": [
    "result = 0 \n",
    "N,X,Y = map(int,input().split(' '))\n",
    "solve(2**N,0,0)"
   ]
  },
  {
   "cell_type": "markdown",
   "metadata": {},
   "source": [
    "문제 제목: 0 만들기\n",
    "\n",
    "문제 난이도: 중\n",
    "\n",
    "문제유형: 재귀 함수\n",
    "\n",
    "https://www.acmicpc.net/problem/7490"
   ]
  },
  {
   "cell_type": "code",
   "execution_count": null,
   "metadata": {},
   "outputs": [],
   "source": [
    "#강사 풀이 - 도저히 모르겠다\n",
    "import copy\n",
    "\n",
    "def recursive(array, n):\n",
    "    if len(array) == n:\n",
    "        operators_list.append(copy.deepcopy(array))\n",
    "        return\n",
    "        \n",
    "    array.append(' ')\n",
    "    # 1 여기서 두개가 되면 Operators_list에 추가된다\n",
    "    recursive(array, n)\n",
    "    # 1 뒤에 있는 ''가 빠진다\n",
    "    # 2 이제 남아 있는 - 가 빠지고 뒤에부터 다시 시작\n",
    "    array.pop()\n",
    "    # 1 ' '는 그대로 있고 +가 추가, Operators_list에 추가\n",
    "    array.append('+')\n",
    "    recursive(array, n)\n",
    "    # 1 뒤에 있는 +가 빠진다\n",
    "    array.pop()\n",
    "    # 1 ' '는 그대로 있고 - 가 추가, Operators_list에 추가\n",
    "    array.append('-')\n",
    "    recursive(array, n)\n",
    "    # 1 뒤에 있는 -가 빠진다\n",
    "    array.pop()\n",
    "\n",
    "test_case = int(input())\n",
    "\n",
    "for _ in range(test_case):\n",
    "    operators_list = []\n",
    "    n = int(input())\n",
    "    recursive([],n-1)\n",
    "    \n",
    "    integers = [i for i in range(1, n+1)]\n",
    "    \n",
    "    for operators in operators_list:\n",
    "        string = \"\"\n",
    "        for i in range(n-1):\n",
    "            string += str(integers[i]) + operators[i]\n",
    "        string += str(integers[-1])\n",
    "        #eval 함수는 string을 연산자로 바꿔줌\n",
    "        if eval(string.replace(\" \",\"\")) == 0:\n",
    "            print(string)\n",
    "    \n",
    "    print()"
   ]
  },
  {
   "cell_type": "markdown",
   "metadata": {},
   "source": [
    "## 고급 정렬 알고리즘 - 핵심 유형 문제풀이"
   ]
  },
  {
   "cell_type": "markdown",
   "metadata": {},
   "source": [
    "문제 제목: 수 정렬하기 2\n",
    "\n",
    "문제 난이도: 하\n",
    "\n",
    "문제유형: 정렬\n",
    "\n",
    "https://www.acmicpc.net/problem/2751"
   ]
  },
  {
   "cell_type": "code",
   "execution_count": null,
   "metadata": {},
   "outputs": [],
   "source": [
    "#내 풀이 - 퀵 정렬과 같은 경우에는 최악의 경우 O(n^2)이다..\n",
    "result = [] \n",
    "test_case = int(input())\n",
    "for _ in range(test_case):\n",
    "    n = int(input())\n",
    "    result.append(n)\n",
    "    \n",
    "    \n",
    "def qsort(data):\n",
    "    if len(data) <= 1:\n",
    "        return data\n",
    "\n",
    "    left, right = list(), list()\n",
    "    pivot = data[0]\n",
    "\n",
    "    for i in range(1, len(data)):\n",
    "        if data[i] < pivot:\n",
    "            left.append(data[i])\n",
    "        else:\n",
    "            right.append(data[i])\n",
    "    \n",
    "    return qsort(left) + [pivot] + qsort(right)\n",
    "\n",
    "result = qsort(result)\n",
    "for i in result:\n",
    "    print(i)"
   ]
  },
  {
   "cell_type": "code",
   "execution_count": null,
   "metadata": {},
   "outputs": [],
   "source": [
    "#강사 풀이 - 병합 정렬은 nlogn이다...\n",
    "def merge_sort(array):\n",
    "    if len(array) <= 1:\n",
    "        return array\n",
    "    mid = len(array) // 2\n",
    "    left = merge_sort(array[:mid])\n",
    "    right = merge_sort(array[mid:])\n",
    "    i,j,k = 0,0,0\n",
    "    \n",
    "    while i < len(left) and j < len(right):\n",
    "        if left[i] < right[j]:\n",
    "            array[k] = left[i]\n",
    "            i += 1\n",
    "        else:\n",
    "            array[k] = right[j]\n",
    "            j += 1\n",
    "        k += 1\n",
    "    \n",
    "    if i == len(left):\n",
    "        while j < len(right):\n",
    "            array[k] = right[j]\n",
    "            j += 1\n",
    "            k += 1\n",
    "    elif j == len(right):\n",
    "        while i < len(left):\n",
    "            array[k] = left[i]\n",
    "            i += 1\n",
    "            k += 1\n",
    "    \n",
    "    return array\n",
    "\n",
    "array = [] \n",
    "test_case = int(input())\n",
    "for _ in range(test_case):\n",
    "    n = int(input())\n",
    "    array.append(n)\n",
    "    \n",
    "array = merge_sort(array)\n",
    "\n",
    "for data in array:\n",
    "    print(data)"
   ]
  },
  {
   "cell_type": "code",
   "execution_count": null,
   "metadata": {},
   "outputs": [],
   "source": [
    "#개 쉬운 버전...\n",
    "test_case = int(input())\n",
    "for _ in range(test_case):\n",
    "    n = int(input())\n",
    "    array.append(n)\n",
    "    \n",
    "array = sorted(array)\n",
    "\n",
    "for data in array:\n",
    "    print(data)"
   ]
  },
  {
   "cell_type": "markdown",
   "metadata": {},
   "source": [
    "문제 제목: K번째 수\n",
    "\n",
    "문제 난이도: 중\n",
    "\n",
    "문제유형: 정렬\n",
    "\n",
    "https://www.acmicpc.net/problem/11004"
   ]
  },
  {
   "cell_type": "code",
   "execution_count": null,
   "metadata": {},
   "outputs": [],
   "source": [
    "#아까랑 동일\n",
    "\n",
    "n, k = map(int, input().split())\n",
    "array = list(map(int, input().split()))\n",
    "\n",
    "array = sorted(array)\n",
    "print(array[k-1])\n"
   ]
  },
  {
   "cell_type": "code",
   "execution_count": null,
   "metadata": {},
   "outputs": [],
   "source": []
  },
  {
   "cell_type": "code",
   "execution_count": null,
   "metadata": {},
   "outputs": [],
   "source": []
  }
 ],
 "metadata": {
  "kernelspec": {
   "display_name": "Python 3",
   "language": "python",
   "name": "python3"
  },
  "language_info": {
   "codemirror_mode": {
    "name": "ipython",
    "version": 3
   },
   "file_extension": ".py",
   "mimetype": "text/x-python",
   "name": "python",
   "nbconvert_exporter": "python",
   "pygments_lexer": "ipython3",
   "version": "3.7.4"
  }
 },
 "nbformat": 4,
 "nbformat_minor": 2
}
