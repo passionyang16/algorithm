{
 "cells": [
  {
   "cell_type": "markdown",
   "metadata": {},
   "source": [
    "## 기본 자료구조 - 기초 문제풀이"
   ]
  },
  {
   "cell_type": "markdown",
   "metadata": {},
   "source": [
    "문제 제목: 음계\n",
    "\n",
    "문제 난이도: 하\n",
    "\n",
    "문제유형: 배열, 구현\n",
    "\n",
    "https://www.acmicpc.net/problem/2920"
   ]
  },
  {
   "cell_type": "code",
   "execution_count": 209,
   "metadata": {},
   "outputs": [],
   "source": [
    "#내 풀이\n",
    "data = list(map(int, input().split(\" \")))\n",
    "ascending_data = sorted(data)\n",
    "descending_data = sorted(data, reverse = True)\n",
    "if data == ascending_data:\n",
    "    print(\"ascending\")\n",
    "elif data == descending_data:\n",
    "    print(\"descending\")\n",
    "else:\n",
    "    print(\"mixed\")"
   ]
  },
  {
   "cell_type": "code",
   "execution_count": 85,
   "metadata": {},
   "outputs": [
    {
     "name": "stdout",
     "output_type": "stream",
     "text": [
      "0 1 2 3 4 5 6 7 8\n",
      "ascending\n"
     ]
    }
   ],
   "source": [
    "#강사 풀이\n",
    "a = list(map(int, input().split(\" \")))\n",
    "\n",
    "ascending = True\n",
    "descending = True\n",
    "\n",
    "for i in range(1,8):\n",
    "    if a[i] > a[i-1]:\n",
    "        descending = False\n",
    "    elif a[i] < a[i-1]:\n",
    "        ascending = False\n",
    "\n",
    "if ascending:\n",
    "    print(\"ascending\")\n",
    "elif descending:\n",
    "    print(\"descending\")\n",
    "else:\n",
    "    print(\"mixed\")"
   ]
  },
  {
   "cell_type": "markdown",
   "metadata": {},
   "source": [
    "문제 제목: 블랙잭\n",
    "\n",
    "문제 난이도: 하\n",
    "\n",
    "문제유형: 배열, 완전탐색\n",
    "\n",
    "https://www.acmicpc.net/problem/2798"
   ]
  },
  {
   "cell_type": "code",
   "execution_count": 204,
   "metadata": {},
   "outputs": [
    {
     "name": "stdout",
     "output_type": "stream",
     "text": [
      "21\n"
     ]
    }
   ],
   "source": [
    "#내 풀이\n",
    "import itertools\n",
    "\n",
    "n,m = list(map(int, input().split(\" \")))\n",
    "data = list(map(int, input().split(\" \")))\n",
    "comb = list(itertools.combinations(data, 3))\n",
    "comb = sorted([sum(i) for i in comb])\n",
    "\n",
    "result = []\n",
    "for item in comb:\n",
    "    if item <= m :\n",
    "        result.append(item)\n",
    "\n",
    "print(max(result))"
   ]
  },
  {
   "cell_type": "code",
   "execution_count": 206,
   "metadata": {},
   "outputs": [
    {
     "name": "stdout",
     "output_type": "stream",
     "text": [
      "21\n"
     ]
    }
   ],
   "source": [
    "#강사 풀이\n",
    "n,m = list(map(int, input().split(\" \")))\n",
    "data = list(map(int, input().split(\" \")))\n",
    "\n",
    "result = 0\n",
    "for i in range(len(data)):\n",
    "    for j in range(i+1,len(data)):\n",
    "        for k in range(j+1, len(data)):\n",
    "            sum_value = data[i] + data[j] + data[k]\n",
    "            if sum_value <= m:\n",
    "                result = max(result, sum_value)\n",
    "print(result)"
   ]
  },
  {
   "cell_type": "markdown",
   "metadata": {},
   "source": [
    "## 기본 자료구조 - 핵심 유형 문제풀이"
   ]
  },
  {
   "cell_type": "markdown",
   "metadata": {},
   "source": [
    "문제 제목: 스택 수열\n",
    "\n",
    "문제 난이도: 하\n",
    "\n",
    "문제유형: 스택, 그리디\n",
    "\n",
    "https://www.acmicpc.net/problem/1874"
   ]
  },
  {
   "cell_type": "code",
   "execution_count": 318,
   "metadata": {},
   "outputs": [],
   "source": [
    "#강사 풀이\n",
    "n = int(input())\n",
    "\n",
    "count = 1\n",
    "stack = []\n",
    "result = []\n",
    "\n",
    "for i in range(1, n+1):\n",
    "    data = int(input())\n",
    "    while count <= data:\n",
    "        stack.append(count)\n",
    "        result.append(\"+\")\n",
    "        count += 1\n",
    "    if stack[-1] == data:\n",
    "        stack.pop()\n",
    "        result.append('-')\n",
    "    else:\n",
    "        print(\"No\")\n",
    "        exit(0)\n",
    "        \n",
    "print('\\n'.join(result))"
   ]
  },
  {
   "cell_type": "markdown",
   "metadata": {},
   "source": [
    "문제 제목: 프린터 큐\n",
    "\n",
    "문제 난이도: 하\n",
    "\n",
    "문제유형: 큐, 구현, 그리디\n",
    "\n",
    "https://www.acmicpc.net/problem/1966"
   ]
  },
  {
   "cell_type": "code",
   "execution_count": 319,
   "metadata": {},
   "outputs": [],
   "source": [
    "# 내 풀이\n",
    "test_case = int(input())\n",
    "for i in range(test_case):\n",
    "    n,m = list(map(int,input().split(' ')))\n",
    "    data = list(map(int,input().split(' ')))\n",
    "    index = [i for i in range(len(data))]\n",
    "    data = list(zip(data,index))\n",
    "    count = 0\n",
    "    to_pop = data[m]\n",
    "\n",
    "    while data:\n",
    "        check = data[0][0]\n",
    "        if check == max(data)[0]:\n",
    "            popped = data.pop(0)\n",
    "            count += 1\n",
    "            if popped == to_pop:\n",
    "                print(count)\n",
    "                break\n",
    "        else:\n",
    "            popped = data.pop(0)\n",
    "            data.append(popped)\n"
   ]
  },
  {
   "cell_type": "code",
   "execution_count": 327,
   "metadata": {},
   "outputs": [],
   "source": [
    "# 강사 풀이\n",
    "\n",
    "test_case = int(input())\n",
    "for _ in range(test_case):\n",
    "    n,m = list(map(int, input().split(' ')))\n",
    "    queue = list(map(int, input().split(' ')))\n",
    "    queue = [(i,idx) for idx, i in enumerate(queue)]\n",
    "    \n",
    "    count = 0\n",
    "    while True:\n",
    "        if queue[0][0] == max(queue, key=lambda x: x[0])[0]:\n",
    "            count+=1\n",
    "            if queue[0][1] == m:\n",
    "                print(count)\n",
    "                break\n",
    "            else:\n",
    "                queue.pop(0)\n",
    "        else:\n",
    "            queue.append(queue.pop(0))"
   ]
  },
  {
   "cell_type": "code",
   "execution_count": 329,
   "metadata": {},
   "outputs": [
    {
     "name": "stdout",
     "output_type": "stream",
     "text": [
      "0 1\n",
      "1 2\n",
      "2 3\n",
      "3 4\n"
     ]
    }
   ],
   "source": [
    "queue = [1,2,3,4]\n",
    "for idx, i in enumerate(queue):\n",
    "    print(idx, i)"
   ]
  },
  {
   "cell_type": "markdown",
   "metadata": {},
   "source": [
    "문제 제목: 키로거\n",
    "\n",
    "문제 난이도: 중\n",
    "\n",
    "문제유형: 스택, 구현, 그리디\n",
    "\n",
    "https://www.acmicpc.net/problem/5397"
   ]
  },
  {
   "cell_type": "code",
   "execution_count": 384,
   "metadata": {},
   "outputs": [],
   "source": [
    "#강사 풀이\n",
    "\n",
    "test_case = int(input())\n",
    "for _ in range(test_case):\n",
    "    left_stack = []\n",
    "    right_stack = []\n",
    "    data = input()\n",
    "    for i in data:\n",
    "        if i == '-':\n",
    "            if left_stack:\n",
    "                left_stack.pop()\n",
    "        elif i == '<':\n",
    "            if left_stack:\n",
    "                right_stack.append(left_stack.pop())\n",
    "        elif i == '>':\n",
    "            if right_stack:\n",
    "                left_stack.append(right_stack.pop())\n",
    "        else:\n",
    "            left_stack.append(i)\n",
    "    left_stack.extend(reversed(right_stack))\n",
    "    print(''.join(left_stack))"
   ]
  },
  {
   "cell_type": "markdown",
   "metadata": {},
   "source": [
    "## 고급 자료구조 - 핵심 유형 문제풀이"
   ]
  },
  {
   "cell_type": "markdown",
   "metadata": {},
   "source": [
    "문제 제목: SHA 256\n",
    "\n",
    "문제 난이도: 하\n",
    "\n",
    "문제유형: 해시, 구현\n",
    "\n",
    "https://www.acmicpc.net/problem/10930"
   ]
  },
  {
   "cell_type": "code",
   "execution_count": 392,
   "metadata": {},
   "outputs": [
    {
     "name": "stdout",
     "output_type": "stream",
     "text": [
      "9944e1862efbb2a4e2486392dc6701896416b251eccdecb8332deb7f4cf2a857\n"
     ]
    }
   ],
   "source": [
    "#내 풀이\n",
    "import hashlib\n",
    "s = str(input())\n",
    "result = hashlib.sha256(s.encode())\n",
    "print(result.hexdigest())"
   ]
  },
  {
   "cell_type": "code",
   "execution_count": null,
   "metadata": {},
   "outputs": [],
   "source": [
    "#강사 풀이\n",
    "import hashlib\n",
    "input_data = input()\n",
    "encoded_data = input_data.encode()\n",
    "result = hashlib.sha256(encoded_data).hexdigest()\n",
    "print(result)"
   ]
  },
  {
   "cell_type": "markdown",
   "metadata": {},
   "source": [
    "문제 제목: 수 찾기\n",
    "\n",
    "문제 난이도: 하\n",
    "\n",
    "문제유형: 해시, 배열, 구현\n",
    "\n",
    "https://www.acmicpc.net/problem/1920"
   ]
  },
  {
   "cell_type": "code",
   "execution_count": 435,
   "metadata": {},
   "outputs": [],
   "source": [
    "#내 풀이\n",
    "# 시간이 초과됨\n",
    "n = int(input())\n",
    "n_list = list(map(int, input().split(\" \")))\n",
    "n_list.sort()\n",
    "m = int(input())\n",
    "m_list = list(map(int, input().split(\" \")))\n",
    "\n",
    "def binary_search(data, search):\n",
    "    if len(data) == 1 and search == data[0]:\n",
    "        return 1\n",
    "    if len(data) == 1 and search != data[0]:\n",
    "        return 0\n",
    "    if len(data) == 0:\n",
    "        return 0\n",
    "    \n",
    "    medium = len(data) // 2\n",
    "    if search == data[medium]:\n",
    "        return 1\n",
    "    else:\n",
    "        if search > data[medium]:\n",
    "            return binary_search(data[medium+1:], search)\n",
    "        else:\n",
    "            return binary_search(data[:medium], search)\n",
    "\n",
    "for i in m_list:\n",
    "    print(binary_search(n_list,i))"
   ]
  },
  {
   "cell_type": "code",
   "execution_count": 434,
   "metadata": {},
   "outputs": [],
   "source": [
    "#강사 풀이\n",
    "# set으로 바꾸면, 원소들이 중복되지 않고 한번씩 들어감. hash를 기본적으로 따름\n",
    "# 어떤 원소가 포함되어 있는지 확인하면 매우 빠르게 여부를 알려줌\n",
    "n = int(input())\n",
    "n_list = set(map(int, input().split(\" \")))\n",
    "m = int(input())\n",
    "m_list = list(map(int, input().split(\" \")))\n",
    "\n",
    "for i in m_list:\n",
    "    if i not in n_list:\n",
    "        print(0)\n",
    "    else:\n",
    "        print(1)"
   ]
  },
  {
   "cell_type": "markdown",
   "metadata": {},
   "source": [
    "문제 제목: 친구네트워크\n",
    "\n",
    "문제 난이도: 중\n",
    "\n",
    "문제유형: 해시, 집합, 그래프\n",
    "\n",
    "https://www.acmicpc.net/problem/4195"
   ]
  },
  {
   "cell_type": "code",
   "execution_count": 51,
   "metadata": {},
   "outputs": [
    {
     "name": "stdout",
     "output_type": "stream",
     "text": [
      "2\n",
      "3\n",
      "Fred Barney\n",
      "2\n",
      "Barney Betty\n",
      "3\n",
      "Betty Wilma\n",
      "4\n",
      "4\n",
      "Fred Barney\n",
      "2\n",
      "Betty Wilma\n",
      "2\n",
      "Barney Betty\n",
      "4\n",
      "A B\n",
      "4\n"
     ]
    }
   ],
   "source": [
    "# 내풀이 - 시간초과\n",
    "test_case = int(input())\n",
    "for _ in range(test_case):\n",
    "    n = int(input())\n",
    "    first_data = list(map(str, input().split(\" \")))\n",
    "    print(len(first_data))\n",
    "    for i in range(n-1):\n",
    "        data = list(map(str, input().split(\" \")))\n",
    "        if set(first_data) & set(data):\n",
    "            merged = list(set(first_data + data))\n",
    "            print(len(merged))\n",
    "        else:\n",
    "            merged = list(set(first_data + data))\n",
    "            print(len(first_data))\n",
    "        first_data = merged"
   ]
  },
  {
   "cell_type": "code",
   "execution_count": 59,
   "metadata": {},
   "outputs": [
    {
     "name": "stdout",
     "output_type": "stream",
     "text": [
      "2\n",
      "3\n",
      "Fred Barney\n",
      "{'Fred': 'Fred', 'Barney': 'Fred'}\n",
      "2\n",
      "Barney Betty\n",
      "{'Fred': 'Fred', 'Barney': 'Fred', 'Betty': 'Fred'}\n",
      "3\n",
      "Betty Wilma\n",
      "{'Fred': 'Fred', 'Barney': 'Fred', 'Betty': 'Fred', 'Wilma': 'Fred'}\n",
      "4\n",
      "3\n",
      "Fred Barney\n",
      "{'Fred': 'Fred', 'Barney': 'Fred'}\n",
      "2\n",
      "Betty Wilma\n",
      "{'Fred': 'Fred', 'Barney': 'Fred', 'Betty': 'Betty', 'Wilma': 'Betty'}\n",
      "2\n",
      "Barney Betty\n",
      "{'Fred': 'Fred', 'Barney': 'Fred', 'Betty': 'Fred', 'Wilma': 'Betty'}\n",
      "4\n"
     ]
    }
   ],
   "source": [
    "#강사 풀이 - 아... 어렵다 ㅠ Union Find 알고리즘\n",
    "def find(x):\n",
    "    if x == parent[x]:\n",
    "        return x\n",
    "    else:\n",
    "        p = find(parent[x])\n",
    "        parent[x] = p\n",
    "        return parent[x]\n",
    "\n",
    "def union(x, y):\n",
    "    x = find(x)\n",
    "    y = find(y)\n",
    "    \n",
    "    if x != y:\n",
    "        parent[y] = x\n",
    "        number[x] += number[y]\n",
    "\n",
    "        \n",
    "test_case = int(input())\n",
    "for _ in range(test_case):\n",
    "    parent = dict()\n",
    "    number = dict()\n",
    "    \n",
    "    n = int(input())\n",
    "    for _ in range(n):\n",
    "        x, y = input().split(' ')\n",
    "        if x not in parent:\n",
    "            parent[x] = x\n",
    "            number[x] = 1\n",
    "        if y not in parent:\n",
    "            parent[y] = y\n",
    "            number[y] = 1\n",
    "    \n",
    "        union(x,y)\n",
    "        print(parent)\n",
    "        print(number[find(x)])"
   ]
  },
  {
   "cell_type": "markdown",
   "metadata": {},
   "source": [
    "## 기본 정렬 알고리즘 - 기초 문제풀이"
   ]
  },
  {
   "cell_type": "markdown",
   "metadata": {},
   "source": [
    "문제 제목: 수 정렬하기\n",
    "\n",
    "문제 난이도: 하\n",
    "\n",
    "문제유형: 정렬\n",
    "\n",
    "https://www.acmicpc.net/problem/2750"
   ]
  },
  {
   "cell_type": "code",
   "execution_count": 72,
   "metadata": {},
   "outputs": [
    {
     "name": "stdout",
     "output_type": "stream",
     "text": [
      "5\n",
      "2\n",
      "3\n",
      "5\n",
      "1\n",
      "2\n",
      "1\n",
      "2\n",
      "2\n",
      "3\n",
      "5\n"
     ]
    }
   ],
   "source": [
    "#내 풀이 - 여기서 sort는 selection sort랑 동일\n",
    "result = [] \n",
    "test_case = int(input())\n",
    "for _ in range(test_case):\n",
    "    n = int(input())\n",
    "    result.append(n)\n",
    "\n",
    "result.sort()\n",
    "\n",
    "for i in result:\n",
    "    print(i)"
   ]
  },
  {
   "cell_type": "code",
   "execution_count": 71,
   "metadata": {},
   "outputs": [
    {
     "name": "stdout",
     "output_type": "stream",
     "text": [
      "5\n",
      "2\n",
      "3\n",
      "4\n",
      "1\n",
      "5\n",
      "1\n",
      "2\n",
      "3\n",
      "4\n",
      "5\n"
     ]
    }
   ],
   "source": [
    "#강사 풀이\n",
    "n = int(input())\n",
    "array = [] \n",
    "for _ in range(n):\n",
    "    array.append(int(input()))\n",
    "\n",
    "for i in range(n):\n",
    "    min_index = i\n",
    "    for j in range(i+1, n):\n",
    "        if array[min_index] > array[j]:\n",
    "            min_index = j\n",
    "    array[i], array[min_index] = array[min_index], array[i]\n",
    "\n",
    "for i in array:\n",
    "    print(i)\n",
    "        "
   ]
  },
  {
   "cell_type": "markdown",
   "metadata": {},
   "source": [
    "문제 제목: 소트 인사이드\n",
    "\n",
    "문제 난이도: 하\n",
    "\n",
    "문제유형: 정렬, 배열\n",
    "\n",
    "https://www.acmicpc.net/problem/1427"
   ]
  },
  {
   "cell_type": "code",
   "execution_count": 86,
   "metadata": {},
   "outputs": [
    {
     "name": "stdout",
     "output_type": "stream",
     "text": [
      "2143\n"
     ]
    },
    {
     "data": {
      "text/plain": [
       "4321"
      ]
     },
     "execution_count": 86,
     "metadata": {},
     "output_type": "execute_result"
    }
   ],
   "source": [
    "#내 풀이\n",
    "n = input()\n",
    "result = sorted(n, reverse=True)\n",
    "print(int(''.join(result)))"
   ]
  },
  {
   "cell_type": "code",
   "execution_count": 99,
   "metadata": {},
   "outputs": [
    {
     "name": "stdout",
     "output_type": "stream",
     "text": [
      "2143\n",
      "4321"
     ]
    }
   ],
   "source": [
    "#강사 풀이\n",
    "array = input()\n",
    "for i in range(9,-1,-1):\n",
    "    for j in array:\n",
    "        if int(j) == i:\n",
    "            print(i, end='')\n",
    "    "
   ]
  },
  {
   "cell_type": "markdown",
   "metadata": {},
   "source": [
    "## 기본 정렬 알고리즘 - 핵심 유형 문제풀이"
   ]
  },
  {
   "cell_type": "markdown",
   "metadata": {},
   "source": [
    "문제 제목: 나이순 정렬\n",
    "\n",
    "문제 난이도: 하\n",
    "\n",
    "문제유형: 정렬\n",
    "\n",
    "https://www.acmicpc.net/problem/10814"
   ]
  },
  {
   "cell_type": "code",
   "execution_count": 166,
   "metadata": {},
   "outputs": [],
   "source": [
    "my_dict = {}\n",
    "my_dict[21] = []\n",
    "my_dict[20] = []\n",
    "my_dict[21].append('Junkyu')\n",
    "my_dict[21].append('Dohyun')\n",
    "my_dict[20].append('Sunyoung')\n"
   ]
  },
  {
   "cell_type": "code",
   "execution_count": 174,
   "metadata": {},
   "outputs": [
    {
     "name": "stdout",
     "output_type": "stream",
     "text": [
      "None\n"
     ]
    }
   ],
   "source": [
    "my_dict = {}\n",
    "print(my_dict.get(21))"
   ]
  },
  {
   "cell_type": "code",
   "execution_count": 139,
   "metadata": {},
   "outputs": [
    {
     "data": {
      "text/plain": [
       "[(20, ['Sunyoung']), (21, ['Junkyu', 'Dohyun'])]"
      ]
     },
     "execution_count": 139,
     "metadata": {},
     "output_type": "execute_result"
    }
   ],
   "source": [
    "my_dict = sorted(my_dict.items())\n",
    "my_dict"
   ]
  },
  {
   "cell_type": "code",
   "execution_count": 195,
   "metadata": {},
   "outputs": [],
   "source": [
    "# 내 풀이 - 왜 틀렸을까 ㅠㅠ\n",
    "test_case = int(input())\n",
    "my_dict = {}\n",
    "for _ in range(test_case):\n",
    "    n, m = input().split(' ')\n",
    "    if my_dict.get(n) is None:\n",
    "        my_dict[n] = []\n",
    "    my_dict[n].append(m)\n",
    "\n",
    "my_dict = sorted(my_dict.items())\n",
    "\n",
    "for key, item in my_dict:\n",
    "    if len(item) == 1:\n",
    "        print(key, item[0])\n",
    "    else:\n",
    "        for i in item:\n",
    "            print(key, i)"
   ]
  },
  {
   "cell_type": "code",
   "execution_count": 196,
   "metadata": {},
   "outputs": [
    {
     "name": "stdout",
     "output_type": "stream",
     "text": [
      "3\n",
      "20 Sunyoung\n",
      "21 Junkyu\n",
      "21 Dohyun\n",
      "20 Sunyoung\n",
      "21 Junkyu\n",
      "21 Dohyun\n"
     ]
    }
   ],
   "source": [
    "# 강사 풀이 - 튜플 형식인 경우는 매우 stable 함\n",
    "n = int(input())\n",
    "array = []\n",
    "\n",
    "for _ in range(n):\n",
    "    input_data = input().split(\" \")\n",
    "    array.append([int(input_data[0]),input_data[1]])\n",
    "\n",
    "array = sorted(array, key=lambda x:x[0])\n",
    "\n",
    "for i in array:\n",
    "    print(i[0],i[1])"
   ]
  },
  {
   "cell_type": "markdown",
   "metadata": {},
   "source": [
    "문제 제목: 좌표 정렬하기\n",
    "\n",
    "문제 난이도: 하\n",
    "\n",
    "문제유형: 정렬\n",
    "\n",
    "https://www.acmicpc.net/problem/11650"
   ]
  },
  {
   "cell_type": "code",
   "execution_count": 197,
   "metadata": {},
   "outputs": [
    {
     "name": "stdout",
     "output_type": "stream",
     "text": [
      "5\n",
      "3 4\n",
      "1 1\n",
      "1 -1\n",
      "2 2\n",
      "3 3\n",
      "1 -1\n",
      "1 1\n",
      "2 2\n",
      "3 3\n",
      "3 4\n"
     ]
    }
   ],
   "source": [
    "# 내 풀이 - 파이썬 기본 정렬 라이브러리는 그대로 함 앞에서부터 뒤까지\n",
    "n = int(input())\n",
    "array = []\n",
    "\n",
    "for _ in range(n):\n",
    "    input_data = input().split(\" \")\n",
    "    array.append([int(input_data[0]),int(input_data[1])])\n",
    "\n",
    "array = sorted(array)\n",
    "\n",
    "for i in array:\n",
    "    print(i[0],i[1])"
   ]
  },
  {
   "cell_type": "code",
   "execution_count": null,
   "metadata": {},
   "outputs": [],
   "source": [
    "# 강사 풀이 - 좀 더 간단함\n",
    "n = int(input())\n",
    "array = []\n",
    "\n",
    "for _ in range(n):\n",
    "    x, y = map(int, input().split(\" \"))\n",
    "    array.append((x, y))\n",
    "\n",
    "array = sorted(array)\n",
    "\n",
    "for i in array:\n",
    "    print(i[0],i[1])"
   ]
  },
  {
   "cell_type": "markdown",
   "metadata": {},
   "source": [
    "문제 제목: 수 정렬하기 3\n",
    "\n",
    "문제 난이도: 하\n",
    "\n",
    "문제유형: 정렬\n",
    "\n",
    "https://www.acmicpc.net/problem/10989"
   ]
  },
  {
   "cell_type": "code",
   "execution_count": null,
   "metadata": {},
   "outputs": [],
   "source": [
    "# 강사 풀이 Counting Sort\n",
    "# 내 풀이는 이 개념을 모르기 때문에 생략\n",
    "import sys\n",
    "n = int(sys.stdin.readline())\n",
    "array = [0] * 10001\n",
    "\n",
    "for i in range(n):\n",
    "    data = int(sys.stdin.readline())\n",
    "    array[data] +=1\n",
    "\n",
    "for i in range(10001):\n",
    "    if array[i] != 0:\n",
    "        for j in range(array[i]):\n",
    "            print(i)\n",
    "            "
   ]
  },
  {
   "cell_type": "markdown",
   "metadata": {},
   "source": [
    "## 재귀호출 - 핵심 유형 문제풀이"
   ]
  },
  {
   "cell_type": "markdown",
   "metadata": {},
   "source": [
    "문제 제목: 피보나치 수\n",
    "\n",
    "문제 난이도: 하\n",
    "\n",
    "문제유형: 재귀 함수\n",
    "\n",
    "https://www.acmicpc.net/problem/2747"
   ]
  },
  {
   "cell_type": "code",
   "execution_count": 10,
   "metadata": {},
   "outputs": [
    {
     "name": "stdout",
     "output_type": "stream",
     "text": [
      "10\n"
     ]
    },
    {
     "data": {
      "text/plain": [
       "55"
      ]
     },
     "execution_count": 10,
     "metadata": {},
     "output_type": "execute_result"
    }
   ],
   "source": [
    "# 내풀이 - 시간 초과\n",
    "def fibonacci(n):\n",
    "    if n == 0:\n",
    "        return 0\n",
    "    if n == 1:\n",
    "        return 1\n",
    "    return fibonacci(n-1) + fibonacci(n-2)\n",
    "print(fibonacci(int(input())))"
   ]
  },
  {
   "cell_type": "code",
   "execution_count": 11,
   "metadata": {},
   "outputs": [
    {
     "name": "stdout",
     "output_type": "stream",
     "text": [
      "10\n",
      "55\n"
     ]
    }
   ],
   "source": [
    "# 내 풀이 - 동적 계획법\n",
    "def fibo_dp(num):\n",
    "    cache = [ 0 for index in range(num + 1)]\n",
    "    cache[0] = 0\n",
    "    cache[1] = 1\n",
    "    \n",
    "    for index in range(2, num + 1):\n",
    "        cache[index] = cache[index - 1] + cache[index - 2]\n",
    "    return cache[num]\n",
    "\n",
    "print(fibo_dp(int(input())))"
   ]
  },
  {
   "cell_type": "code",
   "execution_count": 16,
   "metadata": {},
   "outputs": [
    {
     "name": "stdout",
     "output_type": "stream",
     "text": [
      "10\n",
      "55\n"
     ]
    }
   ],
   "source": [
    "# 강사 풀이\n",
    "n = int(input())\n",
    "\n",
    "a,b = 0,1\n",
    "while n>0:\n",
    "    a, b = b, a+b\n",
    "    n -=1\n",
    "\n",
    "print(a)\n"
   ]
  },
  {
   "cell_type": "markdown",
   "metadata": {},
   "source": [
    "문제 제목: Z\n",
    "\n",
    "문제 난이도: 중\n",
    "\n",
    "문제유형: 재귀 함수\n",
    "\n",
    "https://www.acmicpc.net/problem/1074"
   ]
  },
  {
   "cell_type": "code",
   "execution_count": 78,
   "metadata": {},
   "outputs": [],
   "source": [
    "#내 풀이 -- 개 똥...\n",
    "def move_inside(array):\n",
    "    array[1] += 1\n",
    "    array[2] += 1\n",
    "    array[1] -= 1\n",
    "    array[0] += 1\n",
    "    array[2] += 1\n",
    "    array[1] += 1\n",
    "    array[2] += 1\n",
    "    \n",
    "    return array\n",
    "\n",
    "def move_right(array):\n",
    "    array[1] += 1\n",
    "    array[0] -= 1\n",
    "    array[2] += 1\n",
    "    move_inside(array)\n",
    "    \n",
    "    return array\n",
    "\n",
    "def move_diag(array):\n",
    "    array[0] += 1\n",
    "    array[1] = 0\n",
    "    array[2] += 1\n",
    "    move_inside(array)\n",
    "    \n",
    "    return array\n",
    "\n",
    "true_n = 2\n",
    "true_row = 2**2\n",
    "true_col = 2**2\n",
    "array = [0,0,0]\n",
    "move_inside(array)\n",
    "print(array)\n",
    "move_right(array)\n",
    "print(array)\n",
    "move_diag(array)\n",
    "print(array)\n",
    "move_right(array)\n",
    "print(array)\n"
   ]
  },
  {
   "cell_type": "code",
   "execution_count": 96,
   "metadata": {},
   "outputs": [],
   "source": [
    "#강사 풀이... -- 와 대단... 하...\n",
    "def solve(n, x, y):\n",
    "    global result\n",
    "    if n == 2:\n",
    "        if x == X and y == Y:\n",
    "            print(result)\n",
    "            return\n",
    "        result += 1\n",
    "        \n",
    "        if x == X and y+1 == Y:\n",
    "            print(result)\n",
    "            return\n",
    "        result += 1\n",
    "        \n",
    "        if x+1 == X and y == Y:\n",
    "            print(result)\n",
    "            return\n",
    "        result += 1\n",
    "        \n",
    "        if x+1 == X and y+1 == Y:\n",
    "            print(result)\n",
    "            return\n",
    "        result += 1\n",
    "        return\n",
    "    solve(n/2,x,y)\n",
    "    solve(n/2,x,y+n/2)\n",
    "    solve(n/2,x+n/2,y)\n",
    "    solve(n/2,x+n/2,y+n/2)"
   ]
  },
  {
   "cell_type": "code",
   "execution_count": 98,
   "metadata": {},
   "outputs": [
    {
     "name": "stdout",
     "output_type": "stream",
     "text": [
      "2 3 1\n",
      "11\n"
     ]
    }
   ],
   "source": [
    "result = 0 \n",
    "N,X,Y = map(int,input().split(' '))\n",
    "solve(2**N,0,0)"
   ]
  },
  {
   "cell_type": "markdown",
   "metadata": {},
   "source": [
    "문제 제목: 0 만들기\n",
    "\n",
    "문제 난이도: 중\n",
    "\n",
    "문제유형: 재귀 함수\n",
    "\n",
    "https://www.acmicpc.net/problem/7490"
   ]
  },
  {
   "cell_type": "code",
   "execution_count": 1,
   "metadata": {},
   "outputs": [],
   "source": [
    "#강사 풀이 - 도저히 모르겠다\n",
    "import copy\n",
    "\n",
    "def recursive(array, n):\n",
    "    if len(array) == n:\n",
    "        operators_list.append(copy.deepcopy(array))\n",
    "        return\n",
    "        \n",
    "    array.append(' ')\n",
    "    # 1 여기서 두개가 되면 Operators_list에 추가된다\n",
    "    recursive(array, n)\n",
    "    # 1 뒤에 있는 ''가 빠진다\n",
    "    # 2 이제 남아 있는 - 가 빠지고 뒤에부터 다시 시작\n",
    "    array.pop()\n",
    "    # 1 ' '는 그대로 있고 +가 추가, Operators_list에 추가\n",
    "    array.append('+')\n",
    "    recursive(array, n)\n",
    "    # 1 뒤에 있는 +가 빠진다\n",
    "    array.pop()\n",
    "    # 1 ' '는 그대로 있고 - 가 추가, Operators_list에 추가\n",
    "    array.append('-')\n",
    "    recursive(array, n)\n",
    "    # 1 뒤에 있는 -가 빠진다\n",
    "    array.pop()\n",
    "\n",
    "test_case = int(input())\n",
    "\n",
    "for _ in range(test_case):\n",
    "    operators_list = []\n",
    "    n = int(input())\n",
    "    recursive([],n-1)\n",
    "    \n",
    "    integers = [i for i in range(1, n+1)]\n",
    "    \n",
    "    for operators in operators_list:\n",
    "        string = \"\"\n",
    "        for i in range(n-1):\n",
    "            string += str(integers[i]) + operators[i]\n",
    "        string += str(integers[-1])\n",
    "        #eval 함수는 string을 연산자로 바꿔줌\n",
    "        if eval(string.replace(\" \",\"\")) == 0:\n",
    "            print(string)\n",
    "    \n",
    "    print()"
   ]
  },
  {
   "cell_type": "markdown",
   "metadata": {},
   "source": [
    "## 고급 정렬 알고리즘 - 핵심 유형 문제풀이"
   ]
  },
  {
   "cell_type": "markdown",
   "metadata": {},
   "source": [
    "문제 제목: 수 정렬하기 2\n",
    "\n",
    "문제 난이도: 하\n",
    "\n",
    "문제유형: 정렬\n",
    "\n",
    "https://www.acmicpc.net/problem/2751"
   ]
  },
  {
   "cell_type": "code",
   "execution_count": 17,
   "metadata": {},
   "outputs": [
    {
     "name": "stdout",
     "output_type": "stream",
     "text": [
      "1\n",
      "2\n",
      "3\n",
      "4\n",
      "5\n"
     ]
    }
   ],
   "source": [
    "#내 풀이 - 퀵 정렬과 같은 경우에는 최악의 경우 O(n^2)이다..\n",
    "result = [] \n",
    "test_case = int(input())\n",
    "for _ in range(test_case):\n",
    "    n = int(input())\n",
    "    result.append(n)\n",
    "    \n",
    "    \n",
    "def qsort(data):\n",
    "    if len(data) <= 1:\n",
    "        return data\n",
    "\n",
    "    left, right = list(), list()\n",
    "    pivot = data[0]\n",
    "\n",
    "    for i in range(1, len(data)):\n",
    "        if data[i] < pivot:\n",
    "            left.append(data[i])\n",
    "        else:\n",
    "            right.append(data[i])\n",
    "    \n",
    "    return qsort(left) + [pivot] + qsort(right)\n",
    "\n",
    "result = qsort(result)\n",
    "for i in result:\n",
    "    print(i)"
   ]
  },
  {
   "cell_type": "code",
   "execution_count": 29,
   "metadata": {},
   "outputs": [],
   "source": [
    "#강사 풀이 - 병합 정렬은 nlogn이다...\n",
    "def merge_sort(array):\n",
    "    if len(array) <= 1:\n",
    "        return array\n",
    "    mid = len(array) // 2\n",
    "    left = merge_sort(array[:mid])\n",
    "    right = merge_sort(array[mid:])\n",
    "    i,j,k = 0,0,0\n",
    "    \n",
    "    while i < len(left) and j < len(right):\n",
    "        if left[i] < right[j]:\n",
    "            array[k] = left[i]\n",
    "            i += 1\n",
    "        else:\n",
    "            array[k] = right[j]\n",
    "            j += 1\n",
    "        k += 1\n",
    "    \n",
    "    if i == len(left):\n",
    "        while j < len(right):\n",
    "            array[k] = right[j]\n",
    "            j += 1\n",
    "            k += 1\n",
    "    elif j == len(right):\n",
    "        while i < len(left):\n",
    "            array[k] = left[i]\n",
    "            i += 1\n",
    "            k += 1\n",
    "    \n",
    "    return array\n",
    "\n",
    "array = [] \n",
    "test_case = int(input())\n",
    "for _ in range(test_case):\n",
    "    n = int(input())\n",
    "    array.append(n)\n",
    "    \n",
    "array = merge_sort(array)\n",
    "\n",
    "for data in array:\n",
    "    print(data)"
   ]
  },
  {
   "cell_type": "code",
   "execution_count": null,
   "metadata": {},
   "outputs": [],
   "source": [
    "#개 쉬운 버전...\n",
    "test_case = int(input())\n",
    "for _ in range(test_case):\n",
    "    n = int(input())\n",
    "    array.append(n)\n",
    "    \n",
    "array = sorted(array)\n",
    "\n",
    "for data in array:\n",
    "    print(data)"
   ]
  },
  {
   "cell_type": "markdown",
   "metadata": {},
   "source": [
    "문제 제목: K번째 수\n",
    "\n",
    "문제 난이도: 중\n",
    "\n",
    "문제유형: 정렬\n",
    "\n",
    "https://www.acmicpc.net/problem/11004"
   ]
  },
  {
   "cell_type": "code",
   "execution_count": 32,
   "metadata": {},
   "outputs": [
    {
     "name": "stdout",
     "output_type": "stream",
     "text": [
      "5 2\n",
      "4 1 2 3 5\n",
      "2\n"
     ]
    }
   ],
   "source": [
    "#아까랑 동일\n",
    "\n",
    "n, k = map(int, input().split())\n",
    "array = list(map(int, input().split()))\n",
    "\n",
    "array = sorted(array)\n",
    "print(array[k-1])\n"
   ]
  },
  {
   "cell_type": "markdown",
   "metadata": {},
   "source": [
    "## 기본 탐색 알고리즘 - 기초 문제풀이"
   ]
  },
  {
   "cell_type": "markdown",
   "metadata": {},
   "source": [
    "문제 제목: 문서검색\n",
    "\n",
    "문제 난이도: 하\n",
    "\n",
    "문제유형: 탐색\n",
    "\n",
    "https://www.acmicpc.net/problem/1543"
   ]
  },
  {
   "cell_type": "code",
   "execution_count": 62,
   "metadata": {},
   "outputs": [
    {
     "name": "stdout",
     "output_type": "stream",
     "text": [
      "a a a a a\n",
      "a a\n",
      "2\n"
     ]
    }
   ],
   "source": [
    "#내 풀이 == 강사 풀이\n",
    "word = input()\n",
    "search = input()\n",
    "count = 0\n",
    "start = 0\n",
    "while start <= len(word):\n",
    "    if search == word[start:start+len(search)]:\n",
    "        count += 1\n",
    "        start += len(search)\n",
    "    else:\n",
    "        start += 1\n",
    "    \n",
    "print(count)"
   ]
  },
  {
   "cell_type": "markdown",
   "metadata": {},
   "source": [
    "문제 제목: 새\n",
    "\n",
    "문제 난이도: 하\n",
    "\n",
    "문제유형: 탐색\n",
    "\n",
    "https://www.acmicpc.net/problem/1568"
   ]
  },
  {
   "cell_type": "code",
   "execution_count": 80,
   "metadata": {},
   "outputs": [
    {
     "name": "stdout",
     "output_type": "stream",
     "text": [
      "5\n",
      "4\n"
     ]
    }
   ],
   "source": [
    "#내 풀이\n",
    "K = int(input())\n",
    "start = 1\n",
    "count = 0\n",
    "while start <= K:\n",
    "    K -= start\n",
    "    start += 1\n",
    "    count += 1\n",
    "    if start > K:\n",
    "        start = 1\n",
    "\n",
    "print(count)"
   ]
  },
  {
   "cell_type": "code",
   "execution_count": 81,
   "metadata": {},
   "outputs": [
    {
     "name": "stdout",
     "output_type": "stream",
     "text": [
      "14\n",
      "7\n"
     ]
    }
   ],
   "source": [
    "#강사 풀이\n",
    "n = int(input())\n",
    "result = 0\n",
    "k = 1\n",
    "\n",
    "while n != 0:\n",
    "    if k > n:\n",
    "        k = 1\n",
    "    n -= k\n",
    "    k += 1\n",
    "    result += 1\n",
    "print(result)"
   ]
  },
  {
   "cell_type": "markdown",
   "metadata": {},
   "source": [
    "문제 제목: 베스트셀러\n",
    "\n",
    "문제 난이도: 하\n",
    "\n",
    "문제유형: 탐색\n",
    "\n",
    "https://www.acmicpc.net/problem/1302"
   ]
  },
  {
   "cell_type": "code",
   "execution_count": 153,
   "metadata": {},
   "outputs": [
    {
     "name": "stdout",
     "output_type": "stream",
     "text": [
      "5\n",
      "b\n",
      "b\n",
      "a\n",
      "a\n",
      "c\n",
      "a\n"
     ]
    }
   ],
   "source": [
    "#내 풀이\n",
    "test_case = int(input())\n",
    "dic = {}\n",
    "for _ in range(test_case):\n",
    "    data = input()\n",
    "    if data in dic:\n",
    "        dic[data] += 1\n",
    "    else:\n",
    "        dic[data] = 1\n",
    "\n",
    "dic = dict(sorted(dic.items()))\n",
    "\n",
    "print(max(dic.items(), key=lambda x:x[1])[0])"
   ]
  },
  {
   "cell_type": "code",
   "execution_count": 158,
   "metadata": {},
   "outputs": [
    {
     "name": "stdout",
     "output_type": "stream",
     "text": [
      "5\n",
      "b\n",
      "b\n",
      "a\n",
      "a\n",
      "c\n",
      "a\n"
     ]
    }
   ],
   "source": [
    "#강사 풀이\n",
    "n = int(input())\n",
    "books = {}\n",
    "for _ in range(n):\n",
    "    book = input()\n",
    "    if book not in books:\n",
    "        books[book] = 1\n",
    "    else:\n",
    "        books[book] += 1\n",
    "\n",
    "target = max(books.values())\n",
    "array = []\n",
    "\n",
    "for book, number in books.items():\n",
    "    if number == target:\n",
    "        array.append(book)\n",
    "\n",
    "print(sorted(array)[0])"
   ]
  },
  {
   "cell_type": "markdown",
   "metadata": {},
   "source": [
    "문제 제목: 트로피 진열\n",
    "\n",
    "문제 난이도: 하\n",
    "\n",
    "문제유형: 탐색\n",
    "\n",
    "https://www.acmicpc.net/problem/1668"
   ]
  },
  {
   "cell_type": "code",
   "execution_count": 181,
   "metadata": {},
   "outputs": [
    {
     "name": "stdout",
     "output_type": "stream",
     "text": [
      "5\n",
      "1\n",
      "2\n",
      "3\n",
      "4\n",
      "5\n"
     ]
    }
   ],
   "source": [
    "#내 풀이\n",
    "array = []\n",
    "test_case = int(input())\n",
    "for _ in range(test_case):\n",
    "    array.append(int(input()))\n",
    "\n",
    "left_highest = array[0]\n",
    "left_count = 1\n",
    "right_highest = array[-1]\n",
    "right_count = 1\n",
    "\n",
    "for i in range(1,len(array)):\n",
    "    if array[i] > left_highest:\n",
    "        left_highest = array[i]\n",
    "        left_count += 1\n",
    "\n",
    "for j in range(len(array)-2,-1,-1):\n",
    "    if array[j] > right_highest:\n",
    "        right_highest = array[j]\n",
    "        right_count += 1\n",
    "\n",
    "print(left_count)\n",
    "print(right_count)"
   ]
  },
  {
   "cell_type": "code",
   "execution_count": 183,
   "metadata": {},
   "outputs": [
    {
     "name": "stdout",
     "output_type": "stream",
     "text": [
      "5\n",
      "1\n",
      "2\n",
      "3\n",
      "4\n",
      "5\n",
      "5\n",
      "1\n"
     ]
    }
   ],
   "source": [
    "#강사 풀이\n",
    "def ascending(array):\n",
    "    now = array[0]\n",
    "    result = 1\n",
    "    for i in range(1,len(array)):\n",
    "        if now < array[i]:\n",
    "            result += 1\n",
    "            now = array[i]\n",
    "    return result\n",
    "\n",
    "n = int(input())\n",
    "array = []\n",
    "for _ in range(n):\n",
    "    array.append(int(input()))\n",
    "\n",
    "print(ascending(array))\n",
    "array.reverse()\n",
    "print(ascending(array))\n",
    "\n"
   ]
  },
  {
   "cell_type": "markdown",
   "metadata": {},
   "source": [
    "문제 제목: 성 지키기\n",
    "\n",
    "문제 난이도: 하\n",
    "\n",
    "문제유형: 탐색\n",
    "\n",
    "https://www.acmicpc.net/problem/1236"
   ]
  },
  {
   "cell_type": "code",
   "execution_count": 224,
   "metadata": {},
   "outputs": [
    {
     "name": "stdout",
     "output_type": "stream",
     "text": [
      "4 4\n",
      "....\n",
      "....\n",
      "....\n",
      "....\n",
      "4\n"
     ]
    }
   ],
   "source": [
    "# 강사 풀이 -- 나 못품..ㅠㅠ\n",
    "n,m = map(int,(input().split(' ')))\n",
    "count = 0\n",
    "array = []\n",
    "for _ in range(n):\n",
    "    array.append(input())\n",
    "    \n",
    "row = [0] * n\n",
    "column = [0] * m\n",
    "\n",
    "for i in range(n):\n",
    "    for j in range(m):\n",
    "        if array[i][j] == 'X':\n",
    "            row[i] = 1\n",
    "            column[j] = 1\n",
    "\n",
    "row_count = 0\n",
    "for i in range(n):\n",
    "    if row[i] == 0:\n",
    "        row_count += 1\n",
    "\n",
    "\n",
    "column_count = 0\n",
    "for j in range(m):\n",
    "    if column[j] == 0:\n",
    "        column_count += 1\n",
    "\n",
    "print(max(row_count,column_count))"
   ]
  },
  {
   "cell_type": "markdown",
   "metadata": {},
   "source": [
    "## 기본 탐색 알고리즘 - 핵심 유형 문제풀이"
   ]
  },
  {
   "cell_type": "markdown",
   "metadata": {},
   "source": [
    "문제 제목: 공유기 설치\n",
    "\n",
    "문제 난이도: 중\n",
    "\n",
    "문제유형: 이진 탐색\n",
    "\n",
    "https://www.acmicpc.net/problem/2110"
   ]
  },
  {
   "cell_type": "code",
   "execution_count": 49,
   "metadata": {},
   "outputs": [
    {
     "name": "stdout",
     "output_type": "stream",
     "text": [
      "7 5\n",
      "1\n",
      "3\n",
      "5\n",
      "7\n",
      "9\n",
      "11\n",
      "13\n"
     ]
    }
   ],
   "source": [
    "# 내 풀이 - 개 똥\n",
    "n,m = map(int,(input().split(' ')))\n",
    "array = []\n",
    "for _ in range(n):\n",
    "    array.append(int(input()))\n",
    "\n",
    "array = sorted(array)\n",
    "result = []\n",
    "\n",
    "def binary_search(array, m):\n",
    "    if len(result) == m :\n",
    "        return result\n",
    "    \n",
    "    result.append(array[0])\n",
    "    m -= 1\n",
    "    result.append(array[-1])\n",
    "    m -= 1\n",
    "        \n",
    "    while True:\n",
    "        medium = len(array) // 2\n",
    "        result.append(array[medium])\n",
    "        m -= 1\n",
    "        \n",
    "        if m == 0:\n",
    "            break\n",
    "        \n",
    "        binary_search(array[:medium], m)\n",
    "        binary_search(array[medium+1:], m)\n",
    "\n",
    "binary_search(array, m)"
   ]
  },
  {
   "cell_type": "code",
   "execution_count": 59,
   "metadata": {},
   "outputs": [
    {
     "name": "stdout",
     "output_type": "stream",
     "text": [
      "5 3\n",
      "1\n",
      "2\n",
      "8\n",
      "4\n",
      "9\n",
      "3\n"
     ]
    }
   ],
   "source": [
    "#강사 풀이\n",
    "n, c = list(map(int, input().split(' ')))\n",
    "array = []\n",
    "for _ in range(n):\n",
    "    array.append(int(input()))\n",
    "array = sorted(array)\n",
    "\n",
    "start = array[1] - array[0]\n",
    "end = array[-1] - array[0]\n",
    "result = 0\n",
    "\n",
    "while (start <= end):\n",
    "    mid = (start+end) // 2\n",
    "    value = array[0]\n",
    "    count = 1\n",
    "    for i in range(1, len(array)):\n",
    "        if array[i] >= value + mid:\n",
    "            value = array[i]\n",
    "            count += 1\n",
    "    if count >= c:\n",
    "        start = mid +1\n",
    "        result = mid\n",
    "    else:\n",
    "        end = mid - 1\n",
    "\n",
    "print(result)\n",
    "            "
   ]
  },
  {
   "cell_type": "markdown",
   "metadata": {},
   "source": [
    "문제 제목: 중량 제한\n",
    "\n",
    "문제 난이도: 중상 \n",
    "\n",
    "문제유형: 이진 탐색\n",
    "\n",
    "https://www.acmicpc.net/problem/1939\n",
    "    "
   ]
  },
  {
   "cell_type": "code",
   "execution_count": 65,
   "metadata": {},
   "outputs": [
    {
     "name": "stdout",
     "output_type": "stream",
     "text": [
      "3 3\n",
      "1 2 2\n",
      "3 1 3\n",
      "2 3 2\n",
      "1 3\n",
      "3\n"
     ]
    }
   ],
   "source": [
    "#강사 풀이.. 난 이런거 아직 못품 ㅠㅠ\n",
    "\n",
    "from collections import deque\n",
    "\n",
    "n, m = map(int,input().split())\n",
    "adj = [[] for _ in range(n+1)]\n",
    "\n",
    "# 중량을 찾는거임\n",
    "def bfs(c):\n",
    "    queue = deque([start_node])\n",
    "    visited = [False] * (n+1)\n",
    "    visited[start_node] = True\n",
    "    while queue:\n",
    "        x = queue.popleft()\n",
    "        for y, weight in adj[x]:\n",
    "            if not visited[y] and weight >= c:\n",
    "                visited[y] = True\n",
    "                queue.append(y)\n",
    "    return visited[end_node]\n",
    "\n",
    "start = 1000000000\n",
    "end = 1\n",
    "for _ in range(m):\n",
    "    x, y, weight = map(int,input().split())\n",
    "    #각 간선마다 추가해줌\n",
    "    adj[x].append((y,weight))\n",
    "    adj[y].append((x,weight))\n",
    "    start = min(start,weight)\n",
    "    end = max(end, weight)\n",
    "\n",
    "start_node, end_node = map(int, input().split())\n",
    "\n",
    "result = start\n",
    "\n",
    "#여기는 이전 문제와 동일\n",
    "while (start <= end):\n",
    "    mid = (start+end) // 2\n",
    "    if bfs(mid):\n",
    "        result = mid\n",
    "        start = mid +1\n",
    "    else:\n",
    "        end = mid - 1\n",
    "\n",
    "print(result)"
   ]
  },
  {
   "cell_type": "markdown",
   "metadata": {},
   "source": [
    "## 고급 탐색 알고리즘 - 기초 문제풀이"
   ]
  },
  {
   "cell_type": "markdown",
   "metadata": {},
   "source": [
    "문제 제목: 트리 순회\n",
    "\n",
    "문제 난이도: 하\n",
    "\n",
    "문제유형: 트리\n",
    "    \n",
    "https://www.acmicpc.net/problem/1991\n",
    "    "
   ]
  },
  {
   "cell_type": "markdown",
   "metadata": {},
   "source": [
    "전위 순회: 루트 -> 왼쪽 자식 -> 오른쪽 자식\n",
    "\n",
    "중위 순회: 왼쪽 자식 -> 루트 -> 오른쪽 자식\n",
    "\n",
    "후위 순회: 왼쪽 자식 -> 오른쪽 자식 -> 루트\n",
    "\n",
    "트리를 바르게 이해하기 위해선 재귀함수가 필요함"
   ]
  },
  {
   "cell_type": "code",
   "execution_count": 74,
   "metadata": {},
   "outputs": [
    {
     "name": "stdout",
     "output_type": "stream",
     "text": [
      "7\n",
      "A B C\n",
      "B D .\n",
      "C E F\n",
      "E . .\n",
      "F . G\n",
      "D . .\n",
      "G . .\n",
      "ABDCEFG\n",
      "BDACEFG\n",
      "BDCEFGA"
     ]
    }
   ],
   "source": [
    "class Node:\n",
    "    def __init__(self, data, left_node, right_node):\n",
    "        self.data = data\n",
    "        self.left_node = left_node\n",
    "        self.right_node = right_node\n",
    "\n",
    "def pre_order(node):\n",
    "    print(node.data, end='')\n",
    "    if node.left_node != '.':\n",
    "        pre_order(tree[node.left_node])\n",
    "    if node.right_node != '.':\n",
    "        pre_order(tree[node.right_node])\n",
    "        \n",
    "def in_order(node):\n",
    "    if node.left_node != '.':\n",
    "        in_order(tree[node.left_node])\n",
    "    print(node.data, end='')\n",
    "    if node.right_node != '.':\n",
    "        in_order(tree[node.right_node])\n",
    "\n",
    "def post_order(node):\n",
    "    if node.left_node != '.':\n",
    "        post_order(tree[node.left_node])\n",
    "    if node.right_node != '.':\n",
    "        post_order(tree[node.right_node])\n",
    "    print(node.data, end='')\n",
    "    \n",
    "n = int(input())\n",
    "tree = {}\n",
    "for i in range(n):\n",
    "    data, left_node, right_node = input().split()\n",
    "    tree[data] = Node(data, left_node, right_node)\n",
    "    \n",
    "pre_order(tree['A']) \n",
    "print()\n",
    "in_order(tree['A'])\n",
    "print()\n",
    "post_order(tree['A'])"
   ]
  },
  {
   "cell_type": "markdown",
   "metadata": {},
   "source": [
    "문제 제목: 트리의 높이와 너비\n",
    "\n",
    "문제 난이도: 중\n",
    "\n",
    "문제유형: 트리, 구현\n",
    "    \n",
    "https://www.acmicpc.net/problem/2250\n",
    "    "
   ]
  },
  {
   "cell_type": "code",
   "execution_count": 78,
   "metadata": {},
   "outputs": [
    {
     "name": "stdout",
     "output_type": "stream",
     "text": [
      "19\n",
      "1 2 3\n",
      "2 4 5\n",
      "3 6 7\n",
      "4 8 -1\n",
      "5 9 10\n",
      "6 11 12\n",
      "7 13 -1\n",
      "8 -1 -1\n",
      "9 14 15\n",
      "10 -1 -1\n",
      "11 16 -1\n",
      "12 -1 -1\n",
      "13 17 -1\n",
      "14 -1 -1\n",
      "15 18 -1\n",
      "16 -1 -1\n",
      "17 -1 19\n",
      "18 -1 -1\n",
      "19 -1 -1\n",
      "3 18\n"
     ]
    }
   ],
   "source": [
    "#강사 풀이 - 역대급 난이도인듯..하\n",
    "\n",
    "class Node:\n",
    "    def __init__(self, number, left_node, right_node):\n",
    "        self.parent = -1\n",
    "        self.number = number\n",
    "        self.left_node = left_node\n",
    "        self.right_node = right_node\n",
    "        \n",
    "def in_order(node, level):\n",
    "    global level_depth, x\n",
    "    level_depth = max(level_depth, level)\n",
    "    if node.left_node != -1:\n",
    "        in_order(tree[node.left_node], level + 1)\n",
    "    level_min[level] = min(level_min[level], x)\n",
    "    level_max[level] = max(level_max[level], x)\n",
    "    x += 1\n",
    "    if node.right_node != -1:\n",
    "        in_order(tree[node.right_node], level + 1)\n",
    "\n",
    "n = int(input())\n",
    "tree = {}\n",
    "level_min = [n]\n",
    "level_max = [0]\n",
    "root = -1\n",
    "x = 1\n",
    "level_depth = 1\n",
    "\n",
    "for i in range(1, n+1):\n",
    "    tree[i] = Node(i, -1, -1)\n",
    "    level_min.append(n)\n",
    "    level_max.append(0)\n",
    "    \n",
    "for _ in range(n):\n",
    "    number, left_node, right_node = map(int, input().split())\n",
    "    tree[number].left_node = left_node\n",
    "    tree[number].right_node = right_node\n",
    "    if left_node != -1:\n",
    "        tree[left_node].parent = number\n",
    "    if right_node != -1:\n",
    "        tree[right_node].parent = number\n",
    "\n",
    "for i in range(1, n+1):\n",
    "    if tree[i].parent == -1:\n",
    "        root = i\n",
    "\n",
    "in_order(tree[root], 1)\n",
    "\n",
    "result_level = 1\n",
    "result_width = level_max[1] - level_min[1] + 1\n",
    "for i in range(2, level_depth + 1):\n",
    "    width = level_max[i] - level_min[i] + 1\n",
    "    if result_width < width:\n",
    "        result_level = i\n",
    "        result_width = width\n",
    "\n",
    "print(result_level, result_width)"
   ]
  },
  {
   "cell_type": "markdown",
   "metadata": {},
   "source": [
    "## 고급 탐색 알고리즘 - 핵심 유형 문제풀이"
   ]
  },
  {
   "cell_type": "markdown",
   "metadata": {},
   "source": [
    "문제 제목: 최소 힙\n",
    "\n",
    "문제 난이도: 하\n",
    "\n",
    "문제유형: 힙, 자료구조\n",
    "    \n",
    "https://www.acmicpc.net/problem/1927\n",
    "    "
   ]
  },
  {
   "cell_type": "code",
   "execution_count": 95,
   "metadata": {},
   "outputs": [
    {
     "name": "stdout",
     "output_type": "stream",
     "text": [
      "9\n",
      "0\n",
      "12345678\n",
      "1\n",
      "2\n",
      "0\n",
      "0\n",
      "0\n",
      "0\n",
      "32\n"
     ]
    }
   ],
   "source": [
    "#내 풀이 - 이제부터 pypy3 사용하는걸로..\n",
    "import heapq\n",
    "\n",
    "array = []\n",
    "result = [] \n",
    "n = int(input())\n",
    "for _ in range(n):\n",
    "    num = int(input())\n",
    "    if not array and num == 0:\n",
    "        result.append(0)\n",
    "    elif num == 0:\n",
    "        result.append(heapq.heappop(array))\n",
    "    else:\n",
    "        heapq.heappush(array, num)\n",
    "\n",
    "for i in result:\n",
    "    print(i)"
   ]
  },
  {
   "cell_type": "code",
   "execution_count": 98,
   "metadata": {},
   "outputs": [
    {
     "name": "stdout",
     "output_type": "stream",
     "text": [
      "9\n",
      "0\n",
      "12345677\n",
      "1\n",
      "2\n",
      "0\n",
      "0\n",
      "0\n",
      "0\n",
      "32\n",
      "0\n",
      "1\n",
      "2\n",
      "12345677\n",
      "0\n"
     ]
    }
   ],
   "source": [
    "#강사 풀이\n",
    "import heapq\n",
    "\n",
    "array = []\n",
    "result = [] \n",
    "n = int(input())\n",
    "for _ in range(n):\n",
    "    num = int(input())\n",
    "    if num == 0:\n",
    "        if array:\n",
    "            result.append(heapq.heappop(array))\n",
    "        else:\n",
    "            result.append(0)\n",
    "    else:\n",
    "        heapq.heappush(array, num)\n",
    "\n",
    "for i in result:\n",
    "    print(i)"
   ]
  },
  {
   "cell_type": "markdown",
   "metadata": {},
   "source": [
    "문제 제목: 카드 정렬하기\n",
    "\n",
    "문제 난이도: 하\n",
    "\n",
    "문제유형: 힙, 자료구조, 그리디\n",
    "    \n",
    "https://www.acmicpc.net/problem/1715\n",
    "    "
   ]
  },
  {
   "cell_type": "code",
   "execution_count": 121,
   "metadata": {},
   "outputs": [
    {
     "name": "stdout",
     "output_type": "stream",
     "text": [
      "4\n",
      "10\n",
      "20\n",
      "40\n",
      "50\n",
      "220\n"
     ]
    }
   ],
   "source": [
    "#내 풀이 - 마지막 더하는 거를 구현 못함..\n",
    "import heapq\n",
    "\n",
    "n = int(input())\n",
    "heap = []\n",
    "for _ in range(n):\n",
    "    data = int(input())\n",
    "    heapq.heappush(heap, data)\n",
    "\n",
    "for i in range(len(heap)-1):\n",
    "    heap[i+1] = heap[i] + heap[i+1]\n",
    "\n",
    "print(sum(heap) - heap[0])"
   ]
  },
  {
   "cell_type": "code",
   "execution_count": 122,
   "metadata": {},
   "outputs": [
    {
     "name": "stdout",
     "output_type": "stream",
     "text": [
      "3\n",
      "10\n",
      "30\n",
      "70\n",
      "150\n"
     ]
    }
   ],
   "source": [
    "import heapq\n",
    "\n",
    "n = int(input())\n",
    "heap = []\n",
    "\n",
    "for i in range(n):\n",
    "    data = int(input())\n",
    "    heapq.heappush(heap,data)\n",
    "\n",
    "result = 0\n",
    "\n",
    "while len(heap) != 1:\n",
    "    one = heapq.heappop(heap)\n",
    "    two = heapq.heappop(heap)\n",
    "    sum_value = one + two\n",
    "    result += sum_value\n",
    "    heapq.heappush(heap, sum_value)\n",
    "\n",
    "print(result)"
   ]
  },
  {
   "cell_type": "markdown",
   "metadata": {},
   "source": [
    "문제 제목: 문제집\n",
    "\n",
    "문제 난이도: 중\n",
    "\n",
    "문제유형: 힙, 위상 정렬\n",
    "    \n",
    "https://www.acmicpc.net/problem/1766"
   ]
  },
  {
   "cell_type": "markdown",
   "metadata": {},
   "source": [
    "위상 정렬 알고리즘\n",
    "\n",
    "1) 진입차수가 0인 정점을 큐에 삽입합니다\n",
    "\n",
    "2) 큐에서 원소를 꺼내 해당 원소와 간선을 제거합니다\n",
    "\n",
    "3) 제거 이후에 진입차수가 0이 된 정점을 큐에 삽입합니다\n",
    "\n",
    "4) 큐가 빌 때까지 2) - 3) 과정을 반복합니다"
   ]
  },
  {
   "cell_type": "markdown",
   "metadata": {},
   "source": [
    "우선순위 큐라고도 불림"
   ]
  },
  {
   "cell_type": "code",
   "execution_count": 130,
   "metadata": {},
   "outputs": [
    {
     "name": "stdout",
     "output_type": "stream",
     "text": [
      "4 2\n",
      "4 2\n",
      "3 1\n",
      "[0, 1, 1, 0, 0]\n",
      "[3, 4]\n",
      "3 1 4 2 "
     ]
    }
   ],
   "source": [
    "import heapq\n",
    "\n",
    "n, m = map(int, input().split())\n",
    "array = [[] for i in range(n+1)]\n",
    "indegree = [0] * (n+1)\n",
    "\n",
    "heap = []\n",
    "result = []\n",
    "\n",
    "# 힙과 간선 구현\n",
    "for _ in range(m):\n",
    "    x, y = map(int, input().split())\n",
    "    array[x].append(y)\n",
    "    indegree[y] += 1\n",
    "\n",
    "# 1번 0인 정점 큐에 삽입 구현\n",
    "for i in range(1, n+1):\n",
    "    if indegree[i] == 0:\n",
    "        heapq.heappush(heap,i)\n",
    "\n",
    "while heap:\n",
    "    # 2번 큐에서 원소를 꺼냄\n",
    "    data = heapq.heappop(heap)\n",
    "    result.append(data)\n",
    "    for y in array[data]:\n",
    "        # 2번 간선을 제거\n",
    "        indegree[y] -= 1\n",
    "        # 3번 제거 이후에 진입차수가 0이 된 정점을 큐에 삽입\n",
    "        if indegree[y] == 0:\n",
    "            heapq.heappush(heap,y)\n",
    "\n",
    "for i in result:\n",
    "    print(i, end = ' ')"
   ]
  },
  {
   "cell_type": "markdown",
   "metadata": {},
   "source": [
    "## 동적 프로그래밍 - 기초 문제풀이"
   ]
  },
  {
   "cell_type": "markdown",
   "metadata": {},
   "source": [
    "문제 제목: 01타일\n",
    "\n",
    "문제 난이도: 하\n",
    "\n",
    "문제유형: 동적프로그래밍\n",
    "    \n",
    "https://www.acmicpc.net/problem/1904"
   ]
  },
  {
   "cell_type": "markdown",
   "metadata": {},
   "source": [
    "동적 프로그래밍 - 한 번 계산한 값은 다시 구현하지 않는다\n",
    "\n",
    "점화식(인접한 항들 사이의 관계식)을 세워야 함\n",
    "\n",
    "d[i]= '수열의 길이가 i일 때의 경우의 수' \n",
    "\n",
    "d[i] = d[i-1] + d[i-2]\n"
   ]
  },
  {
   "cell_type": "code",
   "execution_count": 136,
   "metadata": {},
   "outputs": [
    {
     "name": "stdout",
     "output_type": "stream",
     "text": [
      "{('1', '1', '00'), ('1', '00', '1'), ('00', '1', '1')}\n"
     ]
    }
   ],
   "source": [
    "#내 풀이 -- 모르겠다..\n",
    "import itertools\n",
    "data = ['00','1','1']\n",
    "nPr = itertools.permutations(data, len(data))\n",
    "print(set(nPr))"
   ]
  },
  {
   "cell_type": "code",
   "execution_count": 1,
   "metadata": {},
   "outputs": [
    {
     "name": "stdout",
     "output_type": "stream",
     "text": [
      "4\n",
      "5\n"
     ]
    }
   ],
   "source": [
    "#강사 풀이 - 피보나치랑 동일\n",
    "n = int(input())\n",
    "dp = [0] * 1000001\n",
    "dp[1] = 1\n",
    "dp[2] = 2\n",
    "\n",
    "for i in range(3, n+1):\n",
    "    dp[i] = (dp[i-2] + dp[i-1]) % 15746\n",
    "\n",
    "print(dp[n])"
   ]
  },
  {
   "cell_type": "markdown",
   "metadata": {},
   "source": [
    "문제 제목: 평범한 배낭\n",
    "\n",
    "문제 난이도: 하\n",
    "\n",
    "문제유형: 동적프로그래밍\n",
    "    \n",
    "https://www.acmicpc.net/problem/12865"
   ]
  },
  {
   "cell_type": "markdown",
   "metadata": {},
   "source": [
    "knapsack problem\n",
    "\n",
    "복잡도 O(NK)\n",
    "\n",
    "모든 무게에 대하여 최대가치를 저장하기\n",
    "\n",
    "D[i][j] = 배낭에 넣은 물품의 무게 합이 j일 때 얻을 수 있는 최대 가치\n"
   ]
  },
  {
   "cell_type": "code",
   "execution_count": 13,
   "metadata": {},
   "outputs": [
    {
     "name": "stdout",
     "output_type": "stream",
     "text": [
      "4 7\n",
      "6 13\n",
      "4 8\n",
      "3 6\n",
      "5 12\n"
     ]
    }
   ],
   "source": [
    "#강사 풀이\n",
    "n, k = map(int,input().split(' '))\n",
    "#2차원 배열 만들기\n",
    "dp = [[0] * (k+1) for _ in range(n+1)]\n",
    "for i in range(1, n+1):\n",
    "    weight, value = map(int,input().split(' '))\n",
    "    for j in range(1, k+1):\n",
    "        #현재 무게가 들어오는 무게보다 작은 경우\n",
    "        if j < weight:\n",
    "            dp[i][j] = dp[i-1][j]\n",
    "        #현재 무게가 들어오는 무게보다 같거나 큰 경우\n",
    "        else:\n",
    "            #이전 행에 있는 값과, ((현재 무게 - 들어오는 무게)의 가치) + 현재 무게 가치\n",
    "            dp[i][j] = max(dp[i-1][j], dp[i-1][j-weight] + value)\n",
    "\n",
    "print(dp[n][k])"
   ]
  },
  {
   "cell_type": "markdown",
   "metadata": {},
   "source": [
    "문제 제목: 가장 긴 증가하는 부분 수열\n",
    "\n",
    "문제 난이도: 하\n",
    "\n",
    "문제유형: 동적프로그래밍, LIS\n",
    "    \n",
    "https://www.acmicpc.net/problem/11053"
   ]
  },
  {
   "cell_type": "code",
   "execution_count": 46,
   "metadata": {},
   "outputs": [
    {
     "name": "stdout",
     "output_type": "stream",
     "text": [
      "6\n",
      "10 20 10 30 20 50\n",
      "4\n"
     ]
    }
   ],
   "source": [
    "#내 풀이 - 왜 에러냐\n",
    "\n",
    "n = int(input())\n",
    "array = list(map(int, input().split()))\n",
    "\n",
    "\n",
    "result = []\n",
    "for i in range(len(array)):\n",
    "    value = array[i]\n",
    "    count = 1\n",
    "    for j in range(i, len(array)):\n",
    "        if value < array[j]:\n",
    "            value = array[j]\n",
    "            count += 1\n",
    "        else:\n",
    "            continue\n",
    "    result.append(count)\n",
    "\n",
    "print(max(result))"
   ]
  },
  {
   "cell_type": "markdown",
   "metadata": {},
   "source": [
    "D[i] = array[i]를 마지막 원소로 가지는 부분 수열의 최대 길이"
   ]
  },
  {
   "cell_type": "code",
   "execution_count": 52,
   "metadata": {},
   "outputs": [
    {
     "name": "stdout",
     "output_type": "stream",
     "text": [
      "6\n",
      "10 20 10 30 20 50\n",
      "4\n"
     ]
    }
   ],
   "source": [
    "#강사 풀이\n",
    "n = int(input())\n",
    "array = list(map(int, input().split()))\n",
    "dp = [1]*n\n",
    "\n",
    "for i in range(1,n):\n",
    "    for j in range(0,i):\n",
    "        if array[j] < array[i]:\n",
    "            dp[i] = max(dp[i], dp[j] + 1)\n",
    "\n",
    "print(max(dp))"
   ]
  },
  {
   "cell_type": "markdown",
   "metadata": {},
   "source": [
    "## 동적 프로그래밍 - 핵심 유형 문제풀이"
   ]
  },
  {
   "cell_type": "markdown",
   "metadata": {},
   "source": [
    "문제 제목: LCS\n",
    "\n",
    "문제 난이도: 하\n",
    "\n",
    "문제유형: 동적프로그래밍, LCS\n",
    "    \n",
    "https://www.acmicpc.net/problem/9251"
   ]
  },
  {
   "cell_type": "markdown",
   "metadata": {},
   "source": [
    "D[i][j] = D[i-1][j-1] +1 if X[i] = Y[j]\n",
    "        = max(D[i][j-1],D[i-1][j]) if X[i] != Y[j]"
   ]
  },
  {
   "cell_type": "code",
   "execution_count": 2,
   "metadata": {},
   "outputs": [
    {
     "name": "stdout",
     "output_type": "stream",
     "text": [
      "ACAYKP\n",
      "CAPCAK\n",
      "4\n"
     ]
    }
   ],
   "source": [
    "#강사 풀이... (나 못품.. ㅠ)\n",
    "x = input()\n",
    "y = input()\n",
    "dp = [[0] * (len(y)+1) for _ in range(len(x)+1)]\n",
    "for i in range(1, len(x)+1):\n",
    "    for j in range(1, len(y)+1):\n",
    "        if x[i-1] == y[j-1]:\n",
    "            dp[i][j] = dp[i-1][j-1] +1\n",
    "        else:\n",
    "            dp[i][j] = max(dp[i][j-1], dp[i-1][j])\n",
    "\n",
    "print(dp[len(x)][len(y)])"
   ]
  },
  {
   "cell_type": "markdown",
   "metadata": {},
   "source": [
    "문제 제목: 기타리스트\n",
    "\n",
    "문제 난이도: 중\n",
    "\n",
    "문제유형: 동적프로그래밍\n",
    "    \n",
    "https://www.acmicpc.net/problem/1495"
   ]
  },
  {
   "cell_type": "markdown",
   "metadata": {},
   "source": [
    "핵심: 모든 볼륨에 대하여 연주 가능 여부를 계산하기\n",
    "\n",
    "d[i][j+1] = i번째 노래일때 j 크기의 볼륨으로 연주 가능한지 여부\n",
    "\n",
    "d[i][j-V[i]] = True if D[i-1][j] = True\n",
    "\n",
    "d[i][j+V[i]] = True if D[i-1][j] = True"
   ]
  },
  {
   "cell_type": "code",
   "execution_count": null,
   "metadata": {},
   "outputs": [],
   "source": [
    "n, s, m = map(int, input().split())\n",
    "array = list(map(int, input().split()))\n",
    "\n",
    "dp = [[0] * (m+1) for _ in range(n+1)]\n",
    "dp[0][s] = 1\n",
    "\n",
    "for i in range(1, n+1):\n",
    "    for j in range(m+1):\n",
    "        if dp[i-1][j] == 0:\n",
    "            continue\n",
    "        if j - array[i-1] >= 0:\n",
    "            dp[i][j-array[i-1]] = 1\n",
    "        if j + array[i-1] <= m:\n",
    "            dp[i][j+array[i-1]] = 1\n",
    "\n",
    "result = -1\n",
    "for i in range(m,-1,-1):\n",
    "    if dp[n][i] == 1:\n",
    "        result = i\n",
    "        break\n",
    "\n",
    "print(result)"
   ]
  },
  {
   "cell_type": "markdown",
   "metadata": {},
   "source": [
    "문제 제목: 가장 높은 탑 쌓기\n",
    "\n",
    "문제 난이도: 상\n",
    "\n",
    "문제유형: 동적프로그래밍, LIS\n",
    "    \n",
    "https://www.acmicpc.net/problem/2655"
   ]
  },
  {
   "cell_type": "markdown",
   "metadata": {},
   "source": [
    "가장 먼저 벽돌을 무게 기준으로 정렬합니다.\n",
    "\n",
    "D[i] = 인덱스가 i인 벽돌을 가장 아래에 두었을 때의 최대 높이\n",
    "\n",
    "각 벽돌에 대해서 확인하여 D[i]를 갱신합니다\n",
    "\n",
    "모든 0 <= j < i 에 대해서, D[i] = max(D[i], D[j]+height[i]) if area[i] > area[j]"
   ]
  },
  {
   "cell_type": "code",
   "execution_count": 8,
   "metadata": {},
   "outputs": [
    {
     "name": "stdout",
     "output_type": "stream",
     "text": [
      "5\n",
      "25 3 4\n",
      "4 4 6\n",
      "9 2 3\n",
      "16 2 5\n",
      "1 5 2\n",
      "3\n",
      "5\n",
      "3\n",
      "1\n"
     ]
    },
    {
     "data": {
      "text/plain": [
       "[None, None, None]"
      ]
     },
     "execution_count": 8,
     "metadata": {},
     "output_type": "execute_result"
    }
   ],
   "source": [
    "#강사 풀이 -- 이건 그래도 할만..ㅠ\n",
    "n = int(input())\n",
    "array = []\n",
    "\n",
    "array.append((0,0,0,0))\n",
    "for i in range(1, n+1):\n",
    "    area, height, weight = map(int, input().split())\n",
    "    array.append((i, area, height, weight))\n",
    "\n",
    "array.sort(key=lambda data:data[3])\n",
    "\n",
    "dp = [0] * (n+1)\n",
    "\n",
    "for i in range(1, n+1):\n",
    "    for j in range(0,i):\n",
    "        #1이 area 이기 때문에 벽돌의 area가 크면\n",
    "        if array[i][1] > array[j][1]:\n",
    "            #2는 height이기 때문에 큰 값을 더한다\n",
    "            dp[i] = max(dp[i], dp[j] + array[i][2])\n",
    "\n",
    "max_value = max(dp)\n",
    "index = n\n",
    "result = []\n",
    "while index != 0:\n",
    "    if max_value == dp[index]:\n",
    "        #0은 index이기 때문에 가장 큰 것부터 뽑는다\n",
    "        result.append(array[index][0])\n",
    "        max_value -= array[index][2]\n",
    "    index -= 1\n",
    "\n",
    "result.reverse()\n",
    "print(len(result))\n",
    "[print(i) for i in result]"
   ]
  },
  {
   "cell_type": "markdown",
   "metadata": {},
   "source": [
    "## 그래프 기본 탐색 알고리즘 - 기초 문제풀이"
   ]
  },
  {
   "cell_type": "markdown",
   "metadata": {},
   "source": [
    "문제 제목: DFS와 BFS\n",
    "\n",
    "문제 난이도: 하\n",
    "\n",
    "문제유형: DFS, BFS\n",
    "    \n",
    "https://www.acmicpc.net/problem/1260"
   ]
  },
  {
   "cell_type": "markdown",
   "metadata": {},
   "source": [
    " 정점 번호가 작은것 부터 방문\n",
    " \n",
    " 큐 구현을 위해 deque를 사용"
   ]
  },
  {
   "cell_type": "code",
   "execution_count": 60,
   "metadata": {},
   "outputs": [
    {
     "name": "stdout",
     "output_type": "stream",
     "text": [
      "5 5 3\n",
      "5 4\n",
      "5 2\n",
      "1 2\n",
      "3 4\n",
      "3 1\n",
      "3 1 2 5 4 \n",
      "3 1 4 2 5 "
     ]
    }
   ],
   "source": [
    "#여러번 풀어봄...\n",
    "from collections import deque\n",
    "\n",
    "n, m, v = map(int, input().split())\n",
    "adj = [[] for _ in range(n+1)]\n",
    "\n",
    "for _ in range(m):\n",
    "    x, y = map(int, input().split())\n",
    "    adj[x].append(y)\n",
    "    adj[y].append(x)\n",
    "\n",
    "for e in adj:\n",
    "    e.sort()\n",
    "\n",
    "def dfs(v):\n",
    "    print(v, end = ' ')\n",
    "    visited[v] = True\n",
    "    for e in adj[v]:\n",
    "        if not (visited[e]):\n",
    "            visited[e] = True\n",
    "            dfs(e)\n",
    "\n",
    "def bfs(v):\n",
    "    q = deque([v])\n",
    "    while q:\n",
    "        v = q.popleft()\n",
    "        if not(visited[v]):\n",
    "            visited[v] = True\n",
    "            print(v, end = ' ')\n",
    "            for e in adj[v]:\n",
    "                if not visited[e]:\n",
    "                    q.append(e)\n",
    "\n",
    "visited = [False] * (n+1)\n",
    "dfs(v)\n",
    "print()\n",
    "visited = [False] * (n+1)\n",
    "bfs(v)"
   ]
  },
  {
   "cell_type": "markdown",
   "metadata": {},
   "source": [
    "문제 제목: 숨바꼭질\n",
    "\n",
    "문제 난이도: 하\n",
    "\n",
    "문제유형: BFS\n",
    "    \n",
    "https://www.acmicpc.net/problem/1697"
   ]
  },
  {
   "cell_type": "code",
   "execution_count": 99,
   "metadata": {},
   "outputs": [
    {
     "name": "stdout",
     "output_type": "stream",
     "text": [
      "3 20\n",
      "4\n"
     ]
    }
   ],
   "source": [
    "#내 풀이 : 왜 틀린거냐 진짜... 미치겠네\n",
    "from collections import deque\n",
    "n, k = map(int, input().split())\n",
    "\n",
    "def bfs(n):\n",
    "    visited = []\n",
    "    height = 1\n",
    "    q = deque([n])\n",
    "    max_value = 2*n\n",
    "\n",
    "    while n != k:\n",
    "        n = q.popleft()\n",
    "        if n == max_value:\n",
    "            height += 1\n",
    "            max_value = n\n",
    "        if n not in visited:\n",
    "            visited.append(n)\n",
    "            q.extend([n-1,n+1,2*n])\n",
    "\n",
    "    print(height)\n",
    "\n",
    "bfs(n)"
   ]
  },
  {
   "cell_type": "code",
   "execution_count": 113,
   "metadata": {
    "scrolled": false
   },
   "outputs": [
    {
     "name": "stdout",
     "output_type": "stream",
     "text": [
      "5 17\n",
      "4\n"
     ]
    }
   ],
   "source": [
    "#강사 풀이 - 선을 직접 구현\n",
    "from collections import deque\n",
    "MAX = 100001\n",
    "n, k = map(int, input().split())\n",
    "array = [0] * MAX\n",
    "\n",
    "def bfs():\n",
    "    q = deque([n])\n",
    "    while q:\n",
    "        now_pos = q.popleft()\n",
    "        if now_pos == k:\n",
    "            return array[now_pos]\n",
    "        for next_pos in (now_pos-1, now_pos+1, now_pos * 2):\n",
    "            #리스트 인덱싱으로 구현 if not array[next_pos]는 0일 때 진행한다는 의미\n",
    "            if 0 <= next_pos < MAX and not array[next_pos]:\n",
    "                # 이전에 연결된 거를 하나씩 더해서 저장해줌\n",
    "                array[next_pos] = array[now_pos] +1\n",
    "                q.append(next_pos)\n",
    "\n",
    "print(bfs())"
   ]
  },
  {
   "cell_type": "markdown",
   "metadata": {},
   "source": [
    "## 그래프 기본 탐색 알고리즘 - 핵심 유형 문제풀이"
   ]
  },
  {
   "cell_type": "markdown",
   "metadata": {},
   "source": [
    "문제 제목: 바이러스\n",
    "\n",
    "문제 난이도: 하\n",
    "\n",
    "문제유형: DFS, BFS\n",
    "    \n",
    "https://www.acmicpc.net/problem/2606"
   ]
  },
  {
   "cell_type": "code",
   "execution_count": 114,
   "metadata": {},
   "outputs": [
    {
     "name": "stdout",
     "output_type": "stream",
     "text": [
      "7\n",
      "6\n",
      "1 2\n",
      "2 3\n",
      "1 5\n",
      "5 2\n",
      "5 6\n",
      "4 7\n"
     ]
    }
   ],
   "source": [
    "#내 풀이 - 올만에 맞앗당..\n",
    "n = int(input())\n",
    "m = int(input())\n",
    "adj = [[] for _ in range(n+1)]\n",
    "for _ in range(m):\n",
    "    x,y = map(int, input().split())\n",
    "    adj[x].append(y)\n",
    "    adj[y].append(x)\n",
    "\n",
    "visited = [False] * (n+1)\n",
    "result = []\n",
    "def dfs(v):\n",
    "    visited[v] = True\n",
    "    for e in adj[v]:\n",
    "        if not (visited[e]):\n",
    "            visited[e] = True\n",
    "            result.append(e)\n",
    "            dfs(e)\n",
    "\n",
    "dfs(1)\n",
    "print(len(result))\n",
    "    "
   ]
  },
  {
   "cell_type": "code",
   "execution_count": 123,
   "metadata": {},
   "outputs": [
    {
     "name": "stdout",
     "output_type": "stream",
     "text": [
      "4\n"
     ]
    }
   ],
   "source": [
    "#강사 풀이\n",
    "n = int(input())\n",
    "m = int(input())\n",
    "adj = [[] for _ in range(n+1)]\n",
    "visited = [False] * (n+1)\n",
    "count = 0\n",
    "\n",
    "for _ in range(m):\n",
    "    x,y = map(int, input().split())\n",
    "    adj[x].append(y)\n",
    "    adj[y].append(x)\n",
    "\n",
    "def dfs(v):\n",
    "    global count\n",
    "    count += 1\n",
    "    visited[v] = True\n",
    "    for e in adj[v]:\n",
    "        if not (visited[e]):\n",
    "            visited[e] = True\n",
    "            dfs(e)\n",
    "\n",
    "dfs(1)\n",
    "print(count - 1)\n",
    "    "
   ]
  },
  {
   "cell_type": "markdown",
   "metadata": {},
   "source": [
    "문제 제목: 유기농 배추\n",
    "\n",
    "문제 난이도: 하\n",
    "\n",
    "문제유형: DFS, BFS\n",
    "    \n",
    "https://www.acmicpc.net/problem/1012"
   ]
  },
  {
   "cell_type": "markdown",
   "metadata": {},
   "source": [
    "연결 요소의 개수를 세면됨\n",
    "\n",
    "모든 정점에 대해 dfS, BFS 수행하고, 한번 방문한 정점은 다시 확인하지 않음\n",
    "\n",
    "DFS 및 BFS를 수행한 총 횟수를 처리해야한다\n",
    "\n",
    "DFS 경우 setrecursionlimit()함수를 설정해줘야한다"
   ]
  },
  {
   "cell_type": "code",
   "execution_count": 293,
   "metadata": {},
   "outputs": [
    {
     "ename": "ValueError",
     "evalue": "invalid literal for int() with base 10: ''",
     "output_type": "error",
     "traceback": [
      "\u001b[1;31m---------------------------------------------------------------------------\u001b[0m",
      "\u001b[1;31mValueError\u001b[0m                                Traceback (most recent call last)",
      "\u001b[1;32m<ipython-input-293-26511554bf8c>\u001b[0m in \u001b[0;36m<module>\u001b[1;34m\u001b[0m\n\u001b[0;32m     12\u001b[0m             \u001b[0mdfs\u001b[0m\u001b[1;33m(\u001b[0m\u001b[0mnx\u001b[0m\u001b[1;33m,\u001b[0m\u001b[0mny\u001b[0m\u001b[1;33m)\u001b[0m\u001b[1;33m\u001b[0m\u001b[1;33m\u001b[0m\u001b[0m\n\u001b[0;32m     13\u001b[0m \u001b[1;33m\u001b[0m\u001b[0m\n\u001b[1;32m---> 14\u001b[1;33m \u001b[1;32mfor\u001b[0m \u001b[0m_\u001b[0m \u001b[1;32min\u001b[0m \u001b[0mrange\u001b[0m\u001b[1;33m(\u001b[0m\u001b[0mint\u001b[0m\u001b[1;33m(\u001b[0m\u001b[0minput\u001b[0m\u001b[1;33m(\u001b[0m\u001b[1;33m)\u001b[0m\u001b[1;33m)\u001b[0m\u001b[1;33m)\u001b[0m\u001b[1;33m:\u001b[0m\u001b[1;33m\u001b[0m\u001b[1;33m\u001b[0m\u001b[0m\n\u001b[0m\u001b[0;32m     15\u001b[0m     \u001b[0mm\u001b[0m\u001b[1;33m,\u001b[0m \u001b[0mn\u001b[0m\u001b[1;33m,\u001b[0m \u001b[0mk\u001b[0m \u001b[1;33m=\u001b[0m \u001b[0mmap\u001b[0m\u001b[1;33m(\u001b[0m\u001b[0mint\u001b[0m\u001b[1;33m,\u001b[0m \u001b[0minput\u001b[0m\u001b[1;33m(\u001b[0m\u001b[1;33m)\u001b[0m\u001b[1;33m.\u001b[0m\u001b[0msplit\u001b[0m\u001b[1;33m(\u001b[0m\u001b[1;33m)\u001b[0m\u001b[1;33m)\u001b[0m\u001b[1;33m\u001b[0m\u001b[1;33m\u001b[0m\u001b[0m\n\u001b[0;32m     16\u001b[0m     \u001b[0marray\u001b[0m \u001b[1;33m=\u001b[0m \u001b[1;33m[\u001b[0m\u001b[1;33m[\u001b[0m\u001b[1;36m0\u001b[0m\u001b[1;33m]\u001b[0m \u001b[1;33m*\u001b[0m \u001b[0mm\u001b[0m \u001b[1;32mfor\u001b[0m \u001b[0m_\u001b[0m \u001b[1;32min\u001b[0m \u001b[0mrange\u001b[0m\u001b[1;33m(\u001b[0m\u001b[0mn\u001b[0m\u001b[1;33m)\u001b[0m\u001b[1;33m]\u001b[0m\u001b[1;33m\u001b[0m\u001b[1;33m\u001b[0m\u001b[0m\n",
      "\u001b[1;31mValueError\u001b[0m: invalid literal for int() with base 10: ''"
     ]
    }
   ],
   "source": [
    "import sys\n",
    "sys.setrecursionlimit(100000)\n",
    "\n",
    "def dfs(x,y):\n",
    "    visited[x][y] = True\n",
    "    directions = [(-1,0),(1,0),(0,-1),(0,1)]\n",
    "    for dx, dy in directions:\n",
    "        nx, ny = x+dx, y+dy\n",
    "        if nx<0 or nx>=n or ny<0 or ny>=m:\n",
    "            continue\n",
    "        if array[nx][ny] and not visited[nx][ny]:\n",
    "            dfs(nx,ny)\n",
    "\n",
    "for _ in range(int(input())):\n",
    "    m, n, k = map(int, input().split())\n",
    "    array = [[0] * m for _ in range(n)]\n",
    "    visited = [[False] * m for _ in range(n)]\n",
    "    for _ in range(k):\n",
    "        y, x = map(int, input().split())\n",
    "        array[x][y] = 1\n",
    "    result = 0\n",
    "    for i in range(n):\n",
    "        for j in range(m):\n",
    "            if array[i][j] and not visited[i][j]:\n",
    "                dfs(i,j)\n",
    "                result += 1\n",
    "    print(result)"
   ]
  },
  {
   "cell_type": "markdown",
   "metadata": {},
   "source": [
    "문제 제목: 효율적인 해킹\n",
    "\n",
    "문제 난이도: 하\n",
    "\n",
    "문제유형: DFS, BFS\n",
    "    \n",
    "https://www.acmicpc.net/problem/1325"
   ]
  },
  {
   "cell_type": "code",
   "execution_count": 281,
   "metadata": {},
   "outputs": [
    {
     "name": "stdout",
     "output_type": "stream",
     "text": [
      "5 4\n",
      "3 1\n",
      "3 2\n",
      "4 3\n",
      "5 3\n",
      "1 2 "
     ]
    }
   ],
   "source": [
    "#내 풀이 - 왜 틀리는거지 도대체.. 교훈: 되도록이면 bfs 쓰자..\n",
    "n, m = map(int, input().split())\n",
    "adj = [[] for _ in range(n+1)]\n",
    "visited = [False] * (n+1)\n",
    "\n",
    "for _ in range(m):\n",
    "    x,y = map(int, input().split())\n",
    "    adj[y].append(x)\n",
    "\n",
    "final = [0] * (n+1)\n",
    "\n",
    "def dfs(v):\n",
    "    result.append(v)\n",
    "    visited[v] = True\n",
    "    for e in adj[v]:\n",
    "        if not (visited[e]):\n",
    "            visited[e] = True\n",
    "            dfs(e)\n",
    "    \n",
    "for i in range(1,n+1):\n",
    "    result = []\n",
    "    visited = [False] * (n+1)\n",
    "    dfs(i)\n",
    "    final[i] = len(result)\n",
    "\n",
    "for i in range(len(final)):\n",
    "    if final[i] == max(final):\n",
    "        print(i, end = ' ')"
   ]
  },
  {
   "cell_type": "markdown",
   "metadata": {},
   "source": [
    "모든 정점에 대해 DFS, BFS 수행\n",
    "\n",
    "DFS 혹은 BFS 수행할때마다 방문하게 되는 노드의 개수를 계산\n",
    "\n",
    "가장 노드의 개수가 크게 되는 시작 정점을 출력"
   ]
  },
  {
   "cell_type": "code",
   "execution_count": 296,
   "metadata": {},
   "outputs": [
    {
     "ename": "ValueError",
     "evalue": "not enough values to unpack (expected 2, got 0)",
     "output_type": "error",
     "traceback": [
      "\u001b[1;31m---------------------------------------------------------------------------\u001b[0m",
      "\u001b[1;31mValueError\u001b[0m                                Traceback (most recent call last)",
      "\u001b[1;32m<ipython-input-296-cba102b28297>\u001b[0m in \u001b[0;36m<module>\u001b[1;34m\u001b[0m\n\u001b[0;32m      1\u001b[0m \u001b[1;32mfrom\u001b[0m \u001b[0mcollections\u001b[0m \u001b[1;32mimport\u001b[0m \u001b[0mdeque\u001b[0m\u001b[1;33m\u001b[0m\u001b[1;33m\u001b[0m\u001b[0m\n\u001b[0;32m      2\u001b[0m \u001b[1;33m\u001b[0m\u001b[0m\n\u001b[1;32m----> 3\u001b[1;33m \u001b[0mn\u001b[0m\u001b[1;33m,\u001b[0m \u001b[0mm\u001b[0m \u001b[1;33m=\u001b[0m \u001b[0mmap\u001b[0m\u001b[1;33m(\u001b[0m\u001b[0mint\u001b[0m\u001b[1;33m,\u001b[0m \u001b[0minput\u001b[0m\u001b[1;33m(\u001b[0m\u001b[1;33m)\u001b[0m\u001b[1;33m.\u001b[0m\u001b[0msplit\u001b[0m\u001b[1;33m(\u001b[0m\u001b[1;33m)\u001b[0m\u001b[1;33m)\u001b[0m\u001b[1;33m\u001b[0m\u001b[1;33m\u001b[0m\u001b[0m\n\u001b[0m\u001b[0;32m      4\u001b[0m \u001b[0madj\u001b[0m \u001b[1;33m=\u001b[0m \u001b[1;33m[\u001b[0m\u001b[1;33m[\u001b[0m\u001b[1;33m]\u001b[0m \u001b[1;32mfor\u001b[0m \u001b[0m_\u001b[0m \u001b[1;32min\u001b[0m \u001b[0mrange\u001b[0m\u001b[1;33m(\u001b[0m\u001b[0mn\u001b[0m\u001b[1;33m+\u001b[0m\u001b[1;36m1\u001b[0m\u001b[1;33m)\u001b[0m\u001b[1;33m]\u001b[0m\u001b[1;33m\u001b[0m\u001b[1;33m\u001b[0m\u001b[0m\n\u001b[0;32m      5\u001b[0m \u001b[1;33m\u001b[0m\u001b[0m\n",
      "\u001b[1;31mValueError\u001b[0m: not enough values to unpack (expected 2, got 0)"
     ]
    }
   ],
   "source": [
    "from collections import deque\n",
    "\n",
    "n, m = map(int, input().split())\n",
    "adj = [[] for _ in range(n+1)]\n",
    "\n",
    "for _ in range(m):\n",
    "    x, y = map(int, input().split())\n",
    "    adj[y].append(x)\n",
    "\n",
    "def bfs(v):\n",
    "    q = deque([v])\n",
    "    visited = [False] * (n+1)\n",
    "    visited[v] = True\n",
    "    count = 1\n",
    "    while q:\n",
    "        v = q.popleft()\n",
    "        for e in adj[v]:\n",
    "            if not visited[e]:\n",
    "                q.append(e)\n",
    "                visited[e] = True\n",
    "                count +=1\n",
    "    return count\n",
    "\n",
    "result = []\n",
    "max_value = -1\n",
    "\n",
    "for i in range(1,n+1):\n",
    "    c = bfs(i)\n",
    "    if c > max_value:\n",
    "        result = [i]\n",
    "        max_value = c\n",
    "    elif c == max_value:\n",
    "        result.append(i)\n",
    "        max_value = c\n",
    "\n",
    "for e in result:\n",
    "    print(e, end= ' ')"
   ]
  },
  {
   "cell_type": "markdown",
   "metadata": {},
   "source": [
    "## 그래프 고급 탐색 알고리즘 - 핵심 유형 문제풀이"
   ]
  },
  {
   "cell_type": "markdown",
   "metadata": {},
   "source": [
    "문제 제목: 해킹\n",
    "\n",
    "문제 난이도: 중\n",
    "\n",
    "문제유형: 다익스트라 최단 경로\n",
    "    \n",
    "https://www.acmicpc.net/problem/10282"
   ]
  },
  {
   "cell_type": "markdown",
   "metadata": {},
   "source": [
    "도달할 수 있는 정점들의 개수와 최대 거리\n",
    "\n",
    "우선순위 큐를 이용하여 시간복잡도는 O(NlogD)로 해결 가능"
   ]
  },
  {
   "cell_type": "code",
   "execution_count": null,
   "metadata": {},
   "outputs": [],
   "source": [
    "import heapq\n",
    "import sys\n",
    "\n",
    "def dijkstra(start):\n",
    "    heap_data =[]\n",
    "    #첫 노드를 힙에 저장\n",
    "    heapq.heappush(heap_data, (0, start))\n",
    "    # distance는 결국 지금까지 각 노드를 지날 때마다 최단 거리를 저장함\n",
    "    distance[start] = 0\n",
    "    while heap_data:\n",
    "        #하나씩 꺼내서 간선 길이와 현재 노드를 반환\n",
    "        dist, now = heapq.heappop(heap_data)\n",
    "        # 간선길이가 최단거리보다 클 때: 걍 넘어감\n",
    "        if distance[now] < dist:\n",
    "            continue\n",
    "        # 노드가 이어져있는 노드의 i[1]은 간선길이, i[0]는 이어진 노드\n",
    "        for i in adj[now]:\n",
    "            # 비용은 현재 거리에다가 간선을 더한 값\n",
    "            cost = dist + i[1]\n",
    "            # 그 더한 값으로 바꾼다음, 해당 최단 거리와 이어진 노드를 힙에 추가\n",
    "            if distance[i[0]] > cost:\n",
    "                distance[i[0]] = cost\n",
    "                heapq.heappush(heap_data, (cost, i[0]))\n",
    "\n",
    "for _ in range(int(input())):\n",
    "    n, m, start = map(int, input().split())\n",
    "    adj = [[] for i in range(n+1)]\n",
    "    distance = [1e9] * (n+1)\n",
    "    for _ in range(m):\n",
    "        x, y, cost = map(int, input().split())\n",
    "        adj[y].append((x, cost))\n",
    "    dijkstra(start)\n",
    "    count = 0\n",
    "    max_distance = 0 \n",
    "    for i in distance:\n",
    "        if i != 1e9:\n",
    "            #최단거리가 기록된 친구들만 반환하고 +1씩 해줌\n",
    "            count += 1\n",
    "            if i > max_distance:\n",
    "                max_distance = i\n",
    "    \n",
    "    print(count, max_distance)"
   ]
  },
  {
   "cell_type": "markdown",
   "metadata": {},
   "source": [
    "문제 제목: 거의 최단 경로\n",
    "\n",
    "문제 난이도: 중\n",
    "\n",
    "문제유형: 다익스트라 최단 경로\n",
    "    \n",
    "https://www.acmicpc.net/problem/5719"
   ]
  },
  {
   "cell_type": "markdown",
   "metadata": {},
   "source": [
    "다익스트라 최단 경로 알고리즘 수행\n",
    "\n",
    "최단 경로에 포함되는 모든 간선 추적\n",
    "\n",
    "다시 최단 경로 탐색"
   ]
  },
  {
   "cell_type": "code",
   "execution_count": 3,
   "metadata": {},
   "outputs": [
    {
     "name": "stdout",
     "output_type": "stream",
     "text": [
      "7 9\n",
      "0 6\n",
      "0 1 1\n",
      "0 2 1\n",
      "0 3 2\n",
      "0 4 3\n",
      "1 5 2\n",
      "2 6 4\n",
      "3 6 2\n",
      "4 6 4\n",
      "5 6 1\n",
      "5\n",
      "4 6\n",
      "0 2\n",
      "0 1 1\n",
      "1 2 1\n",
      "1 3 1\n",
      "3 2 1\n",
      "2 0 3\n",
      "3 0 2\n",
      "-1\n",
      "6 8\n",
      "0 1\n",
      "0 1 1\n",
      "0 2 2\n",
      "0 3 3\n",
      "2 5 3\n",
      "3 4 2\n",
      "4 1 1\n",
      "5 1 1\n",
      "3 0 1\n",
      "6\n",
      "00\n"
     ]
    },
    {
     "ename": "ValueError",
     "evalue": "not enough values to unpack (expected 2, got 1)",
     "output_type": "error",
     "traceback": [
      "\u001b[1;31m---------------------------------------------------------------------------\u001b[0m",
      "\u001b[1;31mValueError\u001b[0m                                Traceback (most recent call last)",
      "\u001b[1;32m<ipython-input-3-891fa11010c9>\u001b[0m in \u001b[0;36m<module>\u001b[1;34m\u001b[0m\n\u001b[0;32m     27\u001b[0m                 \u001b[0mq\u001b[0m\u001b[1;33m.\u001b[0m\u001b[0mappend\u001b[0m\u001b[1;33m(\u001b[0m\u001b[0mprev\u001b[0m\u001b[1;33m)\u001b[0m\u001b[1;33m\u001b[0m\u001b[1;33m\u001b[0m\u001b[0m\n\u001b[0;32m     28\u001b[0m \u001b[1;32mwhile\u001b[0m \u001b[1;32mTrue\u001b[0m\u001b[1;33m:\u001b[0m\u001b[1;33m\u001b[0m\u001b[1;33m\u001b[0m\u001b[0m\n\u001b[1;32m---> 29\u001b[1;33m     \u001b[0mn\u001b[0m\u001b[1;33m,\u001b[0m \u001b[0mm\u001b[0m \u001b[1;33m=\u001b[0m \u001b[0mmap\u001b[0m\u001b[1;33m(\u001b[0m\u001b[0mint\u001b[0m\u001b[1;33m,\u001b[0m \u001b[0minput\u001b[0m\u001b[1;33m(\u001b[0m\u001b[1;33m)\u001b[0m\u001b[1;33m.\u001b[0m\u001b[0msplit\u001b[0m\u001b[1;33m(\u001b[0m\u001b[1;33m)\u001b[0m\u001b[1;33m)\u001b[0m\u001b[1;33m\u001b[0m\u001b[1;33m\u001b[0m\u001b[0m\n\u001b[0m\u001b[0;32m     30\u001b[0m     \u001b[1;32mif\u001b[0m \u001b[0mn\u001b[0m \u001b[1;33m==\u001b[0m \u001b[1;36m0\u001b[0m\u001b[1;33m:\u001b[0m\u001b[1;33m\u001b[0m\u001b[1;33m\u001b[0m\u001b[0m\n\u001b[0;32m     31\u001b[0m         \u001b[1;32mbreak\u001b[0m\u001b[1;33m\u001b[0m\u001b[1;33m\u001b[0m\u001b[0m\n",
      "\u001b[1;31mValueError\u001b[0m: not enough values to unpack (expected 2, got 1)"
     ]
    }
   ],
   "source": [
    "from collections import deque\n",
    "import heapq\n",
    "import sys\n",
    "input = sys.stdin.readline\n",
    "\n",
    "def dijkstra():\n",
    "    heap_data = []\n",
    "    heapq.heappush(heap_data, (0, start))\n",
    "    distance[start] = 0 \n",
    "    while heap_data:\n",
    "        dist, now = heapq.heappop(heap_data)\n",
    "        if distance[now] < dist:\n",
    "            continue\n",
    "        for i in adj[now]:\n",
    "            cost = dist + i[1]\n",
    "            if distance[i[0]] > cost and not dropped[now][i[0]]:\n",
    "                distance[i[0]] = cost\n",
    "                heapq.heappush(heap_data, (cost,i[0]))\n",
    "def bfs():\n",
    "    q = deque()\n",
    "    q.append(end)\n",
    "    while q:\n",
    "        now = q.popleft()\n",
    "        if now == start:\n",
    "            continue\n",
    "        for prev, cost in reverse_adj[now]:\n",
    "            if distance[now] == distance[prev] + cost:\n",
    "                dropped[prev][now] = True\n",
    "                q.append(prev)\n",
    "while True:\n",
    "    n, m = map(int, input().split())\n",
    "    if n == 0:\n",
    "        break\n",
    "    start, end = map(int, input().split())\n",
    "    adj = [[] for _ in range(n+1)]\n",
    "    reverse_adj = [[] for _ in range(n+1)]\n",
    "    for _ in range(m):\n",
    "        x, y, cost = map(int, input().split())\n",
    "        adj[x].append((y,cost))\n",
    "        reverse_adj[y].append((x,cost))\n",
    "    dropped = [[False] * (n+1) for _ in range(n+1)]\n",
    "    distance = [1e9] * (n+1)\n",
    "    dijkstra()\n",
    "    bfs()\n",
    "    distance = [1e9] * (n+1)\n",
    "    dijkstra()\n",
    "    if distance[end] != 1e9:\n",
    "        print(distance[end])\n",
    "    else:\n",
    "        print(-1)"
   ]
  },
  {
   "cell_type": "markdown",
   "metadata": {},
   "source": [
    "문제 제목: 우주신과의 교감\n",
    "\n",
    "문제 난이도: 중\n",
    "\n",
    "문제유형: 최소 신장 트리\n",
    "    \n",
    "https://www.acmicpc.net/problem/1774"
   ]
  },
  {
   "cell_type": "markdown",
   "metadata": {},
   "source": [
    "2차원 좌표가 주어졌을 때, 모든 좌표를 잇는 최소 신장 트리 만들어야 함\n",
    "\n",
    "2차원 좌표 상의 점을 잇는 통로들을 고려해야 함\n",
    "\n",
    "크루스칼 알고리즘은 간선의 개수가 E 일 때 O(ElogE)로 동작\n",
    "\n",
    "크루스칼 알고리즘으로 해결 할 수 있음"
   ]
  },
  {
   "cell_type": "code",
   "execution_count": 16,
   "metadata": {},
   "outputs": [
    {
     "name": "stdout",
     "output_type": "stream",
     "text": [
      "4 1\n",
      "1 1\n",
      "3 1\n",
      "2 3\n",
      "4 3\n",
      "1 4\n",
      "2.0\n",
      "4.0\n",
      "4.00\n"
     ]
    }
   ],
   "source": [
    "import math\n",
    "\n",
    "def get_distance(p1, p2):\n",
    "    a = p1[0] - p2[0]\n",
    "    b = p1[1] - p2[1]\n",
    "    return math.sqrt((a*a) + b*b)\n",
    "\n",
    "def get_parent(parent,n):\n",
    "    if parent[n] == n:\n",
    "        return n\n",
    "    return get_parent(parent, parent[n])\n",
    "\n",
    "def union_parent(parent, a, b):\n",
    "    a = get_parent(parent, a)\n",
    "    b = get_parent(parent, b)\n",
    "    if a < b:\n",
    "        parent[b] = a\n",
    "    else:\n",
    "        parent[a] = b\n",
    "    \n",
    "def find_parent(parent, a, b):\n",
    "    a = get_parent(parent, a)\n",
    "    b = get_parent(parent, b)\n",
    "    if a == b:\n",
    "        return True\n",
    "    else:\n",
    "        return False\n",
    "\n",
    "edges = []\n",
    "parent = {}\n",
    "locations = []\n",
    "n, m = map(int, input().split())\n",
    "\n",
    "for _ in range(n):\n",
    "    x, y = map(int, input().split())\n",
    "    locations.append((x,y))\n",
    "\n",
    "length = len(locations)\n",
    "\n",
    "#좌표마다 간선 설정. 이렇게 해야 0을 제외시키고 좌표끼리 길이 구할 수 있음\n",
    "for i in range(length - 1):\n",
    "    for j in range(i+1, length):\n",
    "        edges.append((i+1, j+1, get_distance(locations[i],locations[j])))\n",
    "\n",
    "#parent 하나씩 설정\n",
    "for i in range(1,n+1):\n",
    "    parent[i] = i\n",
    "\n",
    "#하나 하나씩 parent를 찾아가는 과정\n",
    "for i in range(m):\n",
    "    a, b = map(int, input().split())\n",
    "    union_parent(parent, a, b)\n",
    "\n",
    "#최소 신장트리기 때문에 거리 기준으로 작은거 부터 정렬\n",
    "edges.sort(key=lambda data: data[2])\n",
    "\n",
    "result = 0\n",
    "for a, b, cost in edges:\n",
    "    #싸이클이 생기지 않을 때\n",
    "    if not find_parent(parent, a, b):\n",
    "        #parent 이어주고\n",
    "        union_parent(parent, a, b)\n",
    "        result += cost\n",
    "        print(result)\n",
    "            \n",
    "print(\"%0.2f\" % result)"
   ]
  },
  {
   "cell_type": "markdown",
   "metadata": {},
   "source": [
    "## 탐욕 알고리즘 - 기초 문제풀이"
   ]
  },
  {
   "cell_type": "markdown",
   "metadata": {},
   "source": [
    "문제 제목: 거스름돈\n",
    "\n",
    "문제 난이도: 하\n",
    "\n",
    "문제유형: 그리디\n",
    "    \n",
    "https://www.acmicpc.net/problem/5585"
   ]
  },
  {
   "cell_type": "code",
   "execution_count": 18,
   "metadata": {},
   "outputs": [
    {
     "name": "stdout",
     "output_type": "stream",
     "text": [
      "380\n",
      "4\n"
     ]
    }
   ],
   "source": [
    "#내 풀이 - 후후\n",
    "remaining = 1000 - int(input())\n",
    "coins = [500, 100, 50, 10, 5, 1]\n",
    "coins.sort(reverse=True)\n",
    "count = 0\n",
    "for coin in coins:\n",
    "    num = remaining // coin\n",
    "    count += num\n",
    "    remaining -= (num * coin)\n",
    "\n",
    "print(count)"
   ]
  },
  {
   "cell_type": "code",
   "execution_count": 17,
   "metadata": {},
   "outputs": [
    {
     "data": {
      "text/plain": [
       "4"
      ]
     },
     "execution_count": 17,
     "metadata": {},
     "output_type": "execute_result"
    }
   ],
   "source": [
    "#강사 풀이\n",
    "changes = 1000 - int(input())\n",
    "count = 0\n",
    "for i in [500,100,50,10,5,1]:\n",
    "    count += changes // i\n",
    "    changes %= i\n"
   ]
  },
  {
   "cell_type": "markdown",
   "metadata": {},
   "source": [
    "문제 제목: 뒤집기\n",
    "\n",
    "문제 난이도: 하\n",
    "\n",
    "문제유형: 그리디\n",
    "    \n",
    "https://www.acmicpc.net/problem/1439"
   ]
  },
  {
   "cell_type": "code",
   "execution_count": 40,
   "metadata": {},
   "outputs": [
    {
     "name": "stdout",
     "output_type": "stream",
     "text": [
      "3\n"
     ]
    }
   ],
   "source": [
    "s = '11010101'\n",
    "\n",
    "count0 = 0\n",
    "count1 = 0\n",
    "\n",
    "if s.startswith('0'):\n",
    "    count1 += 1\n",
    "    for i in range(len(s)-1):\n",
    "        if int(s[i]) < int(s[i+1]):\n",
    "            count0 += 1\n",
    "        elif int(s[i]) > int(s[i+1]):\n",
    "            count1 += 1\n",
    "else:\n",
    "    count0 += 1\n",
    "    for i in range(len(s)-1):\n",
    "        if int(s[i]) > int(s[i+1]):\n",
    "            count0 += 1\n",
    "        elif int(s[i]) < int(s[i+1]):\n",
    "            count1 += 1\n",
    "\n",
    "print(min(count0,count1))"
   ]
  },
  {
   "cell_type": "code",
   "execution_count": 37,
   "metadata": {},
   "outputs": [
    {
     "data": {
      "text/plain": [
       "1"
      ]
     },
     "execution_count": 37,
     "metadata": {},
     "output_type": "execute_result"
    }
   ],
   "source": [
    "data = input()\n",
    "count0 = 0\n",
    "count1 = 0\n",
    "\n",
    "if data[0] == '1':\n",
    "    count0 += 1\n",
    "else:\n",
    "    count1 += 1\n",
    "\n",
    "for i in range(len(data) - 1):\n",
    "    if data[i] != data[i+1]:\n",
    "        #다음 수에서 1로 바뀌는 경우\n",
    "        if data[i+1] == '1':\n",
    "            count0 += 1\n",
    "        #다음 수에서 0으로 바뀌는 경우\n",
    "        else:\n",
    "            count1 +=1\n",
    "\n",
    "print(min(count0,count1))"
   ]
  },
  {
   "cell_type": "markdown",
   "metadata": {},
   "source": [
    "문제 제목: 등수 매기기\n",
    "\n",
    "문제 난이도: 하\n",
    "\n",
    "문제유형: 그리디\n",
    "    \n",
    "https://www.acmicpc.net/problem/2012"
   ]
  },
  {
   "cell_type": "code",
   "execution_count": 41,
   "metadata": {},
   "outputs": [
    {
     "name": "stdout",
     "output_type": "stream",
     "text": [
      "5\n",
      "1\n",
      "5\n",
      "3\n",
      "1\n",
      "2\n"
     ]
    }
   ],
   "source": [
    "# 내풀이 = 강사풀이\n",
    "n = int(input())\n",
    "expected =[]\n",
    "for _ in range(n):\n",
    "    expected.append(int(input()))\n",
    "\n",
    "expected.sort()\n",
    "\n",
    "total_sum = 0\n",
    "for i in range(len(expected)):\n",
    "    total_sum += abs((i+1)-expected[i])\n",
    "    \n",
    "print(total_sum)"
   ]
  },
  {
   "cell_type": "markdown",
   "metadata": {},
   "source": [
    "문제 제목: 배\n",
    "\n",
    "문제 난이도: 중\n",
    "\n",
    "문제유형: 그리디\n",
    "    \n",
    "https://www.acmicpc.net/problem/1092"
   ]
  },
  {
   "cell_type": "code",
   "execution_count": 101,
   "metadata": {},
   "outputs": [
    {
     "name": "stdout",
     "output_type": "stream",
     "text": [
      "3\n",
      "6 8 9\n",
      "5\n",
      "2 5 2 4 7\n",
      "2\n"
     ]
    }
   ],
   "source": [
    "#내 풀이 - 왜 틀렸냐.. 후\n",
    "n = int(input())\n",
    "crain = list(map(int, input().split()))\n",
    "m = int(input())\n",
    "weight = list(map(int, input().split()))\n",
    "\n",
    "crain.sort(reverse=True)\n",
    "weight.sort(reverse=True)\n",
    "crain_dict = {k:[] for k in crain}\n",
    "\n",
    "value = weight.pop(0)\n",
    "while weight:\n",
    "    for key in crain_dict.keys():\n",
    "        if value <= key:\n",
    "            crain_dict[key].append(value)\n",
    "            if weight:\n",
    "                value = weight.pop(0)\n",
    "result = []\n",
    "for key, value in crain_dict.items():\n",
    "    result.append(len(value))\n",
    "\n",
    "if max(result) == 0:\n",
    "    print(-1)\n",
    "else:\n",
    "    print(max(result))"
   ]
  },
  {
   "cell_type": "code",
   "execution_count": 1,
   "metadata": {},
   "outputs": [
    {
     "name": "stdout",
     "output_type": "stream",
     "text": [
      "3\n",
      "6 8 9\n",
      "5\n",
      "2 5 2 4 7\n",
      "0\n",
      "1\n",
      "[1, 1, 0]\n",
      "2\n",
      "[1, 2, 1]\n",
      "[1, 2, 2]\n",
      "0\n",
      "[2, 2, 3]\n",
      "[3, 2, 3]\n",
      "1\n",
      "[4, 3, 3]\n",
      "[4, 4, 3]\n",
      "2\n",
      "[4, 5, 4]\n",
      "[4, 5, 5]\n",
      "2\n"
     ]
    }
   ],
   "source": [
    "import sys\n",
    "n = int(input())\n",
    "cranes = list(map(int, input().split()))\n",
    "m = int(input())\n",
    "boxes = list(map(int, input().split()))\n",
    "\n",
    "if max(cranes) < max(boxes):\n",
    "    print(-1)\n",
    "    sys.exit()\n",
    "\n",
    "#각 크레인이 현재 옮겨야 하는 박스의 번호 (0부터 시작)\n",
    "positions = [0]*n\n",
    "# 각 박스를 옮겼는지의 여부\n",
    "checked = [False] * m\n",
    "#최적의 해를 위해 내림차순 정렬\n",
    "cranes.sort(reverse=True)\n",
    "boxes.sort(reverse=True)\n",
    "\n",
    "result=0\n",
    "count=0\n",
    "\n",
    "while True:\n",
    "    if count == len(boxes): #박스를 옮겼다면 종료\n",
    "        break\n",
    "    for i in range(n): #모든 크레인에 대하여 각각 처리\n",
    "        while positions[i] < len(boxes):\n",
    "            #아직 안 옮긴 박스 중에서 옮길 수 있는 박스를 만날 때까지 반복\n",
    "            if not checked[positions[i]] and cranes[i] >= boxes[positions[i]]:\n",
    "                checked[positions[i]] = True\n",
    "                positions[i] += 1\n",
    "                count += 1\n",
    "                break\n",
    "            positions[i] += 1\n",
    "    result += 1\n",
    "\n",
    "print(result)"
   ]
  },
  {
   "cell_type": "markdown",
   "metadata": {},
   "source": [
    "## 탐욕 알고리즘 - 핵심 유형 문제풀이"
   ]
  },
  {
   "cell_type": "markdown",
   "metadata": {},
   "source": [
    "문제 제목: 센서\n",
    "\n",
    "문제 난이도: 하\n",
    "\n",
    "문제유형: 그리디\n",
    "    \n",
    "https://www.acmicpc.net/problem/2212"
   ]
  },
  {
   "cell_type": "markdown",
   "metadata": {},
   "source": [
    "K 개의 영역을 설정하는 것과 동일\n",
    "\n",
    "1. 오름차순으로 정리\n",
    "\n",
    "2. 센서 사이의 거리를 계산\n",
    "\n",
    "3. 가장 거리가 먼 순서대로 k-1 개의 연결 고리를 제거한다\n",
    "\n",
    "4. 남아 있는 연결고리를 모두 더한다"
   ]
  },
  {
   "cell_type": "code",
   "execution_count": 4,
   "metadata": {},
   "outputs": [
    {
     "name": "stdout",
     "output_type": "stream",
     "text": [
      "6\n",
      "2\n",
      "1 6 9 3 6 7\n",
      "5\n"
     ]
    }
   ],
   "source": [
    "#강사 풀이 - 그림으로 그려서 알고리즘을 알아차려야 한다..\n",
    "import sys\n",
    "n = int(input())\n",
    "k = int(input())\n",
    "\n",
    "if k >=n:\n",
    "    print(0)\n",
    "    sys.exit()\n",
    "\n",
    "array = list(map(int, input().split(' ')))\n",
    "array.sort()\n",
    "\n",
    "#각 센서 간의 거리를 계산하여 내림차순 정렬\n",
    "distances = []\n",
    "for i in range(1,n):\n",
    "    distances.append(array[i] - array[i-1])\n",
    "distances.sort(reverse=True)\n",
    "\n",
    "#가장 긴 거리부터 하나씩 제거\n",
    "for i in range(k-1):\n",
    "    distances[i] = 0\n",
    "\n",
    "print(sum(distances))"
   ]
  },
  {
   "cell_type": "markdown",
   "metadata": {},
   "source": [
    "문제 제목: 도서관\n",
    "\n",
    "문제 난이도: 중\n",
    "\n",
    "문제유형: 그리디\n",
    "    \n",
    "https://www.acmicpc.net/problem/1461"
   ]
  },
  {
   "cell_type": "markdown",
   "metadata": {},
   "source": [
    "일직선상의 각 책들을 원래 위치에 놓아야 함\n",
    "\n",
    "0 보다 큰 책들과 0 보다 작은 책들을 나누어서 처리\n",
    "\n",
    "두 개의 우선순위 큐를 이용하여 해결\n",
    "\n",
    "가장 먼 책을 마지막으로 놓는다\n",
    "\n",
    "음수, 양수 개별적으로 m개 씩 묶어서 처리, 묶음 중 거리가 가장 먼 책 만큼 이동"
   ]
  },
  {
   "cell_type": "code",
   "execution_count": 5,
   "metadata": {},
   "outputs": [
    {
     "name": "stdout",
     "output_type": "stream",
     "text": [
      "7 2\n",
      "-37 2 -6 -39 -29 11 -28\n"
     ]
    }
   ],
   "source": [
    "import heapq\n",
    "\n",
    "n,m = map(int, input().split(' '))\n",
    "array = list(map(int, input().split(' ')))\n",
    "positive = []\n",
    "negative = []\n",
    "\n",
    "largest = max(max(array),-min(array))\n",
    "\n",
    "#최대 힙 을 위해 원소를 음수로 구성\n",
    "for i in array:\n",
    "    #책의 위치가 양수인 경우\n",
    "    if i > 0:\n",
    "        heapq.heappush(positive, -i)\n",
    "    #책의 위치가 음수인 경우\n",
    "    else:\n",
    "        heapq.heappush(negative, i)\n",
    "\n",
    "result = 0\n",
    "\n",
    "while positive:\n",
    "    #한번에 m개씩 옮길 수 있으므로 m개씩 빼내기\n",
    "    result += heapq.heappop(positive)\n",
    "    for _ in range(m-1):\n",
    "        if positive:\n",
    "            heapq.heappop(positive)\n",
    "\n",
    "while negative:\n",
    "    result += heapq.heappop(negative)\n",
    "    for _ in range(m-1):\n",
    "        if negative:\n",
    "            heapq.heappop(negative)\n",
    "    \n",
    "print(-result * 2 - largest)"
   ]
  },
  {
   "cell_type": "markdown",
   "metadata": {},
   "source": [
    "문제 제목: 컵라면\n",
    "\n",
    "문제 난이도: 중\n",
    "\n",
    "문제유형: 그리디\n",
    "    \n",
    "https://www.acmicpc.net/problem/1781"
   ]
  },
  {
   "cell_type": "code",
   "execution_count": null,
   "metadata": {},
   "outputs": [],
   "source": [
    "import heapq\n",
    "n = int(input())\n",
    "array = []\n",
    "q = []\n",
    "\n",
    "#문제 정보를 입력 받은 이후에, 데드라인을 기준으로 정렬\n",
    "\n",
    "for i in range(n):\n",
    "    a, b = map(int, input().split(' '))\n",
    "    array.append((a,b))\n",
    "array.sort()\n",
    "\n",
    "for i in array:\n",
    "    a = i[0]\n",
    "    heapq.heappush(q, i[1])\n",
    "    #데드라인을 초과하는 경우에는 최소 원소를 제거\n",
    "    if a < len(q):\n",
    "        heapq.heappop(q)\n",
    "\n",
    "print(sum(q))"
   ]
  }
 ],
 "metadata": {
  "kernelspec": {
   "display_name": "Python 3",
   "language": "python",
   "name": "python3"
  },
  "language_info": {
   "codemirror_mode": {
    "name": "ipython",
    "version": 3
   },
   "file_extension": ".py",
   "mimetype": "text/x-python",
   "name": "python",
   "nbconvert_exporter": "python",
   "pygments_lexer": "ipython3",
   "version": "3.7.4"
  }
 },
 "nbformat": 4,
 "nbformat_minor": 2
}
