{
 "cells": [
  {
   "cell_type": "markdown",
   "metadata": {},
   "source": [
    "## 탐욕 알고리즘 - 기초 문제풀이"
   ]
  },
  {
   "cell_type": "markdown",
   "metadata": {},
   "source": [
    "문제 제목: 거스름돈\n",
    "\n",
    "문제 난이도: 하\n",
    "\n",
    "문제유형: 그리디\n",
    "    \n",
    "https://www.acmicpc.net/problem/5585"
   ]
  },
  {
   "cell_type": "code",
   "execution_count": null,
   "metadata": {},
   "outputs": [],
   "source": [
    "#내 풀이 - 후후\n",
    "remaining = 1000 - int(input())\n",
    "coins = [500, 100, 50, 10, 5, 1]\n",
    "coins.sort(reverse=True)\n",
    "count = 0\n",
    "for coin in coins:\n",
    "    num = remaining // coin\n",
    "    count += num\n",
    "    remaining -= (num * coin)\n",
    "\n",
    "print(count)"
   ]
  },
  {
   "cell_type": "code",
   "execution_count": null,
   "metadata": {},
   "outputs": [],
   "source": [
    "#강사 풀이\n",
    "changes = 1000 - int(input())\n",
    "count = 0\n",
    "for i in [500,100,50,10,5,1]:\n",
    "    count += changes // i\n",
    "    changes %= i\n"
   ]
  },
  {
   "cell_type": "markdown",
   "metadata": {},
   "source": [
    "문제 제목: 뒤집기\n",
    "\n",
    "문제 난이도: 하\n",
    "\n",
    "문제유형: 그리디\n",
    "    \n",
    "https://www.acmicpc.net/problem/1439"
   ]
  },
  {
   "cell_type": "code",
   "execution_count": null,
   "metadata": {},
   "outputs": [],
   "source": [
    "s = '11010101'\n",
    "\n",
    "count0 = 0\n",
    "count1 = 0\n",
    "\n",
    "if s.startswith('0'):\n",
    "    count1 += 1\n",
    "    for i in range(len(s)-1):\n",
    "        if int(s[i]) < int(s[i+1]):\n",
    "            count0 += 1\n",
    "        elif int(s[i]) > int(s[i+1]):\n",
    "            count1 += 1\n",
    "else:\n",
    "    count0 += 1\n",
    "    for i in range(len(s)-1):\n",
    "        if int(s[i]) > int(s[i+1]):\n",
    "            count0 += 1\n",
    "        elif int(s[i]) < int(s[i+1]):\n",
    "            count1 += 1\n",
    "\n",
    "print(min(count0,count1))"
   ]
  },
  {
   "cell_type": "code",
   "execution_count": null,
   "metadata": {},
   "outputs": [],
   "source": [
    "data = input()\n",
    "count0 = 0\n",
    "count1 = 0\n",
    "\n",
    "if data[0] == '1':\n",
    "    count0 += 1\n",
    "else:\n",
    "    count1 += 1\n",
    "\n",
    "for i in range(len(data) - 1):\n",
    "    if data[i] != data[i+1]:\n",
    "        #다음 수에서 1로 바뀌는 경우\n",
    "        if data[i+1] == '1':\n",
    "            count0 += 1\n",
    "        #다음 수에서 0으로 바뀌는 경우\n",
    "        else:\n",
    "            count1 +=1\n",
    "\n",
    "print(min(count0,count1))"
   ]
  },
  {
   "cell_type": "markdown",
   "metadata": {},
   "source": [
    "문제 제목: 등수 매기기\n",
    "\n",
    "문제 난이도: 하\n",
    "\n",
    "문제유형: 그리디\n",
    "    \n",
    "https://www.acmicpc.net/problem/2012"
   ]
  },
  {
   "cell_type": "code",
   "execution_count": null,
   "metadata": {},
   "outputs": [],
   "source": [
    "# 내풀이 = 강사풀이\n",
    "n = int(input())\n",
    "expected =[]\n",
    "for _ in range(n):\n",
    "    expected.append(int(input()))\n",
    "\n",
    "expected.sort()\n",
    "\n",
    "total_sum = 0\n",
    "for i in range(len(expected)):\n",
    "    total_sum += abs((i+1)-expected[i])\n",
    "    \n",
    "print(total_sum)"
   ]
  },
  {
   "cell_type": "markdown",
   "metadata": {},
   "source": [
    "문제 제목: 배\n",
    "\n",
    "문제 난이도: 중\n",
    "\n",
    "문제유형: 그리디\n",
    "    \n",
    "https://www.acmicpc.net/problem/1092"
   ]
  },
  {
   "cell_type": "code",
   "execution_count": null,
   "metadata": {},
   "outputs": [],
   "source": [
    "#내 풀이 - 왜 틀렸냐.. 후\n",
    "n = int(input())\n",
    "crain = list(map(int, input().split()))\n",
    "m = int(input())\n",
    "weight = list(map(int, input().split()))\n",
    "\n",
    "crain.sort(reverse=True)\n",
    "weight.sort(reverse=True)\n",
    "crain_dict = {k:[] for k in crain}\n",
    "\n",
    "value = weight.pop(0)\n",
    "while weight:\n",
    "    for key in crain_dict.keys():\n",
    "        if value <= key:\n",
    "            crain_dict[key].append(value)\n",
    "            if weight:\n",
    "                value = weight.pop(0)\n",
    "result = []\n",
    "for key, value in crain_dict.items():\n",
    "    result.append(len(value))\n",
    "\n",
    "if max(result) == 0:\n",
    "    print(-1)\n",
    "else:\n",
    "    print(max(result))"
   ]
  },
  {
   "cell_type": "code",
   "execution_count": null,
   "metadata": {},
   "outputs": [],
   "source": [
    "import sys\n",
    "n = int(input())\n",
    "cranes = list(map(int, input().split()))\n",
    "m = int(input())\n",
    "boxes = list(map(int, input().split()))\n",
    "\n",
    "if max(cranes) < max(boxes):\n",
    "    print(-1)\n",
    "    sys.exit()\n",
    "\n",
    "#각 크레인이 현재 옮겨야 하는 박스의 번호 (0부터 시작)\n",
    "positions = [0]*n\n",
    "# 각 박스를 옮겼는지의 여부\n",
    "checked = [False] * m\n",
    "#최적의 해를 위해 내림차순 정렬\n",
    "cranes.sort(reverse=True)\n",
    "boxes.sort(reverse=True)\n",
    "\n",
    "result=0\n",
    "count=0\n",
    "\n",
    "while True:\n",
    "    if count == len(boxes): #박스를 옮겼다면 종료\n",
    "        break\n",
    "    for i in range(n): #모든 크레인에 대하여 각각 처리\n",
    "        while positions[i] < len(boxes):\n",
    "            #아직 안 옮긴 박스 중에서 옮길 수 있는 박스를 만날 때까지 반복\n",
    "            if not checked[positions[i]] and cranes[i] >= boxes[positions[i]]:\n",
    "                checked[positions[i]] = True\n",
    "                positions[i] += 1\n",
    "                count += 1\n",
    "                break\n",
    "            positions[i] += 1\n",
    "    result += 1\n",
    "\n",
    "print(result)"
   ]
  },
  {
   "cell_type": "markdown",
   "metadata": {},
   "source": [
    "## 탐욕 알고리즘 - 핵심 유형 문제풀이"
   ]
  },
  {
   "cell_type": "markdown",
   "metadata": {},
   "source": [
    "문제 제목: 센서\n",
    "\n",
    "문제 난이도: 하\n",
    "\n",
    "문제유형: 그리디\n",
    "    \n",
    "https://www.acmicpc.net/problem/2212"
   ]
  },
  {
   "cell_type": "markdown",
   "metadata": {},
   "source": [
    "K 개의 영역을 설정하는 것과 동일\n",
    "\n",
    "1. 오름차순으로 정리\n",
    "\n",
    "2. 센서 사이의 거리를 계산\n",
    "\n",
    "3. 가장 거리가 먼 순서대로 k-1 개의 연결 고리를 제거한다\n",
    "\n",
    "4. 남아 있는 연결고리를 모두 더한다"
   ]
  },
  {
   "cell_type": "code",
   "execution_count": null,
   "metadata": {},
   "outputs": [],
   "source": [
    "#강사 풀이 - 그림으로 그려서 알고리즘을 알아차려야 한다..\n",
    "import sys\n",
    "n = int(input())\n",
    "k = int(input())\n",
    "\n",
    "if k >=n:\n",
    "    print(0)\n",
    "    sys.exit()\n",
    "\n",
    "array = list(map(int, input().split(' ')))\n",
    "array.sort()\n",
    "\n",
    "#각 센서 간의 거리를 계산하여 내림차순 정렬\n",
    "distances = []\n",
    "for i in range(1,n):\n",
    "    distances.append(array[i] - array[i-1])\n",
    "distances.sort(reverse=True)\n",
    "\n",
    "#가장 긴 거리부터 하나씩 제거\n",
    "for i in range(k-1):\n",
    "    distances[i] = 0\n",
    "\n",
    "print(sum(distances))"
   ]
  },
  {
   "cell_type": "markdown",
   "metadata": {},
   "source": [
    "문제 제목: 도서관\n",
    "\n",
    "문제 난이도: 중\n",
    "\n",
    "문제유형: 그리디\n",
    "    \n",
    "https://www.acmicpc.net/problem/1461"
   ]
  },
  {
   "cell_type": "markdown",
   "metadata": {},
   "source": [
    "일직선상의 각 책들을 원래 위치에 놓아야 함\n",
    "\n",
    "0 보다 큰 책들과 0 보다 작은 책들을 나누어서 처리\n",
    "\n",
    "두 개의 우선순위 큐를 이용하여 해결\n",
    "\n",
    "가장 먼 책을 마지막으로 놓는다\n",
    "\n",
    "음수, 양수 개별적으로 m개 씩 묶어서 처리, 묶음 중 거리가 가장 먼 책 만큼 이동"
   ]
  },
  {
   "cell_type": "code",
   "execution_count": null,
   "metadata": {},
   "outputs": [],
   "source": [
    "import heapq\n",
    "\n",
    "n,m = map(int, input().split(' '))\n",
    "array = list(map(int, input().split(' ')))\n",
    "positive = []\n",
    "negative = []\n",
    "\n",
    "largest = max(max(array),-min(array))\n",
    "\n",
    "#최대 힙 을 위해 원소를 음수로 구성\n",
    "for i in array:\n",
    "    #책의 위치가 양수인 경우\n",
    "    if i > 0:\n",
    "        heapq.heappush(positive, -i)\n",
    "    #책의 위치가 음수인 경우\n",
    "    else:\n",
    "        heapq.heappush(negative, i)\n",
    "\n",
    "result = 0\n",
    "\n",
    "while positive:\n",
    "    #한번에 m개씩 옮길 수 있으므로 m개씩 빼내기\n",
    "    result += heapq.heappop(positive)\n",
    "    for _ in range(m-1):\n",
    "        if positive:\n",
    "            heapq.heappop(positive)\n",
    "\n",
    "while negative:\n",
    "    result += heapq.heappop(negative)\n",
    "    for _ in range(m-1):\n",
    "        if negative:\n",
    "            heapq.heappop(negative)\n",
    "    \n",
    "#왕복거리계산에 가장 먼곳 거리 빼기\n",
    "print(-result * 2 - largest)"
   ]
  },
  {
   "cell_type": "markdown",
   "metadata": {},
   "source": [
    "문제 제목: 컵라면\n",
    "\n",
    "문제 난이도: 중\n",
    "\n",
    "문제유형: 그리디\n",
    "    \n",
    "https://www.acmicpc.net/problem/1781"
   ]
  },
  {
   "cell_type": "code",
   "execution_count": null,
   "metadata": {},
   "outputs": [],
   "source": [
    "import heapq\n",
    "n = int(input())\n",
    "array = []\n",
    "q = []\n",
    "\n",
    "#문제 정보를 입력 받은 이후에, 데드라인을 기준으로 정렬\n",
    "\n",
    "for i in range(n):\n",
    "    a, b = map(int, input().split(' '))\n",
    "    array.append((a,b))\n",
    "array.sort()\n",
    "\n",
    "for i in array:\n",
    "    a = i[0]\n",
    "    heapq.heappush(q, i[1])\n",
    "    #데드라인을 초과하는 경우에는 최소 원소를 제거\n",
    "    if a < len(q):\n",
    "        heapq.heappop(q)\n",
    "\n",
    "print(sum(q))"
   ]
  }
 ],
 "metadata": {
  "kernelspec": {
   "display_name": "Python 3",
   "language": "python",
   "name": "python3"
  },
  "language_info": {
   "codemirror_mode": {
    "name": "ipython",
    "version": 3
   },
   "file_extension": ".py",
   "mimetype": "text/x-python",
   "name": "python",
   "nbconvert_exporter": "python",
   "pygments_lexer": "ipython3",
   "version": "3.7.4"
  }
 },
 "nbformat": 4,
 "nbformat_minor": 2
}
