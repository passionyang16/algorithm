{
 "cells": [
  {
   "cell_type": "markdown",
   "metadata": {},
   "source": [
    "## 백 트레킹 - 핵심 유형 문제풀이"
   ]
  },
  {
   "cell_type": "markdown",
   "metadata": {},
   "source": [
    "문제 제목: N Queen\n",
    "\n",
    "문제 난이도: 중\n",
    "\n",
    "문제유형: 백트레킹\n",
    "    \n",
    "https://www.acmicpc.net/problem/9663"
   ]
  },
  {
   "cell_type": "markdown",
   "metadata": {},
   "source": [
    "DFS를 이용하여 간단히 백트레킹 알고리즘을 구현할 수 있다\n",
    "\n",
    "백트레킹: 가능한 경우를 전부 탐색하고, 더이상 나아갈 수 없을때, 이전으로 돌아가서 다른 유형 검색\n",
    "\n",
    "DFS는 스택이기 때문에 재귀함수 -- 시간이 조금 더 걸림\n",
    "\n",
    "BFS가 구현하기 더 어려움\n",
    "\n",
    "각 행을 차례대로 확인하면서, 각 열에 퀸을 놓는 경우를 고려"
   ]
  },
  {
   "cell_type": "code",
   "execution_count": null,
   "metadata": {},
   "outputs": [],
   "source": [
    "#x번째 행에 놓은 Queen에 대해서 검증\n",
    "def check(x):\n",
    "    #이전 행에서 놓았던 모든 Queen들을 확인\n",
    "    for i in range(x):\n",
    "        #위쪽 혹은 대각선을 확인\n",
    "        if row[x] == row[i]:\n",
    "            return False\n",
    "        if abs(row[x] - row[i]) == x-i:\n",
    "            return False\n",
    "    return True\n",
    "\n",
    "#x번째 행에 대하여 처리\n",
    "def dfs(x):\n",
    "    global result\n",
    "    if x == n:\n",
    "        result += 1\n",
    "    else:\n",
    "        #x번째 행의 각 열에 Queen을 둔다고 가정\n",
    "        for i in range(n):\n",
    "            row[x] = i\n",
    "        #해당 위치에 Queen을 두어도 괜찮은경우\n",
    "            if check(x):\n",
    "                #다음 행으로 넘어가기\n",
    "                dfs(x+1)\n",
    "    \n",
    "n = int(input())\n",
    "row = [0] * n\n",
    "result = 0\n",
    "dfs(0)\n",
    "print(result)"
   ]
  },
  {
   "cell_type": "markdown",
   "metadata": {},
   "source": [
    "문제 제목: 알파벳\n",
    "\n",
    "문제 난이도: 중\n",
    "\n",
    "문제유형: 백트레킹\n",
    "    \n",
    "https://www.acmicpc.net/problem/1987"
   ]
  },
  {
   "cell_type": "markdown",
   "metadata": {},
   "source": [
    "말은 상,하,좌,우 네가지 방향으로 이동\n",
    "\n",
    "다른 알파벳이 적힌 칸으로 이동\n",
    "\n",
    "백트레킹을 이용하여 모든 경우의 수 고려\n",
    "\n",
    "이동경로를 문자열처럼 보면 쉽게 가능"
   ]
  },
  {
   "cell_type": "code",
   "execution_count": null,
   "metadata": {},
   "outputs": [],
   "source": [
    "dx = [-1,1,0,0]\n",
    "dy = [0,0,-1,1]\n",
    "\n",
    "def bfs(x,y):\n",
    "    global result\n",
    "    #동일한 경우는 한 번만 계산하기 위하여 집합 자료형 사용\n",
    "    q = set()\n",
    "    q.add((x,y,array[x][y]))\n",
    "    \n",
    "    while q:\n",
    "        x, y, step = q.pop()\n",
    "        #가장 긴 이동 거리를 저장\n",
    "        result = max(result, len(step))\n",
    "        \n",
    "        #네 방향으로 이동하는 경우를 각각 확인\n",
    "        for i in range(4):\n",
    "            nx = x+dx[i]\n",
    "            ny = y+dy[i]\n",
    "            \n",
    "            #이동할 수 있는 위치면서, 새로운 알파벳인 경우\n",
    "            if (0<=nx and nx<r and 0<=ny and ny<c and\n",
    "               array[nx][ny] not in step):\n",
    "                q.add((nx,ny, step+array[nx][ny]))\n",
    "\n",
    "#전체 보드 데이터를 입력 받음\n",
    "r, c = map(int, input().split())\n",
    "array = []\n",
    "for _ in range(r):\n",
    "    array.append(input())\n",
    "    \n",
    "#백트레킹 수행 결과를 출력\n",
    "result = 0\n",
    "bfs(0,0)\n",
    "print(result)"
   ]
  },
  {
   "cell_type": "markdown",
   "metadata": {},
   "source": [
    "문제 제목: 암호만들기\n",
    "\n",
    "문제 난이도: 중\n",
    "\n",
    "문제유형: 백트레킹\n",
    "    \n",
    "https://www.acmicpc.net/problem/1759"
   ]
  },
  {
   "cell_type": "markdown",
   "metadata": {},
   "source": [
    "C 개의 문자들이 주어졌을 때, 가능한 L 길이의 암호를 모두 찾아야 한다.\n",
    "\n",
    "C개의 문자들 중에서 L개를 선택하는 모든 조합을 고려\n",
    "\n",
    "Python의 조합 라이브러리 사용\n",
    "\n",
    "DFS를 이용하여 조합 함수를 구현"
   ]
  },
  {
   "cell_type": "code",
   "execution_count": null,
   "metadata": {},
   "outputs": [],
   "source": [
    "from itertools import combinations\n",
    "\n",
    "vowels = ('a','e','i','o','u')\n",
    "l, c = map(int, input().split(' '))\n",
    "\n",
    "#가능한 암호를 사전식으로 출력해야 하므로 정렬 수행\n",
    "array = input().split(' ')\n",
    "array.sort()\n",
    "\n",
    "#길이가 l인 모든 암호 조합을 확인\n",
    "for password in combinations(array, l):\n",
    "    #모음의 개수를 세기\n",
    "    count =0\n",
    "    for i in password:\n",
    "        if i in vowels:\n",
    "            count += 1\n",
    "        \n",
    "    #최소 한 개의 모음과 최소 두 개의 자음이 있는 경우 출력\n",
    "    if count >= 1 and count <= l - 2:\n",
    "        print(''.join(password))"
   ]
  },
  {
   "cell_type": "code",
   "execution_count": null,
   "metadata": {},
   "outputs": [],
   "source": [
    "#백트레킹으로 구현\n",
    "\n",
    "import copy\n",
    "\n",
    "result = []\n",
    "string = []\n",
    "visited = []\n",
    "\n",
    "#조합 함수 구현 DFS\n",
    "def combination(array, length, index):\n",
    "    #길이가 length인 모든 조합 찾기\n",
    "    if len(string) == length:\n",
    "        result.append(copy.deepcopy(string))\n",
    "        return\n",
    "    #각 원소를 한 번씩만 뽑도록 구성\n",
    "    for i in range(index, len(array)):\n",
    "        if i in visited:\n",
    "            continue \n",
    "        string.append(array[i])\n",
    "        visited.append(i)\n",
    "        combination(array,length,i+1)\n",
    "        string.pop()\n",
    "        visited.pop()\n",
    "        \n",
    "vowels = ('a','e','i','o','u')\n",
    "l, c = map(int, input().split(' '))\n",
    "\n",
    "#가능한 암호를 사전식으로 출력해야 하므로 정렬 수행\n",
    "array = input().split(' ')\n",
    "array.sort()\n",
    "\n",
    "#길이가 l인 모든 암호 조합을 확인\n",
    "combination(array, l, 0)\n",
    "for password in result\n",
    "    #모음의 개수를 세기\n",
    "    count =0\n",
    "    for i in password:\n",
    "        if i in vowels:\n",
    "            count += 1\n",
    "        \n",
    "    #최소 한 개의 모음과 최소 두 개의 자음이 있는 경우 출력\n",
    "    if count >= 1 and count <= l - 2:\n",
    "        print(''.join(password))"
   ]
  }
 ],
 "metadata": {
  "kernelspec": {
   "display_name": "Python 3",
   "language": "python",
   "name": "python3"
  },
  "language_info": {
   "codemirror_mode": {
    "name": "ipython",
    "version": 3
   },
   "file_extension": ".py",
   "mimetype": "text/x-python",
   "name": "python",
   "nbconvert_exporter": "python",
   "pygments_lexer": "ipython3",
   "version": "3.7.4"
  }
 },
 "nbformat": 4,
 "nbformat_minor": 2
}
