{
 "cells": [
  {
   "cell_type": "code",
   "execution_count": 1,
   "metadata": {},
   "outputs": [],
   "source": [
    "#완주하지 못한 선수\n",
    "\n",
    "#내 풀이\n",
    "from collections import Counter\n",
    "def solution(participant, completion):\n",
    "    counts = Counter(participant + completion) #Counter 하면 각 항목마다 센 개수를 dictionary 형태로 저장\n",
    "    for answer, value in counts.items(): #.items()는 key와 value를 tracking 하기 좋음\n",
    "        if value % 2 == 1:\n",
    "            return answer\n",
    "        \n",
    "#다른 사람 풀이\n",
    "import collections\n",
    "def solution(participant, completion):\n",
    "    answer = collections.Counter(participant) - collections.Counter(completion)\n",
    "    return list(answer.keys())[0]"
   ]
  },
  {
   "cell_type": "code",
   "execution_count": 2,
   "metadata": {},
   "outputs": [],
   "source": [
    "#모의고사\n",
    "\n",
    "#내 풀이\n",
    "def solution(answers):\n",
    "    a = [1,2,3,4,5]\n",
    "    b = [2,1,2,3,2,4,2,5]\n",
    "    c = [3,3,1,1,2,2,4,4,5,5]\n",
    "    score = [0,0,0]\n",
    "    answer = []\n",
    "    for i in range(len(answers)):\n",
    "        if answers[i] == a[i%5]:\n",
    "            score[0] += 1\n",
    "        if answers[i] == b[i%8]:\n",
    "            score[1] += 1\n",
    "        if answers[i] == c[i%10]:\n",
    "            score[2] +=1\n",
    "    for j in range(len(score)):\n",
    "        if score[j] == max(score):\n",
    "            answer.append(j+1)\n",
    "    return answer\n",
    "\n",
    "#다른 사람 풀이\n",
    "def solution(answers):\n",
    "    p = [[1, 2, 3, 4, 5],\n",
    "         [2, 1, 2, 3, 2, 4, 2, 5],\n",
    "         [3, 3, 1, 1, 2, 2, 4, 4, 5, 5]]\n",
    "    s = [0] * len(p)\n",
    "\n",
    "    for q, a in enumerate(answers):\n",
    "        for i, v in enumerate(p):\n",
    "            if a == v[q % len(v)]:\n",
    "                s[i] += 1\n",
    "    return [i + 1 for i, v in enumerate(s) if v == max(s)]"
   ]
  },
  {
   "cell_type": "code",
   "execution_count": 3,
   "metadata": {},
   "outputs": [],
   "source": [
    "#K번째수\n",
    "\n",
    "#내 풀이\n",
    "def solution(array, commands):\n",
    "    answer = []\n",
    "    for i in commands:\n",
    "        renew = array[i[0]-1:i[1]]\n",
    "        renew.sort()\n",
    "        answer.append(renew[i[2]-1])\n",
    "    return answer\n",
    "\n",
    "\n",
    "#다른 사람 풀이\n",
    "\n",
    "def solution(array, commands):\n",
    "    return list(map(lambda x:sorted(array[x[0]-1:x[1]])[x[2]-1], commands))\n",
    "    "
   ]
  },
  {
   "cell_type": "code",
   "execution_count": 19,
   "metadata": {},
   "outputs": [],
   "source": [
    "#체육복\n",
    "\n",
    "#내 풀이\n",
    "def solution(n, lost, reserve):\n",
    "    _lost = list(set(lost) - set(reserve))\n",
    "    _reserve = list(set(reserve) - set(lost))\n",
    "    answer = n - len(_lost)\n",
    "    for i in _reserve:\n",
    "        if i-1 in _lost:\n",
    "            _lost.remove(i-1)\n",
    "            answer += 1\n",
    "        elif i+1 in _lost:\n",
    "            _lost.remove(i+1)\n",
    "            answer += 1\n",
    "    return answer\n",
    "\n",
    "#다른 사람 풀이\n",
    "def solution(n, lost, reserve):\n",
    "    _reserve = [r for r in reserve if r not in lost]\n",
    "    _lost = [l for l in lost if l not in reserve]\n",
    "    for r in _reserve:\n",
    "        f = r - 1\n",
    "        b = r + 1\n",
    "        if f in _lost:\n",
    "            _lost.remove(f)\n",
    "        elif b in _lost:\n",
    "            _lost.remove(b)\n",
    "    return n - len(_lost)"
   ]
  },
  {
   "cell_type": "code",
   "execution_count": 27,
   "metadata": {},
   "outputs": [],
   "source": [
    "#2016년\n",
    "\n",
    "#내 풀이\n",
    "import datetime\n",
    "def solution(a, b):\n",
    "    date = datetime.date(2016, a,b)\n",
    "    answer = date.strftime('%a').upper()\n",
    "    return answer\n",
    "\n",
    "#다른 사람 풀이\n",
    "def getDayName(a,b):\n",
    "    months = [31, 29, 31, 30, 31, 30, 31, 31, 30, 31, 30, 31]\n",
    "    days = ['FRI', 'SAT', 'SUN', 'MON', 'TUE', 'WED', 'THU']\n",
    "    return days[(sum(months[:a-1])+b-1)%7]"
   ]
  },
  {
   "cell_type": "code",
   "execution_count": 34,
   "metadata": {},
   "outputs": [
    {
     "name": "stdout",
     "output_type": "stream",
     "text": [
      "we\n"
     ]
    }
   ],
   "source": [
    "#가운데 글자 가져오기\n",
    "\n",
    "#내 풀이\n",
    "def solution(s):\n",
    "    if len(s)%2 == 1:\n",
    "        return(s[len(s)//2])\n",
    "    else:\n",
    "        return(s[len(s)//2-1:len(s)//2+1])\n",
    "    \n",
    "#다른 사람 풀이\n",
    "def string_middle(str):\n",
    "    return str[(len(str)-1)//2:len(str)//2+1]"
   ]
  },
  {
   "cell_type": "code",
   "execution_count": 137,
   "metadata": {},
   "outputs": [
    {
     "name": "stdout",
     "output_type": "stream",
     "text": [
      "[1, 3, 0, 1]\n"
     ]
    }
   ],
   "source": [
    "#같은 숫자는 싫어\n",
    "\n",
    "#내 풀이\n",
    "def solution(arr):\n",
    "    answer = [arr[0]]\n",
    "\n",
    "    for i in range(1,len(arr)):\n",
    "        if arr[i]!=arr[i-1]:\n",
    "            answer.append(arr[i])\n",
    "    return answer\n",
    "\n",
    "#다른 사람 풀이\n",
    "def no_continuous(s):\n",
    "    a = [v for i,v in enumerate(s) if s[i-1]!=s[i]]\n",
    "    return a\n",
    "\n"
   ]
  },
  {
   "cell_type": "code",
   "execution_count": 60,
   "metadata": {},
   "outputs": [
    {
     "name": "stdout",
     "output_type": "stream",
     "text": [
      "[5, 10]\n"
     ]
    }
   ],
   "source": [
    "#나누어 떨어지는 숫자 배열\n",
    "\n",
    "#내 풀이\n",
    "def solution(arr, divisor):\n",
    "    answer = []\n",
    "    for i in arr:\n",
    "        if i%divisor == 0:\n",
    "            answer.append(i)\n",
    "    if answer == []:\n",
    "        answer.append(-1)\n",
    "    answer.sort()\n",
    "    return answer\n",
    "    \n",
    "#다른 사람 풀이\n",
    "def solution(arr, divisor): \n",
    "    return sorted([n for n in arr if n%divisor == 0]) or [-1]\n"
   ]
  },
  {
   "cell_type": "code",
   "execution_count": 85,
   "metadata": {},
   "outputs": [
    {
     "name": "stdout",
     "output_type": "stream",
     "text": [
      "[3, 4, 5]\n"
     ]
    }
   ],
   "source": [
    "#두 정수 사이의 합\n",
    "\n",
    "#내 풀이\n",
    "def solution(a, b):\n",
    "    added = [a,b]\n",
    "    answer = [i for i in range(min(added),max(added)+1)]\n",
    "    return sum(answer)\n",
    "\n",
    "#다른 사람 풀이\n",
    "def adder(a, b):\n",
    "    if a > b: \n",
    "        a, b = b, a\n",
    "    return sum(range(a,b+1))"
   ]
  },
  {
   "cell_type": "code",
   "execution_count": 138,
   "metadata": {},
   "outputs": [],
   "source": [
    "#문자열 내 마음대로 정렬하기\n",
    "\n",
    "#내 풀이\n",
    "def solution(strings, n):\n",
    "    joined = []\n",
    "    new_strings = [list(i) for i in strings]\n",
    "    for j in new_strings:\n",
    "        j[0],j[n] = j[n], j[0]\n",
    "\n",
    "    new_strings.sort()\n",
    "    for k in new_strings:\n",
    "        k[n],k[0] = k[0], k[n]\n",
    "\n",
    "    for l in new_strings:\n",
    "        joined.append(''.join(l))\n",
    "    \n",
    "    return joined\n",
    "\n",
    "#다른 사람 풀이\n",
    "def solution(strings, n):  \n",
    "    return sorted(strings, key=lambda x: x[n])"
   ]
  },
  {
   "cell_type": "code",
   "execution_count": 148,
   "metadata": {},
   "outputs": [],
   "source": [
    "#문자열 내 p와 y의 개수\n",
    "\n",
    "#내 풀이 == 다른 사람 풀이\n",
    "def solution(s):\n",
    "    return s.lower().count('p') == s.lower().count('y')\n"
   ]
  },
  {
   "cell_type": "code",
   "execution_count": 152,
   "metadata": {},
   "outputs": [],
   "source": [
    "#문자열 내림차순으로 배치하기\n",
    "\n",
    "#내 풀이 == 다른 사람 풀이\n",
    "def solution(s):\n",
    "    return \"\".join(sorted(s, reverse=True))"
   ]
  },
  {
   "cell_type": "code",
   "execution_count": 159,
   "metadata": {},
   "outputs": [],
   "source": [
    "#문자열 다루기 기본\n",
    "\n",
    "#내 풀이 == 다른 사람 풀이\n",
    "def solution(s):\n",
    "    return s.isnumeric() and len(s)==4 or len(s)==6\n"
   ]
  },
  {
   "cell_type": "code",
   "execution_count": 165,
   "metadata": {},
   "outputs": [],
   "source": [
    "#서울에서 김서방 찾기\n",
    "\n",
    "#내 풀이\n",
    "def solution(seoul):\n",
    "    for s in range(len(seoul)):\n",
    "        if seoul[s] == 'Kim':\n",
    "            return \"김서방은 %s에 있다\"%s\n",
    "    \n",
    "#다른 사람 풀이\n",
    "def findKim(seoul):\n",
    "    return \"김서방은 {}에 있다\".format(seoul.index('Kim'))\n",
    "    "
   ]
  },
  {
   "cell_type": "code",
   "execution_count": 198,
   "metadata": {},
   "outputs": [],
   "source": [
    "#소수 찾기\n",
    "\n",
    "#내 풀이 : 효율성 지옥\n",
    "from collections import Counter\n",
    "def solution(n):\n",
    "    counts = [i for i in range(n+1,0,-1) for j in range(1,n+1) if i%j ==0]\n",
    "    counts = Counter(counts)\n",
    "    answer = []\n",
    "    for i, j in counts.items():\n",
    "        if j==2:\n",
    "            answer.append(i)\n",
    "    return len(answer)\n",
    "\n",
    "#다른 사람 풀이\n",
    "def solution(n):\n",
    "    num=set(range(2,n+1))\n",
    "\n",
    "    for i in range(2,n+1):\n",
    "        if i in num:\n",
    "            num-=set(range(2*i,n+1,i))\n",
    "    return len(num)"
   ]
  },
  {
   "cell_type": "code",
   "execution_count": 203,
   "metadata": {},
   "outputs": [
    {
     "data": {
      "text/plain": [
       "'수박수박수박수'"
      ]
     },
     "execution_count": 203,
     "metadata": {},
     "output_type": "execute_result"
    }
   ],
   "source": [
    "#수박수박수박\n",
    "\n",
    "#내 풀이 == 다른 사람 풀이\n",
    "def solution(n):\n",
    "    return n // 2 * '수박' + n % 2 * '수'"
   ]
  },
  {
   "cell_type": "code",
   "execution_count": 207,
   "metadata": {},
   "outputs": [],
   "source": [
    "#문자열을 정수로 바꾸기\n",
    "\n",
    "#내 풀이\n",
    "def solution(s):\n",
    "    return int(s)\n",
    "\n",
    "#다른 사람 풀이\n",
    "def strToInt(str):\n",
    "    result = 0\n",
    "    for idx, number in enumerate(str[::-1]):\n",
    "        if number == '-':\n",
    "            result *= -1\n",
    "        else:\n",
    "            result += int(number) * (10 ** idx)\n",
    "    return result"
   ]
  },
  {
   "cell_type": "code",
   "execution_count": 265,
   "metadata": {},
   "outputs": [],
   "source": [
    "#시저 암호\n",
    "\n",
    "#내 풀이\n",
    "def solution(s, n):\n",
    "    alpha_lower = 'abcdefghijklmnopqrstuvwxyz'\n",
    "    alpha_upper = alpha_lower.upper()\n",
    "    answer = []\n",
    "    for i in range(len(s)):\n",
    "        if s[i] == \" \":\n",
    "            answer.append(\" \")\n",
    "        elif s[i].isupper():\n",
    "            answer.append(alpha_upper[(alpha_upper.index(s[i])+n)%26])\n",
    "        elif s[i].islower():\n",
    "            answer.append(alpha_lower[(alpha_lower.index(s[i])+n)%26])\n",
    "    return \"\".join(answer)\n",
    "\n",
    "#다른 사람 풀이\n",
    "def caesar(s, n):\n",
    "    s = list(s)\n",
    "    for i in range(len(s)):\n",
    "        if s[i].isupper():\n",
    "            s[i]=chr((ord(s[i])-ord('A')+ n)%26+ord('A'))\n",
    "        elif s[i].islower():\n",
    "            s[i]=chr((ord(s[i])-ord('a')+ n)%26+ord('a'))\n",
    "\n",
    "    return \"\".join(s)"
   ]
  },
  {
   "cell_type": "code",
   "execution_count": 284,
   "metadata": {},
   "outputs": [],
   "source": [
    "#약수의 합\n",
    "\n",
    "#내 풀이\n",
    "def solution(n):\n",
    "    return sum([i for i in range(1,n+1) if n%i == 0])\n",
    "\n",
    "#다른 사람 풀이\n",
    "def sumDivisor(num):\n",
    "    return num + sum([i for i in range(1, (num // 2) + 1) if num % i == 0])"
   ]
  },
  {
   "cell_type": "code",
   "execution_count": null,
   "metadata": {},
   "outputs": [],
   "source": [
    "#이상한 문자 만들기\n",
    "s = 'try hello world'\n"
   ]
  }
 ],
 "metadata": {
  "kernelspec": {
   "display_name": "Python 3",
   "language": "python",
   "name": "python3"
  },
  "language_info": {
   "codemirror_mode": {
    "name": "ipython",
    "version": 3
   },
   "file_extension": ".py",
   "mimetype": "text/x-python",
   "name": "python",
   "nbconvert_exporter": "python",
   "pygments_lexer": "ipython3",
   "version": "3.7.4"
  }
 },
 "nbformat": 4,
 "nbformat_minor": 2
}
