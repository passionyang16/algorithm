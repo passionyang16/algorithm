{
 "cells": [
  {
   "cell_type": "code",
   "execution_count": 95,
   "metadata": {},
   "outputs": [
    {
     "name": "stdout",
     "output_type": "stream",
     "text": [
      "4\n"
     ]
    }
   ],
   "source": [
    "#Level 1 인형뽑기\n",
    "\n",
    "#내 풀이\n",
    "block = []\n",
    "board = [[0,0,0,0,0],[0,0,1,0,3],[0,2,5,0,1],[4,2,4,4,2],[3,5,1,3,1]]\n",
    "moves = [1,5,3,5,1,2,1,4]\n",
    "for i in range(len(moves)):\n",
    "    for j in range(len(board)):\n",
    "        if (board[j][moves[i]-1]) != 0 :\n",
    "            block.append(board[j][moves[i]-1])\n",
    "            board[j][moves[i]-1] = 0\n",
    "            break\n",
    "\n",
    "answer = 0 \n",
    "\n",
    "for i in range(len(block)-1,0,-1):\n",
    "    if (block[i] == block[i-1]):\n",
    "        del block[i]\n",
    "        del block[i-1]\n",
    "        answer += 2\n",
    "        \n",
    "\n",
    "print(answer)\n",
    "\n",
    "#다른 사람 풀이\n",
    "\n",
    "def solution(board, moves):\n",
    "    stacklist = []\n",
    "    answer = 0\n",
    "\n",
    "    for i in moves:\n",
    "        for j in range(len(board)):\n",
    "            if board[j][i-1] != 0:\n",
    "                stacklist.append(board[j][i-1])\n",
    "                board[j][i-1] = 0\n",
    "\n",
    "                if len(stacklist) > 1:\n",
    "                    if stacklist[-1] == stacklist[-2]:\n",
    "                        stacklist.pop(-1)\n",
    "                        stacklist.pop(-1)\n",
    "                        answer += 2     \n",
    "                break\n",
    "\n",
    "    return answer"
   ]
  },
  {
   "cell_type": "code",
   "execution_count": 141,
   "metadata": {},
   "outputs": [
    {
     "name": "stdout",
     "output_type": "stream",
     "text": [
      "[['20', '111'], ['111']]\n",
      "[111, 20]\n"
     ]
    }
   ],
   "source": [
    "#Level 2 스택\n",
    "\n",
    "#내 풀이\n",
    "\n",
    "s = \"{{20,111},{111}}\"\n",
    "s = s[2:len(s)-2].split(\"},{\")\n",
    "a = []\n",
    "b = []\n",
    "c = []\n",
    "\n",
    "for i in s:\n",
    "    i = i.split(',')\n",
    "    a.append(i)\n",
    "print(a)\n",
    "for j in a:\n",
    "    j = list(map(int,j))\n",
    "    b.append(j)\n",
    "\n",
    "b.sort(key=len,reverse=True)\n",
    "\n",
    "for i in range(len(b)):\n",
    "    popped = b.pop()\n",
    "    for i in popped:\n",
    "        if i not in c:\n",
    "            c.append(i)\n",
    "    \n",
    "print(c)\n",
    "\n",
    "#다른 사람 풀이\n",
    "import re\n",
    "\n",
    "def solution(s):\n",
    "    answer = []\n",
    "    a = s.split(',{')\n",
    "    a.sort(key = len)\n",
    "    for j in a:\n",
    "        numbers = re.findall(\"\\d+\", j)\n",
    "        for k in numbers:\n",
    "            if int(k) not in answer:\n",
    "                answer.append(int(k))\n",
    "\n",
    "    return answer"
   ]
  },
  {
   "cell_type": "code",
   "execution_count": 24,
   "metadata": {},
   "outputs": [
    {
     "name": "stdout",
     "output_type": "stream",
     "text": [
      "2\n"
     ]
    }
   ],
   "source": [
    "#Level 2\n",
    "\n",
    "skill = \"CBD\"\n",
    "skill_trees = [\"BACDE\", \"CBADF\", \"AECB\", \"BDA\"]\n",
    "3\n",
    "\n",
    "\n",
    "print(answer)\n",
    "    "
   ]
  },
  {
   "cell_type": "code",
   "execution_count": 250,
   "metadata": {},
   "outputs": [
    {
     "name": "stdout",
     "output_type": "stream",
     "text": [
      "('*', 'o')\n",
      "('*', 'o')\n",
      "('*', 'a')\n",
      "('*', 'i')\n",
      "('f', 'c')\n",
      "('*', 'o')\n",
      "('*', 'o')\n",
      "('*', '2')\n",
      "('*', '3')\n",
      "('a', 'f')\n",
      "('b', 'r')\n",
      "('c', 'o')\n",
      "('1', 'd')\n",
      "('*', 'o')\n",
      "('*', 'c')\n"
     ]
    }
   ],
   "source": [
    "#Level 3 불량 사용자\n",
    "\n",
    "user_id = [\"frodo\", \"fradi\", \"crodo\", \"abc123\", \"frodoc\"]\n",
    "banned_id = [\"fr*d*\", \"abc1**\"]\n",
    "new = []\n",
    "again = []\n",
    "for i in banned_id:\n",
    "    for j in user_id:\n",
    "        if len(i) == len(j):\n",
    "            new.append(list(zip(i,j)))\n",
    "\n",
    "for k in new:\n",
    "    for l in range(len(k)):\n",
    "        if k[l][0] != k[l][1] :\n",
    "            print(k[l])"
   ]
  },
  {
   "cell_type": "code",
   "execution_count": 81,
   "metadata": {},
   "outputs": [
    {
     "data": {
      "text/plain": [
       "['######', '###  #', '##  ##', ' #### ', ' #####', '### # ']"
      ]
     },
     "execution_count": 81,
     "metadata": {},
     "output_type": "execute_result"
    }
   ],
   "source": [
    "#Level 1 비밀지도\n",
    "#내 풀이\n",
    "n = 6\n",
    "arr1 = [46, 33, 33, 22, 31, 50]\n",
    "arr2 = [27, 56, 19, 14, 14, 10]\n",
    "new_arr = []\n",
    "\n",
    "for i in range(n):\n",
    "    arr1[i] = bin(arr1[i])[2:]\n",
    "    arr2[i] = bin(arr2[i])[2:]\n",
    "    new_arr.append(int(arr1[i])+int(arr2[i]))\n",
    "    new_arr[i] = str(new_arr[i])\n",
    "    if len(new_arr[i]) != n:\n",
    "        new_arr[i] = (n-len(new_arr[i]))*'0' + new_arr[i]\n",
    "    for j in new_arr[i]:\n",
    "        if (int(j) != 0) and (int(j) != 1):\n",
    "            new_arr[i] = new_arr[i].replace(j,'1')\n",
    "    new_arr[i] = new_arr[i].replace('1','#')\n",
    "    new_arr[i] = new_arr[i].replace('0',' ')\n",
    "    \n",
    "#다른 사람 풀이\n",
    "\n",
    "def solution(n, arr1, arr2):\n",
    "    answer = []\n",
    "    for i,j in zip(arr1,arr2):\n",
    "        a12 = str(bin(i|j)[2:])\n",
    "        a12=a12.rjust(n,'0')\n",
    "        a12=a12.replace('1','#')\n",
    "        a12=a12.replace('0',' ')\n",
    "        answer.append(a12)\n",
    "    return answer"
   ]
  },
  {
   "cell_type": "code",
   "execution_count": 96,
   "metadata": {},
   "outputs": [
    {
     "name": "stdout",
     "output_type": "stream",
     "text": [
      "4\n"
     ]
    }
   ],
   "source": [
    "#Level 1: 예산\n",
    "\n",
    "#내 풀이\n",
    "d = [2,2,3,3]\n",
    "budget = 10\n",
    "d.sort()\n",
    "for i in range(len(d)-1,-1,-1):\n",
    "    if sum(d) > budget:\n",
    "        d.pop()\n",
    "print(len(d))\n",
    "\n",
    "#다른 사람 풀이\n",
    "def solution(d, budget):\n",
    "    d.sort()\n",
    "    while budget < sum(d):\n",
    "        d.pop()\n",
    "    return len(d)"
   ]
  },
  {
   "cell_type": "code",
   "execution_count": 3,
   "metadata": {},
   "outputs": [],
   "source": [
    "#Level 1: 다트\n",
    "\n",
    "dartResult = '1S*2T*3S'\n",
    "def solution(dartResult):\n",
    "    score = []\n",
    "    n = ''\n",
    "    for i in dartResult:\n",
    "        if i.isnumeric():\n",
    "            n += i\n",
    "        elif i == 'S':\n",
    "            score.append(int(n) ** 1)\n",
    "            n = ''\n",
    "        elif i == 'D':\n",
    "            score.append(int(n) ** 2)\n",
    "            n = ''\n",
    "        elif i == 'T':\n",
    "            score.append(int(n) ** 3)\n",
    "            n = ''\n",
    "        elif i == '*':\n",
    "            if len(score) > 1:\n",
    "                score[-2] *= 2\n",
    "            score[-1] *= 2\n",
    "        elif i == '#':\n",
    "            score[-1] *= -1\n",
    "    return sum(score)\n",
    "        \n"
   ]
  },
  {
   "cell_type": "code",
   "execution_count": 29,
   "metadata": {},
   "outputs": [
    {
     "data": {
      "text/plain": [
       "[6, 4, 3, 3, 2, 2, 2, 1]"
      ]
     },
     "execution_count": 29,
     "metadata": {},
     "output_type": "execute_result"
    }
   ],
   "source": [
    "# Level 1: 실패율\n",
    "\n",
    "stages = [2, 1, 2, 6, 2, 4, 3, 3]\n",
    "N = 5\n",
    "stages.sort(reverse=True)\n",
    "failure = []\n",
    "\n",
    "failure.append()"
   ]
  },
  {
   "cell_type": "code",
   "execution_count": null,
   "metadata": {},
   "outputs": [],
   "source": []
  }
 ],
 "metadata": {
  "kernelspec": {
   "display_name": "Python 3",
   "language": "python",
   "name": "python3"
  },
  "language_info": {
   "codemirror_mode": {
    "name": "ipython",
    "version": 3
   },
   "file_extension": ".py",
   "mimetype": "text/x-python",
   "name": "python",
   "nbconvert_exporter": "python",
   "pygments_lexer": "ipython3",
   "version": "3.7.4"
  }
 },
 "nbformat": 4,
 "nbformat_minor": 2
}
