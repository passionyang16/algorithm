{
 "cells": [
  {
   "cell_type": "markdown",
   "metadata": {},
   "source": [
    "# 해시"
   ]
  },
  {
   "cell_type": "code",
   "execution_count": null,
   "metadata": {},
   "outputs": [],
   "source": [
    "#전화번호 목록\n",
    "\n",
    "#내 풀이\n",
    "def solution(phone_book):\n",
    "    phone_book = sorted(phone_book)\n",
    "    for p1,p2 in zip(phone_book[:-1],phone_book[1:]):\n",
    "        if p2.startswith(p1):\n",
    "            return False\n",
    "    return True\n",
    "\n",
    "#다른 사람 풀이\n",
    "\n",
    "def solution(phoneBook):\n",
    "    phoneBook = sorted(phoneBook)\n",
    "\n",
    "    for p1, p2 in zip(phoneBook, phoneBook[1:]):\n",
    "        if p2.startswith(p1):\n",
    "            return False\n",
    "    return True"
   ]
  },
  {
   "cell_type": "code",
   "execution_count": null,
   "metadata": {},
   "outputs": [],
   "source": [
    "#위장\n",
    "\n",
    "#내 풀이\n",
    "from collections import Counter\n",
    "def solution(clothes):\n",
    "    clothes = Counter(list(dict(clothes).values()))\n",
    "    counts = list(map(lambda x:x+1,clothes.values()))\n",
    "    answer = 1\n",
    "    for i in counts:\n",
    "        answer *= i\n",
    "    return answer-1\n",
    "        \n",
    "\n",
    "#다른 사람 풀이\n",
    "from collections import Counter\n",
    "from functools import reduce\n",
    "def solution(clothes):\n",
    "    cnt = Counter([kind for name, kind in clothes])\n",
    "    answer = reduce(lambda x, y: x*(y+1), cnt.values(), 1) - 1\n",
    "    return answer"
   ]
  },
  {
   "cell_type": "markdown",
   "metadata": {},
   "source": [
    "# 스택/큐"
   ]
  },
  {
   "cell_type": "code",
   "execution_count": null,
   "metadata": {},
   "outputs": [],
   "source": [
    "#탑\n",
    "\n",
    "#내풀이\n",
    "\n",
    "def solution(heights):\n",
    "    answer = []\n",
    "    flag = False\n",
    "    for s_idx in range(len(heights)-1, -1, -1):\n",
    "        for r_idx in range(s_idx-1, -1, -1):\n",
    "            if heights[s_idx] < heights[r_idx]:\n",
    "                flag = True\n",
    "                answer = [r_idx + 1] + answer\n",
    "                break\n",
    "        if flag == False:\n",
    "            answer = [0] + answer\n",
    "        flag = False\n",
    "        \n",
    "    return answer\n",
    "\n",
    "\n",
    "#다른 사람 풀이\n",
    "\n",
    "def solution(h):\n",
    "    ans = [0] * len(h)\n",
    "    for i in range(len(h)-1, 0, -1):\n",
    "        for j in range(i-1, -1, -1):\n",
    "            if h[i] < h[j]:\n",
    "                ans[i] = j+1\n",
    "                break\n",
    "    return ans"
   ]
  },
  {
   "cell_type": "code",
   "execution_count": 67,
   "metadata": {},
   "outputs": [
    {
     "name": "stdout",
     "output_type": "stream",
     "text": [
      "8\n"
     ]
    }
   ],
   "source": [
    "#다리를 지나는 트럭\n",
    "bridge_length = 2\n",
    "weight = 10\n",
    "truck_weights = [7,4,5,6]\n",
    "at_bridge = [0]*bridge_length\n",
    "count = 0\n",
    "\n",
    "truck_weights = truck_weights[::-1]\n",
    "n = len(truck_weights)\n",
    "passing_weight = [0]*n\n",
    "passed = []; passing = []\n",
    "i = 0; j = -1\n",
    "while len(passed)<n :\n",
    "    if len(truck_weights)>0 and sum(passing) + truck_weights[-1] <= weight :\n",
    "        passing.append(truck_weights.pop())\n",
    "        j+=1\n",
    "    passing_weight[:j+1] = [passing_weight[z]+1 for z in range(j+1)]\n",
    " \n",
    "    if passing_weight[i] == bridge_length :\n",
    "        passed.append(passing[0])\n",
    "        passing = passing[1:]\n",
    "        i+=1\n",
    "        \n",
    "print(passing_weight[0]+1)\n"
   ]
  },
  {
   "cell_type": "code",
   "execution_count": null,
   "metadata": {},
   "outputs": [],
   "source": [
    "#기능개발"
   ]
  },
  {
   "cell_type": "code",
   "execution_count": null,
   "metadata": {},
   "outputs": [],
   "source": [
    "#프린터"
   ]
  },
  {
   "cell_type": "code",
   "execution_count": null,
   "metadata": {},
   "outputs": [],
   "source": [
    "#쇠막대기\n",
    "arrangement = '()(((()())(())()))(())'\n",
    "arrangement = arrangement.replace('()','L')\n",
    "print(arrangement)\n",
    "for i in range(len(arrangement)):\n",
    "    if arrangement[i:i+2] == '(L':\n",
    "        print(i)\n"
   ]
  },
  {
   "cell_type": "code",
   "execution_count": null,
   "metadata": {},
   "outputs": [],
   "source": [
    "#주식가격\n",
    "\n",
    "#내 풀이\n",
    "def solution(prices):\n",
    "    answer = [0] * len(prices)\n",
    "    for i in range(len(prices)-1):\n",
    "        for j in range(i, len(prices)-1):\n",
    "            if prices[i] > prices[j]:\n",
    "                break\n",
    "            else:\n",
    "                answer[i] +=1\n",
    "    return answer\n",
    "        \n",
    "#다른 사람 풀이\n",
    "\n",
    "from collections import deque\n",
    "def solution(prices):\n",
    "    answer = []\n",
    "    prices = deque(prices)\n",
    "    while prices:\n",
    "        c = prices.popleft()\n",
    "\n",
    "        count = 0\n",
    "        for i in prices:\n",
    "            if c > i:\n",
    "                count += 1\n",
    "                break\n",
    "            count += 1\n",
    "\n",
    "        answer.append(count)\n",
    "\n",
    "    return answer\n"
   ]
  },
  {
   "cell_type": "markdown",
   "metadata": {},
   "source": [
    "# 힙"
   ]
  },
  {
   "cell_type": "code",
   "execution_count": null,
   "metadata": {},
   "outputs": [],
   "source": [
    "#더 맵게\n",
    "\n",
    "#내 풀이\n",
    "\n",
    "#다른 사람 풀이\n"
   ]
  },
  {
   "cell_type": "code",
   "execution_count": null,
   "metadata": {},
   "outputs": [],
   "source": [
    "#라면 공장"
   ]
  },
  {
   "cell_type": "markdown",
   "metadata": {},
   "source": [
    "# 정렬"
   ]
  },
  {
   "cell_type": "code",
   "execution_count": null,
   "metadata": {},
   "outputs": [],
   "source": [
    "#가장 큰 수\n",
    "\n",
    "#내 풀이 (시간초과)\n",
    "from itertools import permutations\n",
    "numbers = [3,30,34,5,9]\n",
    "# max(list(map(''.join, permutations(list(map(str,numbers)), len(numbers)))))\n",
    "\n",
    "#내 풀이\n",
    "def solution(numbers):\n",
    "    numbers = list(map(str,numbers))\n",
    "    numbers.sort(key= lambda x: x*4,reverse=True)\n",
    "    answer = \"\".join(numbers) if numbers[0] != \"0\" else \"0\"\n",
    "    return answer\n",
    "\n",
    "#다른 사람 풀이\n",
    "def solution(numbers):\n",
    "    numbers = list(map(str, numbers))\n",
    "    numbers.sort(key=lambda x: x*3, reverse=True)\n",
    "    return str(int(''.join(numbers)))\n",
    "\n",
    "\n"
   ]
  },
  {
   "cell_type": "code",
   "execution_count": null,
   "metadata": {},
   "outputs": [],
   "source": [
    "#H-index"
   ]
  },
  {
   "cell_type": "markdown",
   "metadata": {},
   "source": [
    "# 완전탐색"
   ]
  },
  {
   "cell_type": "code",
   "execution_count": null,
   "metadata": {},
   "outputs": [],
   "source": [
    "#소수찾기\n",
    "import math\n",
    "from itertools import permutations\n",
    "numbers = '011'\n",
    "numbers = list(numbers)\n",
    "permu = list(map(''.join, permutations(numbers)))\n",
    "\n",
    "for i in numbers:\n",
    "    permu.append(i)\n",
    "permu = list(set(permu))\n",
    "for i in range(len(permu)):\n",
    "    permu[i] = int(permu[i])\n",
    "\n",
    "permu = set(permu)\n",
    "\n",
    "n = int(max(permu))\n",
    "\n",
    "num=set(range(2,n+1))\n",
    "for i in range(2,n+1):\n",
    "    if i in num:\n",
    "        num-=set(range(2*i,n+1,i))\n",
    "\n",
    "answer = []\n",
    "\n",
    "for i in permu:\n",
    "    if i in num:\n",
    "        answer.append(i)\n",
    "\n",
    "print(len(answer))\n",
    "        \n"
   ]
  },
  {
   "cell_type": "code",
   "execution_count": null,
   "metadata": {},
   "outputs": [],
   "source": [
    "#숫자야구\n",
    "\n",
    "baseball = [[123, 1, 1], [356, 1, 0], [327, 2, 0], [489, 0, 1]]\n",
    "strike = []\n",
    "ball = []\n",
    "for i in range(len(baseball)):\n",
    "    strike.append(baseball[i][1])\n",
    "    ball.append(baseball[i][2])\n",
    "\n",
    "print(strike)"
   ]
  },
  {
   "cell_type": "code",
   "execution_count": null,
   "metadata": {},
   "outputs": [],
   "source": [
    "#카펫\n",
    "\n",
    "#내 풀이\n",
    "def solution(brown, red):\n",
    "    total = brown + red\n",
    "    answer = []\n",
    "    yaksu = [i for i in range(1,total+1) if total%i == 0]\n",
    "    if len(yaksu)%2 ==1:\n",
    "        yaksu.insert((len(yaksu)//2)+1,yaksu[len(yaksu)//2])\n",
    "    for i in range(len(yaksu)):\n",
    "        for j in range(len(yaksu)-1,0,-1):\n",
    "            if (yaksu[i] >= yaksu[j]) & (yaksu[i]*yaksu[j] == total) & (((yaksu[i]-2)*(yaksu[j]-2))==red):\n",
    "                answer.append(yaksu[i])\n",
    "                answer.append(yaksu[j])\n",
    "    return answer[0:2]\n",
    "\n",
    "#다른 사람 풀이\n",
    "def solution(brown, red):\n",
    "    nm = brown + red\n",
    "    for n in range(1, nm+1):\n",
    "        if nm%n != 0:\n",
    "            continue\n",
    "        m = nm//n\n",
    "        if (n-2)*(m-2) == red:\n",
    "            return sorted([n, m], reverse = True)"
   ]
  },
  {
   "cell_type": "markdown",
   "metadata": {},
   "source": [
    "# 탐욕법"
   ]
  },
  {
   "cell_type": "code",
   "execution_count": null,
   "metadata": {},
   "outputs": [],
   "source": [
    "#조이스틱"
   ]
  },
  {
   "cell_type": "code",
   "execution_count": null,
   "metadata": {},
   "outputs": [],
   "source": [
    "#큰수만들기"
   ]
  },
  {
   "cell_type": "code",
   "execution_count": null,
   "metadata": {},
   "outputs": [],
   "source": [
    "#구명보트"
   ]
  },
  {
   "cell_type": "markdown",
   "metadata": {},
   "source": [
    "# 깊이/너비 우선탐색"
   ]
  },
  {
   "cell_type": "code",
   "execution_count": 142,
   "metadata": {},
   "outputs": [],
   "source": [
    "#타겟 넘버\n",
    "\n",
    "#내 풀이 (시간 초과)\n",
    "# from itertools import permutations\n",
    "# numbers = [1,1,1,1,1]\n",
    "# neg_numbers = list(map(lambda x: x*-1,numbers))\n",
    "# new_numbers = numbers + neg_numbers\n",
    "# combi = list(permutations(new_numbers,5))\n",
    "# combi = set(combi)\n",
    "# count = 0\n",
    "# for i in combi:\n",
    "#     print(i)\n",
    "#     if sum(i) == 3:\n",
    "#         count +=1\n",
    "\n",
    "# return count\n",
    "\n",
    "#내 풀이\n",
    "\n",
    "def solution(numbers, target):\n",
    "    answer_count = [0]\n",
    "    for i in numbers:\n",
    "        temp_list = []\n",
    "        for j in answer_count:\n",
    "            temp_list.append(j+i)\n",
    "            temp_list.append(j-i)\n",
    "        answer_count = temp_list\n",
    "\n",
    "\n",
    "    answer = answer_count.count(target)\n",
    "    return answer\n",
    "\n",
    "#다른 사람 풀이\n",
    "from itertools import product\n",
    "def solution(numbers, target):\n",
    "    l = [(x, -x) for x in numbers]\n",
    "    s = list(map(sum, product(*l)))\n",
    "    return s.count(target)\n"
   ]
  },
  {
   "cell_type": "code",
   "execution_count": 8,
   "metadata": {},
   "outputs": [],
   "source": [
    "#올바른 괄호\n",
    "s = '(())()'\n",
    "s = s.replace('()','L')"
   ]
  },
  {
   "cell_type": "code",
   "execution_count": null,
   "metadata": {},
   "outputs": [],
   "source": []
  }
 ],
 "metadata": {
  "kernelspec": {
   "display_name": "Python 3",
   "language": "python",
   "name": "python3"
  },
  "language_info": {
   "codemirror_mode": {
    "name": "ipython",
    "version": 3
   },
   "file_extension": ".py",
   "mimetype": "text/x-python",
   "name": "python",
   "nbconvert_exporter": "python",
   "pygments_lexer": "ipython3",
   "version": "3.7.4"
  }
 },
 "nbformat": 4,
 "nbformat_minor": 2
}
