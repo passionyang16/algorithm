{
 "cells": [
  {
   "cell_type": "markdown",
   "metadata": {},
   "source": [
    "## 문자열 압축"
   ]
  },
  {
   "cell_type": "code",
   "execution_count": 14,
   "metadata": {},
   "outputs": [],
   "source": [
    "#input\n",
    "s = \"ababcdcdababcdcd\""
   ]
  },
  {
   "cell_type": "code",
   "execution_count": 2,
   "metadata": {
    "scrolled": false
   },
   "outputs": [],
   "source": [
    "from queue import deque\n",
    "def solution(s):\n",
    "    result = []\n",
    "    #총 몇개 단위로 자를 건지는 len(s)의 반만 계산하면 되지만, 길이가 1인경우를 고려하여 +2로 해준다\n",
    "    steps = [_ for _ in range(1, len(s)//2+2)]\n",
    "    #하나씩 자르면서 쪼갠 것을 각각 queue array에 담는다\n",
    "    for step in steps:\n",
    "        array = deque()\n",
    "        for i in range(0,len(s),step):\n",
    "            array.append(s[i:i+step])\n",
    "        compressed_string = ''\n",
    "        #array를 하나씩 팝하는데, 다음에 같은 녀석이 나오면 count를 해준다\n",
    "        while array:\n",
    "            count = 1\n",
    "            popped = array.popleft()\n",
    "            for j in range(len(array)):\n",
    "                if popped != array[j]:\n",
    "                    break\n",
    "                else:\n",
    "                    count += 1\n",
    "            #count가 1이면 굳이 string에 더할 필요가없고\n",
    "            if count == 1:\n",
    "                compressed_string += popped\n",
    "            #아니면 count와 같이 더한다\n",
    "            else:\n",
    "                compressed_string += str(count) + popped\n",
    "            #자기 자신을 제외하고 지워야하는 원소들을 차례로 지운다\n",
    "            to_remove = count - 1\n",
    "            while to_remove != 0:\n",
    "                array.popleft()\n",
    "                to_remove -= 1\n",
    "        # 해당 압축된 문자열의 길이를 result에 담고\n",
    "        result.append(len(compressed_string))\n",
    "    #그 값이가장 적은 것을 출력한다\n",
    "    return min(result)"
   ]
  },
  {
   "cell_type": "code",
   "execution_count": 3,
   "metadata": {},
   "outputs": [
    {
     "data": {
      "text/plain": [
       "9"
      ]
     },
     "execution_count": 3,
     "metadata": {},
     "output_type": "execute_result"
    }
   ],
   "source": [
    "solution(s)"
   ]
  },
  {
   "cell_type": "markdown",
   "metadata": {},
   "source": [
    "## 괄호 변환"
   ]
  },
  {
   "cell_type": "code",
   "execution_count": 4,
   "metadata": {},
   "outputs": [],
   "source": [
    "#input\n",
    "p = \"(()())()\""
   ]
  },
  {
   "cell_type": "code",
   "execution_count": 5,
   "metadata": {},
   "outputs": [],
   "source": [
    "def divide(p):\n",
    "    open_parenthesis = 0\n",
    "    close_parenthesis = 0\n",
    "    \n",
    "    for i in range(len(p)):\n",
    "        if p[i] == '(':\n",
    "            open_parenthesis += 1\n",
    "        else:\n",
    "            close_parenthesis += 1\n",
    "            \n",
    "        if open_parenthesis == close_parenthesis:\n",
    "            return p[:i+1], p[i+1:]\n",
    "\n",
    "def is_balanced(u):\n",
    "    #괄호가 갖춰져있으면 모두 없앤다. \n",
    "    while u != '':\n",
    "        if '()' in u:\n",
    "            u = u.replace('()','')\n",
    "        else:\n",
    "            break\n",
    "    # 다 없어지면 true 아니면 false\n",
    "    if u == '':\n",
    "        return True\n",
    "    else:\n",
    "        return False\n",
    "\n",
    "def solution(p):\n",
    "    #Step 1\n",
    "    if not p:\n",
    "        return \"\"\n",
    "    \n",
    "    #Step 2\n",
    "    u, v = divide(p)\n",
    "    \n",
    "    #Step 3 - 여기서 재귀함수가 핵심\n",
    "    if is_balanced(u):\n",
    "        return u + solution(v)\n",
    "    else:\n",
    "        # Step 4-1\n",
    "        answer = '('\n",
    "        # Step 4-2\n",
    "        answer += solution(v)\n",
    "        # Step 4-3\n",
    "        answer += ')'\n",
    "        # Step 4-4\n",
    "        for i in u[1:len(u)-1]:\n",
    "            if i == '(':\n",
    "                answer += ')'\n",
    "            else:\n",
    "                answer += '('\n",
    "        \n",
    "        # Step 4-5\n",
    "        return answer"
   ]
  },
  {
   "cell_type": "code",
   "execution_count": 6,
   "metadata": {},
   "outputs": [
    {
     "data": {
      "text/plain": [
       "'(()())()'"
      ]
     },
     "execution_count": 6,
     "metadata": {},
     "output_type": "execute_result"
    }
   ],
   "source": [
    "solution(p)"
   ]
  },
  {
   "cell_type": "markdown",
   "metadata": {},
   "source": [
    "## 자물쇠와 열쇠"
   ]
  },
  {
   "cell_type": "code",
   "execution_count": 1,
   "metadata": {},
   "outputs": [],
   "source": [
    "#input\n",
    "key = [[0, 0, 0], [1, 0, 0], [0, 1, 1]]\n",
    "lock = [[1, 1, 1], [1, 1, 0], [1, 0, 1]]"
   ]
  },
  {
   "cell_type": "code",
   "execution_count": 6,
   "metadata": {
    "scrolled": true
   },
   "outputs": [],
   "source": [
    "#numpy를 사용했을 때 rotate와 move가 훨씬 편리하다\n",
    "\n",
    "import numpy as np\n",
    "def solution(key,lock):\n",
    "    key = np.array(key)\n",
    "    # key 와 lock을 결합시킨 matrix를 만들고 lock을 중앙에 놓는다 --> lock_matrix\n",
    "    lock_matrix = np.zeros([len(lock)+len(key)*2-2,len(lock)+len(key)*2-2], dtype = int)\n",
    "    lock_matrix[len(key)-1:len(key)-1+len(lock),len(key)-1:len(key)-1+len(lock)] = np.array(lock)\n",
    "    for i in range(0,4):\n",
    "        #각각을 90도로 네번 돌린 key를 왼쪽위 모서리로 하는 matrix를 만든다 -->key_matrix\n",
    "        rotated_key = np.rot90(key,i)\n",
    "        key_matrix = np.zeros([len(lock)+len(key)*2-2,len(lock)+len(key)*2-2], dtype = int)\n",
    "        key_matrix[0:len(key),0:len(key)] = rotated_key\n",
    "        #j는 오른쪽으로 이동, k는 왼쪽으로 이동. matrix 끝까지 옮긴다\n",
    "        for j in range(len(key_matrix)-len(key)+1):\n",
    "            for k in range(len(key_matrix)-len(key)+1):\n",
    "                new_matrix = np.roll(key_matrix,j,axis=1)\n",
    "                new_matrix = np.roll(new_matrix,k,axis=0)\n",
    "                #옮겨진 matrix를 new로 놓고 lock_matrix랑 Element by element로 결합\n",
    "                result = new_matrix + lock_matrix\n",
    "                #중앙만 따로 뗀다\n",
    "                result = result[len(key)-1:len(key)-1+len(lock),len(key)-1:len(key)-1+len(lock)]\n",
    "                #1로 채워져있는 같은 사이즈의 answer matrix를 만들고\n",
    "                answer = np.ones([len(lock),len(lock)], dtype = int)\n",
    "                # result와 answer의 모든 원소가 같으면 True 아니면 계속 진행\n",
    "                if np.all(answer == result):\n",
    "                    return True\n",
    "                else:\n",
    "                    continue\n",
    "    #하나도 없으면 False 반환\n",
    "    return False"
   ]
  },
  {
   "cell_type": "code",
   "execution_count": 7,
   "metadata": {},
   "outputs": [
    {
     "name": "stdout",
     "output_type": "stream",
     "text": [
      "[[0 0 0 0 0 0 0]\n",
      " [1 0 0 0 0 0 0]\n",
      " [0 1 1 0 0 0 0]\n",
      " [0 0 0 0 0 0 0]\n",
      " [0 0 0 0 0 0 0]\n",
      " [0 0 0 0 0 0 0]\n",
      " [0 0 0 0 0 0 0]]\n",
      "[[0 0 1 0 0 0 0]\n",
      " [0 0 1 0 0 0 0]\n",
      " [0 1 0 0 0 0 0]\n",
      " [0 0 0 0 0 0 0]\n",
      " [0 0 0 0 0 0 0]\n",
      " [0 0 0 0 0 0 0]\n",
      " [0 0 0 0 0 0 0]]\n",
      "[[1 1 0 0 0 0 0]\n",
      " [0 0 1 0 0 0 0]\n",
      " [0 0 0 0 0 0 0]\n",
      " [0 0 0 0 0 0 0]\n",
      " [0 0 0 0 0 0 0]\n",
      " [0 0 0 0 0 0 0]\n",
      " [0 0 0 0 0 0 0]]\n",
      "[[0 1 0 0 0 0 0]\n",
      " [1 0 0 0 0 0 0]\n",
      " [1 0 0 0 0 0 0]\n",
      " [0 0 0 0 0 0 0]\n",
      " [0 0 0 0 0 0 0]\n",
      " [0 0 0 0 0 0 0]\n",
      " [0 0 0 0 0 0 0]]\n"
     ]
    },
    {
     "data": {
      "text/plain": [
       "True"
      ]
     },
     "execution_count": 7,
     "metadata": {},
     "output_type": "execute_result"
    }
   ],
   "source": [
    "solution(key,lock)"
   ]
  },
  {
   "cell_type": "markdown",
   "metadata": {},
   "source": [
    "## 가사검색"
   ]
  },
  {
   "cell_type": "code",
   "execution_count": 10,
   "metadata": {},
   "outputs": [],
   "source": [
    "# inputs\n",
    "words = [\"frodo\", \"front\", \"frost\", \"frozen\", \"frame\", \"kakao\"]\n",
    "queries = [\"fro??\", \"????o\", \"fr???\", \"fro???\", \"pro?\"]"
   ]
  },
  {
   "cell_type": "code",
   "execution_count": 11,
   "metadata": {},
   "outputs": [],
   "source": [
    "class Node(object): ## Trie Node 구성\n",
    "    def __init__(self, key):\n",
    "        self.key = key ## 시작값(이전의 값 개념)\n",
    "        self.remain_length = {} ## Terminal까지 남아있는 문자열의 길이\n",
    "        self.children = {} ## 자식\n",
    "\n",
    "\n",
    "class Trie(object):\n",
    "    def __init__(self):\n",
    "        self.head = Node(None)\n",
    "\n",
    "    def insert(self, string):\n",
    "        ## key에는 문자, length에는 남아있는 string의 길이를 담았음\n",
    "        curr_node = self.head\n",
    "    \n",
    "        #초기 세팅\n",
    "        remain_length = len(string)\n",
    "        if remain_length in curr_node.remain_length:\n",
    "            curr_node.remain_length[remain_length] += 1\n",
    "        else:\n",
    "            curr_node.remain_length[remain_length] = 1\n",
    "        \n",
    "        #문자하나씩 돌면서 진행\n",
    "        for char in string:\n",
    "            if char not in curr_node.children:\n",
    "                curr_node.children[char] = Node(char)\n",
    "\n",
    "            curr_node = curr_node.children[char]\n",
    "            remain_length -= 1\n",
    "            \n",
    "            if remain_length in curr_node.remain_length:\n",
    "                curr_node.remain_length[remain_length] += 1\n",
    "            else:\n",
    "                curr_node.remain_length[remain_length] = 1\n",
    "\n",
    "    def search_count(self, string, check_length):\n",
    "        curr_node = self.head\n",
    "        ## 찾아야할 \"?\" 포함한 string의 길이가 없다면 return 0\n",
    "        if check_length+len(string) not in curr_node.remain_length:\n",
    "            return 0\n",
    "        \n",
    "        for char in string:\n",
    "            ## 찾아야할 string이 없다면 return 0\n",
    "            if char in curr_node.children:                \n",
    "                curr_node = curr_node.children[char]\n",
    "            else:\n",
    "                return 0\n",
    "        ## string은 존재하는데 check_length가 remain_length에 있는지 확인!\n",
    "        if check_length in curr_node.remain_length:\n",
    "            return curr_node.remain_length[check_length]\n",
    "        else:\n",
    "            return 0\n",
    "\n",
    "\n",
    "def solution(words, queries):\n",
    "    t = Trie()\n",
    "    inv_t = Trie()\n",
    "    for word in words:\n",
    "        t.insert(word)\n",
    "        inv_t.insert(word[-1::-1])\n",
    "\n",
    "    answer = []\n",
    "    for i in range(len(queries)):\n",
    "        query = queries[i]\n",
    "        if query[0] is '?':  # 시작이 '?'\n",
    "            query = query[-1::-1]\n",
    "            chars = query.replace(\"?\", \"\")\n",
    "            check_length = len(query)-len(chars)\n",
    "            answer.append(inv_t.search_count(chars, check_length))\n",
    "        else: # 시작이 알파벳\n",
    "            chars = query.replace(\"?\", \"\")\n",
    "            check_length = len(query) - len(chars)\n",
    "            answer.append(t.search_count(chars, check_length))\n",
    "\n",
    "    return answer"
   ]
  },
  {
   "cell_type": "code",
   "execution_count": 12,
   "metadata": {},
   "outputs": [
    {
     "data": {
      "text/plain": [
       "[3, 2, 4, 1, 0]"
      ]
     },
     "execution_count": 12,
     "metadata": {},
     "output_type": "execute_result"
    }
   ],
   "source": [
    "solution(words, queries)"
   ]
  },
  {
   "cell_type": "code",
   "execution_count": 13,
   "metadata": {},
   "outputs": [],
   "source": [
    "#다른 사람 풀이\n"
   ]
  }
 ],
 "metadata": {
  "kernelspec": {
   "display_name": "Python 3",
   "language": "python",
   "name": "python3"
  },
  "language_info": {
   "codemirror_mode": {
    "name": "ipython",
    "version": 3
   },
   "file_extension": ".py",
   "mimetype": "text/x-python",
   "name": "python",
   "nbconvert_exporter": "python",
   "pygments_lexer": "ipython3",
   "version": "3.7.4"
  }
 },
 "nbformat": 4,
 "nbformat_minor": 2
}
