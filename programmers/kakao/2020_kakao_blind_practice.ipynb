{
 "cells": [
  {
   "cell_type": "markdown",
   "metadata": {},
   "source": [
    "## 문자열 압축"
   ]
  },
  {
   "cell_type": "code",
   "execution_count": 14,
   "metadata": {},
   "outputs": [],
   "source": [
    "#input\n",
    "s = \"ababcdcdababcdcd\""
   ]
  },
  {
   "cell_type": "code",
   "execution_count": 2,
   "metadata": {
    "scrolled": false
   },
   "outputs": [],
   "source": [
    "from queue import deque\n",
    "def solution(s):\n",
    "    result = []\n",
    "    #총 몇개 단위로 자를 건지는 len(s)의 반만 계산하면 되지만, 길이가 1인경우를 고려하여 +2로 해준다\n",
    "    steps = [_ for _ in range(1, len(s)//2+2)]\n",
    "    #하나씩 자르면서 쪼갠 것을 각각 queue array에 담는다\n",
    "    for step in steps:\n",
    "        array = deque()\n",
    "        for i in range(0,len(s),step):\n",
    "            array.append(s[i:i+step])\n",
    "        compressed_string = ''\n",
    "        #array를 하나씩 팝하는데, 다음에 같은 녀석이 나오면 count를 해준다\n",
    "        while array:\n",
    "            count = 1\n",
    "            popped = array.popleft()\n",
    "            for j in range(len(array)):\n",
    "                if popped != array[j]:\n",
    "                    break\n",
    "                else:\n",
    "                    count += 1\n",
    "            #count가 1이면 굳이 string에 더할 필요가없고\n",
    "            if count == 1:\n",
    "                compressed_string += popped\n",
    "            #아니면 count와 같이 더한다\n",
    "            else:\n",
    "                compressed_string += str(count) + popped\n",
    "            #자기 자신을 제외하고 지워야하는 원소들을 차례로 지운다\n",
    "            to_remove = count - 1\n",
    "            while to_remove != 0:\n",
    "                array.popleft()\n",
    "                to_remove -= 1\n",
    "        # 해당 압축된 문자열의 길이를 result에 담고\n",
    "        result.append(len(compressed_string))\n",
    "    #그 값이가장 적은 것을 출력한다\n",
    "    return min(result)"
   ]
  },
  {
   "cell_type": "code",
   "execution_count": 3,
   "metadata": {},
   "outputs": [
    {
     "data": {
      "text/plain": [
       "9"
      ]
     },
     "execution_count": 3,
     "metadata": {},
     "output_type": "execute_result"
    }
   ],
   "source": [
    "solution(s)"
   ]
  },
  {
   "cell_type": "markdown",
   "metadata": {},
   "source": [
    "## 괄호 변환"
   ]
  },
  {
   "cell_type": "code",
   "execution_count": 4,
   "metadata": {},
   "outputs": [],
   "source": [
    "#input\n",
    "p = \"(()())()\""
   ]
  },
  {
   "cell_type": "code",
   "execution_count": 5,
   "metadata": {},
   "outputs": [],
   "source": [
    "def divide(p):\n",
    "    open_parenthesis = 0\n",
    "    close_parenthesis = 0\n",
    "    \n",
    "    for i in range(len(p)):\n",
    "        if p[i] == '(':\n",
    "            open_parenthesis += 1\n",
    "        else:\n",
    "            close_parenthesis += 1\n",
    "            \n",
    "        if open_parenthesis == close_parenthesis:\n",
    "            return p[:i+1], p[i+1:]\n",
    "\n",
    "def is_balanced(u):\n",
    "    #괄호가 갖춰져있으면 모두 없앤다. \n",
    "    while u != '':\n",
    "        if '()' in u:\n",
    "            u = u.replace('()','')\n",
    "        else:\n",
    "            break\n",
    "    # 다 없어지면 true 아니면 false\n",
    "    if u == '':\n",
    "        return True\n",
    "    else:\n",
    "        return False\n",
    "\n",
    "def solution(p):\n",
    "    #Step 1\n",
    "    if not p:\n",
    "        return \"\"\n",
    "    \n",
    "    #Step 2\n",
    "    u, v = divide(p)\n",
    "    \n",
    "    #Step 3 - 여기서 재귀함수가 핵심\n",
    "    if is_balanced(u):\n",
    "        return u + solution(v)\n",
    "    else:\n",
    "        # Step 4-1\n",
    "        answer = '('\n",
    "        # Step 4-2\n",
    "        answer += solution(v)\n",
    "        # Step 4-3\n",
    "        answer += ')'\n",
    "        # Step 4-4\n",
    "        for i in u[1:len(u)-1]:\n",
    "            if i == '(':\n",
    "                answer += ')'\n",
    "            else:\n",
    "                answer += '('\n",
    "        \n",
    "        # Step 4-5\n",
    "        return answer"
   ]
  },
  {
   "cell_type": "code",
   "execution_count": 6,
   "metadata": {},
   "outputs": [
    {
     "data": {
      "text/plain": [
       "'(()())()'"
      ]
     },
     "execution_count": 6,
     "metadata": {},
     "output_type": "execute_result"
    }
   ],
   "source": [
    "solution(p)"
   ]
  },
  {
   "cell_type": "markdown",
   "metadata": {},
   "source": [
    "## 자물쇠와 열쇠"
   ]
  },
  {
   "cell_type": "code",
   "execution_count": 1,
   "metadata": {},
   "outputs": [],
   "source": [
    "#input\n",
    "key = [[0, 0, 0], [1, 0, 0], [0, 1, 1]]\n",
    "lock = [[1, 1, 1], [1, 1, 0], [1, 0, 1]]"
   ]
  },
  {
   "cell_type": "code",
   "execution_count": 6,
   "metadata": {
    "scrolled": true
   },
   "outputs": [],
   "source": [
    "#numpy를 사용했을 때 rotate와 move가 훨씬 편리하다\n",
    "\n",
    "import numpy as np\n",
    "def solution(key,lock):\n",
    "    key = np.array(key)\n",
    "    # key 와 lock을 결합시킨 matrix를 만들고 lock을 중앙에 놓는다 --> lock_matrix\n",
    "    lock_matrix = np.zeros([len(lock)+len(key)*2-2,len(lock)+len(key)*2-2], dtype = int)\n",
    "    lock_matrix[len(key)-1:len(key)-1+len(lock),len(key)-1:len(key)-1+len(lock)] = np.array(lock)\n",
    "    for i in range(0,4):\n",
    "        #각각을 90도로 네번 돌린 key를 왼쪽위 모서리로 하는 matrix를 만든다 -->key_matrix\n",
    "        rotated_key = np.rot90(key,i)\n",
    "        key_matrix = np.zeros([len(lock)+len(key)*2-2,len(lock)+len(key)*2-2], dtype = int)\n",
    "        key_matrix[0:len(key),0:len(key)] = rotated_key\n",
    "        #j는 오른쪽으로 이동, k는 왼쪽으로 이동. matrix 끝까지 옮긴다\n",
    "        for j in range(len(key_matrix)-len(key)+1):\n",
    "            for k in range(len(key_matrix)-len(key)+1):\n",
    "                new_matrix = np.roll(key_matrix,j,axis=1)\n",
    "                new_matrix = np.roll(new_matrix,k,axis=0)\n",
    "                #옮겨진 matrix를 new로 놓고 lock_matrix랑 Element by element로 결합\n",
    "                result = new_matrix + lock_matrix\n",
    "                #중앙만 따로 뗀다\n",
    "                result = result[len(key)-1:len(key)-1+len(lock),len(key)-1:len(key)-1+len(lock)]\n",
    "                #1로 채워져있는 같은 사이즈의 answer matrix를 만들고\n",
    "                answer = np.ones([len(lock),len(lock)], dtype = int)\n",
    "                # result와 answer의 모든 원소가 같으면 True 아니면 계속 진행\n",
    "                if np.all(answer == result):\n",
    "                    return True\n",
    "                else:\n",
    "                    continue\n",
    "    #하나도 없으면 False 반환\n",
    "    return False"
   ]
  },
  {
   "cell_type": "code",
   "execution_count": 7,
   "metadata": {},
   "outputs": [
    {
     "name": "stdout",
     "output_type": "stream",
     "text": [
      "[[0 0 0 0 0 0 0]\n",
      " [1 0 0 0 0 0 0]\n",
      " [0 1 1 0 0 0 0]\n",
      " [0 0 0 0 0 0 0]\n",
      " [0 0 0 0 0 0 0]\n",
      " [0 0 0 0 0 0 0]\n",
      " [0 0 0 0 0 0 0]]\n",
      "[[0 0 1 0 0 0 0]\n",
      " [0 0 1 0 0 0 0]\n",
      " [0 1 0 0 0 0 0]\n",
      " [0 0 0 0 0 0 0]\n",
      " [0 0 0 0 0 0 0]\n",
      " [0 0 0 0 0 0 0]\n",
      " [0 0 0 0 0 0 0]]\n",
      "[[1 1 0 0 0 0 0]\n",
      " [0 0 1 0 0 0 0]\n",
      " [0 0 0 0 0 0 0]\n",
      " [0 0 0 0 0 0 0]\n",
      " [0 0 0 0 0 0 0]\n",
      " [0 0 0 0 0 0 0]\n",
      " [0 0 0 0 0 0 0]]\n",
      "[[0 1 0 0 0 0 0]\n",
      " [1 0 0 0 0 0 0]\n",
      " [1 0 0 0 0 0 0]\n",
      " [0 0 0 0 0 0 0]\n",
      " [0 0 0 0 0 0 0]\n",
      " [0 0 0 0 0 0 0]\n",
      " [0 0 0 0 0 0 0]]\n"
     ]
    },
    {
     "data": {
      "text/plain": [
       "True"
      ]
     },
     "execution_count": 7,
     "metadata": {},
     "output_type": "execute_result"
    }
   ],
   "source": [
    "solution(key,lock)"
   ]
  },
  {
   "cell_type": "markdown",
   "metadata": {},
   "source": [
    "## 가사검색"
   ]
  },
  {
   "cell_type": "code",
   "execution_count": 10,
   "metadata": {},
   "outputs": [],
   "source": [
    "# inputs\n",
    "words = [\"frodo\", \"front\", \"frost\", \"frozen\", \"frame\", \"kakao\"]\n",
    "queries = [\"fro??\", \"????o\", \"fr???\", \"fro???\", \"pro?\"]"
   ]
  },
  {
   "cell_type": "code",
   "execution_count": 11,
   "metadata": {},
   "outputs": [],
   "source": [
    "class Node(object): ## Trie Node 구성\n",
    "    def __init__(self, key):\n",
    "        self.key = key ## 시작값(이전의 값 개념)\n",
    "        self.remain_length = {} ## Terminal까지 남아있는 문자열의 길이\n",
    "        self.children = {} ## 자식\n",
    "\n",
    "\n",
    "class Trie(object):\n",
    "    def __init__(self):\n",
    "        self.head = Node(None)\n",
    "\n",
    "    def insert(self, string):\n",
    "        ## key에는 문자, length에는 남아있는 string의 길이를 담았음\n",
    "        curr_node = self.head\n",
    "    \n",
    "        #초기 세팅\n",
    "        remain_length = len(string)\n",
    "        if remain_length in curr_node.remain_length:\n",
    "            curr_node.remain_length[remain_length] += 1\n",
    "        else:\n",
    "            curr_node.remain_length[remain_length] = 1\n",
    "        \n",
    "        #문자하나씩 돌면서 진행\n",
    "        for char in string:\n",
    "            if char not in curr_node.children:\n",
    "                curr_node.children[char] = Node(char)\n",
    "\n",
    "            curr_node = curr_node.children[char]\n",
    "            remain_length -= 1\n",
    "            \n",
    "            if remain_length in curr_node.remain_length:\n",
    "                curr_node.remain_length[remain_length] += 1\n",
    "            else:\n",
    "                curr_node.remain_length[remain_length] = 1\n",
    "\n",
    "    def search_count(self, string, check_length):\n",
    "        curr_node = self.head\n",
    "        ## 찾아야할 \"?\" 포함한 string의 길이가 없다면 return 0\n",
    "        if check_length+len(string) not in curr_node.remain_length:\n",
    "            return 0\n",
    "        \n",
    "        for char in string:\n",
    "            ## 찾아야할 string이 없다면 return 0\n",
    "            if char in curr_node.children:                \n",
    "                curr_node = curr_node.children[char]\n",
    "            else:\n",
    "                return 0\n",
    "        ## string은 존재하는데 check_length가 remain_length에 있는지 확인!\n",
    "        if check_length in curr_node.remain_length:\n",
    "            return curr_node.remain_length[check_length]\n",
    "        else:\n",
    "            return 0\n",
    "\n",
    "\n",
    "def solution(words, queries):\n",
    "    t = Trie()\n",
    "    inv_t = Trie()\n",
    "    for word in words:\n",
    "        t.insert(word)\n",
    "        inv_t.insert(word[-1::-1])\n",
    "\n",
    "    answer = []\n",
    "    for i in range(len(queries)):\n",
    "        query = queries[i]\n",
    "        if query[0] is '?':  # 시작이 '?'\n",
    "            query = query[-1::-1]\n",
    "            chars = query.replace(\"?\", \"\")\n",
    "            check_length = len(query)-len(chars)\n",
    "            answer.append(inv_t.search_count(chars, check_length))\n",
    "        else: # 시작이 알파벳\n",
    "            chars = query.replace(\"?\", \"\")\n",
    "            check_length = len(query) - len(chars)\n",
    "            answer.append(t.search_count(chars, check_length))\n",
    "\n",
    "    return answer"
   ]
  },
  {
   "cell_type": "code",
   "execution_count": 12,
   "metadata": {},
   "outputs": [
    {
     "data": {
      "text/plain": [
       "[3, 2, 4, 1, 0]"
      ]
     },
     "execution_count": 12,
     "metadata": {},
     "output_type": "execute_result"
    }
   ],
   "source": [
    "solution(words, queries)"
   ]
  },
  {
   "cell_type": "markdown",
   "metadata": {},
   "source": [
    "## 기둥과 보 설치"
   ]
  },
  {
   "cell_type": "code",
   "execution_count": 355,
   "metadata": {},
   "outputs": [],
   "source": [
    "#input\n",
    "n = 5\n",
    "build_frame = [[0,0,0,1],[2,0,0,1],[4,0,0,1],[0,1,1,1],[1,1,1,1],[2,1,1,1],[3,1,1,1],[2,0,0,0],[1,1,1,0],[2,2,0,1]]"
   ]
  },
  {
   "cell_type": "code",
   "execution_count": 356,
   "metadata": {},
   "outputs": [],
   "source": [
    "#추가가 가능한지 확인하는 함수\n",
    "def check_available(x,y,a,array):\n",
    "    if a == 0:\n",
    "        if y == 0 or [x,y-1,0] in array or [x-1,y,1] in array or [x,y,1] in array:\n",
    "            return True\n",
    "        else:\n",
    "            return False\n",
    "    else:\n",
    "        if ([x-1,y,1] in array and [x+1,y,1] in array) or [x,y-1,0] in array or [x+1,y-1,0] in array:\n",
    "            return True\n",
    "        else:\n",
    "            return False\n",
    "\n",
    "def solution(n,build_frame):\n",
    "    answer = []\n",
    "    for frame in build_frame:\n",
    "        x,y,a,b = frame\n",
    "        if b == 1 and check_available(x,y,a,answer):\n",
    "            answer.append([x,y,a])\n",
    "        elif b == 0 and [x,y,a] in answer:\n",
    "            temp = answer[:]\n",
    "            temp.remove([x,y,a])\n",
    "            if temp:\n",
    "                for element in temp:\n",
    "                    x_1, y_1, a_1 = element\n",
    "                    checked = check_available(x_1,y_1,a_1,temp)\n",
    "                    if checked == False:\n",
    "                        break\n",
    "                if checked == True:\n",
    "                    answer = temp\n",
    "            else:\n",
    "                answer = temp\n",
    "\n",
    "    answer = sorted(answer, key = lambda x : (x[0], x[1], x[2]))\n",
    "    return answer"
   ]
  },
  {
   "cell_type": "code",
   "execution_count": 358,
   "metadata": {},
   "outputs": [
    {
     "data": {
      "text/plain": [
       "[[0, 0, 0], [0, 1, 1], [2, 1, 1], [3, 1, 1], [4, 0, 0]]"
      ]
     },
     "execution_count": 358,
     "metadata": {},
     "output_type": "execute_result"
    }
   ],
   "source": [
    "solution(n,build_frame)"
   ]
  },
  {
   "cell_type": "code",
   "execution_count": 314,
   "metadata": {},
   "outputs": [],
   "source": [
    "# 다른사람 풀이\n",
    "def impossible(result):\n",
    "    COL, ROW = 0, 1\n",
    "    for x, y, a in result:\n",
    "        if a == COL: # 기둥일 때\n",
    "            if y != 0 and (x, y-1, COL) not in result and \\\n",
    "        (x-1, y, ROW) not in result and (x, y, ROW) not in result:\n",
    "                return True\n",
    "        else: # 보일 때\n",
    "            if (x, y-1, COL) not in result and (x+1, y-1, COL) not in result and \\\n",
    "        not ((x-1, y, ROW) in result and (x+1, y, ROW) in result):\n",
    "                return True\n",
    "    return False\n",
    "\n",
    "def solution(n, build_frame):\n",
    "    result = set()\n",
    "\n",
    "    for x, y, a, build in build_frame:\n",
    "        item = (x, y, a)\n",
    "        if build: # 추가일 때\n",
    "            result.add(item)\n",
    "            if impossible(result):\n",
    "                result.remove(item)\n",
    "        elif item in result: # 삭제할 때\n",
    "            result.remove(item)\n",
    "            if impossible(result):\n",
    "                result.add(item)\n",
    "    answer = map(list, result)\n",
    "\n",
    "    return sorted(answer, key = lambda x : (x[0], x[1], x[2]))"
   ]
  },
  {
   "cell_type": "code",
   "execution_count": 315,
   "metadata": {},
   "outputs": [
    {
     "data": {
      "text/plain": [
       "[[0, 0, 0], [0, 1, 1], [1, 1, 1], [2, 1, 1], [3, 1, 1], [4, 0, 0]]"
      ]
     },
     "execution_count": 315,
     "metadata": {},
     "output_type": "execute_result"
    }
   ],
   "source": [
    "solution(n,build_frame)"
   ]
  },
  {
   "cell_type": "markdown",
   "metadata": {},
   "source": [
    "## 외벽 점검"
   ]
  },
  {
   "cell_type": "code",
   "execution_count": 759,
   "metadata": {},
   "outputs": [],
   "source": [
    "n = 12\n",
    "weak = [1, 5, 6, 10]\n",
    "dist = [1, 2, 3, 4]"
   ]
  },
  {
   "cell_type": "code",
   "execution_count": 760,
   "metadata": {},
   "outputs": [],
   "source": [
    "def solution(n, weak, dist):\n",
    "    weak_reverse = [element+n for element in weak]\n",
    "    weak = weak + weak_reverse\n",
    "\n",
    "    dist = sorted(dist, reverse=True)\n",
    "\n",
    "    friends = 0\n",
    "    for dist_element in dist:\n",
    "        array = []\n",
    "        total_count = 0\n",
    "        for i in range(0, n*2-dist_element):\n",
    "            start, end = i, i+dist_element\n",
    "            count = 0\n",
    "            to_remove = []\n",
    "            for weak_element in weak:\n",
    "                if start <= weak_element <= end:\n",
    "                    count += 1\n",
    "                    to_remove.append(weak_element)\n",
    "                    if weak_element+12 < n*2:\n",
    "                        to_remove.append(weak_element+12)\n",
    "                    else:\n",
    "                        to_remove.append(weak_element-12)\n",
    "\n",
    "            weak_copy = weak[:]\n",
    "            for item in to_remove:\n",
    "                if item in weak_copy:\n",
    "                    weak_copy.remove(item)\n",
    "\n",
    "            array.append([count, weak_copy[0:len(weak_copy)//2]])\n",
    "\n",
    "        array.sort(key = lambda x:x[0], reverse=True)\n",
    "\n",
    "        friends += 1\n",
    "        if array[0][1] != []:\n",
    "            array.sort(key = lambda x:x[1][1]-x[1][0], reverse=True)\n",
    "        else:\n",
    "            return friends\n",
    "        \n",
    "        final_remover = []\n",
    "        for item in array[0][1]:\n",
    "            if item in weak:\n",
    "                final_remover.append(item)\n",
    "            if item+12 in weak:\n",
    "                final_remover.append(item+12)\n",
    "            if item-12 in weak:\n",
    "                final_remover.append(item-12)\n",
    "        for remover in final_remover:\n",
    "            weak.remove(remover)\n",
    "\n",
    "\n",
    "    return friends"
   ]
  },
  {
   "cell_type": "code",
   "execution_count": 761,
   "metadata": {},
   "outputs": [
    {
     "data": {
      "text/plain": [
       "2"
      ]
     },
     "execution_count": 761,
     "metadata": {},
     "output_type": "execute_result"
    }
   ],
   "source": [
    "solution(n, weak, dist)"
   ]
  },
  {
   "cell_type": "code",
   "execution_count": 783,
   "metadata": {},
   "outputs": [],
   "source": [
    "#다른 사람 풀이 1\n",
    "from itertools import permutations\n",
    "def solution(n,weak,dist):\n",
    "    L = len(weak)\n",
    "    cand = []\n",
    "    weak_point = weak + [w+n for w in weak] #선형으로 변경\n",
    "    for i, start in enumerate(weak):\n",
    "        for friends in permutations(dist):\n",
    "            count = 1\n",
    "            position = start\n",
    "            # 친구 조합 배치\n",
    "            for friend in friends:\n",
    "                position += friend\n",
    "                # 끝 포인트까지 도달 못했을 때\n",
    "                if position < weak_point[i+L-1]:\n",
    "                    count += 1 # 친구 더 투입\n",
    "                    # 현재 위치보다 멀리 있는 취약지점 중 가장 가까운 위치로\n",
    "                    position = [w for w in weak_point[i+1:i+L] if w > position][0]\n",
    "                else: #끝 포인트까지 도달\n",
    "                    cand.append(count)\n",
    "                    break\n",
    "    return min(cand) if cand else -1\n",
    "    "
   ]
  },
  {
   "cell_type": "code",
   "execution_count": 784,
   "metadata": {},
   "outputs": [
    {
     "data": {
      "text/plain": [
       "2"
      ]
     },
     "execution_count": 784,
     "metadata": {},
     "output_type": "execute_result"
    }
   ],
   "source": [
    "solution(n, weak, dist)"
   ]
  },
  {
   "cell_type": "code",
   "execution_count": 803,
   "metadata": {},
   "outputs": [],
   "source": [
    "#다른 사람 풀이 2\n",
    "from collections import deque\n",
    "\n",
    "def solution(n, weak, dist):\n",
    "    dist.sort(reverse=True)\n",
    "    q = deque([weak])\n",
    "    visited = set()\n",
    "    visited.add(tuple(weak))\n",
    "\n",
    "    for i in range(len(dist)):\n",
    "        d = dist[i]\n",
    "        for _ in range(len(q)):\n",
    "            current = q.popleft()\n",
    "            for p in current:\n",
    "                l = p\n",
    "                r = (p + d) % n\n",
    "                if l < r:\n",
    "                    temp = tuple(filter(lambda x: x < l or x > r, current))\n",
    "\n",
    "                else:\n",
    "                    temp = tuple(filter(lambda x: x < l and x > r, current))\n",
    "                if len(temp) == 0:\n",
    "                    return (i + 1)\n",
    "                elif temp not in visited:\n",
    "                    visited.add(temp)\n",
    "                    q.append(list(temp))\n",
    "    return -1\n"
   ]
  },
  {
   "cell_type": "code",
   "execution_count": 804,
   "metadata": {},
   "outputs": [
    {
     "data": {
      "text/plain": [
       "2"
      ]
     },
     "execution_count": 804,
     "metadata": {},
     "output_type": "execute_result"
    }
   ],
   "source": [
    "solution(n, weak, dist)"
   ]
  },
  {
   "cell_type": "markdown",
   "metadata": {},
   "source": [
    "## 블록 이동하기"
   ]
  },
  {
   "cell_type": "code",
   "execution_count": 810,
   "metadata": {},
   "outputs": [],
   "source": [
    "#input\n",
    "board = [[0, 0, 0, 1, 1],[0, 0, 0, 1, 0],[0, 1, 0, 1, 1],[1, 1, 0, 0, 1],[0, 0, 0, 0, 0]]"
   ]
  },
  {
   "cell_type": "code",
   "execution_count": 835,
   "metadata": {},
   "outputs": [],
   "source": [
    "from collections import deque\n",
    "\n",
    "def can_move(cur1, cur2, new_board):\n",
    "    Y, X = 0, 1\n",
    "    cand = []\n",
    "    # 평행이동\n",
    "    DELTAS = [(-1, 0), (1, 0), (0, 1), (0, -1)]\n",
    "    for dy, dx in DELTAS:\n",
    "        nxt1 = (cur1[Y] + dy, cur1[X] + dx)\n",
    "        nxt2 = (cur2[Y] + dy, cur2[X] + dx)\n",
    "        if new_board[nxt1[Y]][nxt1[X]] == 0 and new_board[nxt2[Y]][nxt2[X]] == 0:\n",
    "            cand.append((nxt1, nxt2))\n",
    "    # 회전\n",
    "    if cur1[Y] == cur2[Y]: # 가로방향 일 때\n",
    "        UP, DOWN = -1, 1\n",
    "        for d in [UP, DOWN]:\n",
    "            if new_board[cur1[Y]+d][cur1[X]] == 0 and new_board[cur2[Y]+d][cur2[X]] == 0:\n",
    "                cand.append((cur1, (cur1[Y]+d, cur1[X])))\n",
    "                cand.append((cur2, (cur2[Y]+d, cur2[X])))\n",
    "    else: # 세로 방향 일 때\n",
    "        LEFT, RIGHT = -1, 1\n",
    "        for d in [LEFT, RIGHT]:\n",
    "            if new_board[cur1[Y]][cur1[X]+d] == 0 and new_board[cur2[Y]][cur2[X]+d] == 0:\n",
    "                cand.append(((cur1[Y], cur1[X]+d), cur1))\n",
    "                cand.append(((cur2[Y], cur2[X]+d), cur2))\n",
    "    return cand\n",
    "\n",
    "def solution(board):\n",
    "    # board 외벽 둘러싸기\n",
    "    N = len(board)\n",
    "    new_board = [[1] * (N+2) for _ in range(N+2)]\n",
    "    for i in range(N):\n",
    "        for j in range(N):\n",
    "            new_board[i+1][j+1] = board[i][j]\n",
    "    # 현재 좌표 위치 큐 삽입, 확인용 set\n",
    "    que = deque([((1, 1), (1, 2), 0)])\n",
    "    confirm = set([((1, 1), (1, 2))])\n",
    "\n",
    "    while que:\n",
    "        cur1, cur2, count = que.popleft()\n",
    "        if cur1 == (N, N) or cur2 == (N, N):\n",
    "            return count\n",
    "        for nxt in can_move(cur1, cur2, new_board):\n",
    "            if nxt not in confirm:\n",
    "                que.append((*nxt, count+1))\n",
    "                confirm.add(nxt)"
   ]
  },
  {
   "cell_type": "code",
   "execution_count": 836,
   "metadata": {},
   "outputs": [
    {
     "name": "stdout",
     "output_type": "stream",
     "text": [
      "[[1, 1, 1, 1, 1, 1, 1], [1, 1, 1, 1, 1, 1, 1], [1, 1, 1, 1, 1, 1, 1], [1, 1, 1, 1, 1, 1, 1], [1, 1, 1, 1, 1, 1, 1], [1, 1, 1, 1, 1, 1, 1], [1, 1, 1, 1, 1, 1, 1]]\n",
      "[[1, 1, 1, 1, 1, 1, 1], [1, 0, 0, 0, 1, 1, 1], [1, 0, 0, 0, 1, 0, 1], [1, 0, 1, 0, 1, 1, 1], [1, 1, 1, 0, 0, 1, 1], [1, 0, 0, 0, 0, 0, 1], [1, 1, 1, 1, 1, 1, 1]]\n"
     ]
    },
    {
     "data": {
      "text/plain": [
       "7"
      ]
     },
     "execution_count": 836,
     "metadata": {},
     "output_type": "execute_result"
    }
   ],
   "source": [
    "solution(board)"
   ]
  },
  {
   "cell_type": "code",
   "execution_count": null,
   "metadata": {},
   "outputs": [],
   "source": []
  }
 ],
 "metadata": {
  "kernelspec": {
   "display_name": "Python 3",
   "language": "python",
   "name": "python3"
  },
  "language_info": {
   "codemirror_mode": {
    "name": "ipython",
    "version": 3
   },
   "file_extension": ".py",
   "mimetype": "text/x-python",
   "name": "python",
   "nbconvert_exporter": "python",
   "pygments_lexer": "ipython3",
   "version": "3.7.4"
  }
 },
 "nbformat": 4,
 "nbformat_minor": 2
}
