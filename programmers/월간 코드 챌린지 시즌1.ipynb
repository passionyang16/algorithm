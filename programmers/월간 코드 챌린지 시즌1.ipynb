{
 "cells": [
  {
   "cell_type": "markdown",
   "metadata": {},
   "source": [
    "## 삼각달팽이 (Level 2)"
   ]
  },
  {
   "cell_type": "code",
   "execution_count": 387,
   "metadata": {},
   "outputs": [],
   "source": [
    "# input\n",
    "n = 5"
   ]
  },
  {
   "cell_type": "code",
   "execution_count": 388,
   "metadata": {},
   "outputs": [],
   "source": [
    "#내 풀이\n",
    "import itertools\n",
    "from queue import deque\n",
    "def solution(n):\n",
    "    result = []\n",
    "    for i in range(1,n+1):\n",
    "        result.append([0]*i)\n",
    "    num_array = deque([j for j in range(1,(sum([i for i in range(n+1)]))+1)])\n",
    "    move_down, move_right, move_diagonal = 0, 0, 0\n",
    "    \n",
    "    while num_array:\n",
    "        # 아래로 이동하기\n",
    "        for i in range(move_down, len(result)):\n",
    "            if result[i][move_down] == 0 and num_array:\n",
    "                result[i][move_down] = num_array.popleft()\n",
    "        move_down += 1\n",
    "        # 오른쪽으로 이동하기\n",
    "        for i in range(len(result[n-1-move_right])):\n",
    "            if result[n-1-move_right][i] == 0 and num_array:\n",
    "                result[n-1-move_right][i] = num_array.popleft()\n",
    "        move_right += 1\n",
    "        #대각선으로 이동하기\n",
    "        current_state = len(result)\n",
    "        for i in range(len(result)-1,-1,-1):\n",
    "            if current_state-move_diagonal-1 >= 0 and result[i][current_state-move_diagonal-1] == 0 and num_array:\n",
    "                result[i][current_state-move_diagonal-1] = num_array.popleft()\n",
    "            current_state -= 1\n",
    "        move_diagonal += 1\n",
    "\n",
    "    answer = list(itertools.chain(*result))\n",
    "    return answer"
   ]
  },
  {
   "cell_type": "code",
   "execution_count": 389,
   "metadata": {},
   "outputs": [
    {
     "data": {
      "text/plain": [
       "[1, 2, 12, 3, 13, 11, 4, 14, 15, 10, 5, 6, 7, 8, 9]"
      ]
     },
     "execution_count": 389,
     "metadata": {},
     "output_type": "execute_result"
    }
   ],
   "source": [
    "solution(n)"
   ]
  },
  {
   "cell_type": "markdown",
   "metadata": {},
   "source": [
    "## 쿼드압축 후 개수세기 (Level 2)"
   ]
  },
  {
   "cell_type": "code",
   "execution_count": 437,
   "metadata": {},
   "outputs": [],
   "source": [
    "# input\n",
    "arr = [[1,1,1,1,1,1,1,1],[0,1,1,1,1,1,1,1],[0,0,0,0,1,1,1,1],[0,1,0,0,1,1,1,1],[0,0,0,0,0,0,1,1],[0,0,0,0,0,0,0,1],[0,0,0,0,1,0,0,1],[0,0,0,0,1,1,1,1]]"
   ]
  },
  {
   "cell_type": "code",
   "execution_count": 435,
   "metadata": {},
   "outputs": [],
   "source": [
    "#다른 사람 풀이 1\n",
    "def solution(arr):\n",
    "    n = len(arr)\n",
    "    answer = [0,0]\n",
    "\n",
    "    def compression(x,y,n):\n",
    "        init = arr[x][y]\n",
    "        for i in range(x,x+n):\n",
    "            for j in range(y,y+n):\n",
    "                if arr[i][j] != init:\n",
    "                    nn = n // 2\n",
    "                    compression(x,y,nn)\n",
    "                    compression(x,y+nn,nn)\n",
    "                    compression(x+nn,y,nn)\n",
    "                    compression(x+nn,y+nn,nn)\n",
    "                    return\n",
    "        answer[init] += 1\n",
    "    \n",
    "    compression(0,0,n)\n",
    "    return answer\n",
    "    \n",
    "                "
   ]
  },
  {
   "cell_type": "code",
   "execution_count": 436,
   "metadata": {},
   "outputs": [
    {
     "data": {
      "text/plain": [
       "[10, 15]"
      ]
     },
     "execution_count": 436,
     "metadata": {},
     "output_type": "execute_result"
    }
   ],
   "source": [
    "solution(arr)"
   ]
  },
  {
   "cell_type": "code",
   "execution_count": 438,
   "metadata": {},
   "outputs": [],
   "source": [
    "#다른 사람 풀이 2\n",
    "def solution(arr):\n",
    "    def check(y, x, n):\n",
    "        # 타일 1개에 도달한 경우\n",
    "        # 타일 값이 0이면 [1,0], 값이 1이면 [0,1]을 리턴한다.\n",
    "        if n == 1:\n",
    "            return [0, 1] if arr[y][x] == 1 else [1,0]\n",
    "        \n",
    "        # 전체 사각형의 왼쪽 위, 오른쪽 위, 왼쪽 아래, 오른쪽 아래 순으로 확인한다.\n",
    "        left_up = check(y, x, n // 2)\n",
    "        right_up = check(y, x + n//2, n//2)\n",
    "        left_down = check(y+n//2, x, n//2)\n",
    "        right_down = check(y + n//2, x + n//2, n//2)\n",
    "    \n",
    "        # 사분면 네 개가 전부 동일한 값일 경우 = 네 개가 아니라 한 개로 취급한다.\n",
    "        if left_up == right_up == left_down == right_down == [0,1] or left_up == right_up == left_down == right_down == [1,0]:\n",
    "            return left_up\n",
    "        else:\n",
    "            # 사분면 네 개의 리스트 값을 idx별로 합한 결과를 리턴한다.\n",
    "            return list(map(sum, zip(left_up, right_up, right_down, left_down)))\n",
    "\n",
    "    result = check(0,0,len(arr))\n",
    "    return result"
   ]
  },
  {
   "cell_type": "code",
   "execution_count": 439,
   "metadata": {},
   "outputs": [
    {
     "data": {
      "text/plain": [
       "[10, 15]"
      ]
     },
     "execution_count": 439,
     "metadata": {},
     "output_type": "execute_result"
    }
   ],
   "source": [
    "solution(arr)"
   ]
  },
  {
   "cell_type": "markdown",
   "metadata": {},
   "source": [
    "## 풍선 터뜨리기 (Level 3)"
   ]
  },
  {
   "cell_type": "code",
   "execution_count": 522,
   "metadata": {},
   "outputs": [],
   "source": [
    "# input\n",
    "a = [-16,27,65,-2,58,-92,-71,-68,-61,-33]"
   ]
  },
  {
   "cell_type": "code",
   "execution_count": 523,
   "metadata": {},
   "outputs": [],
   "source": [
    "#내 풀이 : 효율성 실패\n",
    "import heapq\n",
    "def solution(a):\n",
    "    answer = len(a)\n",
    "    for i in range(1, len(a)-1):\n",
    "        left_heap, right_heap = a[:i], a[i+1:]\n",
    "        heapq.heapify(left_heap)\n",
    "        heapq.heapify(right_heap)\n",
    "        if a[i] > heapq.heappop(left_heap) and a[i] > heapq.heappop(right_heap):\n",
    "            answer -=1\n",
    "    return answer"
   ]
  },
  {
   "cell_type": "code",
   "execution_count": 529,
   "metadata": {},
   "outputs": [],
   "source": [
    "#다른 사람 풀이\n",
    "def solution(a):\n",
    "    answer = 0\n",
    "    left, right = float('inf'), float('inf')\n",
    "    min_map = [[0, 0] for _ in range(len(a))]\n",
    "\n",
    "    # 왼쪽 범위에서 최솟값 찾기\n",
    "    for i in range(len(a)):\n",
    "        if left > a[i]:\n",
    "            left = a[i]\n",
    "        min_map[i][0] = left\n",
    "\n",
    "    # 오른쪽 범위에서 최솟값 찾기\n",
    "    for i in range(len(a) - 1, -1, -1):\n",
    "        if right > a[i]:\n",
    "            right = a[i]\n",
    "        min_map[i][1] = right\n",
    "\n",
    "    # 찾은 최솟값 데이터를 가지고 기준 숫자의 양쪽이 모두 기준 숫자보다 작으면 answer += 1\n",
    "    for i in range(len(a)):\n",
    "        if a[i] <= min_map[i][0] or a[i] <= min_map[i][1]:\n",
    "            answer += 1\n",
    "    return answer"
   ]
  },
  {
   "cell_type": "code",
   "execution_count": 530,
   "metadata": {},
   "outputs": [
    {
     "name": "stdout",
     "output_type": "stream",
     "text": [
      "[-16, 27, 65, -2, 58, -92, -71, -68, -61, -33]\n",
      "[[-16, -92], [-16, -92], [-16, -92], [-16, -92], [-16, -92], [-92, -92], [-92, -71], [-92, -68], [-92, -61], [-92, -33]]\n"
     ]
    },
    {
     "data": {
      "text/plain": [
       "6"
      ]
     },
     "execution_count": 530,
     "metadata": {},
     "output_type": "execute_result"
    }
   ],
   "source": [
    "solution(a)"
   ]
  },
  {
   "cell_type": "code",
   "execution_count": 520,
   "metadata": {},
   "outputs": [
    {
     "data": {
      "text/plain": [
       "6"
      ]
     },
     "execution_count": 520,
     "metadata": {},
     "output_type": "execute_result"
    }
   ],
   "source": [
    "answer"
   ]
  },
  {
   "cell_type": "code",
   "execution_count": null,
   "metadata": {},
   "outputs": [],
   "source": []
  }
 ],
 "metadata": {
  "kernelspec": {
   "display_name": "Python 3",
   "language": "python",
   "name": "python3"
  },
  "language_info": {
   "codemirror_mode": {
    "name": "ipython",
    "version": 3
   },
   "file_extension": ".py",
   "mimetype": "text/x-python",
   "name": "python",
   "nbconvert_exporter": "python",
   "pygments_lexer": "ipython3",
   "version": "3.7.4"
  }
 },
 "nbformat": 4,
 "nbformat_minor": 2
}
