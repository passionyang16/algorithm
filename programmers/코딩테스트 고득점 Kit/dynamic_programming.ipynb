{
 "cells": [
  {
   "cell_type": "markdown",
   "metadata": {},
   "source": [
    "# 동적계획법"
   ]
  },
  {
   "cell_type": "markdown",
   "metadata": {},
   "source": [
    "## N으로 표현 (Level 3)"
   ]
  },
  {
   "cell_type": "code",
   "execution_count": 86,
   "metadata": {},
   "outputs": [],
   "source": [
    "#inputs\n",
    "N = 5\n",
    "number = 12"
   ]
  },
  {
   "cell_type": "markdown",
   "metadata": {},
   "source": [
    "하.. 풀었는데 몇개가 안되네 하"
   ]
  },
  {
   "cell_type": "code",
   "execution_count": 87,
   "metadata": {},
   "outputs": [],
   "source": [
    "from queue import deque\n",
    "def solution(N,number):\n",
    "    if N == number:\n",
    "        return 1\n",
    "    \n",
    "    array = [str(N),'('+str(N)]\n",
    "    array = deque(array) \n",
    "    calculation = ['+'+str(N),'-'+str(N),'*'+str(N),'//'+str(N), str(N)]    \n",
    "    simple_cal = ['+','-','*','//']\n",
    "    answer = ''\n",
    "    stopping = True\n",
    "    \n",
    "    while stopping:\n",
    "        popped = array.popleft()\n",
    "        for i in range(len(calculation)):\n",
    "            if popped[-1] == ')' and calculation[i] == str(N):\n",
    "                continue\n",
    "            else:\n",
    "                equation = popped + calculation[i]\n",
    "\n",
    "\n",
    "            for j in range(len(equation)-1,-1,-1):\n",
    "                if equation[j] == '(':\n",
    "                    temp = equation[j:]\n",
    "                    for cal in simple_cal:\n",
    "                        if cal in temp: \n",
    "                            equation += ')'\n",
    "                    break\n",
    "\n",
    "\n",
    "            if '(' in equation:\n",
    "                start_count = equation.count('(')\n",
    "                end_count = equation.count(')')\n",
    "                if start_count > end_count:\n",
    "                    equation = equation + ')'*(start_count-end_count)\n",
    "                elif start_count < end_count:\n",
    "                    equation = '('*(end_count-start_count) + equation\n",
    "\n",
    "            if eval(equation) == number:\n",
    "                print(equation)\n",
    "                return equation.count(str(N))\n",
    "                stopping = False\n",
    "            else:\n",
    "                array.append(equation)\n",
    "\n",
    "\n",
    "            if equation.count(str(N)) > 8:\n",
    "                 return -1\n"
   ]
  },
  {
   "cell_type": "code",
   "execution_count": 88,
   "metadata": {},
   "outputs": [
    {
     "name": "stdout",
     "output_type": "stream",
     "text": [
      "((((55)+5)//5))\n"
     ]
    },
    {
     "data": {
      "text/plain": [
       "4"
      ]
     },
     "execution_count": 88,
     "metadata": {},
     "output_type": "execute_result"
    }
   ],
   "source": [
    "solution(N,number)"
   ]
  },
  {
   "cell_type": "markdown",
   "metadata": {},
   "source": [
    "다른 사람 풀이"
   ]
  },
  {
   "cell_type": "code",
   "execution_count": 89,
   "metadata": {},
   "outputs": [],
   "source": [
    "def solution(N, number):\n",
    "    if N == number:\n",
    "        return 1\n",
    "        \n",
    "    # 1. [ SET x 8 ] 초기화\n",
    "    s = [ set() for x in range(8) ] \n",
    "\n",
    "    # 2. 각 set마다 기본 수 \"N\" * i 수 초기화\n",
    "    for i,x in enumerate(s, start=1):\n",
    "        x.add( int( str(N) * i ) )\n",
    "\n",
    "    # 3. n 일반화\n",
    "    #   { \n",
    "    #       \"n\" * i U \n",
    "    #       1번 set 사칙연산 n-1번 set U\n",
    "    #       2번 set 사칙연산 n-2번 set U\n",
    "    #       ...\n",
    "    #       n-1번 set 사칙연산 1번 set, \n",
    "    #    } \n",
    "    # number를 가장 최소로 만드는 수 구함.\n",
    "    for i in range(1, 8):\n",
    "        for j in range(i):\n",
    "            for op1 in s[j]:\n",
    "                for op2 in s[i-j-1]:\n",
    "                    s[i].add(op1 + op2)\n",
    "                    s[i].add(op1 - op2)\n",
    "                    s[i].add(op1 * op2)\n",
    "                    if op2 != 0:\n",
    "                        s[i].add(op1 // op2)\n",
    "\n",
    "        if  number in s[i]:\n",
    "            answer = i + 1\n",
    "            break\n",
    "\n",
    "    else:\n",
    "        answer = -1\n",
    "\n",
    "    return answer"
   ]
  },
  {
   "cell_type": "code",
   "execution_count": 91,
   "metadata": {},
   "outputs": [
    {
     "data": {
      "text/plain": [
       "4"
      ]
     },
     "execution_count": 91,
     "metadata": {},
     "output_type": "execute_result"
    }
   ],
   "source": [
    "solution(N, number)"
   ]
  },
  {
   "cell_type": "markdown",
   "metadata": {},
   "source": [
    "## 정수 삼각형"
   ]
  },
  {
   "cell_type": "code",
   "execution_count": 157,
   "metadata": {},
   "outputs": [],
   "source": [
    "#inputs\n",
    "triangle = [[7], [3, 8], [8, 1, 0], [2, 7, 4, 4], [4, 5, 2, 6, 5]]"
   ]
  },
  {
   "cell_type": "markdown",
   "metadata": {},
   "source": [
    "내 풀이\n",
    "\n",
    "동적계획법 이용은 했는데, 효율성이 그리 좋은거 같진 않은데..."
   ]
  },
  {
   "cell_type": "code",
   "execution_count": 160,
   "metadata": {},
   "outputs": [],
   "source": [
    "import copy\n",
    "def solution(triangle):\n",
    "    #0,1 인덱스에 있는 값은 먼저 설정\n",
    "    result = [0]*len(triangle[-1])\n",
    "    result[0] = triangle[0][0] + triangle[1][0]\n",
    "    result[1] = triangle[0][0] + triangle[1][1]\n",
    "    \n",
    "    # 점차 채우기\n",
    "    for i in range(2, len(triangle)):\n",
    "        temp = copy.deepcopy(result)\n",
    "        for j in range(len(triangle[i])):\n",
    "            if j == 0:\n",
    "                temp[j] = result[j] + triangle[i][j]\n",
    "            elif j == len(triangle[i])-1:\n",
    "                temp[j] = result[j-1] + triangle[i][j]\n",
    "            else:\n",
    "                temp[j] = max((result[j] + triangle[i][j]),(result[j-1] + triangle[i][j]))\n",
    "        result = temp\n",
    "    return max(result)"
   ]
  },
  {
   "cell_type": "code",
   "execution_count": 161,
   "metadata": {},
   "outputs": [
    {
     "data": {
      "text/plain": [
       "30"
      ]
     },
     "execution_count": 161,
     "metadata": {},
     "output_type": "execute_result"
    }
   ],
   "source": [
    "solution(triangle)"
   ]
  },
  {
   "cell_type": "markdown",
   "metadata": {},
   "source": [
    "다른 사람 풀이\n",
    "\n",
    "얜 도대체 뭐냐..?"
   ]
  },
  {
   "cell_type": "code",
   "execution_count": 166,
   "metadata": {},
   "outputs": [],
   "source": [
    "solution = lambda t, l = []: max(l) if not t else \\\n",
    "solution(t[1:], [max(x,y)+z for x,y,z in zip([0]+l, l+[0], t[0])])"
   ]
  },
  {
   "cell_type": "code",
   "execution_count": 167,
   "metadata": {},
   "outputs": [
    {
     "data": {
      "text/plain": [
       "30"
      ]
     },
     "execution_count": 167,
     "metadata": {},
     "output_type": "execute_result"
    }
   ],
   "source": [
    "solution(triangle)"
   ]
  },
  {
   "cell_type": "markdown",
   "metadata": {},
   "source": [
    "## 등굣길 (Level 3)"
   ]
  },
  {
   "cell_type": "code",
   "execution_count": 4,
   "metadata": {},
   "outputs": [],
   "source": [
    "#input\n",
    "m = 4\n",
    "n = 3\n",
    "puddles = [[2,2]]"
   ]
  },
  {
   "cell_type": "code",
   "execution_count": 5,
   "metadata": {},
   "outputs": [],
   "source": [
    "def solution(m,n,puddles):\n",
    "    # 이렇게 안하면 indexing할때 column과 row가 서로에게 영향을 미침\n",
    "    dp = [[0 for i in range(m+1)] for _ in range(n+1)]\n",
    "    dp[1][1] = 1\n",
    "    for i in range(1, n+1):\n",
    "        for j in range(1, m+1):\n",
    "            if i == 1 and j == 1:\n",
    "                continue\n",
    "            if [j,i] in puddles:\n",
    "                dp[i][j] = 0 \n",
    "            else:\n",
    "                dp[i][j] = (dp[i][j-1] + dp[i-1][j]) % 1000000007\n",
    "    return dp[-1][-1]"
   ]
  },
  {
   "cell_type": "code",
   "execution_count": 6,
   "metadata": {},
   "outputs": [
    {
     "data": {
      "text/plain": [
       "4"
      ]
     },
     "execution_count": 6,
     "metadata": {},
     "output_type": "execute_result"
    }
   ],
   "source": [
    "solution(m,n,puddles)"
   ]
  },
  {
   "cell_type": "markdown",
   "metadata": {},
   "source": [
    "## 도둑질 (Level 4)"
   ]
  },
  {
   "cell_type": "code",
   "execution_count": 81,
   "metadata": {},
   "outputs": [],
   "source": [
    "#input\n",
    "money = [1,2,3,1]"
   ]
  },
  {
   "cell_type": "code",
   "execution_count": 82,
   "metadata": {},
   "outputs": [],
   "source": [
    "def solution(money):\n",
    "    dp1 = [0 for _ in range(len(money))]\n",
    "    dp2 = [0 for _ in range(len(money))]\n",
    "    dp3 = [0 for _ in range(len(money))]\n",
    "    \n",
    "    #dp1은 0 에서 시작할 때 : 마지막 access 불가\n",
    "    dp1[0] = money[0]\n",
    "    dp1[1] = money[1]\n",
    "    dp1[2] = money[0] + money[2]\n",
    "    \n",
    "    #dp2는 1에서 시작할때 : 마지막 access 가능\n",
    "    dp2[1] = money[1]\n",
    "    dp2[2] = max(money[1],money[2])\n",
    "    \n",
    "    #dp3는 2에서 시작할때 : 마지막 access 가능\n",
    "    dp3[2] = money[2]\n",
    "    \n",
    "    if len(money) == 3:\n",
    "        return max(money)\n",
    "\n",
    "    for i in range(3,len(money)):\n",
    "        dp1[i] = max(dp1[i-3] + money[i] , dp1[i-2] + money[i], dp1[i-1])\n",
    "        dp2[i] = max(dp2[i-3] + money[i] , dp2[i-2] + money[i], dp2[i-1])\n",
    "        dp3[i] = max(dp3[i-3] + money[i] , dp3[i-2] + money[i], dp3[i-1])\n",
    "\n",
    "    return max(dp1[len(money)-2],dp2[len(money)-1], dp3[len(money)-1])"
   ]
  },
  {
   "cell_type": "code",
   "execution_count": 83,
   "metadata": {},
   "outputs": [
    {
     "data": {
      "text/plain": [
       "4"
      ]
     },
     "execution_count": 83,
     "metadata": {},
     "output_type": "execute_result"
    }
   ],
   "source": [
    "solution(money)"
   ]
  },
  {
   "cell_type": "code",
   "execution_count": null,
   "metadata": {},
   "outputs": [],
   "source": []
  }
 ],
 "metadata": {
  "kernelspec": {
   "display_name": "Python 3",
   "language": "python",
   "name": "python3"
  },
  "language_info": {
   "codemirror_mode": {
    "name": "ipython",
    "version": 3
   },
   "file_extension": ".py",
   "mimetype": "text/x-python",
   "name": "python",
   "nbconvert_exporter": "python",
   "pygments_lexer": "ipython3",
   "version": "3.7.4"
  }
 },
 "nbformat": 4,
 "nbformat_minor": 2
}
