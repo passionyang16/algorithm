{
 "cells": [
  {
   "cell_type": "markdown",
   "metadata": {},
   "source": [
    "# 완전탐색"
   ]
  },
  {
   "cell_type": "markdown",
   "metadata": {},
   "source": [
    "## 모의고사 (Level 1)"
   ]
  },
  {
   "cell_type": "code",
   "execution_count": 56,
   "metadata": {},
   "outputs": [],
   "source": [
    "#input\n",
    "answers = [1,3,2,4,2]"
   ]
  },
  {
   "cell_type": "markdown",
   "metadata": {},
   "source": [
    "내 풀이\n",
    "\n",
    "이전이랑 똑같이 풀었구나.."
   ]
  },
  {
   "cell_type": "code",
   "execution_count": 57,
   "metadata": {},
   "outputs": [],
   "source": [
    "def solution(answers):\n",
    "    first = [1,2,3,4,5]\n",
    "    second = [2,1,2,3,2,4,2,5]\n",
    "    third = [3,3,1,1,2,2,4,4,5,5]\n",
    "\n",
    "    temp = [0, 0, 0]\n",
    "    for i in range(len(answers)):\n",
    "        if answers[i] == first[i%len(first)]:\n",
    "            temp[0] += 1\n",
    "        if answers[i] == second[i%len(second)]:\n",
    "            temp[1] += 1\n",
    "        if answers[i] == third[i%len(third)]:\n",
    "            temp[2] += 1\n",
    "\n",
    "    result = []\n",
    "    for i in range(len(temp)):\n",
    "        if temp[i] == max(temp):\n",
    "            result.append(i+1)\n",
    "    \n",
    "    return result"
   ]
  },
  {
   "cell_type": "code",
   "execution_count": 58,
   "metadata": {},
   "outputs": [
    {
     "data": {
      "text/plain": [
       "[1, 2, 3]"
      ]
     },
     "execution_count": 58,
     "metadata": {},
     "output_type": "execute_result"
    }
   ],
   "source": [
    "solution(answers)"
   ]
  },
  {
   "cell_type": "markdown",
   "metadata": {},
   "source": [
    "다른 사람 풀이\n",
    "\n",
    "enumerate 너무 잘썼다.."
   ]
  },
  {
   "cell_type": "code",
   "execution_count": 59,
   "metadata": {},
   "outputs": [],
   "source": [
    "def solution(answers):\n",
    "    p = [[1, 2, 3, 4, 5],\n",
    "         [2, 1, 2, 3, 2, 4, 2, 5],\n",
    "         [3, 3, 1, 1, 2, 2, 4, 4, 5, 5]]\n",
    "    s = [0] * len(p)\n",
    "\n",
    "    for q, a in enumerate(answers):\n",
    "        for i, v in enumerate(p):\n",
    "            if a == v[q % len(v)]:\n",
    "                s[i] += 1\n",
    "    return [i + 1 for i, v in enumerate(s) if v == max(s)]\n"
   ]
  },
  {
   "cell_type": "markdown",
   "metadata": {},
   "source": [
    "## 소수 찾기 (Level 2)"
   ]
  },
  {
   "cell_type": "code",
   "execution_count": 92,
   "metadata": {},
   "outputs": [],
   "source": [
    "#input\n",
    "numbers = \"011\""
   ]
  },
  {
   "cell_type": "markdown",
   "metadata": {},
   "source": [
    "내 풀이"
   ]
  },
  {
   "cell_type": "code",
   "execution_count": 88,
   "metadata": {},
   "outputs": [],
   "source": [
    "from itertools import permutations\n",
    "import math\n",
    "def solution(numbers):\n",
    "    numbers = sorted(list(numbers))\n",
    "    candidates = []\n",
    "    for i in range(len(numbers)):\n",
    "        temps = permutations(numbers,i+1)\n",
    "        for temp in temps:\n",
    "            temp = int(\"\".join(list(temp)))\n",
    "            if temp not in candidates:\n",
    "                candidates.append(temp)\n",
    "    \n",
    "    answer = []\n",
    "    for candidate in candidates:\n",
    "        count = 0\n",
    "        sqrt = int(math.sqrt(candidate))\n",
    "        if candidate != 0 and candidate != 1:\n",
    "            for i in range(2, sqrt+1):\n",
    "                if candidate % i == 0:\n",
    "                    count += 1\n",
    "            if count == 0:\n",
    "                answer.append(candidate)\n",
    "            \n",
    "    return len(answer)\n",
    "    \n",
    "    "
   ]
  },
  {
   "cell_type": "code",
   "execution_count": 89,
   "metadata": {},
   "outputs": [
    {
     "data": {
      "text/plain": [
       "3"
      ]
     },
     "execution_count": 89,
     "metadata": {},
     "output_type": "execute_result"
    }
   ],
   "source": [
    "solution(numbers)"
   ]
  },
  {
   "cell_type": "markdown",
   "metadata": {},
   "source": [
    "다른 사람 풀이\n",
    "\n",
    "set의 특성을 너무 잘 살림 + 에라스토테네스 체"
   ]
  },
  {
   "cell_type": "code",
   "execution_count": 90,
   "metadata": {},
   "outputs": [],
   "source": [
    "from itertools import permutations\n",
    "def solution(n):\n",
    "    a = set()\n",
    "    for i in range(len(n)):\n",
    "        # 합집합을 써서 한번에 저장\n",
    "        a |= set(map(int, map(\"\".join, permutations(list(n), i + 1))))\n",
    "    # 0, 1은 소수가 될 수 없으므로 삭제\n",
    "    a -= set(range(0, 2))\n",
    "    # 배수가 있는 것들을 걸러내는 작업\n",
    "    for i in range(2, int(max(a) ** 0.5) + 1):\n",
    "        a -= set(range(i * 2, max(a) + 1, i))\n",
    "    return len(a)"
   ]
  },
  {
   "cell_type": "code",
   "execution_count": 102,
   "metadata": {},
   "outputs": [
    {
     "data": {
      "text/plain": [
       "{11, 101}"
      ]
     },
     "execution_count": 102,
     "metadata": {},
     "output_type": "execute_result"
    }
   ],
   "source": [
    "a"
   ]
  },
  {
   "cell_type": "markdown",
   "metadata": {},
   "source": [
    "## 카펫 (Level 2)"
   ]
  },
  {
   "cell_type": "code",
   "execution_count": 146,
   "metadata": {},
   "outputs": [],
   "source": [
    "#input\n",
    "brown = 24\n",
    "yellow = 24"
   ]
  },
  {
   "cell_type": "markdown",
   "metadata": {},
   "source": [
    "내 풀이\n",
    "\n",
    "약수를 활용하여 진행\n",
    "\n",
    "이전에 배운 sqrt로 시간복잡도 줄임"
   ]
  },
  {
   "cell_type": "code",
   "execution_count": 147,
   "metadata": {},
   "outputs": [],
   "source": [
    "import math\n",
    "def solution(brown, yellow):\n",
    "    candidates = []\n",
    "    total_num = brown + yellow\n",
    "    sqrt = int(math.sqrt(total_num))\n",
    "    for i in range(2, sqrt+1):\n",
    "        if total_num % i == 0:\n",
    "            candidates.append([i,total_num // i])\n",
    "\n",
    "    for height, width in candidates:\n",
    "        if (height-2)*(width-2) == yellow:\n",
    "            return [width,height]"
   ]
  },
  {
   "cell_type": "code",
   "execution_count": 148,
   "metadata": {},
   "outputs": [
    {
     "data": {
      "text/plain": [
       "[8, 6]"
      ]
     },
     "execution_count": 148,
     "metadata": {},
     "output_type": "execute_result"
    }
   ],
   "source": [
    "solution(brown, yellow)"
   ]
  },
  {
   "cell_type": "markdown",
   "metadata": {},
   "source": [
    "다른 사람 풀이\n",
    "\n",
    "수학적으로 사고방식이 좀 다른듯.."
   ]
  },
  {
   "cell_type": "code",
   "execution_count": 154,
   "metadata": {},
   "outputs": [],
   "source": [
    "def solution(brown, yellow):\n",
    "    for i in range(1, int(yellow**(1/2))+1):\n",
    "        if yellow % i == 0:\n",
    "            if 2*(i + yellow//i) == yellow-4:\n",
    "                return [yellow//i+2, i+2]"
   ]
  },
  {
   "cell_type": "code",
   "execution_count": 155,
   "metadata": {},
   "outputs": [
    {
     "data": {
      "text/plain": [
       "[8, 6]"
      ]
     },
     "execution_count": 155,
     "metadata": {},
     "output_type": "execute_result"
    }
   ],
   "source": [
    "solution(brown, yellow)"
   ]
  },
  {
   "cell_type": "code",
   "execution_count": null,
   "metadata": {},
   "outputs": [],
   "source": []
  }
 ],
 "metadata": {
  "kernelspec": {
   "display_name": "Python 3",
   "language": "python",
   "name": "python3"
  },
  "language_info": {
   "codemirror_mode": {
    "name": "ipython",
    "version": 3
   },
   "file_extension": ".py",
   "mimetype": "text/x-python",
   "name": "python",
   "nbconvert_exporter": "python",
   "pygments_lexer": "ipython3",
   "version": "3.7.4"
  }
 },
 "nbformat": 4,
 "nbformat_minor": 2
}
