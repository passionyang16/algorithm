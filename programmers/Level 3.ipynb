{
 "cells": [
  {
   "cell_type": "code",
   "execution_count": null,
   "metadata": {},
   "outputs": [],
   "source": [
    "#타일 장식물\n",
    "\n",
    "#내 풀이  == 다른 사람 풀이\n",
    "\n",
    "def solution(N):\n",
    "    fibonacci = [1,1]\n",
    "    for i in range(2,N):\n",
    "        fibonacci.append(fibonacci[i-1] + fibonacci[i-2])\n",
    "    answer = fibonacci[N-1]*4 + fibonacci[N-2]*2\n",
    "    return answer"
   ]
  },
  {
   "cell_type": "markdown",
   "metadata": {},
   "source": [
    "# 깊이너비 탐색"
   ]
  },
  {
   "cell_type": "code",
   "execution_count": null,
   "metadata": {},
   "outputs": [],
   "source": [
    "#네트워크\n",
    "\n",
    "computers = [[1, 1, 0], [1, 1, 0], [0, 0, 1]]\n",
    "n = 3\n"
   ]
  }
 ],
 "metadata": {
  "kernelspec": {
   "display_name": "Python 3",
   "language": "python",
   "name": "python3"
  },
  "language_info": {
   "codemirror_mode": {
    "name": "ipython",
    "version": 3
   },
   "file_extension": ".py",
   "mimetype": "text/x-python",
   "name": "python",
   "nbconvert_exporter": "python",
   "pygments_lexer": "ipython3",
   "version": "3.7.4"
  }
 },
 "nbformat": 4,
 "nbformat_minor": 2
}
