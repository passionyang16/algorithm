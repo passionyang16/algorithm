{
 "cells": [
  {
   "cell_type": "markdown",
   "metadata": {},
   "source": [
    "## [1차] 비밀지도 (Level 1)"
   ]
  },
  {
   "cell_type": "code",
   "execution_count": 1,
   "metadata": {},
   "outputs": [],
   "source": [
    "#input\n",
    "n = 6\n",
    "arr1 = [46, 33, 33, 22, 31, 50]\n",
    "arr2 = [27, 56, 19, 14, 14, 10]"
   ]
  },
  {
   "cell_type": "code",
   "execution_count": 2,
   "metadata": {},
   "outputs": [],
   "source": [
    "#내 풀이\n",
    "def solution(n, arr1, arr2):\n",
    "    new_arr = []\n",
    "\n",
    "    for i in range(n):\n",
    "        arr1[i] = bin(arr1[i])[2:]\n",
    "        arr2[i] = bin(arr2[i])[2:]\n",
    "        new_arr.append(int(arr1[i])+int(arr2[i]))\n",
    "        new_arr[i] = str(new_arr[i])\n",
    "        if len(new_arr[i]) != n:\n",
    "            new_arr[i] = (n-len(new_arr[i]))*'0' + new_arr[i]\n",
    "        for j in new_arr[i]:\n",
    "            if (int(j) != 0) and (int(j) != 1):\n",
    "                new_arr[i] = new_arr[i].replace(j,'1')\n",
    "        new_arr[i] = new_arr[i].replace('1','#')\n",
    "        new_arr[i] = new_arr[i].replace('0',' ')\n",
    "    \n",
    "\n",
    "    return new_arr"
   ]
  },
  {
   "cell_type": "code",
   "execution_count": 3,
   "metadata": {},
   "outputs": [
    {
     "data": {
      "text/plain": [
       "['######', '###  #', '##  ##', ' #### ', ' #####', '### # ']"
      ]
     },
     "execution_count": 3,
     "metadata": {},
     "output_type": "execute_result"
    }
   ],
   "source": [
    "solution(n,arr1,arr2)"
   ]
  },
  {
   "cell_type": "code",
   "execution_count": 4,
   "metadata": {},
   "outputs": [],
   "source": [
    "#다른 사람 풀이\n",
    "\n",
    "def solution(n, arr1, arr2):\n",
    "    answer = []\n",
    "    for i,j in zip(arr1,arr2):\n",
    "        a12 = str(bin(i|j)[2:])\n",
    "        a12=a12.rjust(n,'0')\n",
    "        a12=a12.replace('1','#')\n",
    "        a12=a12.replace('0',' ')\n",
    "        answer.append(a12)\n",
    "    return answer"
   ]
  },
  {
   "cell_type": "markdown",
   "metadata": {},
   "source": [
    "## [1차] 다트 게임 (Level 1)"
   ]
  },
  {
   "cell_type": "code",
   "execution_count": 5,
   "metadata": {},
   "outputs": [],
   "source": [
    "#input\n",
    "dartResult = '1S*2T*3S'"
   ]
  },
  {
   "cell_type": "code",
   "execution_count": 6,
   "metadata": {},
   "outputs": [],
   "source": [
    "def solution(dartResult):\n",
    "    score = []\n",
    "    n = ''\n",
    "    for i in dartResult:\n",
    "        if i.isnumeric():\n",
    "            n += i\n",
    "        elif i == 'S':\n",
    "            score.append(int(n) ** 1)\n",
    "            n = ''\n",
    "        elif i == 'D':\n",
    "            score.append(int(n) ** 2)\n",
    "            n = ''\n",
    "        elif i == 'T':\n",
    "            score.append(int(n) ** 3)\n",
    "            n = ''\n",
    "        elif i == '*':\n",
    "            if len(score) > 1:\n",
    "                score[-2] *= 2\n",
    "            score[-1] *= 2\n",
    "        elif i == '#':\n",
    "            score[-1] *= -1\n",
    "    return sum(score)"
   ]
  },
  {
   "cell_type": "markdown",
   "metadata": {},
   "source": [
    "## [1차] 뉴스 클러스터링 (Level 2)"
   ]
  },
  {
   "cell_type": "code",
   "execution_count": 1,
   "metadata": {},
   "outputs": [],
   "source": [
    "# input\n",
    "str1 = 'FRANCE'\n",
    "str2 = 'french'"
   ]
  },
  {
   "cell_type": "code",
   "execution_count": 4,
   "metadata": {},
   "outputs": [],
   "source": [
    "import re\n",
    "import math\n",
    "\n",
    "def solution(str1, str2):\n",
    "    str1 = [str1[i:i+2].upper() for i in range(0, len(str1)-1) if not re.findall('[^a-zA-Z]+', str1[i:i+2])]\n",
    "    str2 = [str2[i:i+2].upper() for i in range(0, len(str2)-1) if not re.findall('[^a-zA-Z]+', str2[i:i+2])]\n",
    "\n",
    "    intersect = set(str1) & set(str2)\n",
    "    union = set(str1) | set(str2)\n",
    "\n",
    "    if len(union) == 0 :\n",
    "        return 65536\n",
    "\n",
    "    intersect_sum = sum([min(str1.count(i), str2.count(i)) for i in intersect])\n",
    "    union_sum = sum([max(str1.count(u), str2.count(u)) for u in union])\n",
    "\n",
    "\n",
    "    return math.floor((intersect_sum/union_sum)*65536)"
   ]
  },
  {
   "cell_type": "code",
   "execution_count": 5,
   "metadata": {},
   "outputs": [
    {
     "data": {
      "text/plain": [
       "16384"
      ]
     },
     "execution_count": 5,
     "metadata": {},
     "output_type": "execute_result"
    }
   ],
   "source": [
    "solution(str1, str2)"
   ]
  },
  {
   "cell_type": "markdown",
   "metadata": {},
   "source": [
    "## [1차] 프렌즈 4블록 (Level 2)"
   ]
  },
  {
   "cell_type": "code",
   "execution_count": 12,
   "metadata": {},
   "outputs": [],
   "source": [
    "#inputs\n",
    "m = 4\n",
    "n = 5\n",
    "board = [\"CCBDE\", \"AAADE\", \"AAABF\", \"CCBBF\"]"
   ]
  },
  {
   "cell_type": "code",
   "execution_count": 21,
   "metadata": {},
   "outputs": [],
   "source": [
    "def pop_num(b, m, n):\n",
    "    pop_set = set()\n",
    "    # search\n",
    "    for i in range(1, n):\n",
    "        for j in range(1, m):\n",
    "            if b[i][j] == b[i-1][j-1] == b[i-1][j] == b[i][j-1] != '_':\n",
    "                pop_set |= set([(i, j), (i-1, j-1), (i-1, j), (i, j-1)])\n",
    "\n",
    "    # set_board\n",
    "    for i, j in pop_set:\n",
    "        b[i][j] = 0 \n",
    " \n",
    "    for i, row in enumerate(b):\n",
    "        empty = ['_'] * row.count(0)\n",
    "        b[i] = empty + [block for block in row if block != 0]\n",
    "        \n",
    "    return len(pop_set)\n",
    "     \n",
    "def solution(m, n, board):\n",
    "    count = 0\n",
    "    b = list(map(list,zip(*board)))\n",
    "    board = [list(x) for x in board]\n",
    "    while True:\n",
    "        pop = pop_num(b, m, n)\n",
    "        if pop == 0: \n",
    "            return count\n",
    "        count += pop"
   ]
  },
  {
   "cell_type": "code",
   "execution_count": 22,
   "metadata": {},
   "outputs": [
    {
     "name": "stdout",
     "output_type": "stream",
     "text": [
      "[['C', 'A', 'A', 'C'], ['C', 'A', 'A', 'C'], ['B', 'A', 'A', 'B'], ['D', 'D', 'B', 'B'], ['E', 'E', 'F', 'F']]\n",
      "\n",
      "[['C', 'C', 'B', 'D', 'E'], ['A', 'A', 'A', 'D', 'E'], ['A', 'A', 'A', 'B', 'F'], ['C', 'C', 'B', 'B', 'F']]\n",
      "{(1, 2), (0, 1), (0, 2), (2, 1), (2, 2), (1, 1)}\n",
      "{(1, 2), (3, 2), (1, 3), (3, 3), (2, 3), (2, 2), (0, 3), (0, 2)}\n",
      "set()\n"
     ]
    },
    {
     "data": {
      "text/plain": [
       "14"
      ]
     },
     "execution_count": 22,
     "metadata": {},
     "output_type": "execute_result"
    }
   ],
   "source": [
    "solution(m, n, board)"
   ]
  },
  {
   "cell_type": "markdown",
   "metadata": {},
   "source": [
    "## [1차] 셔틀버스 (Level 3)"
   ]
  },
  {
   "cell_type": "code",
   "execution_count": 8,
   "metadata": {},
   "outputs": [],
   "source": [
    "#inputs\n",
    "n = 10\n",
    "t = 60\n",
    "m = 45\n",
    "timetable = [\"23:59\",\"23:59\", \"23:59\", \"23:59\", \"23:59\",\n",
    "             \"23:59\", \"23:59\", \"23:59\", \"23:59\", \"23:59\",\n",
    "             \"23:59\", \"23:59\", \"23:59\", \"23:59\", \"23:59\", \"23:59\"]"
   ]
  },
  {
   "cell_type": "code",
   "execution_count": 9,
   "metadata": {},
   "outputs": [],
   "source": [
    "def solution(n, t, m, timetable):\n",
    "    answer = ''\n",
    "    timetable = [int(time[:2])*60 + int(time[3:5]) for time in timetable]\n",
    "    timetable.sort()\n",
    "    last_time = (60*9) + (n-1)*t\n",
    "    \n",
    "    for i in range(n):\n",
    "        if len(timetable) < m: \n",
    "            return '%02d:%02d' % (last_time//60, last_time%60)\n",
    "        if i == n - 1:\n",
    "            if timetable[0] <= last_time: \n",
    "                last_time = timetable[m-1] - 1\n",
    "            return '%02d:%02d' % (last_time//60,last_time%60)\n",
    "        for j in range(m-1, -1, -1):\n",
    "            bus_arrive = (60*9) + i * t\n",
    "            if timetable[j] <= bus_arrive:\n",
    "                del timetable[j]\n",
    "\n"
   ]
  },
  {
   "cell_type": "code",
   "execution_count": 10,
   "metadata": {},
   "outputs": [
    {
     "data": {
      "text/plain": [
       "'18:00'"
      ]
     },
     "execution_count": 10,
     "metadata": {},
     "output_type": "execute_result"
    }
   ],
   "source": [
    "solution(n, t, m, timetable)"
   ]
  },
  {
   "cell_type": "markdown",
   "metadata": {},
   "source": [
    "## [1차] 캐시 (Level 2)"
   ]
  },
  {
   "cell_type": "code",
   "execution_count": 33,
   "metadata": {},
   "outputs": [],
   "source": [
    "# input\n",
    "cacheSize = 3\n",
    "cities = [\"Jeju\", \"Pangyo\", \"Seoul\", \"Jeju\", \"Pangyo\", \"Seoul\", \"Jeju\", \"Pangyo\", \"Seoul\"]"
   ]
  },
  {
   "cell_type": "code",
   "execution_count": 34,
   "metadata": {},
   "outputs": [],
   "source": [
    "from queue import deque\n",
    "def solution(cacheSize, cities):\n",
    "    answer = 0\n",
    "    cached = deque()\n",
    "    if cacheSize == 0:\n",
    "        return len(cities) * 5\n",
    "    for city in cities:\n",
    "        city = city.lower()\n",
    "        if city in cached:\n",
    "            answer += 1\n",
    "            cached.remove(city)\n",
    "        else:\n",
    "            answer += 5\n",
    "            if len(cached) >= cacheSize:\n",
    "                cached.popleft() \n",
    "\n",
    "        \n",
    "        cached.append(city)\n",
    "    return answer"
   ]
  },
  {
   "cell_type": "code",
   "execution_count": 35,
   "metadata": {},
   "outputs": [
    {
     "data": {
      "text/plain": [
       "21"
      ]
     },
     "execution_count": 35,
     "metadata": {},
     "output_type": "execute_result"
    }
   ],
   "source": [
    "solution(cacheSize,cities)"
   ]
  },
  {
   "cell_type": "markdown",
   "metadata": {},
   "source": [
    "## [3차] 방금그곡 (Level 2)"
   ]
  },
  {
   "cell_type": "code",
   "execution_count": 161,
   "metadata": {},
   "outputs": [],
   "source": [
    "# input\n",
    "m = \"ABC\"\n",
    "musicinfos = [\"12:00,12:14,HELLO,C#DEFGAB\", \"13:00,13:05,WORLD,ABCDEF\"]"
   ]
  },
  {
   "cell_type": "code",
   "execution_count": 152,
   "metadata": {},
   "outputs": [],
   "source": [
    "## 이건 실패하네 ㅠㅠ\n",
    "import datetime\n",
    "from queue import deque\n",
    "\n",
    "def solution(m, musicinfos):\n",
    "    results = []\n",
    "    for musicinfo in musicinfos:\n",
    "        start_time, end_time, title, musicscore = musicinfo.split(\",\")\n",
    "        start_hour, start_minute = start_time.split(\":\")\n",
    "        end_hour, end_minute = end_time.split(\":\")\n",
    "        time_passed = (int(end_hour)*60 + int(end_minute)) - (int(start_hour)*60 + int(start_minute)) \n",
    "\n",
    "        musicscore = deque(list(musicscore))\n",
    "        new_musicscore = deque()\n",
    "        while musicscore:\n",
    "            popped = musicscore.pop()\n",
    "            if popped == \"#\":\n",
    "                new_popped = musicscore.pop()\n",
    "                new_musicscore.appendleft(new_popped+popped)\n",
    "            else:\n",
    "                new_musicscore.appendleft(popped)\n",
    "\n",
    "        repeat = time_passed // len(new_musicscore)\n",
    "        remainder = time_passed % len(new_musicscore)\n",
    "        new_musicscore = list(new_musicscore)\n",
    "\n",
    "        if remainder == 0:\n",
    "            result = \"\".join(repeat * new_musicscore)\n",
    "        else:\n",
    "            result = \"\".join(repeat * new_musicscore + new_musicscore[0:remainder])\n",
    "\n",
    "\n",
    "        if m[-1] != \"#\" and m[-1]+\"#\" in result:\n",
    "            continue\n",
    "\n",
    "        if m in result:\n",
    "            results.append([title,time_passed])\n",
    "    if len(results) != 0:\n",
    "        results.sort(key=lambda x: x[1],reverse=True)\n",
    "        return results[0][0]\n",
    "\n",
    "\n",
    "    return \"(None)\""
   ]
  },
  {
   "cell_type": "code",
   "execution_count": 153,
   "metadata": {},
   "outputs": [
    {
     "data": {
      "text/plain": [
       "'HELLO'"
      ]
     },
     "execution_count": 153,
     "metadata": {},
     "output_type": "execute_result"
    }
   ],
   "source": [
    "solution(m,musicinfos)"
   ]
  },
  {
   "cell_type": "code",
   "execution_count": 180,
   "metadata": {},
   "outputs": [],
   "source": [
    "import datetime\n",
    "\n",
    "def change(musicscore):\n",
    "    if 'A#' in musicscore: \n",
    "        musicscore = musicscore.replace('A#', 'a')\n",
    "    if 'C#' in musicscore: \n",
    "        musicscore = musicscore.replace('C#', 'c')\n",
    "    if 'D#' in musicscore: \n",
    "        musicscore = musicscore.replace('D#', 'd')\n",
    "    if 'F#' in musicscore: \n",
    "        musicscore = musicscore.replace('F#', 'f')\n",
    "    if 'G#' in musicscore: \n",
    "        musicscore = musicscore.replace('G#', 'g')\n",
    "    return musicscore\n",
    "\n",
    "def solution(m, musicinfos):\n",
    "    results = []\n",
    "    m = change(m)\n",
    "    for musicinfo in musicinfos:\n",
    "        start_time, end_time, title, musicscore = musicinfo.split(\",\")\n",
    "        start_hour, start_minute = start_time.split(\":\")\n",
    "        end_hour, end_minute = end_time.split(\":\")\n",
    "        time_passed = (int(end_hour)*60 + int(end_minute)) - (int(start_hour)*60 + int(start_minute)) \n",
    "\n",
    "        musicscore = change(musicscore)\n",
    "\n",
    "        repeat = time_passed // len(musicscore)\n",
    "        remainder = time_passed % len(musicscore)\n",
    "\n",
    "        if remainder == 0:\n",
    "            result = \"\".join(repeat * musicscore)\n",
    "        else:\n",
    "            result = \"\".join(repeat * musicscore + musicscore[0:remainder])\n",
    "\n",
    "        if m in result:\n",
    "            results.append([title,time_passed])\n",
    "    if len(results) != 0:\n",
    "        results.sort(key=lambda x: x[1],reverse=True)\n",
    "        return results[0][0]\n",
    "\n",
    "\n",
    "    return \"(None)\""
   ]
  },
  {
   "cell_type": "code",
   "execution_count": 181,
   "metadata": {},
   "outputs": [
    {
     "data": {
      "text/plain": [
       "'WORLD'"
      ]
     },
     "execution_count": 181,
     "metadata": {},
     "output_type": "execute_result"
    }
   ],
   "source": [
    "solution(m,musicinfos)"
   ]
  },
  {
   "cell_type": "code",
   "execution_count": null,
   "metadata": {},
   "outputs": [],
   "source": []
  }
 ],
 "metadata": {
  "kernelspec": {
   "display_name": "Python 3",
   "language": "python",
   "name": "python3"
  },
  "language_info": {
   "codemirror_mode": {
    "name": "ipython",
    "version": 3
   },
   "file_extension": ".py",
   "mimetype": "text/x-python",
   "name": "python",
   "nbconvert_exporter": "python",
   "pygments_lexer": "ipython3",
   "version": "3.8.1"
  }
 },
 "nbformat": 4,
 "nbformat_minor": 2
}
