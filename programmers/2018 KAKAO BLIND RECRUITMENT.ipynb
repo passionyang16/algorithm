{
 "cells": [
  {
   "cell_type": "markdown",
   "metadata": {},
   "source": [
    "## [1차] 비밀지도 (Level 1)"
   ]
  },
  {
   "cell_type": "code",
   "execution_count": 1,
   "metadata": {},
   "outputs": [],
   "source": [
    "#input\n",
    "n = 6\n",
    "arr1 = [46, 33, 33, 22, 31, 50]\n",
    "arr2 = [27, 56, 19, 14, 14, 10]"
   ]
  },
  {
   "cell_type": "code",
   "execution_count": 2,
   "metadata": {},
   "outputs": [],
   "source": [
    "#내 풀이\n",
    "def solution(n, arr1, arr2):\n",
    "    new_arr = []\n",
    "\n",
    "    for i in range(n):\n",
    "        arr1[i] = bin(arr1[i])[2:]\n",
    "        arr2[i] = bin(arr2[i])[2:]\n",
    "        new_arr.append(int(arr1[i])+int(arr2[i]))\n",
    "        new_arr[i] = str(new_arr[i])\n",
    "        if len(new_arr[i]) != n:\n",
    "            new_arr[i] = (n-len(new_arr[i]))*'0' + new_arr[i]\n",
    "        for j in new_arr[i]:\n",
    "            if (int(j) != 0) and (int(j) != 1):\n",
    "                new_arr[i] = new_arr[i].replace(j,'1')\n",
    "        new_arr[i] = new_arr[i].replace('1','#')\n",
    "        new_arr[i] = new_arr[i].replace('0',' ')\n",
    "    \n",
    "\n",
    "    return new_arr"
   ]
  },
  {
   "cell_type": "code",
   "execution_count": 3,
   "metadata": {},
   "outputs": [
    {
     "data": {
      "text/plain": [
       "['######', '###  #', '##  ##', ' #### ', ' #####', '### # ']"
      ]
     },
     "execution_count": 3,
     "metadata": {},
     "output_type": "execute_result"
    }
   ],
   "source": [
    "solution(n,arr1,arr2)"
   ]
  },
  {
   "cell_type": "code",
   "execution_count": 4,
   "metadata": {},
   "outputs": [],
   "source": [
    "#다른 사람 풀이\n",
    "\n",
    "def solution(n, arr1, arr2):\n",
    "    answer = []\n",
    "    for i,j in zip(arr1,arr2):\n",
    "        a12 = str(bin(i|j)[2:])\n",
    "        a12=a12.rjust(n,'0')\n",
    "        a12=a12.replace('1','#')\n",
    "        a12=a12.replace('0',' ')\n",
    "        answer.append(a12)\n",
    "    return answer"
   ]
  },
  {
   "cell_type": "markdown",
   "metadata": {},
   "source": [
    "## [1차] 다트 게임 (Level 1)"
   ]
  },
  {
   "cell_type": "code",
   "execution_count": 5,
   "metadata": {},
   "outputs": [],
   "source": [
    "#input\n",
    "dartResult = '1S*2T*3S'"
   ]
  },
  {
   "cell_type": "code",
   "execution_count": 6,
   "metadata": {},
   "outputs": [],
   "source": [
    "def solution(dartResult):\n",
    "    score = []\n",
    "    n = ''\n",
    "    for i in dartResult:\n",
    "        if i.isnumeric():\n",
    "            n += i\n",
    "        elif i == 'S':\n",
    "            score.append(int(n) ** 1)\n",
    "            n = ''\n",
    "        elif i == 'D':\n",
    "            score.append(int(n) ** 2)\n",
    "            n = ''\n",
    "        elif i == 'T':\n",
    "            score.append(int(n) ** 3)\n",
    "            n = ''\n",
    "        elif i == '*':\n",
    "            if len(score) > 1:\n",
    "                score[-2] *= 2\n",
    "            score[-1] *= 2\n",
    "        elif i == '#':\n",
    "            score[-1] *= -1\n",
    "    return sum(score)"
   ]
  }
 ],
 "metadata": {
  "kernelspec": {
   "display_name": "Python 3",
   "language": "python",
   "name": "python3"
  },
  "language_info": {
   "codemirror_mode": {
    "name": "ipython",
    "version": 3
   },
   "file_extension": ".py",
   "mimetype": "text/x-python",
   "name": "python",
   "nbconvert_exporter": "python",
   "pygments_lexer": "ipython3",
   "version": "3.7.4"
  }
 },
 "nbformat": 4,
 "nbformat_minor": 2
}
