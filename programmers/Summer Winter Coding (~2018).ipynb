{
 "cells": [
  {
   "cell_type": "markdown",
   "metadata": {},
   "source": [
    "## 스킬트리 (Level 2)"
   ]
  },
  {
   "cell_type": "code",
   "execution_count": 2,
   "metadata": {},
   "outputs": [],
   "source": [
    "#input\n",
    "skill = 'CBD'\n",
    "skill_trees = [\"BACDE\", \"CBADF\", \"AECB\", \"BDA\"]"
   ]
  },
  {
   "cell_type": "code",
   "execution_count": 5,
   "metadata": {},
   "outputs": [],
   "source": [
    "#내 풀이\n",
    "def solution(skill, skill_trees):\n",
    "    answer = 0\n",
    "\n",
    "    for tree in skill_trees:\n",
    "        temp = ''\n",
    "        for letter in tree:\n",
    "            if letter in skill:\n",
    "                temp += letter\n",
    "        if (temp.startswith(skill[0]) and temp in skill) or temp == '':\n",
    "            answer += 1\n",
    "\n",
    "    return answer"
   ]
  },
  {
   "cell_type": "code",
   "execution_count": 6,
   "metadata": {},
   "outputs": [
    {
     "name": "stdout",
     "output_type": "stream",
     "text": [
      "BCD\n",
      "CBD\n",
      "CB\n",
      "BD\n"
     ]
    },
    {
     "data": {
      "text/plain": [
       "2"
      ]
     },
     "execution_count": 6,
     "metadata": {},
     "output_type": "execute_result"
    }
   ],
   "source": [
    "solution(skill, skill_trees)"
   ]
  },
  {
   "cell_type": "markdown",
   "metadata": {},
   "source": [
    "## 방문길이 (Level 3)"
   ]
  },
  {
   "cell_type": "code",
   "execution_count": 236,
   "metadata": {},
   "outputs": [],
   "source": [
    "# input\n",
    "dirs = \"ULURRDLLU\""
   ]
  },
  {
   "cell_type": "code",
   "execution_count": 237,
   "metadata": {},
   "outputs": [],
   "source": [
    "def solution(dirs):\n",
    "    #그냥 탐색이 아니라 경로를 탐색해야한다\n",
    "    from_x, from_y, to_x, to_y = 0,0,0,0\n",
    "    answer_list = list()\n",
    "    for d in dirs:\n",
    "        if d == 'U' and from_y < 5:\n",
    "            to_y += 1\n",
    "        if d == 'L' and from_x > -5:\n",
    "            to_x -= 1\n",
    "        if d == 'R' and from_x < 5:\n",
    "            to_x += 1\n",
    "        if d == 'D' and from_y > -5:\n",
    "            to_y -= 1\n",
    "        \n",
    "        #해당 자리를 벗어나서 업데이트가 안되었다면 continue\n",
    "        if (from_x == to_x and from_y == to_y):\n",
    "            continue\n",
    "        \n",
    "        #왔다갔다하는 경우도 있을 수 있기에 그 경우는 스킵 ex) UDU\n",
    "        if [from_x, from_y, to_x, to_y] not in answer_list and [to_x, to_y, from_x, from_y] not in answer_list:\n",
    "            answer_list.append([from_x, from_y, to_x, to_y])\n",
    "        \n",
    "        #from_x, from_y를 업데이트\n",
    "        from_x, from_y = to_x, to_y\n",
    "        \n",
    "    return len(answer_list)"
   ]
  },
  {
   "cell_type": "code",
   "execution_count": 238,
   "metadata": {},
   "outputs": [
    {
     "data": {
      "text/plain": [
       "7"
      ]
     },
     "execution_count": 238,
     "metadata": {},
     "output_type": "execute_result"
    }
   ],
   "source": [
    "solution(dirs)"
   ]
  },
  {
   "cell_type": "markdown",
   "metadata": {},
   "source": [
    "## 배달 (Level 3)"
   ]
  },
  {
   "cell_type": "code",
   "execution_count": 7,
   "metadata": {},
   "outputs": [],
   "source": [
    "#input\n",
    "\n",
    "N = 6\n",
    "road = [[1,2,1],[1,3,2],[2,3,2],[3,4,3],[3,5,2],[3,5,3],[5,6,1]]\n",
    "K = 4"
   ]
  },
  {
   "cell_type": "code",
   "execution_count": 8,
   "metadata": {},
   "outputs": [],
   "source": [
    "from collections import defaultdict\n",
    "import heapq\n",
    "\n",
    "def solution(N,road,K):\n",
    "    \n",
    "    # 가장 짧은 것으로 그래프를 그리기 위해 road를 길이 기준 거꾸로 sort\n",
    "    road.sort(key = lambda x: x[2], reverse=True)\n",
    "    \n",
    "    # 다익스트라를 위한 양방향 Graph 설정\n",
    "    graph = defaultdict(dict)\n",
    "    for item in road:\n",
    "        graph[item[0]].update({item[1] : item[2]})\n",
    "        graph[item[1]].update({item[0] : item[2]})\n",
    "\n",
    "    # 다익스트라\n",
    "    def dijkstra(graph, start):\n",
    "\n",
    "        distances = {node: float('inf') for node in graph}\n",
    "        distances[start] = 0\n",
    "        queue = []\n",
    "        heapq.heappush(queue, [distances[start], start])\n",
    "\n",
    "        while queue:\n",
    "            current_distance, current_node = heapq.heappop(queue)\n",
    "\n",
    "            if distances[current_node] < current_distance:\n",
    "                continue\n",
    "\n",
    "            for adjacent, weight in graph[current_node].items():\n",
    "                distance = current_distance + weight\n",
    "\n",
    "                if distance < distances[adjacent]:\n",
    "                    distances[adjacent] = distance\n",
    "                    heapq.heappush(queue, [distance, adjacent])\n",
    "\n",
    "        return distances\n",
    "    \n",
    "    #다익스트라 결과를 저장\n",
    "    answer_dict = dijkstra(graph, 1)\n",
    "    print(answer_dict)\n",
    "    \n",
    "    #길이가 K보다 작으면 answer에 추가\n",
    "    answer = 0\n",
    "    for item in answer_dict.items():\n",
    "        if item[1] <= K:\n",
    "            answer += 1\n",
    "            \n",
    "    return answer"
   ]
  },
  {
   "cell_type": "code",
   "execution_count": 9,
   "metadata": {},
   "outputs": [
    {
     "name": "stdout",
     "output_type": "stream",
     "text": [
      "{3: 2, 4: 5, 5: 4, 1: 0, 2: 1, 6: 5}\n"
     ]
    },
    {
     "data": {
      "text/plain": [
       "4"
      ]
     },
     "execution_count": 9,
     "metadata": {},
     "output_type": "execute_result"
    }
   ],
   "source": [
    "solution(N, road, K)"
   ]
  },
  {
   "cell_type": "markdown",
   "metadata": {},
   "source": [
    "## 소수 만들기 (Level 2)"
   ]
  },
  {
   "cell_type": "code",
   "execution_count": 87,
   "metadata": {},
   "outputs": [],
   "source": [
    "# input\n",
    "nums = [1,2,7,6,4]"
   ]
  },
  {
   "cell_type": "code",
   "execution_count": 88,
   "metadata": {},
   "outputs": [],
   "source": [
    "from itertools import combinations\n",
    "import math\n",
    "\n",
    "def solution(nums):\n",
    "    # combination으로 구하고\n",
    "    comb = list(combinations(nums,3))\n",
    "    \n",
    "    # 함수 판별은 root 사용하면 ^1/2 만큼 시간복잡도가 줄어든다\n",
    "    def is_prime_number(x):\n",
    "    # 2부터 x의 제곱근까지의 모든 수를 확인하며\n",
    "        for i in range(2, int(math.sqrt(x))+1):\n",
    "        # x가 해당 수로 나누어 떨어진다면\n",
    "            if x % i == 0:\n",
    "                return False\n",
    "        return True\n",
    "    \n",
    "    # 하나씩 돌면서 소수인지 체크\n",
    "    answer = 0\n",
    "    for item in comb:\n",
    "        added = sum(item)\n",
    "        if is_prime_number(added):\n",
    "            answer += 1\n",
    "    return answer\n"
   ]
  },
  {
   "cell_type": "code",
   "execution_count": 89,
   "metadata": {},
   "outputs": [
    {
     "data": {
      "text/plain": [
       "4"
      ]
     },
     "execution_count": 89,
     "metadata": {},
     "output_type": "execute_result"
    }
   ],
   "source": [
    "solution(nums)"
   ]
  },
  {
   "cell_type": "markdown",
   "metadata": {},
   "source": [
    "## 점프와 순간이동 (Level 2)"
   ]
  },
  {
   "cell_type": "code",
   "execution_count": 94,
   "metadata": {},
   "outputs": [],
   "source": [
    "# input\n",
    "n = 5000"
   ]
  },
  {
   "cell_type": "code",
   "execution_count": 99,
   "metadata": {},
   "outputs": [],
   "source": [
    "#2진법으로 나타냈을 때 1로 나머지 나오는 구간만 점프하면 되므로\n",
    "def solution(n):\n",
    "    return bin(n)[2:].count('1')"
   ]
  },
  {
   "cell_type": "code",
   "execution_count": 100,
   "metadata": {},
   "outputs": [
    {
     "data": {
      "text/plain": [
       "5"
      ]
     },
     "execution_count": 100,
     "metadata": {},
     "output_type": "execute_result"
    }
   ],
   "source": [
    "solution(n)"
   ]
  },
  {
   "cell_type": "markdown",
   "metadata": {},
   "source": [
    "## 영어 끝말잇기 (Level 2)"
   ]
  },
  {
   "cell_type": "code",
   "execution_count": 187,
   "metadata": {},
   "outputs": [],
   "source": [
    "#input\n",
    "n = 2\n",
    "words = ['hello', 'one', 'even', 'never', 'now', 'world', 'draw']"
   ]
  },
  {
   "cell_type": "code",
   "execution_count": 188,
   "metadata": {},
   "outputs": [],
   "source": [
    "def solution(n,words):\n",
    "    answer = [0,0]\n",
    "    for i in range(len(words)):\n",
    "        for j in range(i):\n",
    "            if i-j == 1 and words[i][0] != words[j][-1] or words[i] == words[j]:\n",
    "                answer[0] = i%n+1\n",
    "                answer[1] = i//n+1\n",
    "                return answer\n",
    "    return answer"
   ]
  },
  {
   "cell_type": "code",
   "execution_count": 189,
   "metadata": {},
   "outputs": [
    {
     "data": {
      "text/plain": [
       "[1, 3]"
      ]
     },
     "execution_count": 189,
     "metadata": {},
     "output_type": "execute_result"
    }
   ],
   "source": [
    "solution(n,words)"
   ]
  },
  {
   "cell_type": "markdown",
   "metadata": {},
   "source": [
    "## 숫자게임 (Level 3)"
   ]
  },
  {
   "cell_type": "code",
   "execution_count": 246,
   "metadata": {},
   "outputs": [],
   "source": [
    "#input\n",
    "A = [5,1,3,7]\n",
    "B = [2,2,6,8]"
   ]
  },
  {
   "cell_type": "code",
   "execution_count": 270,
   "metadata": {},
   "outputs": [],
   "source": [
    "import heapq\n",
    "def solution(A,B):\n",
    "    heap_A = []\n",
    "    heap_B = []\n",
    "    for i in range(len(A)):\n",
    "        heapq.heappush(heap_A, -A[i])\n",
    "        heapq.heappush(heap_B, -B[i])\n",
    "    \n",
    "    answer = 0\n",
    "    while heap_A:\n",
    "        max_A = -heap_A[0]\n",
    "        max_B = -heap_B[0]\n",
    "        if max_B > max_A:\n",
    "            answer += 1\n",
    "            heapq.heappop(heap_B)\n",
    "        heapq.heappop(heap_A)\n",
    "\n",
    "\n",
    "    return answer"
   ]
  },
  {
   "cell_type": "code",
   "execution_count": 271,
   "metadata": {},
   "outputs": [
    {
     "data": {
      "text/plain": [
       "3"
      ]
     },
     "execution_count": 271,
     "metadata": {},
     "output_type": "execute_result"
    }
   ],
   "source": [
    "solution(A,B)"
   ]
  },
  {
   "cell_type": "markdown",
   "metadata": {},
   "source": [
    "## 기지국 설치 (Level 3)"
   ]
  },
  {
   "cell_type": "code",
   "execution_count": 84,
   "metadata": {},
   "outputs": [],
   "source": [
    "# input\n",
    "N = 16\n",
    "stations = [9]\n",
    "W = 2"
   ]
  },
  {
   "cell_type": "code",
   "execution_count": 80,
   "metadata": {},
   "outputs": [],
   "source": [
    "from queue import deque\n",
    "def solution(N,stations,W):\n",
    "    array = [True for i in range(N)]\n",
    "    for station in stations:\n",
    "        for i in range(station-W-1,station+W):\n",
    "            if 0 <= i <= N-1:\n",
    "                array[i]=False\n",
    "    queue = deque(array)\n",
    "    count = 0\n",
    "    answer = 0\n",
    "    while queue:\n",
    "        popped = queue.popleft()\n",
    "        if popped == True:\n",
    "            count += 1\n",
    "        else:\n",
    "            answer += math.ceil(count / (2*W+1))\n",
    "            count = 0\n",
    "\n",
    "    if count != 0:\n",
    "        answer += math.ceil(count / (2*W+1))\n",
    "\n",
    "    return answer"
   ]
  },
  {
   "cell_type": "code",
   "execution_count": 81,
   "metadata": {},
   "outputs": [
    {
     "data": {
      "text/plain": [
       "3"
      ]
     },
     "execution_count": 81,
     "metadata": {},
     "output_type": "execute_result"
    }
   ],
   "source": [
    "solution(N,stations,W)"
   ]
  },
  {
   "cell_type": "code",
   "execution_count": 87,
   "metadata": {},
   "outputs": [],
   "source": [
    "import math\n",
    "def solution(n, stations, w):\n",
    "    result = 0\n",
    "    distance = []\n",
    "    \n",
    "    # 설치된 기지국 사이에 전파가 닿지 않는 거리를 저장한다\n",
    "    for i in range(1, len(stations)):\n",
    "        distance.append((stations[i]-w-1) - (stations[i-1]+w))\n",
    "    # 맨 앞 기지국에서 첫 번째 아파트 사이에 전파가 닿지 않는 거리,\n",
    "    # 맨 뒤 기지국에서 마지막 아파트 사이에 전파가 닿지 않는 거리를 저장한다\n",
    "    distance.append(stations[0]-w-1)\n",
    "    distance.append(n - (stations[-1]+w))\n",
    "    print(distance)\n",
    "    \n",
    "    for i in distance:\n",
    "        # 닿지 않는 거리가 0 이하일 경우 스킵한다\n",
    "        if i <=0: continue\n",
    "        # 닿지 않는 거리에 설치할 수 있는 최소개수를 더해준다.\n",
    "        result += math.ceil(i / ((w*2) +1))\n",
    "    return result"
   ]
  },
  {
   "cell_type": "code",
   "execution_count": 88,
   "metadata": {},
   "outputs": [
    {
     "name": "stdout",
     "output_type": "stream",
     "text": [
      "[6, 5]\n"
     ]
    },
    {
     "data": {
      "text/plain": [
       "3"
      ]
     },
     "execution_count": 88,
     "metadata": {},
     "output_type": "execute_result"
    }
   ],
   "source": [
    "solution(N, stations, W)"
   ]
  },
  {
   "cell_type": "code",
   "execution_count": null,
   "metadata": {},
   "outputs": [],
   "source": []
  }
 ],
 "metadata": {
  "kernelspec": {
   "display_name": "Python 3",
   "language": "python",
   "name": "python3"
  },
  "language_info": {
   "codemirror_mode": {
    "name": "ipython",
    "version": 3
   },
   "file_extension": ".py",
   "mimetype": "text/x-python",
   "name": "python",
   "nbconvert_exporter": "python",
   "pygments_lexer": "ipython3",
   "version": "3.7.4"
  }
 },
 "nbformat": 4,
 "nbformat_minor": 2
}
