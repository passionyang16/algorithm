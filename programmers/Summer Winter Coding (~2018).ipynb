{
 "cells": [
  {
   "cell_type": "markdown",
   "metadata": {},
   "source": [
    "## 스킬트리 (Level 2)"
   ]
  },
  {
   "cell_type": "code",
   "execution_count": 2,
   "metadata": {},
   "outputs": [],
   "source": [
    "#input\n",
    "skill = 'CBD'\n",
    "skill_trees = [\"BACDE\", \"CBADF\", \"AECB\", \"BDA\"]"
   ]
  },
  {
   "cell_type": "code",
   "execution_count": 5,
   "metadata": {},
   "outputs": [],
   "source": [
    "#내 풀이\n",
    "def solution(skill, skill_trees):\n",
    "    answer = 0\n",
    "\n",
    "    for tree in skill_trees:\n",
    "        temp = ''\n",
    "        for letter in tree:\n",
    "            if letter in skill:\n",
    "                temp += letter\n",
    "        if (temp.startswith(skill[0]) and temp in skill) or temp == '':\n",
    "            answer += 1\n",
    "\n",
    "    return answer"
   ]
  },
  {
   "cell_type": "code",
   "execution_count": 6,
   "metadata": {},
   "outputs": [
    {
     "name": "stdout",
     "output_type": "stream",
     "text": [
      "BCD\n",
      "CBD\n",
      "CB\n",
      "BD\n"
     ]
    },
    {
     "data": {
      "text/plain": [
       "2"
      ]
     },
     "execution_count": 6,
     "metadata": {},
     "output_type": "execute_result"
    }
   ],
   "source": [
    "solution(skill, skill_trees)"
   ]
  },
  {
   "cell_type": "markdown",
   "metadata": {},
   "source": [
    "## 방문길이 (Level 3)"
   ]
  },
  {
   "cell_type": "code",
   "execution_count": 236,
   "metadata": {},
   "outputs": [],
   "source": [
    "# input\n",
    "dirs = \"ULURRDLLU\""
   ]
  },
  {
   "cell_type": "code",
   "execution_count": 237,
   "metadata": {},
   "outputs": [],
   "source": [
    "def solution(dirs):\n",
    "    #그냥 탐색이 아니라 경로를 탐색해야한다\n",
    "    from_x, from_y, to_x, to_y = 0,0,0,0\n",
    "    answer_list = list()\n",
    "    for d in dirs:\n",
    "        if d == 'U' and from_y < 5:\n",
    "            to_y += 1\n",
    "        if d == 'L' and from_x > -5:\n",
    "            to_x -= 1\n",
    "        if d == 'R' and from_x < 5:\n",
    "            to_x += 1\n",
    "        if d == 'D' and from_y > -5:\n",
    "            to_y -= 1\n",
    "        \n",
    "        #해당 자리를 벗어나서 업데이트가 안되었다면 continue\n",
    "        if (from_x == to_x and from_y == to_y):\n",
    "            continue\n",
    "        \n",
    "        #왔다갔다하는 경우도 있을 수 있기에 그 경우는 스킵 ex) UDU\n",
    "        if [from_x, from_y, to_x, to_y] not in answer_list and [to_x, to_y, from_x, from_y] not in answer_list:\n",
    "            answer_list.append([from_x, from_y, to_x, to_y])\n",
    "        \n",
    "        #from_x, from_y를 업데이트\n",
    "        from_x, from_y = to_x, to_y\n",
    "        \n",
    "    return len(answer_list)"
   ]
  },
  {
   "cell_type": "code",
   "execution_count": 238,
   "metadata": {},
   "outputs": [
    {
     "data": {
      "text/plain": [
       "7"
      ]
     },
     "execution_count": 238,
     "metadata": {},
     "output_type": "execute_result"
    }
   ],
   "source": [
    "solution(dirs)"
   ]
  },
  {
   "cell_type": "markdown",
   "metadata": {},
   "source": [
    "## 배달 (Level 3)"
   ]
  },
  {
   "cell_type": "code",
   "execution_count": 321,
   "metadata": {},
   "outputs": [],
   "source": [
    "#input\n",
    "\n",
    "N = 6\n",
    "road = [[1,2,1],[1,3,2],[2,3,2],[3,4,3],[3,5,2],[3,5,3],[5,6,1]]\n",
    "K = 4"
   ]
  },
  {
   "cell_type": "code",
   "execution_count": 324,
   "metadata": {},
   "outputs": [],
   "source": [
    "from collections import defaultdict\n",
    "import heapq\n",
    "\n",
    "def solution(N,road,K):\n",
    "    \n",
    "    # 가장 짧은 것으로 그래프를 그리기 위해 road를 길이 기준 거꾸로 sort\n",
    "    road.sort(key = lambda x: x[2], reverse=True)\n",
    "    \n",
    "    # 다익스트라를 위한 양방향 Graph 설정\n",
    "    graph = defaultdict(dict)\n",
    "    for item in road:\n",
    "        graph[item[0]].update({item[1] : item[2]})\n",
    "        graph[item[1]].update({item[0] : item[2]})\n",
    "        \n",
    "\n",
    "    # 다익스트라\n",
    "    def dijkstra(graph, start):\n",
    "\n",
    "        distances = {node: float('inf') for node in graph}\n",
    "        distances[start] = 0\n",
    "        queue = []\n",
    "        heapq.heappush(queue, [distances[start], start])\n",
    "\n",
    "        while queue:\n",
    "            current_distance, current_node = heapq.heappop(queue)\n",
    "\n",
    "            if distances[current_node] < current_distance:\n",
    "                continue\n",
    "\n",
    "            for adjacent, weight in graph[current_node].items():\n",
    "                distance = current_distance + weight\n",
    "\n",
    "                if distance < distances[adjacent]:\n",
    "                    distances[adjacent] = distance\n",
    "                    heapq.heappush(queue, [distance, adjacent])\n",
    "\n",
    "        return distances\n",
    "    \n",
    "    #다익스트라 결과를 저장\n",
    "    answer_dict = dijkstra(graph, 1)\n",
    "    \n",
    "    #길이가 K보다 작으면 answer에 추가\n",
    "    answer = 0\n",
    "    for item in answer_dict.items():\n",
    "        if item[1] <= K:\n",
    "            answer += 1\n",
    "            \n",
    "    return answer"
   ]
  },
  {
   "cell_type": "code",
   "execution_count": 325,
   "metadata": {},
   "outputs": [
    {
     "data": {
      "text/plain": [
       "4"
      ]
     },
     "execution_count": 325,
     "metadata": {},
     "output_type": "execute_result"
    }
   ],
   "source": [
    "solution(N, road, K)"
   ]
  },
  {
   "cell_type": "code",
   "execution_count": null,
   "metadata": {},
   "outputs": [],
   "source": []
  }
 ],
 "metadata": {
  "kernelspec": {
   "display_name": "Python 3",
   "language": "python",
   "name": "python3"
  },
  "language_info": {
   "codemirror_mode": {
    "name": "ipython",
    "version": 3
   },
   "file_extension": ".py",
   "mimetype": "text/x-python",
   "name": "python",
   "nbconvert_exporter": "python",
   "pygments_lexer": "ipython3",
   "version": "3.7.4"
  }
 },
 "nbformat": 4,
 "nbformat_minor": 2
}
