{
 "cells": [
  {
   "cell_type": "markdown",
   "metadata": {},
   "source": [
    "## 짝지어 제거하기 (Level 2)"
   ]
  },
  {
   "cell_type": "code",
   "execution_count": 130,
   "metadata": {},
   "outputs": [],
   "source": [
    "#input\n",
    "s = 'baabaa'"
   ]
  },
  {
   "cell_type": "code",
   "execution_count": 126,
   "metadata": {},
   "outputs": [],
   "source": [
    "#stack\n",
    "\n",
    "def solution(s):\n",
    "    s = list(reversed(s))\n",
    "    stack = [s.pop()]\n",
    "    while s:\n",
    "        popped = s.pop()\n",
    "        if len(stack) == 0 or stack[-1] != popped: \n",
    "            stack.append(popped)\n",
    "        else: \n",
    "            stack.pop()\n",
    "    if len(stack) == 0:\n",
    "        return 1\n",
    "    else:\n",
    "        return 0"
   ]
  },
  {
   "cell_type": "code",
   "execution_count": 135,
   "metadata": {},
   "outputs": [],
   "source": [
    "#queue\n",
    "\n",
    "from queue import deque\n",
    "def solution(s):\n",
    "    s = deque(s)\n",
    "    answer = deque([s.popleft()])\n",
    "    while s:\n",
    "        popped = s.popleft()\n",
    "        if len(answer) == 0 or answer[0] != popped:\n",
    "            answer.appendleft(popped)\n",
    "        else:\n",
    "            answer.popleft()\n",
    "    if len(answer) == 0:\n",
    "        return 1\n",
    "    else:\n",
    "        return 0"
   ]
  },
  {
   "cell_type": "code",
   "execution_count": 136,
   "metadata": {},
   "outputs": [
    {
     "data": {
      "text/plain": [
       "1"
      ]
     },
     "execution_count": 136,
     "metadata": {},
     "output_type": "execute_result"
    }
   ],
   "source": [
    "solution(s)"
   ]
  },
  {
   "cell_type": "markdown",
   "metadata": {},
   "source": [
    "## 예상 대진표 (Level 2)"
   ]
  },
  {
   "cell_type": "code",
   "execution_count": 220,
   "metadata": {},
   "outputs": [],
   "source": [
    "# input\n",
    "n = 8\n",
    "a = 4\n",
    "b = 7"
   ]
  },
  {
   "cell_type": "code",
   "execution_count": 221,
   "metadata": {},
   "outputs": [],
   "source": [
    "# 내 풀이\n",
    "# 깨달은 것: while문은 되도록이면 True로 놓고 if로 return 값을 설정하는게 덜 헷갈린다..\n",
    "def solution(n,a,b):\n",
    "    answer = 1\n",
    "    while True:\n",
    "        if (a % 2 == 0 and b + 1 == a) or (a % 2 == 1 and a + 1 == b):\n",
    "            return answer\n",
    "    \n",
    "        a = int(a/2) if a%2 == 0 else int((a/2)+1)\n",
    "        b = int(b/2) if b%2 == 0 else int((b/2)+1)\n",
    "        \n",
    "        answer +=1\n"
   ]
  },
  {
   "cell_type": "code",
   "execution_count": 209,
   "metadata": {},
   "outputs": [],
   "source": [
    "# 다른 사람 풀이\n",
    "def solution(n,a,b):\n",
    "    answer = 0\n",
    "    while a != b:\n",
    "        answer += 1\n",
    "        a,b = (a+1)//2, (b+1)//2\n",
    "    return answer"
   ]
  },
  {
   "cell_type": "code",
   "execution_count": 222,
   "metadata": {},
   "outputs": [
    {
     "data": {
      "text/plain": [
       "1"
      ]
     },
     "execution_count": 222,
     "metadata": {},
     "output_type": "execute_result"
    }
   ],
   "source": [
    "solution(n,a,b)"
   ]
  },
  {
   "cell_type": "code",
   "execution_count": null,
   "metadata": {},
   "outputs": [],
   "source": []
  }
 ],
 "metadata": {
  "kernelspec": {
   "display_name": "Python 3",
   "language": "python",
   "name": "python3"
  },
  "language_info": {
   "codemirror_mode": {
    "name": "ipython",
    "version": 3
   },
   "file_extension": ".py",
   "mimetype": "text/x-python",
   "name": "python",
   "nbconvert_exporter": "python",
   "pygments_lexer": "ipython3",
   "version": "3.7.4"
  }
 },
 "nbformat": 4,
 "nbformat_minor": 2
}
