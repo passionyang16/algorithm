{
 "cells": [
  {
   "cell_type": "markdown",
   "metadata": {},
   "source": [
    "# 그래프"
   ]
  },
  {
   "cell_type": "markdown",
   "metadata": {},
   "source": [
    "## 가장 먼 노드 (Level 3)"
   ]
  },
  {
   "cell_type": "code",
   "execution_count": 137,
   "metadata": {},
   "outputs": [],
   "source": [
    "# input\n",
    "n = 6\n",
    "vertex = [[3, 6], [4, 3], [3, 2], [1, 3], [1, 2], [2, 4], [5, 2]]"
   ]
  },
  {
   "cell_type": "code",
   "execution_count": 141,
   "metadata": {},
   "outputs": [],
   "source": [
    "from collections import defaultdict\n",
    "from queue import deque\n",
    "\n",
    "def solution(n,edge):\n",
    "    inverted_edge = [[ed[1], ed[0]] for ed in edge]\n",
    "    \n",
    "    graph = defaultdict(list)\n",
    "    for i in range(len(edge)):\n",
    "        graph[edge[i][0]].append(edge[i][1])\n",
    "        graph[inverted_edge[i][0]].append(inverted_edge[i][1])\n",
    "    \n",
    "    def bfs(graph, length, start_node): \n",
    "        level = [0] * length\n",
    "        visited = [False] * length\n",
    "\n",
    "        queue = deque([start_node])\n",
    "        level[start_node] = 0\n",
    "        visited[start_node] = True\n",
    "        while queue: \n",
    "            node = queue.popleft()\n",
    "            for temp in graph[node]:   \n",
    "                if not visited[temp]:  \n",
    "                    queue.append(temp)  \n",
    "                    level[temp] = level[node] + 1\n",
    "                    visited[temp] = True\n",
    "        return level\n",
    "    \n",
    "    level = bfs(graph, len(edge), 1)\n",
    "    return level.count(max(level))"
   ]
  },
  {
   "cell_type": "code",
   "execution_count": 142,
   "metadata": {},
   "outputs": [],
   "source": [
    "answer = solution(n,vertex)"
   ]
  },
  {
   "cell_type": "markdown",
   "metadata": {},
   "source": [
    "## 순위 (Level 3)"
   ]
  },
  {
   "cell_type": "code",
   "execution_count": 214,
   "metadata": {},
   "outputs": [],
   "source": [
    "# input\n",
    "n = 5\n",
    "results = [[4, 3], [4, 2], [3, 2], [1, 2], [2, 5]]"
   ]
  },
  {
   "cell_type": "code",
   "execution_count": 215,
   "metadata": {},
   "outputs": [],
   "source": [
    "def solution(n,results):\n",
    "    wins, loses = {}, {}\n",
    "    for i in range(n+1):\n",
    "        wins[i] = set()\n",
    "        loses[i] = set()\n",
    "\n",
    "    for i in range(n+1):\n",
    "        for result in results:\n",
    "            if result[0] == i:\n",
    "                wins[i].add(result[1])\n",
    "            if result[1] == i:\n",
    "                loses[i].add(result[0])\n",
    "\n",
    "        for winner in loses[i]:\n",
    "            wins[winner].update(wins[i])\n",
    "        for loser in wins[i]:\n",
    "            loses[loser].update(loses[i])\n",
    "            \n",
    "    count = 0\n",
    "    for i in range(n+1):\n",
    "        if len(wins[i]) + len(loses[i]) == n-1:\n",
    "            count +=1\n",
    "\n",
    "    return count"
   ]
  },
  {
   "cell_type": "code",
   "execution_count": 219,
   "metadata": {},
   "outputs": [
    {
     "data": {
      "text/plain": [
       "2"
      ]
     },
     "execution_count": 219,
     "metadata": {},
     "output_type": "execute_result"
    }
   ],
   "source": [
    "solution(n,results)"
   ]
  },
  {
   "cell_type": "code",
   "execution_count": 217,
   "metadata": {},
   "outputs": [],
   "source": [
    "## 다른 사람 풀이\n",
    "from collections import defaultdict\n",
    "def solution(n, results):\n",
    "    answer = 0\n",
    "    win, lose = defaultdict(set), defaultdict(set)\n",
    "    for result in results:\n",
    "        lose[result[1]].add(result[0])\n",
    "        win[result[0]].add(result[1])\n",
    "\n",
    "    for i in range(1, n + 1):\n",
    "        for winner in lose[i]: \n",
    "            win[winner].update(win[i])\n",
    "        for loser in win[i]: \n",
    "            lose[loser].update(lose[i])\n",
    "\n",
    "    for i in range(1, n+1):\n",
    "        if len(win[i]) + len(lose[i]) == n - 1: \n",
    "            answer += 1\n",
    "    return answer\n"
   ]
  },
  {
   "cell_type": "code",
   "execution_count": 218,
   "metadata": {},
   "outputs": [
    {
     "data": {
      "text/plain": [
       "2"
      ]
     },
     "execution_count": 218,
     "metadata": {},
     "output_type": "execute_result"
    }
   ],
   "source": [
    "solution(n, results)"
   ]
  },
  {
   "cell_type": "code",
   "execution_count": null,
   "metadata": {},
   "outputs": [],
   "source": []
  }
 ],
 "metadata": {
  "kernelspec": {
   "display_name": "Python 3",
   "language": "python",
   "name": "python3"
  },
  "language_info": {
   "codemirror_mode": {
    "name": "ipython",
    "version": 3
   },
   "file_extension": ".py",
   "mimetype": "text/x-python",
   "name": "python",
   "nbconvert_exporter": "python",
   "pygments_lexer": "ipython3",
   "version": "3.7.4"
  }
 },
 "nbformat": 4,
 "nbformat_minor": 2
}
