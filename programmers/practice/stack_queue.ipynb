{
 "cells": [
  {
   "cell_type": "markdown",
   "metadata": {},
   "source": [
    "# Stack / Queue"
   ]
  },
  {
   "cell_type": "markdown",
   "metadata": {},
   "source": [
    "## 주식가격 (Level 2)"
   ]
  },
  {
   "cell_type": "code",
   "execution_count": 74,
   "metadata": {},
   "outputs": [],
   "source": [
    "#input\n",
    "prices = [1,2,3,2,3]"
   ]
  },
  {
   "cell_type": "markdown",
   "metadata": {},
   "source": [
    "내 풀이 #1\n",
    "\n",
    "큐를 사용해서 풀어봣는데 시간복잡도에서 뻑이 났다... 왜 그런지 모르겠다"
   ]
  },
  {
   "cell_type": "code",
   "execution_count": 57,
   "metadata": {},
   "outputs": [],
   "source": [
    "def solution(prices):\n",
    "    result = []\n",
    "    while prices:\n",
    "        count = 0\n",
    "        price = prices.pop(0)\n",
    "        for i in range(len(prices)):\n",
    "            if price <= prices[i]:\n",
    "                count += 1\n",
    "            else:\n",
    "                count += 1\n",
    "                break\n",
    "        result.append(count)\n",
    "    return result"
   ]
  },
  {
   "cell_type": "markdown",
   "metadata": {},
   "source": [
    "내 풀이 #2\n",
    "\n",
    "그래서 for loop을 두개써서 해봤는데, 이것도 시간복잡도가 안좋은데 왜 그런지 잘 모르겠다"
   ]
  },
  {
   "cell_type": "code",
   "execution_count": 59,
   "metadata": {},
   "outputs": [],
   "source": [
    "def solution(prices):\n",
    "    result = [0] * len(prices)\n",
    "    for i in range(len(prices)):\n",
    "        for j in range(i+1, len(prices)):\n",
    "            if prices[i] <= prices[j]:\n",
    "                result[i] += 1\n",
    "            else:\n",
    "                result[i] += 1\n",
    "                break\n",
    "    return result"
   ]
  },
  {
   "cell_type": "markdown",
   "metadata": {},
   "source": [
    "다른 사람 풀이 #1\n",
    "\n",
    "앞선 내꺼랑 똑같은 방식인데, 이건 시간복잡도가 통과됐다.\n",
    "\n",
    "나는 else에 break를 넣었는데 이건 먼저 break를 넣어서 그런가 -- 아님\n",
    "\n",
    "큐에 넣어서 그런가 -- 맞음\n",
    "\n",
    "https://j-ungry.tistory.com/189 참고\n",
    "\n",
    "deque는 doubly linked 이기 때문에 시간복잡도 상에서 매우 효율적이다"
   ]
  },
  {
   "cell_type": "code",
   "execution_count": 141,
   "metadata": {},
   "outputs": [],
   "source": [
    "from collections import deque\n",
    "def solution(prices):\n",
    "    answer = []\n",
    "    prices = deque(prices)\n",
    "    while prices:\n",
    "        c = prices.popleft()\n",
    "        count = 0\n",
    "        for i in prices:\n",
    "            if c > i:\n",
    "                count += 1\n",
    "                break\n",
    "            count += 1\n",
    "        answer.append(count)\n",
    "\n",
    "    return answer"
   ]
  },
  {
   "cell_type": "markdown",
   "metadata": {},
   "source": [
    "## 기능개발 (Level 2)"
   ]
  },
  {
   "cell_type": "code",
   "execution_count": 234,
   "metadata": {},
   "outputs": [],
   "source": [
    "#input\n",
    "progresses = [95, 90, 99, 99, 80, 99]\n",
    "speeds = [1, 1, 1, 1, 1, 1]"
   ]
  },
  {
   "cell_type": "markdown",
   "metadata": {},
   "source": [
    "내 풀이 \n",
    "\n",
    "우선은 complete라는 변수에 걸리는 시간을 넣은다음 queue로 바꾸고, 왼쪽부터 차례로 비교하면서 제거하였다"
   ]
  },
  {
   "cell_type": "code",
   "execution_count": null,
   "metadata": {},
   "outputs": [],
   "source": [
    "from collections import deque\n",
    "def solution(progresses, speeds):\n",
    "    complete = []\n",
    "    result = []\n",
    "    for progress, speed in zip(progresses,speeds):\n",
    "        #0으로 나누어 떨어지면 그 100에서 뺀 몫을 추가하지만\n",
    "        if (100-progress) % speed == 0:\n",
    "            complete.append((100-progress)//speed)\n",
    "        #나누어 떨어지지 않으면 몫에다 1을 더해야한다\n",
    "        else:\n",
    "            complete.append(((100-progress)//speed)+1)\n",
    "    #큐로 변경\n",
    "    queue = deque(complete)\n",
    "    \n",
    "    while queue:\n",
    "        #자기 자신이 포함되기 때문에 Default는 1로 놓고\n",
    "        count = 1\n",
    "        #왼쪽부터 하나씩 pop 한다\n",
    "        popped = queue.popleft()\n",
    "        #pop한 원소 다음부터 비교를 하는데, popped보다 크면 바로 loop을 나온다\n",
    "        for i in range(len(queue)):\n",
    "            if popped < queue[i]:\n",
    "                break\n",
    "                #아니면 count를 하나씩 증가한다\n",
    "            else:\n",
    "                count += 1\n",
    "        #count 값에다 1을 빼고, 그 to_remove 수만큼 popleft로 제거해준다\n",
    "        to_remove = count - 1\n",
    "        while to_remove != 0:\n",
    "            queue.popleft()\n",
    "            to_remove -= 1\n",
    "\n",
    "        result.append(count)\n",
    "                \n",
    "    return result"
   ]
  },
  {
   "cell_type": "markdown",
   "metadata": {},
   "source": [
    "다른 사람 풀이 #1\n",
    "\n",
    "for문 하나로 처리... 대단하다.. count를 리스트 안에 리스트 형태로 추가함"
   ]
  },
  {
   "cell_type": "code",
   "execution_count": 227,
   "metadata": {},
   "outputs": [],
   "source": [
    "def solution(progresses, speeds):\n",
    "    Q=[]\n",
    "    for p, s in zip(progresses, speeds):\n",
    "        # 마지막 원소도보다 크면 [새로운 원소,1]을 추가한다. 여기서 1은 count\n",
    "        if len(Q)==0 or Q[-1][0]<-((p-100)//s):\n",
    "            Q.append([-((p-100)//s),1])\n",
    "        else:\n",
    "        # 마지막 원소보다 작으면, 그 마지막 원소의 count를 늘려준다\n",
    "            Q[-1][1]+=1\n",
    "    return [q[1] for q in Q]"
   ]
  },
  {
   "cell_type": "code",
   "execution_count": 228,
   "metadata": {},
   "outputs": [
    {
     "name": "stdout",
     "output_type": "stream",
     "text": [
      "[[5, 1]]\n",
      "[[5, 1], [10, 1]]\n",
      "[[5, 1], [10, 2]]\n",
      "[[5, 1], [10, 3]]\n",
      "[[5, 1], [10, 3], [20, 1]]\n",
      "[[5, 1], [10, 3], [20, 2]]\n"
     ]
    },
    {
     "data": {
      "text/plain": [
       "[1, 3, 2]"
      ]
     },
     "execution_count": 228,
     "metadata": {},
     "output_type": "execute_result"
    }
   ],
   "source": [
    "solution(progresses,speeds)"
   ]
  },
  {
   "cell_type": "markdown",
   "metadata": {},
   "source": [
    "다른 사람 풀이 #2\n",
    "\n",
    "time으로 개수를 세서 구현.."
   ]
  },
  {
   "cell_type": "code",
   "execution_count": 235,
   "metadata": {},
   "outputs": [],
   "source": [
    "def solution(progresses, speeds):\n",
    "    answer = []\n",
    "    time = 0\n",
    "    count = 0\n",
    "    while len(progresses)> 0:\n",
    "        if (progresses[0] + time*speeds[0]) >= 100:\n",
    "            progresses.pop(0)\n",
    "            speeds.pop(0)\n",
    "            count += 1\n",
    "        else:\n",
    "            if count > 0:\n",
    "                answer.append(count)\n",
    "                count = 0\n",
    "            time += 1\n",
    "    answer.append(count)\n",
    "    return answer"
   ]
  },
  {
   "cell_type": "code",
   "execution_count": 236,
   "metadata": {},
   "outputs": [
    {
     "data": {
      "text/plain": [
       "[1, 3, 2]"
      ]
     },
     "execution_count": 236,
     "metadata": {},
     "output_type": "execute_result"
    }
   ],
   "source": [
    "solution(progresses,speeds)"
   ]
  },
  {
   "cell_type": "markdown",
   "metadata": {},
   "source": [
    "## 다리를 지나는 트럭 (Level 2)"
   ]
  },
  {
   "cell_type": "code",
   "execution_count": 359,
   "metadata": {},
   "outputs": [],
   "source": [
    "#input\n",
    "bridge_length = 2\n",
    "weight = 10\n",
    "truck_weights = [7,4,5,6]"
   ]
  },
  {
   "cell_type": "markdown",
   "metadata": {},
   "source": [
    "내 풀이\n",
    "\n",
    "1. 처음에 sum()을 썼는데 for loop을 쓰는 것과 같은 효과를 보여서 차라리 sum_weight라는 변수를 따로 만들고 loop을 안돌게 설정\n",
    "2. deque를 활용하면 지울 때 밀리는 현상이 안발생하기에 더 빠름"
   ]
  },
  {
   "cell_type": "code",
   "execution_count": 360,
   "metadata": {},
   "outputs": [],
   "source": [
    "from collections import deque\n",
    "def solution(bridge_length, weight, truck_weights):\n",
    "    truck_weights = deque(truck_weights)\n",
    "    # 다리를 통과하는 중을 at_bridge로 나타냄\n",
    "    at_bridge = deque([0]*bridge_length)\n",
    "    # 첫번째를 트럭을 아예 pop 하고 at_bridge에 넣어놓음\n",
    "    at_bridge[0] = truck_weights.popleft()\n",
    "    # 현재까지 다리에 있는 sum_weight는 첫번째 트럭과 동일\n",
    "    sum_weight = at_bridge[0]\n",
    "    # 이미 한대가 있기 때문에 1로 설정\n",
    "    count = 1\n",
    "    \n",
    "    while truck_weights:\n",
    "        #at_bridge 맨 끝에 원소를 while 돌 때마다 빼줌\n",
    "        popped = at_bridge.pop()\n",
    "        # 그 원소가 빠지게 되면 자동으로 sum_weight도 빠져야함\n",
    "        sum_weight -= popped\n",
    "        # 현재 다리에 있는 무게와 새로 들어갈 트럭을 더했을 때 무게가 초과되지 않는다면\n",
    "        if (sum_weight + truck_weights[0]) <= weight:\n",
    "            #새로운 트럭을 넣고, 무게도 더해준다\n",
    "            cur_truck = truck_weights.popleft()\n",
    "            sum_weight += cur_truck\n",
    "            at_bridge.appendleft(cur_truck)\n",
    "        #그렇지 않으면 그냥 앞에 0을 넣으면서 한칸씩 뒤로 미룬다\n",
    "        else:\n",
    "            at_bridge.appendleft(0)\n",
    "\n",
    "        #매번 loop가 행해질때마다 count를 늘려주고\n",
    "        count += 1\n",
    "        \n",
    "    #queue가 끝났는데 이미 들어간 애들이 빠져나오려면 bridge_length 만큼 걸린다\n",
    "    count += bridge_length\n",
    "    return count"
   ]
  },
  {
   "cell_type": "code",
   "execution_count": 361,
   "metadata": {},
   "outputs": [
    {
     "name": "stdout",
     "output_type": "stream",
     "text": [
      "CPU times: user 2 µs, sys: 1 µs, total: 3 µs\n",
      "Wall time: 5.96 µs\n"
     ]
    },
    {
     "data": {
      "text/plain": [
       "8"
      ]
     },
     "execution_count": 361,
     "metadata": {},
     "output_type": "execute_result"
    }
   ],
   "source": [
    "%time\n",
    "solution(bridge_length, weight, truck_weights)"
   ]
  },
  {
   "cell_type": "markdown",
   "metadata": {},
   "source": [
    "다른 사람 풀이\n",
    "\n",
    "이 사람은 도대체 뭐하는 사람일까"
   ]
  },
  {
   "cell_type": "code",
   "execution_count": 362,
   "metadata": {},
   "outputs": [],
   "source": [
    "import collections\n",
    "\n",
    "DUMMY_TRUCK = 0\n",
    "\n",
    "class Bridge(object):\n",
    "\n",
    "    def __init__(self, length, weight):\n",
    "        self._max_length = length\n",
    "        self._max_weight = weight\n",
    "        self._queue = collections.deque()\n",
    "        self._current_weight = 0\n",
    "\n",
    "    def push(self, truck):\n",
    "        next_weight = self._current_weight + truck\n",
    "        if next_weight <= self._max_weight and len(self._queue) < self._max_length:\n",
    "            self._queue.append(truck)\n",
    "            self._current_weight = next_weight\n",
    "            return True\n",
    "        else:\n",
    "            return False\n",
    "\n",
    "    def pop(self):\n",
    "        item = self._queue.popleft()\n",
    "        self._current_weight -= item\n",
    "        return item\n",
    "\n",
    "    def __len__(self):\n",
    "        return len(self._queue)\n",
    "\n",
    "    def __repr__(self):\n",
    "        return 'Bridge({}/{} : [{}])'.format(self._current_weight, self._max_weight, list(self._queue))\n",
    "\n",
    "\n",
    "def solution(bridge_length, weight, truck_weights):\n",
    "    bridge = Bridge(bridge_length, weight)\n",
    "    trucks = collections.deque(w for w in truck_weights)\n",
    "\n",
    "    for _ in range(bridge_length):\n",
    "        bridge.push(DUMMY_TRUCK)\n",
    "\n",
    "    count = 0\n",
    "    while trucks:\n",
    "        bridge.pop()\n",
    "\n",
    "        if bridge.push(trucks[0]):\n",
    "            trucks.popleft()\n",
    "        else:\n",
    "            bridge.push(DUMMY_TRUCK)\n",
    "\n",
    "        count += 1\n",
    "\n",
    "    while bridge:\n",
    "        bridge.pop()\n",
    "        count += 1\n",
    "\n",
    "    return count"
   ]
  },
  {
   "cell_type": "markdown",
   "metadata": {},
   "source": [
    "## 프린터 (Level 2)"
   ]
  },
  {
   "cell_type": "code",
   "execution_count": 486,
   "metadata": {},
   "outputs": [],
   "source": [
    "#input\n",
    "priorities = [1, 1, 9, 1, 1, 1]\n",
    "location = 0"
   ]
  },
  {
   "cell_type": "markdown",
   "metadata": {},
   "source": [
    "내 풀이\n",
    "\n",
    "1. enumerate를 사용해서 [index, 원소] 형태로 queue를 생성하고\n",
    "2. 원소가 max보다 작으면 해당 원소를 뒤로 보내고\n",
    "3. 원소가 max보다 크면 count를 1을 늘려서 몇번째 출력하는지 알아본다\n",
    "4. 만약 원소의 index가 location과 동일하다면 count를 출력"
   ]
  },
  {
   "cell_type": "code",
   "execution_count": 487,
   "metadata": {},
   "outputs": [],
   "source": [
    "from collections import deque\n",
    "def solution(priorities, location):\n",
    "    #원소랑 같이 넣고\n",
    "    priorities = deque([[i,j] for i,j in enumerate(priorities)])\n",
    "    count = 0 \n",
    "    while priorities:\n",
    "        index, compare = priorities[0]\n",
    "        #pop 하려는 원소보다 큰 값이 priorities에 존재하는 경우 뒤로보내고\n",
    "        if compare < max(priorities, key = lambda x:x[1])[1]:\n",
    "            priorities.append([index, compare])\n",
    "            priorities.popleft()\n",
    "        #아니면 그냥 pop 하는데 그 인덱스가 location과 동일하다면 출력\n",
    "        else:\n",
    "            popped = priorities.popleft()\n",
    "            count += 1\n",
    "            if popped[0] == location:\n",
    "                return count"
   ]
  },
  {
   "cell_type": "code",
   "execution_count": 488,
   "metadata": {},
   "outputs": [
    {
     "data": {
      "text/plain": [
       "5"
      ]
     },
     "execution_count": 488,
     "metadata": {},
     "output_type": "execute_result"
    }
   ],
   "source": [
    "solution(priorities, location)"
   ]
  },
  {
   "cell_type": "markdown",
   "metadata": {},
   "source": [
    "다른 사람 풀이 #1\n",
    "\n",
    "any를 써서 하나라도 크면 더한다.. 좋은 방법이다.. 굳이 나처럼 max 안 써도 되네\n",
    "\n",
    "그리고 큐를 없애는게 아니라 while True라는 무한루프를 돌려서 런타임에러를 없앴다"
   ]
  },
  {
   "cell_type": "code",
   "execution_count": null,
   "metadata": {},
   "outputs": [],
   "source": [
    "def solution(priorities, location):\n",
    "    queue =  [(i,p) for i,p in enumerate(priorities)]\n",
    "    answer = 0\n",
    "    while True:\n",
    "        cur = queue.pop(0)\n",
    "        if any(cur[1] < q[1] for q in queue):\n",
    "            queue.append(cur)\n",
    "        else:\n",
    "            answer += 1\n",
    "            if cur[0] == location:\n",
    "                return answer"
   ]
  },
  {
   "cell_type": "markdown",
   "metadata": {},
   "source": [
    "다른 사람 풀이 #2 (승수 풀이)\n",
    "\n",
    "천..재..다\n",
    "\n",
    "프린트하는걸 0 으로 둬서 max 값을 찾음"
   ]
  },
  {
   "cell_type": "code",
   "execution_count": null,
   "metadata": {},
   "outputs": [],
   "source": [
    "def solution(priorities, location):\n",
    "    jobs = len(priorities)\n",
    "    answer = 0\n",
    "    cursor = 0\n",
    "    while True:\n",
    "        if max(priorities) == priorities[cursor%jobs]:\n",
    "            priorities[cursor%jobs] = 0\n",
    "            answer += 1\n",
    "            if cursor%jobs == location:\n",
    "                break\n",
    "        cursor += 1   \n",
    "    return answer"
   ]
  }
 ],
 "metadata": {
  "kernelspec": {
   "display_name": "Python 3",
   "language": "python",
   "name": "python3"
  },
  "language_info": {
   "codemirror_mode": {
    "name": "ipython",
    "version": 3
   },
   "file_extension": ".py",
   "mimetype": "text/x-python",
   "name": "python",
   "nbconvert_exporter": "python",
   "pygments_lexer": "ipython3",
   "version": "3.7.4"
  }
 },
 "nbformat": 4,
 "nbformat_minor": 2
}
