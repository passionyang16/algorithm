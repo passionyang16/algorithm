{
 "cells": [
  {
   "cell_type": "markdown",
   "metadata": {},
   "source": [
    "# Heap"
   ]
  },
  {
   "cell_type": "markdown",
   "metadata": {},
   "source": [
    "## 더 맵게 (Level 2)"
   ]
  },
  {
   "cell_type": "code",
   "execution_count": 48,
   "metadata": {},
   "outputs": [],
   "source": [
    "#input\n",
    "\n",
    "scoville = [1, 2, 3, 9, 10, 12]\n",
    "K = 7"
   ]
  },
  {
   "cell_type": "markdown",
   "metadata": {},
   "source": [
    "내 풀이\n",
    "\n",
    "heapq를 사용하면 최소힙이 자동으로 구현이 된다\n",
    "\n",
    "하나씩 꺼내고 first + second *2를 heap에 집어넣는다. 섞을 때마다 answer은 하나씩 더해줌\n",
    "만약 scoville 내 가장 작은 값이 K 보다 크게 되면 섞은 횟수인 answer를 출력한다\n",
    "\n",
    "scoville에 원소가 1개 이하이고, 그 값이 K보다 여전히 작으면 -1을 출력한다"
   ]
  },
  {
   "cell_type": "code",
   "execution_count": 49,
   "metadata": {},
   "outputs": [],
   "source": [
    "import heapq\n",
    "def solution(scoville, K):\n",
    "    heapq.heapify(scoville)\n",
    "    answer = 0\n",
    "    added = 0\n",
    "    while scoville:\n",
    "        first = heapq.heappop(scoville)\n",
    "        second = heapq.heappop(scoville)\n",
    "        heapq.heappush(scoville, first + second*2)\n",
    "        answer += 1\n",
    "        if scoville[0] > K:\n",
    "            return answer\n",
    "            \n",
    "        if len(scoville) <= 1 and scoville[0] < K:\n",
    "            return -1"
   ]
  },
  {
   "cell_type": "code",
   "execution_count": 50,
   "metadata": {},
   "outputs": [
    {
     "data": {
      "text/plain": [
       "2"
      ]
     },
     "execution_count": 50,
     "metadata": {},
     "output_type": "execute_result"
    }
   ],
   "source": [
    "solution(scoville,K)"
   ]
  },
  {
   "cell_type": "markdown",
   "metadata": {},
   "source": [
    "## 디스크 컨트롤러 (Level 3)"
   ]
  },
  {
   "cell_type": "code",
   "execution_count": 596,
   "metadata": {},
   "outputs": [],
   "source": [
    "#input\n",
    "jobs = [[0, 5], [2, 2], [4, 2]]"
   ]
  },
  {
   "cell_type": "code",
   "execution_count": 597,
   "metadata": {},
   "outputs": [],
   "source": [
    "import heapq\n",
    "def solution(jobs):\n",
    "    jobs = sorted(jobs, key = lambda x: x[1])\n",
    "    jobs = sorted(jobs, key = lambda x: x[0])\n",
    "    real_heap, temp_heap = [], []\n",
    "    for job in jobs:\n",
    "        heapq.heappush(real_heap, (job[0],job))\n",
    "        heapq.heappush(temp_heap, (job[1],job))\n",
    "\n",
    "    orders = []\n",
    "    time = 0\n",
    "\n",
    "    while real_heap:\n",
    "        if real_heap[0][0] < time:\n",
    "            popped = heapq.heappop(temp_heap)\n",
    "            orders.append([popped[1][1] + time, popped[1][0]])\n",
    "            time += popped[1][1]\n",
    "\n",
    "            for i in range(len(real_heap)):\n",
    "                if real_heap[i][1] == popped[1]:\n",
    "                    del real_heap[i]\n",
    "                    break\n",
    "            heapq.heapify(real_heap)\n",
    "\n",
    "        else:\n",
    "            popped = heapq.heappop(real_heap)\n",
    "            time = popped[1][0]\n",
    "            orders.append([popped[1][1] + time, popped[1][0]])\n",
    "            time += popped[1][1]\n",
    "\n",
    "            for i in range(len(temp_heap)):\n",
    "                if temp_heap[i][1] == popped[1]:\n",
    "                    del temp_heap[i]\n",
    "                    break\n",
    "            heapq.heapify(temp_heap)\n",
    "\n",
    "    orders = [(order[0] - order[1]) for order in orders]\n",
    "    answer = sum(orders) // len(orders)\n",
    "    return answer\n"
   ]
  },
  {
   "cell_type": "code",
   "execution_count": 598,
   "metadata": {},
   "outputs": [
    {
     "data": {
      "text/plain": [
       "5"
      ]
     },
     "execution_count": 598,
     "metadata": {},
     "output_type": "execute_result"
    }
   ],
   "source": [
    "solution(jobs)"
   ]
  },
  {
   "cell_type": "code",
   "execution_count": 593,
   "metadata": {},
   "outputs": [],
   "source": [
    "#input\n",
    "jobs = [[0, 3], [1, 9], [2, 6]]"
   ]
  },
  {
   "cell_type": "code",
   "execution_count": 594,
   "metadata": {},
   "outputs": [],
   "source": [
    "import heapq\n",
    "def solution(jobs):\n",
    "    jobs = sorted(jobs, key = lambda x: x[1])\n",
    "    jobs = sorted(jobs, key = lambda x: x[0])\n",
    "    orders = []\n",
    "    heap = []\n",
    "    time = 0\n",
    "    \n",
    "    for start, delay in jobs:\n",
    "        if start <= time:\n",
    "            heapq.heappush(heap, [delay, start])\n",
    "            time += delay\n",
    "\n",
    "        else:\n",
    "            time = start\n",
    "            orders.append([delay, start])\n",
    "            time += delay\n",
    "            \n",
    "    while heap:\n",
    "        pops = heapq.heappop(heap)\n",
    "        orders.append(pops)\n",
    "\n",
    "    orders = [[j,i] for i,j in orders]\n",
    "\n",
    "    result = []\n",
    "    cur_length = 0\n",
    "    for start, delay in orders:\n",
    "        if start <= cur_length:\n",
    "            result.append([delay + cur_length, start])\n",
    "            cur_length += delay\n",
    "        else:\n",
    "            cur_length = start\n",
    "            result.append([delay + cur_length, start])\n",
    "            cur_length += delay\n",
    "    \n",
    "    result = [(res[0]-res[1]) for res in result]\n",
    "    answer = sum(result) // len(result)\n",
    "    return answer"
   ]
  },
  {
   "cell_type": "code",
   "execution_count": 595,
   "metadata": {},
   "outputs": [
    {
     "data": {
      "text/plain": [
       "9"
      ]
     },
     "execution_count": 595,
     "metadata": {},
     "output_type": "execute_result"
    }
   ],
   "source": [
    "solution(jobs)"
   ]
  },
  {
   "cell_type": "markdown",
   "metadata": {},
   "source": [
    "이게 진짜 답.."
   ]
  },
  {
   "cell_type": "code",
   "execution_count": 648,
   "metadata": {},
   "outputs": [],
   "source": [
    "import heapq\n",
    "def solution(jobs):\n",
    "    answer, nztime = 0, 0\n",
    "    new = len(jobs)\n",
    "    jobs.sort()\n",
    "\n",
    "    while jobs:\n",
    "        #현재 시간보다 작으면 heap 구조를 사용\n",
    "        if nztime >= jobs[0][0]:\n",
    "            tmp = sorted(list(filter(lambda x: x if x[0] <= nztime else False, jobs)), key=lambda x: x[1])\n",
    "            tp = heapq.heappop(tmp)\n",
    "            nztime += tp[1]\n",
    "            answer += nztime-tp[0]\n",
    "            jobs = tmp + jobs[len(tmp)+1:]\n",
    "        #아니면 현재 시간을 제일 큰 값으로 놓기\n",
    "        else: \n",
    "            nztime = jobs[0][0]    \n",
    "\n",
    "    return int(answer/new)"
   ]
  },
  {
   "cell_type": "code",
   "execution_count": 649,
   "metadata": {},
   "outputs": [],
   "source": [
    "#input\n",
    "jobs = [[0, 3], [5, 9], [5, 8], [6, 6]]"
   ]
  },
  {
   "cell_type": "code",
   "execution_count": 650,
   "metadata": {},
   "outputs": [
    {
     "data": {
      "text/plain": [
       "11"
      ]
     },
     "execution_count": 650,
     "metadata": {},
     "output_type": "execute_result"
    }
   ],
   "source": [
    "solution(jobs)"
   ]
  },
  {
   "cell_type": "markdown",
   "metadata": {},
   "source": [
    "## 이중우선순위큐 (Level 3)"
   ]
  },
  {
   "cell_type": "code",
   "execution_count": 104,
   "metadata": {},
   "outputs": [],
   "source": [
    "#input\n",
    "operations = [\"I -45\", \"I 653\", \"D 1\", \"I -642\", \"I 45\", \"I 97\", \"D 1\", \"D -1\", \"I 333\"]"
   ]
  },
  {
   "cell_type": "markdown",
   "metadata": {},
   "source": [
    "내 풀이\n",
    "\n",
    "heap 구조는 무언가 변화가 일어나면 heapify를 해줘야 한다.."
   ]
  },
  {
   "cell_type": "code",
   "execution_count": 105,
   "metadata": {},
   "outputs": [],
   "source": [
    "import heapq\n",
    "def solution(operations):\n",
    "    for i in range(len(operations)):\n",
    "        operations[i] = operations[i].split()\n",
    "    \n",
    "    result = []\n",
    "    for command, number in operations:\n",
    "        if command == 'I':\n",
    "            heapq.heappush(result, int(number))\n",
    "        else:\n",
    "            if not result: \n",
    "                continue\n",
    "            else:\n",
    "                if (command == 'D') and (number == '-1'):\n",
    "                    heapq.heappop(result)\n",
    "                if (command == 'D') and (number == '1'):\n",
    "                    result = [- int(element) for element in result]\n",
    "                    heapq.heapify(result)\n",
    "                    heapq.heappop(result)\n",
    "                    result = [- int(element) for element in result]\n",
    "                    heapq.heapify(result)\n",
    "\n",
    "        print(result)\n",
    "\n",
    "    if result:\n",
    "        return [max(result), min(result)]\n",
    "    else:\n",
    "        return [0,0]\n",
    "    "
   ]
  },
  {
   "cell_type": "code",
   "execution_count": 106,
   "metadata": {},
   "outputs": [
    {
     "name": "stdout",
     "output_type": "stream",
     "text": [
      "[-45]\n",
      "[-45, 653]\n",
      "[-45]\n",
      "[-642, -45]\n",
      "[-642, -45, 45]\n",
      "[-642, -45, 45, 97]\n",
      "[-642, -45, 45]\n",
      "[-45, 45]\n",
      "[-45, 45, 333]\n"
     ]
    },
    {
     "data": {
      "text/plain": [
       "[333, -45]"
      ]
     },
     "execution_count": 106,
     "metadata": {},
     "output_type": "execute_result"
    }
   ],
   "source": [
    "solution(operations)"
   ]
  },
  {
   "cell_type": "code",
   "execution_count": 107,
   "metadata": {},
   "outputs": [
    {
     "data": {
      "text/plain": [
       "[]"
      ]
     },
     "execution_count": 107,
     "metadata": {},
     "output_type": "execute_result"
    }
   ],
   "source": [
    "result"
   ]
  },
  {
   "cell_type": "code",
   "execution_count": null,
   "metadata": {},
   "outputs": [],
   "source": []
  }
 ],
 "metadata": {
  "kernelspec": {
   "display_name": "Python 3",
   "language": "python",
   "name": "python3"
  },
  "language_info": {
   "codemirror_mode": {
    "name": "ipython",
    "version": 3
   },
   "file_extension": ".py",
   "mimetype": "text/x-python",
   "name": "python",
   "nbconvert_exporter": "python",
   "pygments_lexer": "ipython3",
   "version": "3.7.4"
  }
 },
 "nbformat": 4,
 "nbformat_minor": 2
}
