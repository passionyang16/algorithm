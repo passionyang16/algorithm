{
 "cells": [
  {
   "cell_type": "markdown",
   "metadata": {},
   "source": [
    "# 동적계획법"
   ]
  },
  {
   "cell_type": "markdown",
   "metadata": {},
   "source": [
    "## N으로 표현 (Level 3)"
   ]
  },
  {
   "cell_type": "code",
   "execution_count": 2,
   "metadata": {},
   "outputs": [],
   "source": [
    "#inputs\n",
    "N = 5\n",
    "number = 12"
   ]
  },
  {
   "cell_type": "markdown",
   "metadata": {},
   "source": [
    "하.. 풀었는데 몇개가 안되네 하"
   ]
  },
  {
   "cell_type": "code",
   "execution_count": 4,
   "metadata": {},
   "outputs": [],
   "source": [
    "from queue import deque\n",
    "def solution(N,number):\n",
    "    if N == number:\n",
    "        return 1\n",
    "    \n",
    "    array = [str(N),'('+str(N)]\n",
    "    array = deque(array) \n",
    "    calculation = ['+'+str(N),'-'+str(N),'*'+str(N),'//'+str(N), str(N)]    \n",
    "    simple_cal = ['+','-','*','//']\n",
    "    answer = ''\n",
    "    stopping = True\n",
    "    \n",
    "    while stopping:\n",
    "        popped = array.popleft()\n",
    "        for i in range(len(calculation)):\n",
    "            if popped[-1] == ')' and calculation[i] == str(N):\n",
    "                continue\n",
    "            else:\n",
    "                equation = popped + calculation[i]\n",
    "\n",
    "\n",
    "            for j in range(len(equation)-1,-1,-1):\n",
    "                if equation[j] == '(':\n",
    "                    temp = equation[j:]\n",
    "                    for cal in simple_cal:\n",
    "                        if cal in temp: \n",
    "                            equation += ')'\n",
    "                    break\n",
    "\n",
    "\n",
    "            if '(' in equation:\n",
    "                start_count = equation.count('(')\n",
    "                end_count = equation.count(')')\n",
    "                if start_count > end_count:\n",
    "                    equation = equation + ')'*(start_count-end_count)\n",
    "                elif start_count < end_count:\n",
    "                    equation = '('*(end_count-start_count) + equation\n",
    "\n",
    "            if eval(equation) == number:\n",
    "                print(equation)\n",
    "                return equation.count(str(N))\n",
    "                stopping = False\n",
    "            else:\n",
    "                array.append(equation)\n",
    "\n",
    "\n",
    "            if equation.count(str(N)) > 8:\n",
    "                 return -1\n",
    "        \n",
    "    \n",
    "    "
   ]
  },
  {
   "cell_type": "code",
   "execution_count": 5,
   "metadata": {},
   "outputs": [
    {
     "name": "stdout",
     "output_type": "stream",
     "text": [
      "((((55)+5)//5))\n"
     ]
    },
    {
     "data": {
      "text/plain": [
       "4"
      ]
     },
     "execution_count": 5,
     "metadata": {},
     "output_type": "execute_result"
    }
   ],
   "source": [
    "solution(N,number)"
   ]
  },
  {
   "cell_type": "markdown",
   "metadata": {},
   "source": [
    "다른 사람 풀이"
   ]
  },
  {
   "cell_type": "code",
   "execution_count": 39,
   "metadata": {},
   "outputs": [],
   "source": [
    "def solution(N, number):\n",
    "    S = [{N}]\n",
    "    for i in range(2, 9):\n",
    "        lst = [int(str(N)*i)]\n",
    "        for X_i in range(0, int(i / 2)):\n",
    "            for x in S[X_i]:\n",
    "                for y in S[i - X_i - 2]:\n",
    "                    lst.append(x + y)\n",
    "                    lst.append(x - y)\n",
    "                    lst.append(y - x)\n",
    "                    lst.append(x * y)\n",
    "                    if x != 0: lst.append(y // x)\n",
    "                    if y != 0: lst.append(x // y)\n",
    "        if number in set(lst):\n",
    "            return i\n",
    "        S.append(lst)\n",
    "    return -1"
   ]
  },
  {
   "cell_type": "markdown",
   "metadata": {},
   "source": [
    "## 정수 삼각형"
   ]
  },
  {
   "cell_type": "code",
   "execution_count": 157,
   "metadata": {},
   "outputs": [],
   "source": [
    "#inputs\n",
    "triangle = [[7], [3, 8], [8, 1, 0], [2, 7, 4, 4], [4, 5, 2, 6, 5]]"
   ]
  },
  {
   "cell_type": "markdown",
   "metadata": {},
   "source": [
    "내 풀이\n",
    "\n",
    "동적계획법 이용은 했는데, 효율성이 그리 좋은거 같진 않은데..."
   ]
  },
  {
   "cell_type": "code",
   "execution_count": 160,
   "metadata": {},
   "outputs": [],
   "source": [
    "import copy\n",
    "def solution(triangle):\n",
    "    #0,1 인덱스에 있는 값은 먼저 설정\n",
    "    result = [0]*len(triangle[-1])\n",
    "    result[0] = triangle[0][0] + triangle[1][0]\n",
    "    result[1] = triangle[0][0] + triangle[1][1]\n",
    "    \n",
    "    # 점차 채우기\n",
    "    for i in range(2, len(triangle)):\n",
    "        temp = copy.deepcopy(result)\n",
    "        for j in range(len(triangle[i])):\n",
    "            if j == 0:\n",
    "                temp[j] = result[j] + triangle[i][j]\n",
    "            elif j == len(triangle[i])-1:\n",
    "                temp[j] = result[j-1] + triangle[i][j]\n",
    "            else:\n",
    "                temp[j] = max((result[j] + triangle[i][j]),(result[j-1] + triangle[i][j]))\n",
    "        result = temp\n",
    "    return max(result)"
   ]
  },
  {
   "cell_type": "code",
   "execution_count": 161,
   "metadata": {},
   "outputs": [
    {
     "data": {
      "text/plain": [
       "30"
      ]
     },
     "execution_count": 161,
     "metadata": {},
     "output_type": "execute_result"
    }
   ],
   "source": [
    "solution(triangle)"
   ]
  },
  {
   "cell_type": "markdown",
   "metadata": {},
   "source": [
    "다른 사람 풀이\n",
    "\n",
    "얜 도대체 뭐냐..?"
   ]
  },
  {
   "cell_type": "code",
   "execution_count": 166,
   "metadata": {},
   "outputs": [],
   "source": [
    "solution = lambda t, l = []: max(l) if not t else \\\n",
    "solution(t[1:], [max(x,y)+z for x,y,z in zip([0]+l, l+[0], t[0])])"
   ]
  },
  {
   "cell_type": "code",
   "execution_count": 167,
   "metadata": {},
   "outputs": [
    {
     "data": {
      "text/plain": [
       "30"
      ]
     },
     "execution_count": 167,
     "metadata": {},
     "output_type": "execute_result"
    }
   ],
   "source": [
    "solution(triangle)"
   ]
  },
  {
   "cell_type": "markdown",
   "metadata": {},
   "source": [
    "## 등굣길 (Level 3)"
   ]
  },
  {
   "cell_type": "code",
   "execution_count": 162,
   "metadata": {},
   "outputs": [],
   "source": [
    "#input\n",
    "m = 4\n",
    "n = 3\n",
    "puddles = [[2,2]]\n"
   ]
  },
  {
   "cell_type": "code",
   "execution_count": 164,
   "metadata": {},
   "outputs": [
    {
     "data": {
      "text/plain": [
       "4"
      ]
     },
     "execution_count": 164,
     "metadata": {},
     "output_type": "execute_result"
    }
   ],
   "source": [
    "solution(m,n,puddles)"
   ]
  },
  {
   "cell_type": "code",
   "execution_count": 393,
   "metadata": {},
   "outputs": [],
   "source": [
    "#input\n",
    "m = 4\n",
    "n = 3\n",
    "puddles = [[2,2]]"
   ]
  },
  {
   "cell_type": "code",
   "execution_count": 394,
   "metadata": {},
   "outputs": [],
   "source": [
    "def solution(m,n,puddles):\n",
    "    # 이렇게 안하면 indexing할때 column과 row가 서로에게 영향을 미침\n",
    "    dp = [[0 for i in range(m+1)] for _ in range(n+1)] \n",
    "    dp[1][1] = 1\n",
    "    for i in range(1, n+1):\n",
    "        for j in range(1, m+1):\n",
    "            if i == 1 and j == 1:\n",
    "                continue\n",
    "            if [j,i] in puddles:\n",
    "                dp[i][j] = 0 \n",
    "            else:\n",
    "                dp[i][j] = (dp[i][j-1] + dp[i-1][j]) % 1000000007\n",
    "    return dp[-1][-1]"
   ]
  },
  {
   "cell_type": "code",
   "execution_count": 395,
   "metadata": {},
   "outputs": [
    {
     "data": {
      "text/plain": [
       "4"
      ]
     },
     "execution_count": 395,
     "metadata": {},
     "output_type": "execute_result"
    }
   ],
   "source": [
    "solution(m,n,puddles)"
   ]
  },
  {
   "cell_type": "code",
   "execution_count": null,
   "metadata": {},
   "outputs": [],
   "source": []
  }
 ],
 "metadata": {
  "kernelspec": {
   "display_name": "Python 3",
   "language": "python",
   "name": "python3"
  },
  "language_info": {
   "codemirror_mode": {
    "name": "ipython",
    "version": 3
   },
   "file_extension": ".py",
   "mimetype": "text/x-python",
   "name": "python",
   "nbconvert_exporter": "python",
   "pygments_lexer": "ipython3",
   "version": "3.7.4"
  }
 },
 "nbformat": 4,
 "nbformat_minor": 2
}
