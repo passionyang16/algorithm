{
 "cells": [
  {
   "cell_type": "markdown",
   "metadata": {},
   "source": [
    "# 탐욕법"
   ]
  },
  {
   "cell_type": "markdown",
   "metadata": {},
   "source": [
    "## 체육복 (Level 1)"
   ]
  },
  {
   "cell_type": "code",
   "execution_count": 30,
   "metadata": {},
   "outputs": [],
   "source": [
    "#input\n",
    "n = 3\n",
    "lost = [3]\n",
    "reserve = [1]"
   ]
  },
  {
   "cell_type": "markdown",
   "metadata": {},
   "source": [
    "내 풀이\n",
    "\n",
    "중복을 제거한 후에 reserve를 하나씩 없애면서 answer 늘려줌"
   ]
  },
  {
   "cell_type": "code",
   "execution_count": 31,
   "metadata": {},
   "outputs": [],
   "source": [
    "def solution(n, lost, reserve):\n",
    "    #중복 제거\n",
    "    new_lost = list(set(lost) - set(reserve))\n",
    "    new_reserve = list(set(reserve) - set(lost))\n",
    "    #우선 현재 체육복 입을 수 있는 사람 수\n",
    "    answer = n - len(new_lost)\n",
    "    \n",
    "    #빌려 줄 때마다 하나씩 올라감\n",
    "    for lost in new_lost:\n",
    "        if (lost-1) in new_reserve:\n",
    "            new_reserve.remove(lost-1)\n",
    "            answer += 1\n",
    "        elif (lost+1) in new_reserve:\n",
    "            new_reserve.remove(lost+1)\n",
    "            answer += 1\n",
    "        \n",
    "    return answer"
   ]
  },
  {
   "cell_type": "code",
   "execution_count": 32,
   "metadata": {},
   "outputs": [
    {
     "data": {
      "text/plain": [
       "2"
      ]
     },
     "execution_count": 32,
     "metadata": {},
     "output_type": "execute_result"
    }
   ],
   "source": [
    "solution(n, lost, reserve)"
   ]
  },
  {
   "cell_type": "markdown",
   "metadata": {},
   "source": [
    "## 큰 수 만들기 (Level 2)"
   ]
  },
  {
   "cell_type": "code",
   "execution_count": 448,
   "metadata": {},
   "outputs": [],
   "source": [
    "#input\n",
    "number = \"4177252841\"\n",
    "k = 4"
   ]
  },
  {
   "cell_type": "markdown",
   "metadata": {},
   "source": [
    "난 결국 못풀었다.."
   ]
  },
  {
   "cell_type": "code",
   "execution_count": 446,
   "metadata": {},
   "outputs": [],
   "source": [
    "def solution(number,k):\n",
    "    number = list(number)\n",
    "    save_len = len(number)\n",
    "    save_k = k\n",
    "    while True:\n",
    "        to_drop = []\n",
    "        for i in range(len(number)-1):\n",
    "            if number[i] < number[i+1]:\n",
    "                to_drop.append(number[i])\n",
    "        for drop in to_drop:\n",
    "            if drop in number:\n",
    "                number.remove(drop)\n",
    "                if len(number) == save_len - save_k:\n",
    "                    return \"\".join(number)\n",
    "                continue"
   ]
  },
  {
   "cell_type": "code",
   "execution_count": 447,
   "metadata": {},
   "outputs": [
    {
     "data": {
      "text/plain": [
       "'775841'"
      ]
     },
     "execution_count": 447,
     "metadata": {},
     "output_type": "execute_result"
    }
   ],
   "source": [
    "solution(number,k)"
   ]
  },
  {
   "cell_type": "markdown",
   "metadata": {},
   "source": [
    "다른 사람 풀이 :\n",
    "\n",
    "stack을 사용해서 저장이 가능하구나 -1로 인덱싱 하는 방법도 있고.."
   ]
  },
  {
   "cell_type": "code",
   "execution_count": 468,
   "metadata": {},
   "outputs": [],
   "source": [
    "def solution(number, k):\n",
    "    stack = [number[0]]\n",
    "    for num in number[1:]:\n",
    "        while len(stack) > 0 and stack[-1] < num and k > 0:\n",
    "            k -= 1\n",
    "            stack.pop()\n",
    "        stack.append(num)\n",
    "        print(stack)\n",
    "    if k != 0:\n",
    "        stack = stack[:-k]\n",
    "    return ''.join(stack)"
   ]
  },
  {
   "cell_type": "code",
   "execution_count": 469,
   "metadata": {},
   "outputs": [
    {
     "name": "stdout",
     "output_type": "stream",
     "text": [
      "['4', '1']\n",
      "['7']\n",
      "['7', '7']\n",
      "['7', '7', '2']\n",
      "['7', '7', '5']\n",
      "['7', '7', '5', '2']\n",
      "['7', '7', '5', '8']\n",
      "['7', '7', '5', '8', '4']\n",
      "['7', '7', '5', '8', '4', '1']\n"
     ]
    },
    {
     "data": {
      "text/plain": [
       "'775841'"
      ]
     },
     "execution_count": 469,
     "metadata": {},
     "output_type": "execute_result"
    }
   ],
   "source": [
    "solution(number,k)"
   ]
  },
  {
   "cell_type": "markdown",
   "metadata": {},
   "source": [
    "## 조이스틱 (Level 2)"
   ]
  },
  {
   "cell_type": "code",
   "execution_count": 396,
   "metadata": {},
   "outputs": [],
   "source": [
    "#input\n",
    "name = \"ABABAAAAAAABA\""
   ]
  },
  {
   "cell_type": "markdown",
   "metadata": {},
   "source": [
    "내풀이\n",
    "\n",
    "테스트 케이스11번 때문에 개고생했지만.. 왔다갔다도 고려해야함"
   ]
  },
  {
   "cell_type": "code",
   "execution_count": 397,
   "metadata": {},
   "outputs": [],
   "source": [
    "from queue import deque\n",
    "\n",
    "def solution(name):\n",
    "    # 우선 알파벳 바꾸는 것 count에 저장\n",
    "    count = 0\n",
    "    for i in range(len(name)):\n",
    "        candidates = []\n",
    "        # 앞으로 뒤로 둘 중에서 더 적은걸로\n",
    "        candidates.append((ord(name[i]) - ord('A')))\n",
    "        candidates.append((1+ord('Z')-ord(name[i])))\n",
    "        count += min(candidates)\n",
    "    \n",
    "    # 지금 내 위치는 고려해야할 필요가 없고\n",
    "    name = name[1:]\n",
    "    back_name = deque(name)\n",
    "    front_name = deque(name)\n",
    "\n",
    "    # 1.오른쪽으로만 이동\n",
    "    while True:\n",
    "        if front_name[-1] == \"A\":\n",
    "            front_name.pop()\n",
    "        else:\n",
    "            break\n",
    "    \n",
    "    # 2.왼쪽으로만 이동\n",
    "    while True:\n",
    "        if back_name[0] == \"A\":\n",
    "            back_name.popleft()\n",
    "        else:\n",
    "            break\n",
    "         \n",
    "    # 3.오른쪽으로 가다가 뭉탱이 A를 만나게 되면 왼쪽로 간다\n",
    "    # left_stack에는 오른쪽으로 가고 왼쪽으로 다시 가기 때문에 곱하기 2를 해주고, right_stack은 그냥\n",
    "    # 이와 같은 과정 속에서 제일 작은 것\n",
    "    left_stack = ''\n",
    "    right_stack = ''\n",
    "    new_cand = []\n",
    "    for i in range(len(name)):\n",
    "        if name[i] != 'A':\n",
    "            left_stack = name[:i+1]\n",
    "            temp = name[i+1:]\n",
    "            for j in range(len(temp)):\n",
    "                if temp[j] != 'A':\n",
    "                    right_stack = temp[j:]\n",
    "                    break\n",
    "                else:\n",
    "                    right_stack = []\n",
    "\n",
    "            new_cand.append(len(left_stack)*2+len(right_stack))\n",
    "    \n",
    "    #1,2,3 중에서 가장 빠른 것을 더해준다\n",
    "    count += min(len(back_name),len(front_name),min(new_cand))\n",
    "    \n",
    "    return count\n"
   ]
  },
  {
   "cell_type": "code",
   "execution_count": 398,
   "metadata": {},
   "outputs": [
    {
     "data": {
      "text/plain": [
       "11"
      ]
     },
     "execution_count": 398,
     "metadata": {},
     "output_type": "execute_result"
    }
   ],
   "source": [
    "solution(name)"
   ]
  },
  {
   "cell_type": "markdown",
   "metadata": {},
   "source": [
    "다른 사람 풀이"
   ]
  },
  {
   "cell_type": "code",
   "execution_count": 375,
   "metadata": {},
   "outputs": [],
   "source": [
    "def solution(name):\n",
    "    count=0\n",
    "    alpha='ABCDEFGHIJKLMNOPQRSTUVWXYZ'\n",
    "    d={}\n",
    "    indexes=[]\n",
    "    current_idx=0\n",
    "    n=len(name)\n",
    "    #애초에 딕셔너리 활용해서 최소 거리를 구함 ..\n",
    "    for i in range(len(alpha)):\n",
    "        d[alpha[i]]=min(i,26-i)\n",
    "    #A가 아닌 index 구해서 index에 넣기  \n",
    "    for i in range(n):\n",
    "        num=d[name[i]]\n",
    "        count+=num\n",
    "        if num !=0 :\n",
    "            indexes.append(i)\n",
    "            \n",
    "    while True:\n",
    "        #모두 A이면 걍 끊는다\n",
    "        if len(indexes)==0:\n",
    "            break\n",
    "        min_dist=99\n",
    "        min_idx=0\n",
    "        for it in indexes:\n",
    "            #앞으로 가는지 뒤로 가는지해서 현재 인덱스부터 A가 아닌 인덱스까지 더 짧은 것을 구한다\n",
    "            min_dist2=min(abs(it-current_idx),n-abs(it-current_idx))\n",
    "            #그리고 업데이트\n",
    "            if min_dist2 < min_dist:\n",
    "                min_dist=min_dist2\n",
    "                min_idx=it\n",
    "             \n",
    "        count+=min_dist\n",
    "        #A가 아닌 곳을 구해서 count에 집어 넣엇으면 그걸 다시 빼준다\n",
    "        indexes.remove(min_idx)\n",
    "        current_idx = min_idx\n",
    "\n",
    "    return count"
   ]
  },
  {
   "cell_type": "code",
   "execution_count": 376,
   "metadata": {},
   "outputs": [
    {
     "data": {
      "text/plain": [
       "11"
      ]
     },
     "execution_count": 376,
     "metadata": {},
     "output_type": "execute_result"
    }
   ],
   "source": [
    "solution(name)"
   ]
  },
  {
   "cell_type": "markdown",
   "metadata": {},
   "source": [
    "## 구명보트 (Level 2)"
   ]
  },
  {
   "cell_type": "code",
   "execution_count": 388,
   "metadata": {},
   "outputs": [],
   "source": [
    "# input\n",
    "people = [40, 40, 40, 30, 20, 80, 90]\n",
    "limit = 100"
   ]
  },
  {
   "cell_type": "markdown",
   "metadata": {},
   "source": [
    "내 풀이\n",
    "\n",
    "계속 시간복잡도 (효율성) 에서 뻑이 나가지고 상당히 빡침\n",
    "\n",
    "별의별 시도를 다 해봤지만 결국은 조금만 확인해도 바로 끊을 수 있어야함.\n",
    "\n",
    "그래서 break를 최대한 사용했고, 신기한게 pop이 popleft보다 시간복잡도 측면에서 더 효율적임"
   ]
  },
  {
   "cell_type": "code",
   "execution_count": 389,
   "metadata": {},
   "outputs": [],
   "source": [
    "from queue import deque\n",
    "def solution(people, limit):\n",
    "    people.sort()\n",
    "    people = deque(people)\n",
    "    result = []\n",
    "    while people:\n",
    "        popped = people.pop()\n",
    "        temp = [popped]\n",
    "        for person in people:\n",
    "            if person + popped > limit:\n",
    "                break\n",
    "            else:\n",
    "                temp.append(person)\n",
    "                people.remove(person)\n",
    "                break\n",
    "        result.append(temp)\n",
    "    return len(result)"
   ]
  },
  {
   "cell_type": "code",
   "execution_count": 390,
   "metadata": {},
   "outputs": [
    {
     "data": {
      "text/plain": [
       "4"
      ]
     },
     "execution_count": 390,
     "metadata": {},
     "output_type": "execute_result"
    }
   ],
   "source": [
    "solution(people,limit)"
   ]
  },
  {
   "cell_type": "markdown",
   "metadata": {},
   "source": [
    "다른 사람 풀이\n",
    "\n",
    "이렇게는 도대체 어케 풀지???"
   ]
  },
  {
   "cell_type": "code",
   "execution_count": 20,
   "metadata": {},
   "outputs": [],
   "source": [
    "def solution(people, limit) :\n",
    "    answer = 0\n",
    "    people.sort()\n",
    "\n",
    "    a = 0 #최소\n",
    "    b = len(people) - 1 #최대\n",
    "    while a < b :\n",
    "        # 두 명이 가능하면 answer에 담음\n",
    "        if people[b] + people[a] <= limit :\n",
    "            a += 1\n",
    "            answer += 1\n",
    "        b -= 1\n",
    "    return len(people) - answer #전체 길이에 두명 담은걸 빼줌..\n"
   ]
  },
  {
   "cell_type": "markdown",
   "metadata": {},
   "source": [
    "## 섬 연결하기 (Level 3)"
   ]
  },
  {
   "cell_type": "code",
   "execution_count": 29,
   "metadata": {},
   "outputs": [],
   "source": [
    "#input\n",
    "n = 4\n",
    "costs = [[0,1,1],[0,2,2],[1,2,5],[1,3,1],[2,3,8]]"
   ]
  },
  {
   "cell_type": "markdown",
   "metadata": {},
   "source": [
    "내 풀이\n",
    "\n",
    "kruskal algorithm을 사용하여 풀었음\n",
    "Union Find 의 변형인 path compression과 union-by-rank 사용"
   ]
  },
  {
   "cell_type": "code",
   "execution_count": 30,
   "metadata": {},
   "outputs": [],
   "source": [
    "def find(node):\n",
    "    # path compression 기법\n",
    "    if parent[node] != node:\n",
    "        parent[node] = find(parent[node])\n",
    "    return parent[node] \n",
    "\n",
    "\n",
    "def union(node_v, node_u):\n",
    "    root1 = find(node_v)\n",
    "    root2 = find(node_u)\n",
    "    \n",
    "    # union-by-rank 기법\n",
    "    if rank[root1] > rank[root2]:\n",
    "        parent[root2] = root1\n",
    "    else:\n",
    "        parent[root1] = root2\n",
    "        if rank[root1] == rank[root2]:\n",
    "            rank[root2] += 1\n",
    "    \n",
    "    \n",
    "def make_set(node):\n",
    "    parent[node] = node\n",
    "    rank[node] = 0\n",
    "\n",
    "def solution(n, costs):\n",
    "    mst = list()\n",
    "    \n",
    "    parent = dict()\n",
    "    rank = dict()\n",
    "\n",
    "    vertices = []\n",
    "    for i,j,k in costs:\n",
    "        vertices.append(i)\n",
    "        vertices.append(j)\n",
    "    vertices = list(set(vertices))\n",
    "\n",
    "    \n",
    "    # 1. 초기화\n",
    "    for node in vertices:\n",
    "        make_set(node)\n",
    "    \n",
    "    # 2. 간선 weight 기반 sorting\n",
    "    edges = costs\n",
    "    edges.sort(key = lambda x: x[2])\n",
    "    \n",
    "    # 3. 간선 연결 (사이클 없는)\n",
    "    for edge in edges:\n",
    "        node_v, node_u, weight = edge\n",
    "        if find(node_v) != find(node_u):\n",
    "            union(node_v, node_u)\n",
    "            mst.append(weight)\n",
    "    \n",
    "    return sum(mst)"
   ]
  },
  {
   "cell_type": "code",
   "execution_count": 33,
   "metadata": {},
   "outputs": [
    {
     "data": {
      "text/plain": [
       "4"
      ]
     },
     "execution_count": 33,
     "metadata": {},
     "output_type": "execute_result"
    }
   ],
   "source": [
    "solution(4, costs)"
   ]
  },
  {
   "cell_type": "markdown",
   "metadata": {},
   "source": [
    "다른 사람 풀이\n",
    "\n",
    "조금 더 간략하게 풀었네..\n",
    "\n",
    "bridges를 변수로 두어서 하나 3개가 연결되면 끊는다"
   ]
  },
  {
   "cell_type": "code",
   "execution_count": null,
   "metadata": {},
   "outputs": [],
   "source": [
    "def ancestor(node, parents):\n",
    "    if parents[node] == node:\n",
    "        return node\n",
    "    else:\n",
    "        return ancestor(parents[node], parents)\n",
    "\n",
    "def solution(n, costs):\n",
    "    answer = 0\n",
    "    edges = sorted([(x[2], x[0], x[1]) for x in costs])\n",
    "    parents = [i for i in range(n)]\n",
    "    bridges = 0\n",
    "    for w, f, t in edges:\n",
    "        if ancestor(f, parents) != ancestor(t, parents):\n",
    "            answer += w\n",
    "            parents[ancestor(f, parents)] = t\n",
    "            bridges += 1\n",
    "        if bridges == n - 1:\n",
    "            break\n",
    "    return answer"
   ]
  },
  {
   "cell_type": "markdown",
   "metadata": {},
   "source": [
    "## 단속카메라 (Level 3)"
   ]
  },
  {
   "cell_type": "code",
   "execution_count": 216,
   "metadata": {},
   "outputs": [],
   "source": [
    "#input\n",
    "routes = [[-20,15], [-14,-5], [-18,-13], [-5,-3]]"
   ]
  },
  {
   "cell_type": "markdown",
   "metadata": {},
   "source": [
    "내 풀이\n",
    "\n",
    "sort 한번 해주고\n",
    "\n",
    "temp의 맨마지막꺼와 비교를 하면서 범위를 계속 좁혀나갔고, 범위 내에 존재하지 않으면 temp 추가"
   ]
  },
  {
   "cell_type": "code",
   "execution_count": 211,
   "metadata": {},
   "outputs": [],
   "source": [
    "def solution(routes):\n",
    "    routes.sort(key=lambda x: x[0])\n",
    "    temp = [routes[0]]\n",
    "    routes = routes[1:]\n",
    "    for route in routes:\n",
    "        if temp[-1][1] >= route[0]:\n",
    "            if temp[-1][0] <= route[0]:\n",
    "                temp[-1][0] = route[0]\n",
    "            if temp[-1][1] >= route[1]:\n",
    "                temp[-1][1] = route[1]\n",
    "        else:\n",
    "            temp.append(route)\n",
    "        \n",
    "    return len(temp)"
   ]
  },
  {
   "cell_type": "code",
   "execution_count": 212,
   "metadata": {},
   "outputs": [
    {
     "data": {
      "text/plain": [
       "2"
      ]
     },
     "execution_count": 212,
     "metadata": {},
     "output_type": "execute_result"
    }
   ],
   "source": [
    "solution(routes)"
   ]
  },
  {
   "cell_type": "markdown",
   "metadata": {},
   "source": [
    "다른 사람 풀이"
   ]
  },
  {
   "cell_type": "code",
   "execution_count": 214,
   "metadata": {},
   "outputs": [],
   "source": [
    "def solution(routes):\n",
    "    routes = sorted(routes, key=lambda x: x[1])\n",
    "    last_camera = -30000\n",
    "\n",
    "    answer = 0\n",
    "\n",
    "    for route in routes:\n",
    "        if last_camera < route[0]:\n",
    "            answer += 1\n",
    "            last_camera = route[1]\n",
    "\n",
    "    return answer"
   ]
  },
  {
   "cell_type": "code",
   "execution_count": 217,
   "metadata": {},
   "outputs": [
    {
     "data": {
      "text/plain": [
       "[[-18, -13], [-14, -5], [-5, -3], [-20, 15]]"
      ]
     },
     "execution_count": 217,
     "metadata": {},
     "output_type": "execute_result"
    }
   ],
   "source": [
    "routes = sorted(routes, key=lambda x: x[1])\n",
    "routes"
   ]
  },
  {
   "cell_type": "code",
   "execution_count": null,
   "metadata": {},
   "outputs": [],
   "source": []
  }
 ],
 "metadata": {
  "kernelspec": {
   "display_name": "Python 3",
   "language": "python",
   "name": "python3"
  },
  "language_info": {
   "codemirror_mode": {
    "name": "ipython",
    "version": 3
   },
   "file_extension": ".py",
   "mimetype": "text/x-python",
   "name": "python",
   "nbconvert_exporter": "python",
   "pygments_lexer": "ipython3",
   "version": "3.7.4"
  }
 },
 "nbformat": 4,
 "nbformat_minor": 2
}
