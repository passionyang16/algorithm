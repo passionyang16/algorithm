{
 "cells": [
  {
   "cell_type": "markdown",
   "metadata": {},
   "source": [
    "# 탐욕법"
   ]
  },
  {
   "cell_type": "markdown",
   "metadata": {},
   "source": [
    "## 체육복 (Level 1)"
   ]
  },
  {
   "cell_type": "code",
   "execution_count": 30,
   "metadata": {},
   "outputs": [],
   "source": [
    "#input\n",
    "n = 3\n",
    "lost = [3]\n",
    "reserve = [1]"
   ]
  },
  {
   "cell_type": "markdown",
   "metadata": {},
   "source": [
    "내 풀이\n",
    "\n",
    "중복을 제거한 후에 reserve를 하나씩 없애면서 answer 늘려줌"
   ]
  },
  {
   "cell_type": "code",
   "execution_count": 31,
   "metadata": {},
   "outputs": [],
   "source": [
    "def solution(n, lost, reserve):\n",
    "    #중복 제거\n",
    "    new_lost = list(set(lost) - set(reserve))\n",
    "    new_reserve = list(set(reserve) - set(lost))\n",
    "    #우선 현재 체육복 입을 수 있는 사람 수\n",
    "    answer = n - len(new_lost)\n",
    "    \n",
    "    #빌려 줄 때마다 하나씩 올라감\n",
    "    for lost in new_lost:\n",
    "        if (lost-1) in new_reserve:\n",
    "            new_reserve.remove(lost-1)\n",
    "            answer += 1\n",
    "        elif (lost+1) in new_reserve:\n",
    "            new_reserve.remove(lost+1)\n",
    "            answer += 1\n",
    "        \n",
    "    return answer"
   ]
  },
  {
   "cell_type": "code",
   "execution_count": 32,
   "metadata": {},
   "outputs": [
    {
     "data": {
      "text/plain": [
       "2"
      ]
     },
     "execution_count": 32,
     "metadata": {},
     "output_type": "execute_result"
    }
   ],
   "source": [
    "solution(n, lost, reserve)"
   ]
  },
  {
   "cell_type": "markdown",
   "metadata": {},
   "source": [
    "## 큰 수 만들기 (Level 2)"
   ]
  },
  {
   "cell_type": "code",
   "execution_count": 448,
   "metadata": {},
   "outputs": [],
   "source": [
    "#input\n",
    "number = \"4177252841\"\n",
    "k = 4"
   ]
  },
  {
   "cell_type": "markdown",
   "metadata": {},
   "source": [
    "난 결국 못풀었다.."
   ]
  },
  {
   "cell_type": "code",
   "execution_count": 446,
   "metadata": {},
   "outputs": [],
   "source": [
    "def solution(number,k):\n",
    "    number = list(number)\n",
    "    save_len = len(number)\n",
    "    save_k = k\n",
    "    while True:\n",
    "        to_drop = []\n",
    "        for i in range(len(number)-1):\n",
    "            if number[i] < number[i+1]:\n",
    "                to_drop.append(number[i])\n",
    "        for drop in to_drop:\n",
    "            if drop in number:\n",
    "                number.remove(drop)\n",
    "                if len(number) == save_len - save_k:\n",
    "                    return \"\".join(number)\n",
    "                continue"
   ]
  },
  {
   "cell_type": "code",
   "execution_count": 447,
   "metadata": {},
   "outputs": [
    {
     "data": {
      "text/plain": [
       "'775841'"
      ]
     },
     "execution_count": 447,
     "metadata": {},
     "output_type": "execute_result"
    }
   ],
   "source": [
    "solution(number,k)"
   ]
  },
  {
   "cell_type": "markdown",
   "metadata": {},
   "source": [
    "다른 사람 풀이 :\n",
    "\n",
    "stack을 사용해서 저장이 가능하구나 -1로 인덱싱 하는 방법도 있고.."
   ]
  },
  {
   "cell_type": "code",
   "execution_count": 468,
   "metadata": {},
   "outputs": [],
   "source": [
    "def solution(number, k):\n",
    "    stack = [number[0]]\n",
    "    for num in number[1:]:\n",
    "        while len(stack) > 0 and stack[-1] < num and k > 0:\n",
    "            k -= 1\n",
    "            stack.pop()\n",
    "        stack.append(num)\n",
    "        print(stack)\n",
    "    if k != 0:\n",
    "        stack = stack[:-k]\n",
    "    return ''.join(stack)"
   ]
  },
  {
   "cell_type": "code",
   "execution_count": 469,
   "metadata": {},
   "outputs": [
    {
     "name": "stdout",
     "output_type": "stream",
     "text": [
      "['4', '1']\n",
      "['7']\n",
      "['7', '7']\n",
      "['7', '7', '2']\n",
      "['7', '7', '5']\n",
      "['7', '7', '5', '2']\n",
      "['7', '7', '5', '8']\n",
      "['7', '7', '5', '8', '4']\n",
      "['7', '7', '5', '8', '4', '1']\n"
     ]
    },
    {
     "data": {
      "text/plain": [
       "'775841'"
      ]
     },
     "execution_count": 469,
     "metadata": {},
     "output_type": "execute_result"
    }
   ],
   "source": [
    "solution(number,k)"
   ]
  },
  {
   "cell_type": "markdown",
   "metadata": {},
   "source": [
    "## 조이스틱 (Level 2)"
   ]
  },
  {
   "cell_type": "code",
   "execution_count": 396,
   "metadata": {},
   "outputs": [],
   "source": [
    "#input\n",
    "name = \"ABABAAAAAAABA\""
   ]
  },
  {
   "cell_type": "markdown",
   "metadata": {},
   "source": [
    "내풀이\n",
    "\n",
    "테스트 케이스11번 때문에 개고생했지만.. 왔다갔다도 고려해야함"
   ]
  },
  {
   "cell_type": "code",
   "execution_count": 397,
   "metadata": {},
   "outputs": [],
   "source": [
    "from queue import deque\n",
    "\n",
    "def solution(name):\n",
    "    # 우선 알파벳 바꾸는 것 count에 저장\n",
    "    count = 0\n",
    "    for i in range(len(name)):\n",
    "        candidates = []\n",
    "        # 앞으로 뒤로 둘 중에서 더 적은걸로\n",
    "        candidates.append((ord(name[i]) - ord('A')))\n",
    "        candidates.append((1+ord('Z')-ord(name[i])))\n",
    "        count += min(candidates)\n",
    "    \n",
    "    # 지금 내 위치는 고려해야할 필요가 없고\n",
    "    name = name[1:]\n",
    "    back_name = deque(name)\n",
    "    front_name = deque(name)\n",
    "\n",
    "    # 1.오른쪽으로만 이동\n",
    "    while True:\n",
    "        if front_name[-1] == \"A\":\n",
    "            front_name.pop()\n",
    "        else:\n",
    "            break\n",
    "    \n",
    "    # 2.왼쪽으로만 이동\n",
    "    while True:\n",
    "        if back_name[0] == \"A\":\n",
    "            back_name.popleft()\n",
    "        else:\n",
    "            break\n",
    "         \n",
    "    # 3.오른쪽으로 가다가 뭉탱이 A를 만나게 되면 왼쪽로 간다\n",
    "    # left_stack에는 오른쪽으로가고 왼쪽으로 다시 가기 때문에 곱하기 2를 해주고, right_stack은 그냥\n",
    "    # 이와 같은 과정 속에서 제일 작은 것\n",
    "    left_stack = ''\n",
    "    right_stack = ''\n",
    "    new_cand = []\n",
    "    for i in range(len(name)):\n",
    "        if name[i] != 'A':\n",
    "            left_stack = name[:i+1]\n",
    "            temp = name[i+1:]\n",
    "            for j in range(len(temp)):\n",
    "                if temp[j] != 'A':\n",
    "                    right_stack = temp[j:]\n",
    "                    break\n",
    "                else:\n",
    "                    right_stack = []\n",
    "\n",
    "            new_cand.append(len(left_stack)*2+len(right_stack))\n",
    "    \n",
    "    #1,2,3 중에서 가장 빠른 것을 더해준다\n",
    "    count += min(len(back_name),len(front_name),min(new_cand))\n",
    "    \n",
    "    return count\n"
   ]
  },
  {
   "cell_type": "code",
   "execution_count": 398,
   "metadata": {},
   "outputs": [
    {
     "data": {
      "text/plain": [
       "11"
      ]
     },
     "execution_count": 398,
     "metadata": {},
     "output_type": "execute_result"
    }
   ],
   "source": [
    "solution(name)"
   ]
  },
  {
   "cell_type": "markdown",
   "metadata": {},
   "source": [
    "다른 사람 풀이"
   ]
  },
  {
   "cell_type": "code",
   "execution_count": 375,
   "metadata": {},
   "outputs": [],
   "source": [
    "def solution(name):\n",
    "    count=0\n",
    "    alpha='ABCDEFGHIJKLMNOPQRSTUVWXYZ'\n",
    "    d={}\n",
    "    indexes=[]\n",
    "    current_idx=0\n",
    "    n=len(name)\n",
    "    #애초에 딕셔너리 활용해서 최소 거리를 구함 ..\n",
    "    for i in range(len(alpha)):\n",
    "        d[alpha[i]]=min(i,26-i)\n",
    "    #A가 아닌 index 구해서 index에 넣기  \n",
    "    for i in range(n):\n",
    "        num=d[name[i]]\n",
    "        count+=num\n",
    "        if num !=0 :\n",
    "            indexes.append(i)\n",
    "            \n",
    "    while True:\n",
    "        #모두 A이면 걍 끊는다\n",
    "        if len(indexes)==0:\n",
    "            break\n",
    "        min_dist=99\n",
    "        min_idx=0\n",
    "        for it in indexes:\n",
    "            #앞으로 가는지 뒤로 가는지해서 현재 인덱스부터 A가 아닌 인덱스까지 더 짧은 것을 구한다\n",
    "            min_dist2=min(abs(it-current_idx),n-abs(it-current_idx))\n",
    "            #그리고 업데이트\n",
    "            if min_dist2 < min_dist:\n",
    "                min_dist=min_dist2\n",
    "                min_idx=it\n",
    "             \n",
    "        count+=min_dist\n",
    "        #A가 아닌 곳을 구해서 count에 집어 넣엇으면 그걸 다시 빼준다\n",
    "        indexes.remove(min_idx)\n",
    "        current_idx = min_idx\n",
    "\n",
    "    return count"
   ]
  },
  {
   "cell_type": "code",
   "execution_count": 376,
   "metadata": {},
   "outputs": [
    {
     "data": {
      "text/plain": [
       "11"
      ]
     },
     "execution_count": 376,
     "metadata": {},
     "output_type": "execute_result"
    }
   ],
   "source": [
    "solution(name)"
   ]
  },
  {
   "cell_type": "code",
   "execution_count": null,
   "metadata": {},
   "outputs": [],
   "source": []
  },
  {
   "cell_type": "code",
   "execution_count": null,
   "metadata": {},
   "outputs": [],
   "source": []
  }
 ],
 "metadata": {
  "kernelspec": {
   "display_name": "Python 3",
   "language": "python",
   "name": "python3"
  },
  "language_info": {
   "codemirror_mode": {
    "name": "ipython",
    "version": 3
   },
   "file_extension": ".py",
   "mimetype": "text/x-python",
   "name": "python",
   "nbconvert_exporter": "python",
   "pygments_lexer": "ipython3",
   "version": "3.7.4"
  }
 },
 "nbformat": 4,
 "nbformat_minor": 2
}
