{
 "cells": [
  {
   "cell_type": "markdown",
   "metadata": {},
   "source": [
    "# DFS/BFS"
   ]
  },
  {
   "cell_type": "markdown",
   "metadata": {},
   "source": [
    "## 타겟 넘버 (Level 2)"
   ]
  },
  {
   "cell_type": "code",
   "execution_count": 11,
   "metadata": {},
   "outputs": [],
   "source": [
    "#inputs\n",
    "numbers = [1,1,1,1,1]\n",
    "target = 3"
   ]
  },
  {
   "cell_type": "code",
   "execution_count": 16,
   "metadata": {},
   "outputs": [],
   "source": [
    "def solution(numbers,target):\n",
    "    answer_tree = [0]\n",
    "    for number in numbers:\n",
    "        node_list = []\n",
    "        for tree in answer_tree:\n",
    "            node_list.append(tree+number)\n",
    "            node_list.append(tree-number)\n",
    "        answer_tree = node_list\n",
    "    answer = answer_tree.count(target)\n",
    "    return answer"
   ]
  },
  {
   "cell_type": "code",
   "execution_count": 17,
   "metadata": {},
   "outputs": [
    {
     "data": {
      "text/plain": [
       "5"
      ]
     },
     "execution_count": 17,
     "metadata": {},
     "output_type": "execute_result"
    }
   ],
   "source": [
    "solution(numbers,target)"
   ]
  },
  {
   "cell_type": "markdown",
   "metadata": {},
   "source": [
    "다른 사람 풀이\n",
    "\n",
    "이해가 안돼..\n",
    "\n",
    "이해시켜줘.."
   ]
  },
  {
   "cell_type": "code",
   "execution_count": 25,
   "metadata": {},
   "outputs": [],
   "source": [
    "def solution(numbers, target):\n",
    "    if not numbers and target == 0 :\n",
    "        return 1\n",
    "    elif not numbers:\n",
    "        return 0\n",
    "    else:\n",
    "        return solution(numbers[1:], target-numbers[0]) + solution(numbers[1:], target+numbers[0])"
   ]
  },
  {
   "cell_type": "code",
   "execution_count": 26,
   "metadata": {},
   "outputs": [
    {
     "data": {
      "text/plain": [
       "5"
      ]
     },
     "execution_count": 26,
     "metadata": {},
     "output_type": "execute_result"
    }
   ],
   "source": [
    "solution(numbers,target)"
   ]
  },
  {
   "cell_type": "markdown",
   "metadata": {},
   "source": [
    "## 네트워크 (Level 3)"
   ]
  },
  {
   "cell_type": "code",
   "execution_count": 338,
   "metadata": {},
   "outputs": [],
   "source": [
    "#input\n",
    "n = 3\n",
    "computers = [[1, 1, 0], [1, 1, 0], [0, 0, 1]]"
   ]
  },
  {
   "cell_type": "markdown",
   "metadata": {},
   "source": [
    "내 풀이 1"
   ]
  },
  {
   "cell_type": "code",
   "execution_count": 339,
   "metadata": {},
   "outputs": [],
   "source": [
    "from queue import deque\n",
    "def solution(n, computers):\n",
    "    \n",
    "    result = []\n",
    "    adj = [[] for _ in range(n+1)]\n",
    "    \n",
    "    for i in range(len(computers)):\n",
    "        for j in range(len(computers[i])):\n",
    "            if computers[i][j] == 1 and i != j:\n",
    "                adj[i+1].append(j+1)\n",
    "                \n",
    "    for k in range(1,n+1):\n",
    "        visited = [False] * (n+1)\n",
    "        #bfs\n",
    "        temp = []\n",
    "        q = deque([k])\n",
    "        while q:\n",
    "            v = q.popleft()\n",
    "            if not(visited[v]):\n",
    "                visited[v] = True\n",
    "                temp.append(v)\n",
    "                for e in adj[v]:\n",
    "                    if not visited[e]:\n",
    "                        q.append(e)\n",
    "        temp = sorted(temp)\n",
    "        if temp not in result:\n",
    "            result.append(temp)\n",
    "        \n",
    "    return len(result)\n",
    "    "
   ]
  },
  {
   "cell_type": "code",
   "execution_count": 340,
   "metadata": {},
   "outputs": [
    {
     "data": {
      "text/plain": [
       "2"
      ]
     },
     "execution_count": 340,
     "metadata": {},
     "output_type": "execute_result"
    }
   ],
   "source": [
    "solution(n, computers)"
   ]
  },
  {
   "cell_type": "markdown",
   "metadata": {},
   "source": [
    "내 풀이 2\n",
    "이게 더 간단한데 왜 더 오래걸리지...?"
   ]
  },
  {
   "cell_type": "code",
   "execution_count": 333,
   "metadata": {},
   "outputs": [],
   "source": [
    "from queue import deque\n",
    "def solution(n, computers):\n",
    "    result = []\n",
    "    for i in range(n):\n",
    "        visited = [False] * n\n",
    "        temp = []\n",
    "        q = deque([i])\n",
    "        while q:\n",
    "            v = q.popleft()\n",
    "            if not(visited[v]):\n",
    "                visited[v] = True\n",
    "                temp.append(v)\n",
    "                for e in range(len(computers[v])):\n",
    "                    if computers[v][e] != 0 and not visited[e]:\n",
    "                        q.append(e)\n",
    "\n",
    "        temp = sorted(temp)\n",
    "        if temp not in result:\n",
    "            result.append(temp)\n",
    "            \n",
    "    return len(result)"
   ]
  },
  {
   "cell_type": "code",
   "execution_count": 341,
   "metadata": {},
   "outputs": [
    {
     "data": {
      "text/plain": [
       "2"
      ]
     },
     "execution_count": 341,
     "metadata": {},
     "output_type": "execute_result"
    }
   ],
   "source": [
    "solution(n,computers)"
   ]
  },
  {
   "cell_type": "markdown",
   "metadata": {},
   "source": [
    "다른 사람 풀이\n",
    "\n",
    "함수안에 함수쓸껄 그냥.."
   ]
  },
  {
   "cell_type": "code",
   "execution_count": 342,
   "metadata": {},
   "outputs": [],
   "source": [
    "def solution(n, computers):\n",
    "    answer = 0\n",
    "    visited = [0 for i in range(n)]\n",
    "    def dfs(computers, visited, start):\n",
    "        stack = [start]\n",
    "        while stack:\n",
    "            j = stack.pop()\n",
    "            if visited[j] == 0:\n",
    "                visited[j] = 1\n",
    "            # for i in range(len(computers)-1, -1, -1):\n",
    "            for i in range(0, len(computers)):\n",
    "                if computers[j][i] ==1 and visited[i] == 0:\n",
    "                    stack.append(i)\n",
    "    i=0\n",
    "    while 0 in visited:\n",
    "        if visited[i] ==0:\n",
    "            dfs(computers, visited, i)\n",
    "            answer +=1\n",
    "        i+=1\n",
    "    return answer\n"
   ]
  },
  {
   "cell_type": "code",
   "execution_count": null,
   "metadata": {},
   "outputs": [],
   "source": []
  }
 ],
 "metadata": {
  "kernelspec": {
   "display_name": "Python 3",
   "language": "python",
   "name": "python3"
  },
  "language_info": {
   "codemirror_mode": {
    "name": "ipython",
    "version": 3
   },
   "file_extension": ".py",
   "mimetype": "text/x-python",
   "name": "python",
   "nbconvert_exporter": "python",
   "pygments_lexer": "ipython3",
   "version": "3.7.4"
  }
 },
 "nbformat": 4,
 "nbformat_minor": 2
}
