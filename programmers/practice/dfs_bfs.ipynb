{
 "cells": [
  {
   "cell_type": "markdown",
   "metadata": {},
   "source": [
    "# DFS/BFS"
   ]
  },
  {
   "cell_type": "markdown",
   "metadata": {},
   "source": [
    "## 타겟 넘버 (Level 2)"
   ]
  },
  {
   "cell_type": "code",
   "execution_count": 11,
   "metadata": {},
   "outputs": [],
   "source": [
    "#inputs\n",
    "numbers = [1,1,1,1,1]\n",
    "target = 3"
   ]
  },
  {
   "cell_type": "code",
   "execution_count": 16,
   "metadata": {},
   "outputs": [],
   "source": [
    "def solution(numbers,target):\n",
    "    answer_tree = [0]\n",
    "    for number in numbers:\n",
    "        node_list = []\n",
    "        for tree in answer_tree:\n",
    "            node_list.append(tree+number)\n",
    "            node_list.append(tree-number)\n",
    "        answer_tree = node_list\n",
    "    answer = answer_tree.count(target)\n",
    "    return answer"
   ]
  },
  {
   "cell_type": "code",
   "execution_count": 17,
   "metadata": {},
   "outputs": [
    {
     "data": {
      "text/plain": [
       "5"
      ]
     },
     "execution_count": 17,
     "metadata": {},
     "output_type": "execute_result"
    }
   ],
   "source": [
    "solution(numbers,target)"
   ]
  },
  {
   "cell_type": "markdown",
   "metadata": {},
   "source": [
    "다른 사람 풀이\n",
    "\n",
    "이해가 안돼..\n",
    "\n",
    "이해시켜줘.."
   ]
  },
  {
   "cell_type": "code",
   "execution_count": 25,
   "metadata": {},
   "outputs": [],
   "source": [
    "def solution(numbers, target):\n",
    "    if not numbers and target == 0 :\n",
    "        return 1\n",
    "    elif not numbers:\n",
    "        return 0\n",
    "    else:\n",
    "        return solution(numbers[1:], target-numbers[0]) + solution(numbers[1:], target+numbers[0])"
   ]
  },
  {
   "cell_type": "code",
   "execution_count": 26,
   "metadata": {},
   "outputs": [
    {
     "data": {
      "text/plain": [
       "5"
      ]
     },
     "execution_count": 26,
     "metadata": {},
     "output_type": "execute_result"
    }
   ],
   "source": [
    "solution(numbers,target)"
   ]
  },
  {
   "cell_type": "markdown",
   "metadata": {},
   "source": [
    "## 네트워크 (Level 3)"
   ]
  },
  {
   "cell_type": "code",
   "execution_count": 1,
   "metadata": {},
   "outputs": [],
   "source": [
    "#input\n",
    "n = 3\n",
    "computers = [[1, 1, 0], [1, 1, 0], [0, 0, 1]]"
   ]
  },
  {
   "cell_type": "markdown",
   "metadata": {},
   "source": [
    "내 풀이 1"
   ]
  },
  {
   "cell_type": "code",
   "execution_count": 2,
   "metadata": {},
   "outputs": [],
   "source": [
    "from queue import deque\n",
    "def solution(n, computers):\n",
    "    \n",
    "    result = []\n",
    "    adj = [[] for _ in range(n+1)]\n",
    "    \n",
    "    for i in range(len(computers)):\n",
    "        for j in range(len(computers[i])):\n",
    "            if computers[i][j] == 1 and i != j:\n",
    "                adj[i+1].append(j+1)\n",
    "            \n",
    "    for k in range(1,n+1):\n",
    "        visited = [False] * (n+1)\n",
    "        #bfs\n",
    "        temp = []\n",
    "        q = deque([k])\n",
    "        while q:\n",
    "            v = q.popleft()\n",
    "            if not(visited[v]):\n",
    "                visited[v] = True\n",
    "                temp.append(v)\n",
    "                for e in adj[v]:\n",
    "                    if not visited[e]:\n",
    "                        q.append(e)\n",
    "                        \n",
    "        temp = sorted(temp)\n",
    "        if temp not in result:\n",
    "            result.append(temp)\n",
    "        \n",
    "    return len(result)\n",
    "    "
   ]
  },
  {
   "cell_type": "code",
   "execution_count": 3,
   "metadata": {},
   "outputs": [
    {
     "name": "stdout",
     "output_type": "stream",
     "text": [
      "[[], [2], [1], []]\n"
     ]
    },
    {
     "data": {
      "text/plain": [
       "2"
      ]
     },
     "execution_count": 3,
     "metadata": {},
     "output_type": "execute_result"
    }
   ],
   "source": [
    "solution(n, computers)"
   ]
  },
  {
   "cell_type": "markdown",
   "metadata": {},
   "source": [
    "내 풀이 2\n",
    "이게 더 간단한데 왜 더 오래걸리지...?"
   ]
  },
  {
   "cell_type": "code",
   "execution_count": 333,
   "metadata": {},
   "outputs": [],
   "source": [
    "from queue import deque\n",
    "def solution(n, computers):\n",
    "    result = []\n",
    "    for i in range(n):\n",
    "        visited = [False] * n\n",
    "        temp = []\n",
    "        q = deque([i])\n",
    "        while q:\n",
    "            v = q.popleft()\n",
    "            if not(visited[v]):\n",
    "                visited[v] = True\n",
    "                temp.append(v)\n",
    "                for e in range(len(computers[v])):\n",
    "                    if computers[v][e] != 0 and not visited[e]:\n",
    "                        q.append(e)\n",
    "\n",
    "        temp = sorted(temp)\n",
    "        if temp not in result:\n",
    "            result.append(temp)\n",
    "            \n",
    "    return len(result)"
   ]
  },
  {
   "cell_type": "code",
   "execution_count": 341,
   "metadata": {},
   "outputs": [
    {
     "data": {
      "text/plain": [
       "2"
      ]
     },
     "execution_count": 341,
     "metadata": {},
     "output_type": "execute_result"
    }
   ],
   "source": [
    "solution(n,computers)"
   ]
  },
  {
   "cell_type": "markdown",
   "metadata": {},
   "source": [
    "다른 사람 풀이\n",
    "\n",
    "함수안에 함수쓸껄 그냥.."
   ]
  },
  {
   "cell_type": "code",
   "execution_count": 342,
   "metadata": {},
   "outputs": [],
   "source": [
    "def solution(n, computers):\n",
    "    answer = 0\n",
    "    visited = [0 for i in range(n)]\n",
    "    def dfs(computers, visited, start):\n",
    "        stack = [start]\n",
    "        while stack:\n",
    "            j = stack.pop()\n",
    "            if visited[j] == 0:\n",
    "                visited[j] = 1\n",
    "            # for i in range(len(computers)-1, -1, -1):\n",
    "            for i in range(0, len(computers)):\n",
    "                if computers[j][i] ==1 and visited[i] == 0:\n",
    "                    stack.append(i)\n",
    "    i=0\n",
    "    while 0 in visited:\n",
    "        if visited[i] ==0:\n",
    "            dfs(computers, visited, i)\n",
    "            answer +=1\n",
    "        i+=1\n",
    "    return answer\n"
   ]
  },
  {
   "cell_type": "markdown",
   "metadata": {},
   "source": [
    "## 단어 변환 (Level 3)"
   ]
  },
  {
   "cell_type": "code",
   "execution_count": 1,
   "metadata": {},
   "outputs": [],
   "source": [
    "begin = 'hit'\n",
    "target = 'hhh'\n",
    "words = ['hhh','hht']"
   ]
  },
  {
   "cell_type": "markdown",
   "metadata": {},
   "source": [
    "내 풀이\n",
    "\n",
    "우선 그래프를 만드는데 시간복잡도가 n^3인데, 이건 어쩔 수가 없다\n",
    "\n",
    "그 후에는 bfs 돌면서 level 저장하는 방식"
   ]
  },
  {
   "cell_type": "code",
   "execution_count": 4,
   "metadata": {},
   "outputs": [],
   "source": [
    "from queue import deque\n",
    "\n",
    "def solution(begin, target, words):\n",
    "    if target not in words:\n",
    "        return 0\n",
    "    \n",
    "    #그래프 생성\n",
    "    graph = {}\n",
    "    words.insert(0,begin)\n",
    "    \n",
    "    #loop를 돌면서 begin과 하나빼고 같은 원소들을 dictionary value에 저장\n",
    "    for i in range(len(words)):\n",
    "        graph[i] = []\n",
    "        for j in range(len(words)):\n",
    "            if words[i] != words[j]:\n",
    "                current_list = list(words[i])\n",
    "                changing_list = list(words[j])\n",
    "                no_duplicates = []\n",
    "                for alphabet in current_list:\n",
    "                    if alphabet in changing_list:\n",
    "                        no_duplicates.append(alphabet)\n",
    "                        changing_list.remove(alphabet)\n",
    "                if len(no_duplicates) >= len(begin)-1:\n",
    "                    graph[i].append(j)\n",
    "    print(graph)\n",
    "    \n",
    "    #Bfs 돌면서 length를 저장하기 위해 for loop을 사용\n",
    "    def bfs(graph, length, start_node): \n",
    "        level = [None] * length\n",
    "        visited = [False] * length\n",
    "\n",
    "        queue = deque([start_node])\n",
    "        level[start_node] = 0\n",
    "        visited[start_node] = True\n",
    "        while queue: \n",
    "            node = queue.popleft()\n",
    "            for temp in graph[node]:   \n",
    "                if not visited[temp]:  \n",
    "                    queue.append(temp)  \n",
    "                    level[temp] = level[node] + 1\n",
    "                    visited[temp] = True\n",
    "\n",
    "        return level\n",
    "\n",
    "    level = bfs(graph, len(words), 0)\n",
    "    print(level)\n",
    "\n",
    "    for word, lev in zip(words,level):\n",
    "        if word == target:\n",
    "            return lev"
   ]
  },
  {
   "cell_type": "code",
   "execution_count": 5,
   "metadata": {},
   "outputs": [
    {
     "name": "stdout",
     "output_type": "stream",
     "text": [
      "{0: [3], 1: [3], 2: [3], 3: [0, 1, 2]}\n",
      "[0, 2, 2, 1]\n"
     ]
    },
    {
     "data": {
      "text/plain": [
       "2"
      ]
     },
     "execution_count": 5,
     "metadata": {},
     "output_type": "execute_result"
    }
   ],
   "source": [
    "solution(begin,target,words)"
   ]
  },
  {
   "cell_type": "markdown",
   "metadata": {},
   "source": [
    "## 여행경로 (Level 3)"
   ]
  },
  {
   "cell_type": "code",
   "execution_count": 28,
   "metadata": {},
   "outputs": [],
   "source": [
    "#input\n",
    "# tickets = [['ICN', 'B'], ['ICN', 'A'], ['B', 'ICN']]\n",
    "tickets = [['ICN', 'A'],['ICN', 'A'],['ICN', 'A'],['A', 'ICN'],['A', 'ICN']] \n",
    "# tickets = [['ICN', 'B'], ['B', 'C'], ['C', 'ICN'], ['ICN', 'D'], ['E', 'ICN'], ['D', 'E']]\n",
    "# tickets = [[\"ICN\", \"JFK\"], [\"HND\", \"IAD\"], [\"JFK\", \"HND\"]]\n",
    "# tickets = [[\"ICN\", \"COO\"], [\"ICN\", \"BOO\"], [\"COO\", \"ICN\"], [\"BOO\", \"DOO\"]]\n",
    "# tickets = [['ICN', 'SFO'], ['ICN', 'ATL'], ['SFO', 'ATL'], ['ATL', 'ICN'], ['ATL','SFO']]\n",
    "\n"
   ]
  },
  {
   "cell_type": "code",
   "execution_count": 29,
   "metadata": {},
   "outputs": [],
   "source": [
    "# 진짜 도저히 왜 틀리는지 모르겠다 그냥..\n",
    "from queue import deque\n",
    "def solution(tickets):\n",
    "    \n",
    "    incheon_start = [ticket for ticket in tickets if ticket[0] == 'ICN']\n",
    "    incheon_start.sort(key = lambda x: x[1]) \n",
    "    \n",
    "    for incheon in incheon_start:\n",
    "        visited = [incheon]\n",
    "        need_visit = deque([incheon])\n",
    "        \n",
    "        while need_visit:\n",
    "            node = need_visit.popleft()\n",
    "            if node[0] == visited[-1][1]:\n",
    "                visited.append(node)\n",
    "            for ticket in tickets:\n",
    "                if node[1] == ticket[0] and visited.count(ticket) != tickets.count(ticket):\n",
    "                    need_visit.append(ticket)\n",
    "\n",
    "        if len(visited) == len(tickets):\n",
    "            answer = [departure for departure, arrival in visited]\n",
    "            answer.append(visited[-1][-1])\n",
    "\n",
    "            return answer\n",
    "\n",
    "  "
   ]
  },
  {
   "cell_type": "code",
   "execution_count": 30,
   "metadata": {},
   "outputs": [
    {
     "data": {
      "text/plain": [
       "['ICN', 'A', 'ICN', 'A', 'ICN', 'A']"
      ]
     },
     "execution_count": 30,
     "metadata": {},
     "output_type": "execute_result"
    }
   ],
   "source": [
    "solution(tickets)"
   ]
  },
  {
   "cell_type": "code",
   "execution_count": 492,
   "metadata": {},
   "outputs": [],
   "source": [
    "from collections import defaultdict\n",
    "def solution(tickets):\n",
    "    # 특정 티켓의 인접 리스트를 구하는 함수\n",
    "    def init_graph():\n",
    "        routes = defaultdict(list)\n",
    "        for key, value in tickets:\n",
    "            routes[key].append(value)\n",
    "        return routes\n",
    "\n",
    "    # 스택을 사용한 DFS\n",
    "    def dfs():\n",
    "        stack = [\"ICN\"]\n",
    "        path = []  # 가려고하는 경로를 저장하는 변수\n",
    "        while len(stack) > 0:  # stack이 비어있을 때까지\n",
    "            top = stack[-1]\n",
    "            # 특정 공항에서 출발하는 표가 없다면 또는 있지만 티켓을 다 써버린 경우\n",
    "            if top not in routes or len(routes[top]) == 0:\n",
    "                path.append(stack.pop())\n",
    "            else:\n",
    "                stack.append(routes[top].pop(0))\n",
    "        return path[::-1]\n",
    "\n",
    "    routes = init_graph()\n",
    "    for r in routes:\n",
    "        routes[r].sort()\n",
    "\n",
    "    answer = dfs()\n",
    "    return answer"
   ]
  },
  {
   "cell_type": "code",
   "execution_count": 493,
   "metadata": {},
   "outputs": [
    {
     "data": {
      "text/plain": [
       "['ICN', 'B', 'ICN', 'A']"
      ]
     },
     "execution_count": 493,
     "metadata": {},
     "output_type": "execute_result"
    }
   ],
   "source": [
    "solution(tickets)"
   ]
  },
  {
   "cell_type": "code",
   "execution_count": null,
   "metadata": {},
   "outputs": [],
   "source": []
  }
 ],
 "metadata": {
  "kernelspec": {
   "display_name": "Python 3",
   "language": "python",
   "name": "python3"
  },
  "language_info": {
   "codemirror_mode": {
    "name": "ipython",
    "version": 3
   },
   "file_extension": ".py",
   "mimetype": "text/x-python",
   "name": "python",
   "nbconvert_exporter": "python",
   "pygments_lexer": "ipython3",
   "version": "3.7.4"
  }
 },
 "nbformat": 4,
 "nbformat_minor": 2
}
