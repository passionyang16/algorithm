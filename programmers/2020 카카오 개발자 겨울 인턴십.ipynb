{
 "cells": [
  {
   "cell_type": "markdown",
   "metadata": {},
   "source": [
    "## 크레인 인형뽑기 게임 (Level 1)"
   ]
  },
  {
   "cell_type": "code",
   "execution_count": 1,
   "metadata": {},
   "outputs": [],
   "source": [
    "#input\n",
    "board = [[0,0,0,0,0],[0,0,1,0,3],[0,2,5,0,1],[4,2,4,4,2],[3,5,1,3,1]]\n",
    "moves = [1,5,3,5,1,2,1,4]"
   ]
  },
  {
   "cell_type": "code",
   "execution_count": 2,
   "metadata": {},
   "outputs": [],
   "source": [
    "#내 풀이\n",
    "def solution(board,moves):\n",
    "    block = []\n",
    "    for i in range(len(moves)):\n",
    "        for j in range(len(board)):\n",
    "            if (board[j][moves[i]-1]) != 0 :\n",
    "                block.append(board[j][moves[i]-1])\n",
    "                board[j][moves[i]-1] = 0\n",
    "                break\n",
    "\n",
    "    answer = 0 \n",
    "    for i in range(len(block)-1,0,-1):\n",
    "        if (block[i] == block[i-1]):\n",
    "            del block[i]\n",
    "            del block[i-1]\n",
    "            answer += 2\n",
    "        \n",
    "\n",
    "    return answer\n"
   ]
  },
  {
   "cell_type": "code",
   "execution_count": 3,
   "metadata": {},
   "outputs": [
    {
     "data": {
      "text/plain": [
       "4"
      ]
     },
     "execution_count": 3,
     "metadata": {},
     "output_type": "execute_result"
    }
   ],
   "source": [
    "solution(board,moves)"
   ]
  },
  {
   "cell_type": "code",
   "execution_count": 4,
   "metadata": {},
   "outputs": [],
   "source": [
    "#다른 사람 풀이\n",
    "def solution(board, moves):\n",
    "    stacklist = []\n",
    "    answer = 0\n",
    "\n",
    "    for i in moves:\n",
    "        for j in range(len(board)):\n",
    "            if board[j][i-1] != 0:\n",
    "                stacklist.append(board[j][i-1])\n",
    "                board[j][i-1] = 0\n",
    "\n",
    "                if len(stacklist) > 1:\n",
    "                    if stacklist[-1] == stacklist[-2]:\n",
    "                        stacklist.pop(-1)\n",
    "                        stacklist.pop(-1)\n",
    "                        answer += 2     \n",
    "                break\n",
    "\n",
    "    return answer"
   ]
  },
  {
   "cell_type": "markdown",
   "metadata": {},
   "source": [
    "## 튜플 (Level 2)"
   ]
  },
  {
   "cell_type": "code",
   "execution_count": 6,
   "metadata": {},
   "outputs": [],
   "source": [
    "#input\n",
    "\n",
    "s = \"{{2},{2,1},{2,1,3},{2,1,3,4}}\""
   ]
  },
  {
   "cell_type": "code",
   "execution_count": 7,
   "metadata": {},
   "outputs": [],
   "source": [
    "#내 풀이\n",
    "def solution(s):\n",
    "    s = s[2:len(s)-2].split(\"},{\")\n",
    "    a = []\n",
    "    b = []\n",
    "    c = []\n",
    "\n",
    "    for i in s:\n",
    "        i = i.split(',')\n",
    "        a.append(i)\n",
    "\n",
    "    for j in a:\n",
    "        j = list(map(int,j))\n",
    "        b.append(j)\n",
    "\n",
    "    b.sort(key=len,reverse=True)\n",
    "\n",
    "    for i in range(len(b)):\n",
    "        popped = b.pop()\n",
    "        for i in popped:\n",
    "            if i not in c:\n",
    "                c.append(i)\n",
    "    return c\n",
    "\n"
   ]
  },
  {
   "cell_type": "code",
   "execution_count": 8,
   "metadata": {},
   "outputs": [
    {
     "data": {
      "text/plain": [
       "[2, 1, 3, 4]"
      ]
     },
     "execution_count": 8,
     "metadata": {},
     "output_type": "execute_result"
    }
   ],
   "source": [
    "solution(s)"
   ]
  },
  {
   "cell_type": "code",
   "execution_count": null,
   "metadata": {},
   "outputs": [],
   "source": [
    "#다른 사람 풀이\n",
    "import re\n",
    "\n",
    "def solution(s):\n",
    "    answer = []\n",
    "    a = s.split(',{')\n",
    "    a.sort(key = len)\n",
    "    for j in a:\n",
    "        numbers = re.findall(\"\\d+\", j)\n",
    "        for k in numbers:\n",
    "            if int(k) not in answer:\n",
    "                answer.append(int(k))\n",
    "\n",
    "    return answer"
   ]
  },
  {
   "cell_type": "code",
   "execution_count": 96,
   "metadata": {},
   "outputs": [
    {
     "name": "stdout",
     "output_type": "stream",
     "text": [
      "4\n"
     ]
    }
   ],
   "source": [
    "#Level 1: 예산\n",
    "\n",
    "#내 풀이\n",
    "d = [2,2,3,3]\n",
    "budget = 10\n",
    "d.sort()\n",
    "for i in range(len(d)-1,-1,-1):\n",
    "    if sum(d) > budget:\n",
    "        d.pop()\n",
    "print(len(d))\n",
    "\n",
    "#다른 사람 풀이\n",
    "def solution(d, budget):\n",
    "    d.sort()\n",
    "    while budget < sum(d):\n",
    "        d.pop()\n",
    "    return len(d)"
   ]
  },
  {
   "cell_type": "code",
   "execution_count": null,
   "metadata": {},
   "outputs": [],
   "source": []
  }
 ],
 "metadata": {
  "kernelspec": {
   "display_name": "Python 3",
   "language": "python",
   "name": "python3"
  },
  "language_info": {
   "codemirror_mode": {
    "name": "ipython",
    "version": 3
   },
   "file_extension": ".py",
   "mimetype": "text/x-python",
   "name": "python",
   "nbconvert_exporter": "python",
   "pygments_lexer": "ipython3",
   "version": "3.7.4"
  }
 },
 "nbformat": 4,
 "nbformat_minor": 2
}
