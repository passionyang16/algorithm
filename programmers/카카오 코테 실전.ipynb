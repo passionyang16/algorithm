{
 "metadata": {
  "language_info": {
   "codemirror_mode": {
    "name": "ipython",
    "version": 3
   },
   "file_extension": ".py",
   "mimetype": "text/x-python",
   "name": "python",
   "nbconvert_exporter": "python",
   "pygments_lexer": "ipython3",
   "version": "3.8.2-final"
  },
  "orig_nbformat": 2,
  "kernelspec": {
   "name": "python38264bit38446791c39c46089dad72dbad282c86",
   "display_name": "Python 3.8.2 64-bit"
  }
 },
 "nbformat": 4,
 "nbformat_minor": 2,
 "cells": [
  {
   "cell_type": "code",
   "execution_count": null,
   "metadata": {},
   "outputs": [],
   "source": [
    "#첫번째 문제\n",
    "\n",
    "def solution(sample):\n",
    "    #1\n",
    "    sample = sample.lower()\n",
    "    #2\n",
    "    new_id = []\n",
    "    for i in range(len(sample)):\n",
    "        if sample[i].isalpha() or sample[i].isdigit() or sample[i] in ['_','-','.']:\n",
    "            new_id.append(sample[i])\n",
    "    #3\n",
    "    new_id = ''.join(new_id)\n",
    "    for j in range(len(new_id)-1,-1,-1):\n",
    "        new_id = new_id.replace('..','.')\n",
    "    new_id = list(new_id)\n",
    "    \n",
    "    #4\n",
    "    if len(new_id) != 0:\n",
    "        if new_id[len(new_id)-1] == '.' :\n",
    "            new_id = new_id[0:len(new_id)-1]\n",
    "    if len(new_id) != 0:\n",
    "        if new_id[0] == '.':\n",
    "            new_id = new_id[1:]\n",
    "\n",
    "    #5\n",
    "    if new_id == []:\n",
    "        new_id.append('a')\n",
    "        \n",
    "    #6\n",
    "    if len(new_id) >= 16:\n",
    "        new_id = new_id[0:15]\n",
    "\n",
    "    if new_id[len(new_id)-1] == '.' :\n",
    "        new_id = new_id[0:len(new_id)-1]\n",
    "\n",
    "    #7\n",
    "    stopping = True\n",
    "    while stopping:\n",
    "        if len(new_id) >= 3:\n",
    "            stopping = False\n",
    "        elif len(new_id) <= 2:\n",
    "            new_id.append(new_id[len(new_id)-1])\n",
    "            \n",
    "    answer = ''.join(new_id)\n",
    "    \n",
    "    return answer"
   ]
  },
  {
   "cell_type": "code",
   "execution_count": 773,
   "metadata": {
    "tags": []
   },
   "outputs": [
    {
     "output_type": "stream",
     "name": "stdout",
     "text": "['WX', 'XY']\n"
    }
   ],
   "source": [
    "#두번째 문제\n",
    "\n",
    "from itertools import permutations, combinations\n",
    "import collections\n",
    "\n",
    "def solution(orders, course):\n",
    "    for i in range(len(orders)):\n",
    "        orders[i] = ''.join(sorted(orders[i], reverse=False))\n",
    "\n",
    "    answer=[]\n",
    "    for j in course:\n",
    "        my_list = []\n",
    "        for k in range(len(orders)):\n",
    "            temp = list(combinations(orders[k],j))\n",
    "            for l in temp:\n",
    "                my_list.append(l)\n",
    "        counter = collections.Counter(my_list)\n",
    "        if counter.most_common(1) != []:\n",
    "            target = counter.most_common(1)[0][1]\n",
    "        for key,value in counter.items():\n",
    "            if target >= 2 and value == target:\n",
    "                answer.append(''.join(key))\n",
    "\n",
    "    answer.sort()\n",
    "    return answer\n"
   ]
  },
  {
   "cell_type": "code",
   "execution_count": 1056,
   "metadata": {},
   "outputs": [],
   "source": [
    "#세번째 문제\n",
    "import pandas as pd\n",
    "\n",
    "def solution(info, query):\n",
    "    answer = []\n",
    "    for j in range(len(query)):\n",
    "        query[j] = query[j].replace('and ', '').split(\" \")\n",
    "        test = query[j]\n",
    "        count = 0\n",
    "        for k in range(len(info)):\n",
    "            test2 = info[k].split(\" \")\n",
    "            if ((test[0] == test2[0]) or (test[0] == '-')) and ((test[1] == test2[1]) or (test[1] == '-')) and \\\n",
    "                ((test[2] == test2[2]) or (test[2] == '-')) and ((test[3] == test2[3]) or (test[3] == '-')) and \\\n",
    "                    ((int(test2[4]) >= int(test[4]))):\n",
    "                    count+=1\n",
    "        answer.append(count)\n",
    "    \n",
    "    return answer"
   ]
  },
  {
   "cell_type": "code",
   "execution_count": 1098,
   "metadata": {},
   "outputs": [],
   "source": [
    "n = 6\n",
    "s = 4\n",
    "a = 5\n",
    "b = 6\n",
    "fares= [[2,6,6], [6,3,7], [4,6,7], [6,5,11], [2,5,12], [5,3,20], [2,4,8], [4,3,9]]\n",
    "\n",
    "for i in range(len(fares)):\n",
    "    fares[i] = sorted(fares[i][0:2])\n",
    "    \n",
    "fares = sorted(fares)"
   ]
  },
  {
   "cell_type": "code",
   "execution_count": 1144,
   "metadata": {},
   "outputs": [
    {
     "output_type": "execute_result",
     "data": {
      "text/plain": "['00:25:50-00:48:29',\n '00:40:31-01:00:00',\n '01:20:15-01:45:14',\n '01:30:59-01:53:29',\n '01:37:44-02:02:30']"
     },
     "metadata": {},
     "execution_count": 1144
    }
   ],
   "source": [
    "play_time = \"02:03:55\"\n",
    "adv_time = \"00:14:15\"\n",
    "logs = [\"01:20:15-01:45:14\", \"00:40:31-01:00:00\", \"00:25:50-00:48:29\", \"01:30:59-01:53:29\", \"01:37:44-02:02:30\"]\n",
    "logs = sorted(logs)\n",
    "logs"
   ]
  },
  {
   "cell_type": "code",
   "execution_count": 1155,
   "metadata": {
    "tags": []
   },
   "outputs": [
    {
     "output_type": "execute_result",
     "data": {
      "text/plain": "[['00:25:50', '00:40:31'],\n ['00:40:31', '00:48:29'],\n ['00:48:29', '01:00:00'],\n ['01:00:00', '01:20:15'],\n ['01:20:15', '01:30:59'],\n ['01:30:59', '01:37:44'],\n ['01:37:44', '01:45:14'],\n ['01:45:14', '01:53:29'],\n ['01:53:29', '02:02:30']]"
     },
     "metadata": {},
     "execution_count": 1155
    }
   ],
   "source": [
    "interval = []\n",
    "for i in logs:\n",
    "    temp = i.split(\"-\")\n",
    "    for j in temp:\n",
    "        interval.append(j)\n",
    "interval = sorted(interval)\n",
    "\n",
    "new_interval = []\n",
    "for j in range(len(interval)-1):\n",
    "    temp2 = [interval[j],interval[j+1]]\n",
    "    new_interval.append(temp2)\n",
    "\n",
    "new_interval"
   ]
  },
  {
   "cell_type": "code",
   "execution_count": 1147,
   "metadata": {
    "tags": []
   },
   "outputs": [
    {
     "output_type": "stream",
     "name": "stdout",
     "text": "[['00:25:50', '00:48:29'], ['00:40:31', '01:00:00'], ['01:20:15', '01:45:14'], ['01:30:59', '01:53:29'], ['01:37:44', '02:02:30']]\n"
    }
   ],
   "source": [
    "new_log = []\n",
    "for i in logs:\n",
    "    temp = i.split(\"-\")\n",
    "    new_log.append(temp)\n",
    "print(new_log)"
   ]
  },
  {
   "cell_type": "code",
   "execution_count": null,
   "metadata": {},
   "outputs": [],
   "source": []
  },
  {
   "cell_type": "code",
   "execution_count": 1132,
   "metadata": {},
   "outputs": [],
   "source": [
    "from datetime import datetime\n",
    "from datetime import timedelta\n",
    "\n",
    "for i in logs:\n",
    "    temp = i.split(\"-\")\n",
    "    temp[0] = temp[0].split(\":\")\n",
    "    t1 = timedelta(hours = int(temp[0][0]), minutes= int(temp[0][1]), seconds= int(temp[0][2]))\n",
    "    temp[1] = temp[1].split(\":\")\n",
    "    t2 = timedelta(hours = int(temp[1][0]), minutes= int(temp[1][1]), seconds= int(temp[1][2]))"
   ]
  },
  {
   "cell_type": "code",
   "execution_count": 1133,
   "metadata": {},
   "outputs": [
    {
     "output_type": "execute_result",
     "data": {
      "text/plain": "datetime.timedelta(seconds=1486)"
     },
     "metadata": {},
     "execution_count": 1133
    }
   ],
   "source": [
    "t2-t1"
   ]
  },
  {
   "cell_type": "code",
   "execution_count": null,
   "metadata": {},
   "outputs": [],
   "source": []
  }
 ]
}